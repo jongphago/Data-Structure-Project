{
 "cells": [
  {
   "cell_type": "markdown",
   "metadata": {},
   "source": [
    "## 라이브러리 설치"
   ]
  },
  {
   "cell_type": "code",
   "execution_count": 1,
   "metadata": {},
   "outputs": [],
   "source": [
    "# !pip3 install schedule\n",
    "# !pip3 install pytz\n",
    "# !pip3 install pandas"
   ]
  },
  {
   "cell_type": "markdown",
   "metadata": {
    "id": "DPX76GW5yfyJ"
   },
   "source": [
    "## 라이브러리 불러오기"
   ]
  },
  {
   "cell_type": "code",
   "execution_count": 97,
   "metadata": {
    "id": "xWrCtng4Me2-"
   },
   "outputs": [],
   "source": [
    "# API 호출\n",
    "# ## https://data.go.kr/tcs/dss/selectApiDataDetailView.do?publicDataPk=15057440\n",
    "from urllib.request import Request, urlopen\n",
    "# Request https://docs.python.org/ko/3/library/urllib.request.html#urllib.request.Request\n",
    "# urlopen https://docs.python.org/ko/3/library/urllib.request.html#urllib.request.urlopen\n",
    "from urllib.parse import urlencode, quote_plus\n",
    "# urlenocde https://docs.python.org/ko/3/library/urllib.parse.html#urllib.parse.urlencode\n",
    "# quote_plus https://docs.python.org/ko/3/library/urllib.parse.html#urllib.parse.quote_plus\n",
    "from urllib.parse import unquote\n",
    "import requests\n",
    "\n",
    "# 시간 생성\n",
    "import time\n",
    "import datetime\n",
    "from pytz import timezone, utc\n",
    "\n",
    "# 폴더 자동 생성\n",
    "import os\n",
    "\n",
    "# 코드 스케줄링\n",
    "import threading\n",
    "import schedule\n",
    "\n",
    "import pandas as pd\n",
    "\n",
    "# XML 파싱\n",
    "import xml.etree.ElementTree as ET"
   ]
  },
  {
   "cell_type": "markdown",
   "metadata": {
    "id": "Pp1hVhMT7t3V"
   },
   "source": [
    "## KEY unquote"
   ]
  },
  {
   "cell_type": "code",
   "execution_count": 3,
   "metadata": {
    "id": "X4RvGmtjX2g0"
   },
   "outputs": [],
   "source": [
    "KEY = 'yEaR%2F3MDedRSlVJL%2F2pxnVg0yre1N5VF3RZ%2FUAt56MJ7J2mNpfqhUvy05pXV0uhHTVY7DbyCR8xmMaDdYga67Q%3D%3D' # 종현\n",
    "# apiKEY = requests.utils.unquote(KEY)\n",
    "apiKey = unquote(KEY)\n",
    "# print(apiKey)\n",
    "KEYSW = 'M%2B4%2FqUiadT8X8PhgFjaQLDu%2BIOgPMURfGsOX%2FmVxwHQVJgnVR%2FMPjDYXkuQNwUFbZXlfnX5Lls3SUCiCLIFjgQ%3D%3D'\n",
    "apiKeySW = unquote(KEYSW)"
   ]
  },
  {
   "cell_type": "markdown",
   "metadata": {},
   "source": [
    "## @현재 시간 생성 함수"
   ]
  },
  {
   "cell_type": "code",
   "execution_count": 4,
   "metadata": {},
   "outputs": [],
   "source": [
    "def getNowTime():\n",
    "    fileDateTime = utc.localize(datetime.datetime.utcnow()).astimezone(timezone('Asia/Seoul'))       # 자정이 넘어간 시간 파일 경로가 바뀌는 문제를 해결해야 합니다.\n",
    "    return fileDateTime"
   ]
  },
  {
   "cell_type": "markdown",
   "metadata": {},
   "source": [
    "## routeId의 첫차시간과 막차시간을 datetime으로 저장합니다."
   ]
  },
  {
   "cell_type": "code",
   "execution_count": 80,
   "metadata": {},
   "outputs": [],
   "source": [
    "def makeInfoFile(routeId):\n",
    "    '''\n",
    "    InfoFile을 만드는 함수 입니다.\n",
    "    busrouteservice/info API를 호출하여 ...\n",
    "    '''\n",
    "    infoRootPath = 'C:/Users/jongh/OneDrive/School/석사/1-2/자료구조/프로젝트/5.DATA/BusInfo/'\n",
    "    infoFilePath = infoRootPath + str(routeId) + '.txt'\n",
    "    try:\n",
    "        infoFile = open(infoFilePath, 'w', encoding = 'utf-8', newline = '\\n')\n",
    "    except:\n",
    "        createFolder(infoRootPath)\n",
    "        infoFile = open(infoFilePath, 'w', encoding = 'utf-8', newline = '\\n')\n",
    "\n",
    "\n",
    "    # 노선정보항목조회 busrouteservice/info\n",
    "    # 해당 노선에 대한 노선번호, 기점/종점 정류소, 첫차/막차시간, 배차간격, 운행업체 등의 운행계획 정보를 제공합니다.\n",
    "    url = 'http://openapi.gbis.go.kr/ws/rest/busrouteservice/info'\n",
    "    queryParams = '?' + urlencode({ quote_plus('serviceKey') : apiKey, quote_plus('routeId') : routeId })\n",
    "    # print(url+queryParams)\n",
    "\n",
    "    request = Request(url + queryParams)\n",
    "    request.get_method = lambda: 'GET'\n",
    "    oneLineXML = urlopen(request).read().decode('utf8')\n",
    "    # print(oneLineXML)\n",
    "\n",
    "    xtree = ET.fromstring(oneLineXML)\n",
    "    resultCode = int(xtree[1].find(\"resultCode\").text)\n",
    "    msgBody = xtree[2]\n",
    "\n",
    "    busRouteInfoItem = msgBody[0]\n",
    "    i=0\n",
    "    infoFile.write(\"INFOFILE \")\n",
    "    infoFile.write(str(routeId))\n",
    "    infoFile.write('\\n')\n",
    "\n",
    "    for info in busRouteInfoItem:\n",
    "        infoFile.write(info.tag)\n",
    "        infoFile.write(' ')\n",
    "        infoFile.write(info.text)\n",
    "        infoFile.write('\\n')\n",
    "        # print(f\"{i} {info.tag} : {info.text}\")\n",
    "        i+=1\n",
    "    infoFile.close()"
   ]
  },
  {
   "cell_type": "code",
   "execution_count": 81,
   "metadata": {},
   "outputs": [],
   "source": [
    "def readInfoCSV(routeId):\n",
    "    infoRootPath = 'C:/Users/jongh/OneDrive/School/석사/1-2/자료구조/프로젝트/5.DATA/BusInfo/'\n",
    "    infoFilePath = infoRootPath + str(routeId) + '.txt'\n",
    "    df= pd.read_csv(infoFilePath, sep=' ', index_col='INFOFILE')\n",
    "    return df"
   ]
  },
  {
   "cell_type": "code",
   "execution_count": 82,
   "metadata": {},
   "outputs": [],
   "source": [
    "def getBusTime(routeId):\n",
    "    # 첫차 출발시간과 막차 정류장 도착시간을 받습니다.\n",
    "    # ISSUE1: 막차 정류장 도착시간이 실제 시간과 차이가 많이납니다.\n",
    "    # ISSUE2: 자정이 넘어가면 하루를 더해줘야 합니다. 자정이 넘어갔다는 사실을 어떻게 알게 할까요? \n",
    "    #         >>> 출발 시간보다 작으면 하루를 더해주고 출발시간보다 크면 날짜를 그대로 사용합니다.\n",
    "    try: \n",
    "        info_df = readInfoCSV(routeId)\n",
    "    except:\n",
    "        makeInfoFile(routeId)\n",
    "        info_df = readInfoCSV(routeId)\n",
    "        \n",
    "    upFirstTime = info_df.loc['downFirstTime'].values[0]\n",
    "    downLastTime = info_df.loc['downLastTime'].values[0]\n",
    "\n",
    "    startDate = getNowTime()\n",
    "    if(int(upFirstTime.replace(':','')) < int(downLastTime.replace(':',''))):\n",
    "        endDate = startDate\n",
    "    else:\n",
    "        endDate = startDate + datetime.timedelta(days=1)\n",
    "\n",
    "    startDate = startDate.isoformat()[:11] + upFirstTime + ':00.000000+09:00'\n",
    "    endDate = endDate.isoformat()[:11] + downLastTime + ':00.000000+09:00'\n",
    "\n",
    "    startDatetime = datetime.datetime.strptime(startDate, '%Y-%m-%dT%H:%M:%S.%f%z')\n",
    "    endDatetime = datetime.datetime.strptime(endDate, '%Y-%m-%dT%H:%M:%S.%f%z')\n",
    "    return (startDatetime, endDatetime)"
   ]
  },
  {
   "cell_type": "code",
   "execution_count": 89,
   "metadata": {},
   "outputs": [
    {
     "name": "stdout",
     "output_type": "stream",
     "text": [
      "2020-11-19 06:20:00+09:00\n",
      "2020-11-20 00:25:00+09:00\n"
     ]
    }
   ],
   "source": [
    "(startDatetime, endDatetime) = getBusTime(222000074)\n",
    "print(startDatetime, endDatetime, sep='\\n')"
   ]
  },
  {
   "cell_type": "markdown",
   "metadata": {
    "id": "YlVVhU68VVEi"
   },
   "source": [
    "## @routeIdList 작성 선행"
   ]
  },
  {
   "cell_type": "code",
   "execution_count": 8,
   "metadata": {
    "id": "eF3GKMkgQ6mw"
   },
   "outputs": [],
   "source": [
    "routeIdList = \\\n",
    "[200000193, 204000046,\n",
    " 204000059, 204000065, 232000072, 229000072,\n",
    " 222000088, 200000262, 234001511, 200000109,\n",
    " 227000039, 233000140, 232000007, 234000013, 233000270, 219000027,\n",
    " 204000056, 234001290, 236000050, 234001138, 234000065, 233000031,\n",
    " 228000393, 234000027, 232000090, 234001251, 232000073, 228000395,\n",
    " 232000005, 233000135, 233000125, 234001244, 216000026, 233000266,\n",
    " 234000042, 216000043, 216000061, 234000130, 213000019, 234001694,\n",
    " 233000258, 234000075, 234000884, 227000038, 228000184, 232000047,\n",
    " 200000149, 200000145, 213000015, 228000181, 233000131, 228000262,\n",
    " 234000310, 224000047, 234001271, 200000145, 224000050, 224000019,\n",
    " 222000074, 204000024, 236000176, 229000111, 228000263, 222000078,\n",
    " 234000882, 235000085, 234000069, 228000177, 234000079, 221000003,\n",
    " 229000263, 229000266, 204000060,\n",
    "#  229000112, 227000040, 234000873, 228000388, 228000176, 204000070,\n",
    "#  234000051, 234000136, 222000073, 233000136, 234000873, 234001163,\n",
    "#  234000886, 234000015, 229000023, 234000873, \n",
    "#  234000148, 234000002, 229000028, 229000028, 222000076, 222000075,\n",
    "#  205000002, 233000265, 233000139, 227000019, 200000175, 228000175,\n",
    "#  228000182, 200000108, 207000070, 234000309, 234000313, 200000112,\n",
    "#  200000205, 222000107, 234000016, 200000110, 204000041, 228000389,\n",
    "#  234001204, 234001516, 200000104, 222000049, 236000149, 200000119,\n",
    "#  204000082, 221000033, 228000394, 234000031, 229000061, 222000169,\n",
    "#  234000050, 204000057, 234000324, 234000878, 235000092, 200000120,\n",
    "#  213000024, 234000011, 200000115, 229000097, 218000007, 233000032,\n",
    "#  232000103, 222000090, 218000010, 206000007, 204000081, 232000092,\n",
    "#  232000092, 219000016, 219000006, 200000150, 222000084, 222000046,\n",
    "#  219000013, 229000247, 222000137, 233000142,\n",
    "#  234001609, 234001203, 233000269\n",
    "]"
   ]
  },
  {
   "cell_type": "code",
   "execution_count": 9,
   "metadata": {},
   "outputs": [
    {
     "data": {
      "text/plain": [
       "73"
      ]
     },
     "execution_count": 9,
     "metadata": {},
     "output_type": "execute_result"
    }
   ],
   "source": [
    "len(routeIdList)"
   ]
  },
  {
   "cell_type": "markdown",
   "metadata": {},
   "source": [
    "## @filePathList 생성"
   ]
  },
  {
   "cell_type": "code",
   "execution_count": 10,
   "metadata": {},
   "outputs": [],
   "source": [
    "# 폴더 자동 생성 함수\n",
    "# https://data-make.tistory.com/170\n",
    "def createFolder(directory):\n",
    "    try:\n",
    "        if not os.path.exists(directory):\n",
    "            os.makedirs(directory)\n",
    "    except OSError:\n",
    "        print ('Error: Creating directory. ' +  directory)"
   ]
  },
  {
   "cell_type": "code",
   "execution_count": 11,
   "metadata": {},
   "outputs": [],
   "source": [
    "########################################################################\n",
    "## 코드를 실행하는 장치에 따라 달라지는 경로 입니다. 수정해서 사용하세요. ###\n",
    "########################################################################\n",
    "\n",
    "fileDevicepath = 'C:/Users/jongh/OneDrive/School/석사/1-2/자료구조/프로젝트/5.DATA'\n",
    "# fileDevicepath = 'C:/Users/Administrator/OneDrive/School/석사/1-2/자료구조/프로젝트/5.DATA'    # AWS 사용시 선택하는 경로\n",
    "\n",
    "# 기능 구분 폴더 입니다. 실제 데이터 기록시 반드시 확인하세요.\n",
    "fileAPIName = 'buslocationservice'                                                            # AWS 사용시 선택하는 폴더 이름\n",
    "# fileAPIName = 'testFolder1'\n",
    "\n",
    "# 루트 폴더 입니다.\n",
    "fileRootPath = '/Master/dataAPI/'"
   ]
  },
  {
   "cell_type": "code",
   "execution_count": 12,
   "metadata": {},
   "outputs": [],
   "source": [
    "def makeFilePathList():\n",
    "    \n",
    "    global fileDevicepath, fileRootPath, fileAPIName\n",
    "    filePathList = []\n",
    "\n",
    "    for routeId in routeIdList:\n",
    "        \n",
    "        # 고정된 이름 및 변수에 의해 자동으로 생성 되는 이름 입니다. 변수를 확인하세요.\n",
    "        fileRouteId = str(routeId)                        # 파일 이름에 routeId를 포함 시킬지 확인합니다.\n",
    "        fileDateTime = getNowTime().isoformat()[2:10]      # 자정이 넘어간 시간 파일 경로가 바뀌는 문제를 해결해야 합니다.\n",
    "        fileExtension = '.txt'\n",
    "\n",
    "        #파일의 폴더 경로와 이름을 각각 출력합니다.\n",
    "        folderPath = str(fileDevicepath + fileRootPath + fileAPIName + '/' + fileRouteId)\n",
    "        # print(folderPath)\n",
    "        fileName = fileRouteId + '_' + fileDateTime + fileExtension\n",
    "        # print(fileName)\n",
    "\n",
    "        # 파일의 최종 경로를 출력합니다.\n",
    "        filePath = str(folderPath + '/' + fileName)\n",
    "\n",
    "        # 폴더를 생성합니다.\n",
    "        createFolder(folderPath)\n",
    "\n",
    "        # 파일 경로 리스트에 파일경로를 추가합니다.\n",
    "        filePathList.append(filePath)\n",
    "        \n",
    "    return filePathList"
   ]
  },
  {
   "cell_type": "code",
   "execution_count": 13,
   "metadata": {},
   "outputs": [],
   "source": [
    "def newFile(routeIdList, filePathList):\n",
    "    for routeId, filePath in zip(routeIdList, filePathList):\n",
    "        textFile = open(filePath, 'w', encoding = 'utf-8', newline = '\\n')\n",
    "        textFile.write(str(routeId))\n",
    "        textFile.write(' ')\n",
    "        textFile.write(getNowTime().isoformat())\n",
    "        textFile.write(\"\\n\")"
   ]
  },
  {
   "cell_type": "code",
   "execution_count": 14,
   "metadata": {},
   "outputs": [
    {
     "name": "stdout",
     "output_type": "stream",
     "text": [
      "73 C:/Users/jongh/OneDrive/School/석사/1-2/자료구조/프로젝트/5.DATA/Master/dataAPI/buslocationservice/200000193/200000193_20-11-19.txt\n"
     ]
    }
   ],
   "source": [
    "filePathList = makeFilePathList()\n",
    "print(len(filePathList), end=' ')\n",
    "print(filePathList[0])"
   ]
  },
  {
   "cell_type": "markdown",
   "metadata": {},
   "source": [
    "## @로그파일을 생성한다"
   ]
  },
  {
   "cell_type": "code",
   "execution_count": 15,
   "metadata": {},
   "outputs": [],
   "source": [
    "def makeLogFile():\n",
    "    global fileDevicepath, fileRootPath, fileAPIName\n",
    "    logfileRootPath = fileDevicepath + fileRootPath + fileAPIName + '/_log'\n",
    "    fileDateTime = getNowTime().isoformat()[2:10]\n",
    "    fileName = '_log.txt'\n",
    "    \n",
    "    logPath = logfileRootPath + '/' + fileDateTime + fileName \n",
    "    # print(logPath)\n",
    "    # print(logfileRootPath)\n",
    "    \n",
    "    # logPath 경로에 폴더를 생성합니다.\n",
    "    createFolder(logfileRootPath)\n",
    "    \n",
    "    return logPath\n",
    "\n",
    "logPath = makeLogFile()"
   ]
  },
  {
   "cell_type": "code",
   "execution_count": 16,
   "metadata": {},
   "outputs": [],
   "source": [
    "def newLogFile(logPath):\n",
    "    logFile = open(logPath, 'w', encoding = 'utf-8', newline = '\\n')\n",
    "    logFile.write(getNowTime().isoformat())\n",
    "    logFile.write(\"\\n\")\n",
    "    \n",
    "    # logFile = open(logPath, 'a', encoding = 'utf-8', newline = '\\n')\n",
    "    # return logFile"
   ]
  },
  {
   "cell_type": "code",
   "execution_count": 17,
   "metadata": {},
   "outputs": [],
   "source": [
    "newLogFile(logPath)"
   ]
  },
  {
   "cell_type": "markdown",
   "metadata": {},
   "source": [
    "## switchList 생성함수"
   ]
  },
  {
   "cell_type": "code",
   "execution_count": 125,
   "metadata": {},
   "outputs": [
    {
     "data": {
      "text/plain": [
       "[0]"
      ]
     },
     "execution_count": 125,
     "metadata": {},
     "output_type": "execute_result"
    }
   ],
   "source": [
    "routeIdList = [204000046]\n",
    "switchList = [0 for _ in range(len(routeIdList))]\n",
    "switchList"
   ]
  },
  {
   "cell_type": "code",
   "execution_count": 128,
   "metadata": {},
   "outputs": [],
   "source": [
    "def testFunction(routeIdList):\n",
    "    global switchList\n",
    "    \n",
    "    \n",
    "    for routeId in routeIdList:\n",
    "        (startDatetime, endDatetime) = getBusTime(routeId)\n",
    "        print()\n",
    "    \n",
    "    \n",
    "    \n",
    "testFunction(routeIdList)"
   ]
  },
  {
   "cell_type": "markdown",
   "metadata": {},
   "source": [
    "## \"openapi.gbis.go.kr\" 도메인 API 호출"
   ]
  },
  {
   "cell_type": "code",
   "execution_count": 112,
   "metadata": {},
   "outputs": [],
   "source": [
    "def openAPICall(routeIdList, filePathList):\n",
    "    ############################################################  \n",
    "    url = 'http://openapi.gbis.go.kr/ws/rest/buslocationservice'# <<<<<<<<<<<<< 도메인 확인\n",
    "    ############################################################\n",
    "    global switchList\n",
    "    pastTime = getNowTime()\n",
    "    logFile = open(logPath, 'a', encoding = 'utf-8', newline = '\\n')\n",
    "    \n",
    "    \n",
    "    print(pastTime.isoformat(),'\\t API [ buslocationservice ] 호출을 [ 시작 ] 하였습니다.')  \n",
    "\n",
    "    for routeId, filePath in zip(routeIdList, filePathList):\n",
    "        # filePath에 있는 .txt파일을 append 모드로 엽니다.\n",
    "        textFile = open(filePath, 'a', encoding = 'utf-8', newline = '\\n')\n",
    "\n",
    "        # API를 호출하여 XML 형식으로 된 string 데이터를 변수 \"oneLineXML\" 에 저장합니다.\n",
    "        queryParams = '?' + urlencode({ quote_plus('serviceKey') : apiKey, quote_plus('routeId') : routeId })\n",
    "        request = Request(url + queryParams)\n",
    "        request.get_method = lambda: 'GET'\n",
    "        oneLineXML = urlopen(request).read().decode('utf8')\n",
    "        \n",
    "        # xtree는 \"ws.bus.go.kr\" 도메인 API 호출에서 \"headerCd\"에 상관없이 3개의 태그를 갖습니다.\n",
    "        # [comMsgHeader, msgHeader, msgBody]\n",
    "        xtree = ET.fromstring(oneLineXML)\n",
    "\n",
    "        # comMsgHeader : []\n",
    "        # comMsgHeader = xtree[0]\n",
    "\n",
    "\n",
    "        # msgHeader : [queryTime, resultCode, resultMessage]\n",
    "        # Index Error : IE01\n",
    "        try:\n",
    "            msgHeader = xtree[1]\n",
    "        except IndexError:\n",
    "            # textFile Index Error IE01 출력\n",
    "            # textFile.write(getNowTime().isoformat())\n",
    "            # textFile.write(\" Index Error EC01\\n\")\n",
    "            # logFile Index Error IE01 출력\n",
    "            logFile.write(getNowTime().isoformat())\n",
    "            logFile.write(' ')\n",
    "            logFile.write(str(routeId))\n",
    "            logFile.write(\" Index Error EC01\\n\")\n",
    "            logFile.write(oneLineXML)\n",
    "            logFile.write('\\n')\n",
    "            # 프롬프트 Index Error IE01 출력\n",
    "            print(getNowTime(), routeId, end=' ')\n",
    "            print(\"Index Error EC01\")\n",
    "            continue\n",
    "        \n",
    "        # API Call Failure : CF01 \n",
    "        resultCode = int(msgHeader[1].text)\n",
    "        # print(resultCode)\n",
    "        resultMessage = msgHeader[2]\n",
    "        if(resultCode != 0):\n",
    "            # textFile API Call Failure 출력\n",
    "            # textFile.write(getNowTime().isoformat())\n",
    "            # textFile.write(\" API Call Failure CF01 \")\n",
    "            # textFile.write(resultMessage.text)\n",
    "            # textFile.write(\"\\n\")\n",
    "            # logFile API Call Failure 출력\n",
    "            # logFile.write(getNowTime().isoformat())\n",
    "            # logFile.write(' ')\n",
    "            # logFile.write(str(routeId))\n",
    "            # logFile.write(\" API Call Failure CF01 \")\n",
    "            # logFile.write(resultMessage.text)\n",
    "            # logFile.write(\"\\n\")\n",
    "            # 프롬프트 API Call Failure 출력\n",
    "            # print(getNowTime(), routeId, end=' ')\n",
    "            # print(\" API Call Failure CF01\", end=' ')\n",
    "            # print(resultMessage.text)\n",
    "            continue;\n",
    "\n",
    "        # msgBody : dateTime + [ 8개 태그 ]\n",
    "        # Index Error 02 : IE02\n",
    "        try:\n",
    "            msgBody = xtree[2]\n",
    "        except IndexError:\n",
    "            # textFile Index Error IE02 출력\n",
    "            # textFile.write(getNowTime().isoformat())\n",
    "            # textFile.write(\" Index Error IE02\\n\")\n",
    "            # logFile Index Error 01 출력\n",
    "            logFile.write(getNowTime().isoformat())\n",
    "            logFile.write(' ')\n",
    "            logFile.write(str(routeId))\n",
    "            logFile.write(\" Index Error IE02\\n\")\n",
    "            logFile.write(oneLineXML)\n",
    "            logFile.write('\\n')\n",
    "            # 프롬프트 Index Error IE02 출력\n",
    "            print(getNowTime(), routeId, end=' ')\n",
    "            print(\"Index Error IE2\")\n",
    "            continue\n",
    "        \n",
    "        #itemTagList = ['endBus', 'lowPlate', 'plateNo', 'plateType', 'remainSeatCnt', 'routeId', 'stationId', 'stationSeq']\n",
    "        for busLocationList in msgBody:\n",
    "            busLocationValueList = []\n",
    "            textFile.write(getNowTime().isoformat())\n",
    "            textFile.write(' ')\n",
    "            # itemValueList.append(getNowTime().isoformat())    # \"ws.bus.go.kr\" 도메인은 API 호출시간 ( \"dataTm\" ) 제공\n",
    "            for busLocation in busLocationList:\n",
    "                # busLocationValueList.append(busLocation.text)\n",
    "                textFile.write(busLocation.text)\n",
    "                textFile.write(' ')\n",
    "            textFile.write(\"\\n\")\n",
    "            # print(busLocationValueList)\n",
    "\n",
    "    currentTime = getNowTime()\n",
    "    print(currentTime.isoformat(),'\\t API [ buslocationservice ] 호출을 [ 완료 ] 하였습니다. 소요시간: ', currentTime - pastTime)   \n",
    "\n",
    "    textFile.close()\n",
    "    logFile.close()"
   ]
  },
  {
   "cell_type": "code",
   "execution_count": 113,
   "metadata": {},
   "outputs": [
    {
     "name": "stdout",
     "output_type": "stream",
     "text": [
      "0\n",
      "2020-11-19T21:29:16.032409+09:00 \t API [ buslocationservice ] 호출을 [ 시작 ] 하였습니다.\n",
      "2020-11-19T21:29:22.845499+09:00 \t API [ buslocationservice ] 호출을 [ 완료 ] 하였습니다. 소요시간:  0:00:06.813090\n"
     ]
    }
   ],
   "source": [
    "openAPICall(routeIdList, filePathList)"
   ]
  },
  {
   "cell_type": "markdown",
   "metadata": {},
   "source": [
    "## @Schedule 모듈 사용을 위한 API 호출 생성 함수 생성"
   ]
  },
  {
   "cell_type": "code",
   "execution_count": 20,
   "metadata": {},
   "outputs": [],
   "source": [
    "####################################\n",
    "newFile(routeIdList, filePathList)##   <<<  데이터파일을 초기화 합니다. 주의해서 사용하세요!\n",
    "newLogFile(logPath)               ##   <<<  로그파일을 초기화 합니다. 주의해서 사용하세요!\n",
    "####################################"
   ]
  },
  {
   "cell_type": "markdown",
   "metadata": {},
   "source": [
    "## @최종코드"
   ]
  },
  {
   "cell_type": "code",
   "execution_count": null,
   "metadata": {},
   "outputs": [
    {
     "name": "stdout",
     "output_type": "stream",
     "text": [
      "2020-11-19 20:34:33.489147+09:00 \t프로세스를 시작합니다.\n"
     ]
    }
   ],
   "source": [
    "schedule.clear()\n",
    "schedule.every(52).seconds.do(lambda: openAPICall(routeIdList, filePathList))\n",
    "print(getNowTime(), \"\\t프로세스를 시작합니다.\")\n",
    "\n",
    "while True:\n",
    "    try:\n",
    "        schedule.run_pending()\n",
    "        time.sleep(1)\n",
    "    except:\n",
    "        # logFile Timeout Error TE01 출력\n",
    "        logFile = open(logPath, 'a', encoding = 'utf-8', newline = '\\n')\n",
    "        logFile.write(getNowTime().isoformat())\n",
    "        logFile.write(' ')\n",
    "        logFile.write(\" Timeout Error TE01\\n\")\n",
    "        # 프롬프트 Timeout Error TE01 출력\n",
    "        print(getNowTime(), end=' ')\n",
    "        print(\"Timeout Error TE01\")\n",
    "        logFile.close()\n",
    "        continue"
   ]
  }
 ],
 "metadata": {
  "colab": {
   "name": "경기버스정보API.ipynb",
   "provenance": []
  },
  "kernelspec": {
   "display_name": "Python 3",
   "language": "python",
   "name": "python3"
  },
  "language_info": {
   "codemirror_mode": {
    "name": "ipython",
    "version": 3
   },
   "file_extension": ".py",
   "mimetype": "text/x-python",
   "name": "python",
   "nbconvert_exporter": "python",
   "pygments_lexer": "ipython3",
   "version": "3.7.6"
  }
 },
 "nbformat": 4,
 "nbformat_minor": 4
}

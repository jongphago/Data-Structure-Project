{
 "cells": [
  {
   "cell_type": "markdown",
   "metadata": {},
   "source": [
    "## Githun 연동하기"
   ]
  },
  {
   "cell_type": "code",
   "execution_count": null,
   "metadata": {},
   "outputs": [],
   "source": []
  },
  {
   "cell_type": "markdown",
   "metadata": {},
   "source": [
    "## 라이브러리 설치"
   ]
  },
  {
   "cell_type": "code",
   "execution_count": 32,
   "metadata": {},
   "outputs": [
    {
     "name": "stdout",
     "output_type": "stream",
     "text": [
      "Collecting schedule\n",
      "  Downloading schedule-0.6.0-py2.py3-none-any.whl (8.7 kB)\n",
      "Installing collected packages: schedule\n",
      "Successfully installed schedule-0.6.0\n"
     ]
    }
   ],
   "source": [
    "# !pip install schedule"
   ]
  },
  {
   "cell_type": "markdown",
   "metadata": {
    "id": "DPX76GW5yfyJ"
   },
   "source": [
    "## 라이브러리 불러오기"
   ]
  },
  {
   "cell_type": "code",
   "execution_count": 106,
   "metadata": {
    "id": "xWrCtng4Me2-"
   },
   "outputs": [],
   "source": [
    "# API 호출\n",
    "# ## https://data.go.kr/tcs/dss/selectApiDataDetailView.do?publicDataPk=15057440\n",
    "from urllib.request import Request, urlopen\n",
    "# Request https://docs.python.org/ko/3/library/urllib.request.html#urllib.request.Request\n",
    "# urlopen https://docs.python.org/ko/3/library/urllib.request.html#urllib.request.urlopen\n",
    "from urllib.parse import urlencode, quote_plus\n",
    "# urlenocde https://docs.python.org/ko/3/library/urllib.parse.html#urllib.parse.urlencode\n",
    "# quote_plus https://docs.python.org/ko/3/library/urllib.parse.html#urllib.parse.quote_plus\n",
    "from urllib.parse import unquote\n",
    "import requests\n",
    "\n",
    "# 시간 생성\n",
    "import time\n",
    "import datetime\n",
    "from pytz import timezone, utc\n",
    "\n",
    "# 폴더 자동 생성\n",
    "import os\n",
    "\n",
    "# 코드 스케줄링\n",
    "import threading\n",
    "import schedule\n",
    "\n",
    "# XML 파싱\n",
    "import xml.etree.ElementTree as ET"
   ]
  },
  {
   "cell_type": "code",
   "execution_count": 2,
   "metadata": {},
   "outputs": [],
   "source": [
    "# 폴더 자동 생성 함수\n",
    "# https://data-make.tistory.com/170\n",
    "def createFolder(directory):\n",
    "    try:\n",
    "        if not os.path.exists(directory):\n",
    "            os.makedirs(directory)\n",
    "    except OSError:\n",
    "        print ('Error: Creating directory. ' +  directory)"
   ]
  },
  {
   "cell_type": "markdown",
   "metadata": {
    "id": "Pp1hVhMT7t3V"
   },
   "source": [
    "## KEY unquote"
   ]
  },
  {
   "cell_type": "code",
   "execution_count": 3,
   "metadata": {
    "id": "X4RvGmtjX2g0"
   },
   "outputs": [],
   "source": [
    "KEY = 'yEaR%2F3MDedRSlVJL%2F2pxnVg0yre1N5VF3RZ%2FUAt56MJ7J2mNpfqhUvy05pXV0uhHTVY7DbyCR8xmMaDdYga67Q%3D%3D' # 종현\n",
    "# apiKEY = requests.utils.unquote(KEY)\n",
    "apiKey = unquote(KEY)\n",
    "# print(apiKey)\n",
    "KEYSW = 'M%2B4%2FqUiadT8X8PhgFjaQLDu%2BIOgPMURfGsOX%2FmVxwHQVJgnVR%2FMPjDYXkuQNwUFbZXlfnX5Lls3SUCiCLIFjgQ%3D%3D'\n",
    "apiKeySW = unquote(KEYSW)"
   ]
  },
  {
   "cell_type": "markdown",
   "metadata": {
    "id": "R2vTXbRE7rAr"
   },
   "source": [
    "## URL 생성"
   ]
  },
  {
   "cell_type": "markdown",
   "metadata": {
    "id": "0yArZKci786j"
   },
   "source": [
    "### ws.bus.go.kr url을 사용하는 경우 \n",
    "1.   'ServiceKey' 대문자 S\n",
    "2.   'busRouteId' 노선ID는 busRouteId"
   ]
  },
  {
   "cell_type": "code",
   "execution_count": 4,
   "metadata": {
    "id": "F_DuFQ8TXy_v"
   },
   "outputs": [],
   "source": [
    "# getArrInfoByRouteAll\n",
    "url = 'http://ws.bus.go.kr/api/rest/arrive/getArrInfoByRouteAll'\n",
    "queryParams = '?' + urlencode({ quote_plus('ServiceKey') : apiKey, quote_plus('busRouteId') : '204000046' })"
   ]
  },
  {
   "cell_type": "code",
   "execution_count": 5,
   "metadata": {
    "id": "nMZedZcP6Ira"
   },
   "outputs": [],
   "source": [
    "# getBusPosByRtid\n",
    "# 노선ID로 차량들의 위치정보를 조회합니다\n",
    "url = 'http://ws.bus.go.kr/api/rest/buspos/getBusPosByRtid'\n",
    "queryParams = '?' + urlencode({ quote_plus('ServiceKey') : apiKey, quote_plus('busRouteId') : '204000046' })"
   ]
  },
  {
   "cell_type": "code",
   "execution_count": 6,
   "metadata": {
    "colab": {
     "base_uri": "https://localhost:8080/",
     "height": 55
    },
    "id": "aa-BO-tMouQL",
    "outputId": "88853ce1-774e-4746-c028-202bd3d6ef79"
   },
   "outputs": [
    {
     "data": {
      "text/plain": [
       "'http://ws.bus.go.kr/api/rest/buspos/getBusPosByRtid?ServiceKey=yEaR%2F3MDedRSlVJL%2F2pxnVg0yre1N5VF3RZ%2FUAt56MJ7J2mNpfqhUvy05pXV0uhHTVY7DbyCR8xmMaDdYga67Q%3D%3D&busRouteId=204000046'"
      ]
     },
     "execution_count": 6,
     "metadata": {},
     "output_type": "execute_result"
    }
   ],
   "source": [
    "url+queryParams"
   ]
  },
  {
   "cell_type": "markdown",
   "metadata": {
    "id": "Qzm8ff7B8Bwq"
   },
   "source": [
    "### openapi url을 사용하는 경우 \n",
    "1.   'serviceKey' 소문자 s\n",
    "2.   'routeId' 노선ID는 routeId"
   ]
  },
  {
   "cell_type": "code",
   "execution_count": 7,
   "metadata": {
    "id": "p8PE0cXNxaBZ"
   },
   "outputs": [],
   "source": [
    "# 노선번호목록조회 busrouteservice\n",
    "# 해당 노선번호의 노선ID, 노선유형, 운행지역 등을 제공합니다.\n",
    "url = 'http://openapi.gbis.go.kr/ws/rest/busrouteservice' \n",
    "queryParams = '?' + urlencode({ quote_plus('serviceKey') : apiKey, quote_plus('keyword') : '9000' })"
   ]
  },
  {
   "cell_type": "code",
   "execution_count": 8,
   "metadata": {
    "id": "VgcBX-122uUs"
   },
   "outputs": [],
   "source": [
    "# 노선정보항목조회 busrouteservice/info\n",
    "# 해당 노선에 대한 노선번호, 기점/종점 정류소, 첫차/막차시간, 배차간격, 운행업체 등의 운행계획 정보를 제공합니다.\n",
    "url = 'http://openapi.gbis.go.kr/ws/rest/busrouteservice/info'\n",
    "queryParams = '?' + urlencode({ quote_plus('serviceKey') : apiKey, quote_plus('routeId') : '204000046' })"
   ]
  },
  {
   "cell_type": "code",
   "execution_count": 9,
   "metadata": {
    "id": "OfBhTbLh3L9G"
   },
   "outputs": [],
   "source": [
    "# 경유정류소목록조회 busrouteservice/info\n",
    "# 해당 노선이 정차하는 경유정류소 목록과 정류소명, 중앙차로여부, 회차점, 좌표값 등을 제공합니다.\n",
    "url = 'http://openapi.gbis.go.kr/ws/rest/busrouteservice/station'\n",
    "queryParams = '?' + urlencode({ quote_plus('serviceKey') : apiKey, quote_plus('routeId') : '204000046' })"
   ]
  },
  {
   "cell_type": "code",
   "execution_count": 37,
   "metadata": {
    "id": "c6FqgRafVkfi"
   },
   "outputs": [],
   "source": [
    "# 경유정류소목록조회 buslocationservice\n",
    "# 해당 노선이 정차하는 경유정류소 목록과 정류소명, 중앙차로여부, 회차점, 좌표값 등을 제공합니다.\n",
    "url = 'http://openapi.gbis.go.kr/ws/rest/buslocationservice'\n",
    "queryParams = '?' + urlencode({ quote_plus('serviceKey') : apiKey, quote_plus('routeId') : '204000046' })"
   ]
  },
  {
   "cell_type": "markdown",
   "metadata": {
    "id": "YlVVhU68VVEi"
   },
   "source": [
    "## @routeIdList 작성 선행"
   ]
  },
  {
   "cell_type": "code",
   "execution_count": 51,
   "metadata": {
    "id": "eF3GKMkgQ6mw"
   },
   "outputs": [],
   "source": [
    "routeIdList = \\\n",
    "[\n",
    "234000013,\n",
    "234000130,\n",
    "204000056,\n",
    "204000046,\n",
    "204000041,\n",
    "204000070,\n",
    "204000059,\n",
    "204000060,\n",
    "204000022,\n",
    "204000039,\n",
    "204000040,\n",
    "204000067,\n",
    "204000044,\n",
    "204000147,\n",
    "]"
   ]
  },
  {
   "cell_type": "markdown",
   "metadata": {},
   "source": [
    "## @현재 시간 생성 함수"
   ]
  },
  {
   "cell_type": "code",
   "execution_count": 67,
   "metadata": {},
   "outputs": [],
   "source": [
    "def getNowTime():\n",
    "    fileDateTime = utc.localize(datetime.datetime.utcnow()).astimezone(timezone('Asia/Seoul'))       # 자정이 넘어간 시간 파일 경로가 바뀌는 문제를 해결해야 합니다.\n",
    "    return fileDateTime"
   ]
  },
  {
   "cell_type": "code",
   "execution_count": 77,
   "metadata": {},
   "outputs": [
    {
     "name": "stdout",
     "output_type": "stream",
     "text": [
      "2020-11-10 21:03:01.562470+09:00\n",
      "<class 'datetime.datetime'>\n",
      "2020-11-10T21:03:01.563471+09:00\n",
      "2020-11-10\n",
      "21:03:01\n"
     ]
    }
   ],
   "source": [
    "print(getNowTime())\n",
    "print(type(getNowTime()))\n",
    "print(getNowTime().isoformat()) # string\n",
    "print(getNowTime().isoformat()[:10])\n",
    "print(getNowTime().isoformat()[11:19])"
   ]
  },
  {
   "cell_type": "markdown",
   "metadata": {},
   "source": [
    "## @filePathList 생성"
   ]
  },
  {
   "cell_type": "code",
   "execution_count": 111,
   "metadata": {},
   "outputs": [
    {
     "name": "stdout",
     "output_type": "stream",
     "text": [
      "C:/Users/jongh/OneDrive/School/석사/1-2/자료구조/프로젝트/5.DATA/Master/dataAPI/buslocationservicePARSING/234000013/234000013_20-11-10.txt\n",
      "C:/Users/jongh/OneDrive/School/석사/1-2/자료구조/프로젝트/5.DATA/Master/dataAPI/buslocationservicePARSING/234000130/234000130_20-11-10.txt\n",
      "C:/Users/jongh/OneDrive/School/석사/1-2/자료구조/프로젝트/5.DATA/Master/dataAPI/buslocationservicePARSING/204000056/204000056_20-11-10.txt\n",
      "C:/Users/jongh/OneDrive/School/석사/1-2/자료구조/프로젝트/5.DATA/Master/dataAPI/buslocationservicePARSING/204000046/204000046_20-11-10.txt\n",
      "C:/Users/jongh/OneDrive/School/석사/1-2/자료구조/프로젝트/5.DATA/Master/dataAPI/buslocationservicePARSING/204000041/204000041_20-11-10.txt\n",
      "C:/Users/jongh/OneDrive/School/석사/1-2/자료구조/프로젝트/5.DATA/Master/dataAPI/buslocationservicePARSING/204000070/204000070_20-11-10.txt\n",
      "C:/Users/jongh/OneDrive/School/석사/1-2/자료구조/프로젝트/5.DATA/Master/dataAPI/buslocationservicePARSING/204000059/204000059_20-11-10.txt\n",
      "C:/Users/jongh/OneDrive/School/석사/1-2/자료구조/프로젝트/5.DATA/Master/dataAPI/buslocationservicePARSING/204000060/204000060_20-11-10.txt\n",
      "C:/Users/jongh/OneDrive/School/석사/1-2/자료구조/프로젝트/5.DATA/Master/dataAPI/buslocationservicePARSING/204000022/204000022_20-11-10.txt\n",
      "C:/Users/jongh/OneDrive/School/석사/1-2/자료구조/프로젝트/5.DATA/Master/dataAPI/buslocationservicePARSING/204000039/204000039_20-11-10.txt\n",
      "C:/Users/jongh/OneDrive/School/석사/1-2/자료구조/프로젝트/5.DATA/Master/dataAPI/buslocationservicePARSING/204000040/204000040_20-11-10.txt\n",
      "C:/Users/jongh/OneDrive/School/석사/1-2/자료구조/프로젝트/5.DATA/Master/dataAPI/buslocationservicePARSING/204000067/204000067_20-11-10.txt\n",
      "C:/Users/jongh/OneDrive/School/석사/1-2/자료구조/프로젝트/5.DATA/Master/dataAPI/buslocationservicePARSING/204000044/204000044_20-11-10.txt\n",
      "C:/Users/jongh/OneDrive/School/석사/1-2/자료구조/프로젝트/5.DATA/Master/dataAPI/buslocationservicePARSING/204000147/204000147_20-11-10.txt\n"
     ]
    }
   ],
   "source": [
    "fileAPIName = 'buslocationservicePARSING'\n",
    "filePathList = []\n",
    "\n",
    "for routeId in routeIdList:\n",
    "    \n",
    "\n",
    "    # 코드를 실행하는 장치에 따라 달라지는 경로 입니다. 수정해서 사용하세요.\n",
    "    fileDevicepath = 'C:/Users/jongh/OneDrive/School/석사/1-2/자료구조/프로젝트/5.DATA'\n",
    "    # yourDevicepath = 'C:/Users'\n",
    "\n",
    "    # 고정된 이름 및 변수에 의해 자동으로 생성 되는 이름 입니다. 변수를 확인하세요.\n",
    "    fileRootPath = '/Master/dataAPI/'\n",
    "    fileAPIName = fileAPIName\n",
    "    fileRouteId = str(routeId)                                                                                   # 파일 이름에 routeId를 포함 시킬지 확인합니다.\n",
    "    fileDateTime = getNowTime().isoformat()[:10]      # 자정이 넘어간 시간 파일 경로가 바뀌는 문제를 해결해야 합니다.\n",
    "    fileDateStr = fileDateTime[2:10]\n",
    "    fileExtension = '.txt'\n",
    "\n",
    "    #파일의 폴더 경로와 이름을 각각 출력합니다.\n",
    "    folderPath = str(fileDevicepath + fileRootPath + fileAPIName + '/' + fileRouteId)\n",
    "    # print(folderPath)\n",
    "    fileName = fileRouteId + '_' + fileDateStr + fileExtension\n",
    "    # print(fileName)\n",
    "\n",
    "    # 파일의 최종 경로를 출력합니다.\n",
    "    filePath = str(folderPath + '/' + fileName)\n",
    "    \n",
    "    # 폴더를 생성합니다.\n",
    "    createFolder(folderPath)\n",
    "    \n",
    "    # 파일 경로 리스트에 파일경로를 추가합니다.\n",
    "    filePathList.append(filePath)\n",
    "    \n",
    "    print(filePath)"
   ]
  },
  {
   "cell_type": "markdown",
   "metadata": {},
   "source": [
    "## 폴더 생성하기"
   ]
  },
  {
   "cell_type": "code",
   "execution_count": 13,
   "metadata": {},
   "outputs": [],
   "source": [
    "#createFolder(folderPath)"
   ]
  },
  {
   "cell_type": "markdown",
   "metadata": {},
   "source": [
    "## API 호출"
   ]
  },
  {
   "cell_type": "code",
   "execution_count": 39,
   "metadata": {
    "colab": {
     "base_uri": "https://localhost:8080/",
     "height": 269
    },
    "id": "vmoo1Av5TQ5h",
    "outputId": "e4aef89b-f4fe-4a0c-f0b4-e8817246e38c"
   },
   "outputs": [
    {
     "name": "stdout",
     "output_type": "stream",
     "text": [
      "20:08:57 \t 1 번째 반복문을 실행하였습니다.\n",
      "20:08:57 \t 2 번째 반복문을 실행하였습니다.\n",
      "20:08:57 \t 3 번째 반복문을 실행하였습니다.\n",
      "20:08:57 \t 4 번째 반복문을 실행하였습니다.\n",
      "20:08:57 \t 5 번째 반복문을 실행하였습니다.\n",
      "20:08:57 \t 6 번째 반복문을 실행하였습니다.\n",
      "20:08:57 \t 7 번째 반복문을 실행하였습니다.\n",
      "20:08:57 \t 8 번째 반복문을 실행하였습니다.\n",
      "20:08:57 \t 9 번째 반복문을 실행하였습니다.\n",
      "20:08:57 \t 10 번째 반복문을 실행하였습니다.\n"
     ]
    }
   ],
   "source": [
    "url = 'http://openapi.gbis.go.kr/ws/rest/buslocationservice'\n",
    "for i in range(10):\n",
    "    for routeId, filePath in zip(routeIdList, filePathList):\n",
    "        textFile = open(filePath, 'a', encoding = 'utf-8', newline = '\\n')\n",
    "        # 파일 경로가 routeId에 맞게 바뀌는지 확인합니다. \n",
    "        # 파일을 덮어 쓰고 있지 않은지 확인합니다. \n",
    "        queryParams = '?' + urlencode({ quote_plus('serviceKey') : apiKey, quote_plus('routeId') : routeId })\n",
    "        request = Request(url + queryParams)\n",
    "        request.get_method = lambda: 'GET'\n",
    "        oneLineXML = urlopen(request).read().decode('utf8')\n",
    "        textFile.write(oneLineXML)\n",
    "        textFile.write('\\n')\n",
    "    print(fileDateTime[11:19],'\\t', i+1, '번째 반복문을 실행하였습니다.')\n",
    "textFile.close()"
   ]
  },
  {
   "cell_type": "markdown",
   "metadata": {},
   "source": [
    "## @Schedule 모듈 사용을 위한 API 호출 생성 함수 생성"
   ]
  },
  {
   "cell_type": "code",
   "execution_count": 100,
   "metadata": {
    "colab": {
     "base_uri": "https://localhost:8080/",
     "height": 269
    },
    "id": "vmoo1Av5TQ5h",
    "outputId": "e4aef89b-f4fe-4a0c-f0b4-e8817246e38c"
   },
   "outputs": [],
   "source": [
    "def callAPIbuslocationservice(routeIdList, filePathList):\n",
    "    pastTime = getNowTime()\n",
    "    print(pastTime.isoformat(),'\\t API [ buslocationservice ] 호출을 [ 시작 ] 하였습니다.')    \n",
    "    for routeId, filePath in zip(routeIdList, filePathList):\n",
    "        textFile = open(filePath, 'a', encoding = 'utf-8', newline = '\\n')\n",
    "        # 파일 경로가 routeId에 맞게 바뀌는지 확인합니다. \n",
    "        # 파일을 덮어 쓰고 있지 않은지 확인합니다. \n",
    "        queryParams = '?' + urlencode({ quote_plus('serviceKey') : apiKey, quote_plus('routeId') : routeId })\n",
    "        request = Request(url + queryParams)\n",
    "        request.get_method = lambda: 'GET'\n",
    "        oneLineXML = urlopen(request).read().decode('utf8')\n",
    "        textFile.write(oneLineXML)\n",
    "        textFile.write('\\n')\n",
    "    currentTime = getNowTime()\n",
    "    print(currentTime.isoformat(),'\\t API [ buslocationservice ] 호출을 [ 완료 ] 하였습니다.\\t 소요시간: ', currentTime - pastTime)    "
   ]
  },
  {
   "cell_type": "code",
   "execution_count": 101,
   "metadata": {},
   "outputs": [
    {
     "name": "stdout",
     "output_type": "stream",
     "text": [
      "2020-11-10T21:14:39.881085+09:00 \t API [ buslocationservice ] 호출을 [ 시작 ] 하였습니다.\n",
      "2020-11-10T21:14:41.275683+09:00 \t API [ buslocationservice ] 호출을 [ 완료 ] 하였습니다.\t 소요시간:  0:00:01.394598\n"
     ]
    }
   ],
   "source": [
    "# 함수 [ callAPIbuslocationservice ] 테스트\n",
    "callAPIbuslocationservice(routeIdList, filePathList)"
   ]
  },
  {
   "cell_type": "markdown",
   "metadata": {},
   "source": [
    "## Schedule 라이브러리를 사용하여 함수 호출 스케줄링"
   ]
  },
  {
   "cell_type": "markdown",
   "metadata": {},
   "source": [
    "### schedule 테스트 코드"
   ]
  },
  {
   "cell_type": "code",
   "execution_count": 41,
   "metadata": {
    "collapsed": true,
    "jupyter": {
     "outputs_hidden": true
    }
   },
   "outputs": [
    {
     "name": "stdout",
     "output_type": "stream",
     "text": [
      "Hello!\n",
      "Hello!\n"
     ]
    },
    {
     "ename": "KeyboardInterrupt",
     "evalue": "",
     "output_type": "error",
     "traceback": [
      "\u001b[1;31m---------------------------------------------------------------------------\u001b[0m",
      "\u001b[1;31mKeyboardInterrupt\u001b[0m                         Traceback (most recent call last)",
      "\u001b[1;32m<ipython-input-41-b92df47a57eb>\u001b[0m in \u001b[0;36m<module>\u001b[1;34m\u001b[0m\n\u001b[0;32m     11\u001b[0m \u001b[1;32mwhile\u001b[0m \u001b[1;32mTrue\u001b[0m\u001b[1;33m:\u001b[0m\u001b[1;33m\u001b[0m\u001b[1;33m\u001b[0m\u001b[0m\n\u001b[0;32m     12\u001b[0m     \u001b[0mschedule\u001b[0m\u001b[1;33m.\u001b[0m\u001b[0mrun_pending\u001b[0m\u001b[1;33m(\u001b[0m\u001b[1;33m)\u001b[0m\u001b[1;33m\u001b[0m\u001b[1;33m\u001b[0m\u001b[0m\n\u001b[1;32m---> 13\u001b[1;33m     \u001b[0mtime\u001b[0m\u001b[1;33m.\u001b[0m\u001b[0msleep\u001b[0m\u001b[1;33m(\u001b[0m\u001b[1;36m1\u001b[0m\u001b[1;33m)\u001b[0m\u001b[1;33m\u001b[0m\u001b[1;33m\u001b[0m\u001b[0m\n\u001b[0m",
      "\u001b[1;31mKeyboardInterrupt\u001b[0m: "
     ]
    }
   ],
   "source": [
    "#특정 함수 정의\n",
    "def printhello():\n",
    "    print(\"Hello!\")\n",
    " \n",
    "schedule.clear()\n",
    "schedule.every(1).minutes.do(printhello) #30분마다 실행\n",
    "# schedule.every().monday.at(\"00:10\").do(printhello) #월요일 00:10분에 실행\n",
    "# schedule.every().day.at(\"10:30\").do(job) #매일 10시30분에 \n",
    " \n",
    "#실제 실행하게 하는 코드\n",
    "while True:\n",
    "    schedule.run_pending()\n",
    "    time.sleep(1)"
   ]
  },
  {
   "cell_type": "markdown",
   "metadata": {},
   "source": [
    "## @schedule 적용된 함수 호출 - 함수 [ callAPIbuslocationservice ]"
   ]
  },
  {
   "cell_type": "code",
   "execution_count": 102,
   "metadata": {},
   "outputs": [
    {
     "name": "stdout",
     "output_type": "stream",
     "text": [
      "2020-11-10T21:15:48.009400+09:00 \t API [ buslocationservice ] 호출을 [ 시작 ] 하였습니다.\n",
      "2020-11-10T21:15:49.293882+09:00 \t API [ buslocationservice ] 호출을 [ 완료 ] 하였습니다.\t 소요시간:  0:00:01.284482\n",
      "2020-11-10T21:16:49.688359+09:00 \t API [ buslocationservice ] 호출을 [ 시작 ] 하였습니다.\n",
      "2020-11-10T21:16:53.026846+09:00 \t API [ buslocationservice ] 호출을 [ 완료 ] 하였습니다.\t 소요시간:  0:00:03.338487\n",
      "2020-11-10T21:17:53.403925+09:00 \t API [ buslocationservice ] 호출을 [ 시작 ] 하였습니다.\n",
      "2020-11-10T21:17:57.403548+09:00 \t API [ buslocationservice ] 호출을 [ 완료 ] 하였습니다.\t 소요시간:  0:00:03.999623\n",
      "2020-11-10T21:18:57.747194+09:00 \t API [ buslocationservice ] 호출을 [ 시작 ] 하였습니다.\n",
      "2020-11-10T21:18:59.087649+09:00 \t API [ buslocationservice ] 호출을 [ 완료 ] 하였습니다.\t 소요시간:  0:00:01.340455\n",
      "2020-11-10T21:19:59.528077+09:00 \t API [ buslocationservice ] 호출을 [ 시작 ] 하였습니다.\n",
      "2020-11-10T21:20:00.823270+09:00 \t API [ buslocationservice ] 호출을 [ 완료 ] 하였습니다.\t 소요시간:  0:00:01.295193\n",
      "2020-11-10T21:21:01.230273+09:00 \t API [ buslocationservice ] 호출을 [ 시작 ] 하였습니다.\n",
      "2020-11-10T21:21:02.696731+09:00 \t API [ buslocationservice ] 호출을 [ 완료 ] 하였습니다.\t 소요시간:  0:00:01.466458\n",
      "2020-11-10T21:22:03.131384+09:00 \t API [ buslocationservice ] 호출을 [ 시작 ] 하였습니다.\n",
      "2020-11-10T21:22:04.431985+09:00 \t API [ buslocationservice ] 호출을 [ 완료 ] 하였습니다.\t 소요시간:  0:00:01.300601\n",
      "2020-11-10T21:23:04.966539+09:00 \t API [ buslocationservice ] 호출을 [ 시작 ] 하였습니다.\n",
      "2020-11-10T21:23:06.372432+09:00 \t API [ buslocationservice ] 호출을 [ 완료 ] 하였습니다.\t 소요시간:  0:00:01.405893\n",
      "2020-11-10T21:24:06.957141+09:00 \t API [ buslocationservice ] 호출을 [ 시작 ] 하였습니다.\n",
      "2020-11-10T21:24:08.300191+09:00 \t API [ buslocationservice ] 호출을 [ 완료 ] 하였습니다.\t 소요시간:  0:00:01.343050\n"
     ]
    },
    {
     "ename": "KeyboardInterrupt",
     "evalue": "",
     "output_type": "error",
     "traceback": [
      "\u001b[1;31m---------------------------------------------------------------------------\u001b[0m",
      "\u001b[1;31mKeyboardInterrupt\u001b[0m                         Traceback (most recent call last)",
      "\u001b[1;32m<ipython-input-102-21a3511bd8eb>\u001b[0m in \u001b[0;36m<module>\u001b[1;34m\u001b[0m\n\u001b[0;32m      4\u001b[0m \u001b[1;32mwhile\u001b[0m \u001b[1;32mTrue\u001b[0m\u001b[1;33m:\u001b[0m\u001b[1;33m\u001b[0m\u001b[1;33m\u001b[0m\u001b[0m\n\u001b[0;32m      5\u001b[0m     \u001b[0mschedule\u001b[0m\u001b[1;33m.\u001b[0m\u001b[0mrun_pending\u001b[0m\u001b[1;33m(\u001b[0m\u001b[1;33m)\u001b[0m\u001b[1;33m\u001b[0m\u001b[1;33m\u001b[0m\u001b[0m\n\u001b[1;32m----> 6\u001b[1;33m     \u001b[0mtime\u001b[0m\u001b[1;33m.\u001b[0m\u001b[0msleep\u001b[0m\u001b[1;33m(\u001b[0m\u001b[1;36m1\u001b[0m\u001b[1;33m)\u001b[0m\u001b[1;33m\u001b[0m\u001b[1;33m\u001b[0m\u001b[0m\n\u001b[0m",
      "\u001b[1;31mKeyboardInterrupt\u001b[0m: "
     ]
    }
   ],
   "source": [
    "schedule.clear()\n",
    "schedule.every(1).minutes.do(lambda: callAPIbuslocationservice(routeIdList, filePathList))\n",
    "\n",
    "while True:\n",
    "    schedule.run_pending()\n",
    "    time.sleep(1)"
   ]
  },
  {
   "cell_type": "markdown",
   "metadata": {},
   "source": [
    "## @Schedule 모듈 사용을 위한 API 호출 생성 함수 생성"
   ]
  },
  {
   "cell_type": "code",
   "execution_count": 112,
   "metadata": {},
   "outputs": [],
   "source": [
    "def parseAPIbuslocationservice(routeIdList, filePathList):\n",
    "    pastTime = getNowTime()\n",
    "    print(pastTime.isoformat(),'\\t API [ buslocationservice ] 호출을 [ 시작 ] 하였습니다.')    \n",
    "    for routeId, filePath in zip(routeIdList, filePathList):\n",
    "        textFile = open(filePath, 'a', encoding = 'utf-8', newline = '\\n')\n",
    "        # 파일 경로가 routeId에 맞게 바뀌는지 확인합니다. \n",
    "        # 파일을 덮어 쓰고 있지 않은지 확인합니다. \n",
    "        queryParams = '?' + urlencode({ quote_plus('serviceKey') : apiKey, quote_plus('routeId') : routeId })\n",
    "        request = Request(url + queryParams)\n",
    "        request.get_method = lambda: 'GET'\n",
    "        oneLineXML = urlopen(request).read().decode('utf8')\n",
    "        \n",
    "        xtree = ET.fromstring(oneLineXML)\n",
    "\n",
    "        rows = [\"endBus\",\"lowPlate\",\"plateNo\",\"plateType\",\"remainSeatCnt\",\"routeId\",\"stationId\",\"stationSeq\"]\n",
    "    \n",
    "        resultCode = int(xtree[1].find(\"resultCode\").text)\n",
    "        queryTime = xtree[1].find(\"queryTime\").text\n",
    "        textFile.write(str(routeId))\n",
    "        textFile.write(\"\\n\")\n",
    "        if resultCode == 0 :\n",
    "            for node in xtree[2] :\n",
    "\n",
    "                for index in rows :\n",
    "                    n = node.find(index).text\n",
    "                    textFile.write(n)\n",
    "                    textFile.write(' ')\n",
    "                textFile.write(\"\\n\")\n",
    "\n",
    "        else :\n",
    "            print(\"There is no bus\\n\")\n",
    "        \n",
    "    currentTime = getNowTime()\n",
    "    print(currentTime.isoformat(),'\\t API [ buslocationservice ] 호출을 [ 완료 ] 하였습니다.\\t 소요시간: ', currentTime - pastTime)    "
   ]
  },
  {
   "cell_type": "code",
   "execution_count": 110,
   "metadata": {},
   "outputs": [
    {
     "name": "stdout",
     "output_type": "stream",
     "text": [
      "2020-11-10T21:33:25.882365+09:00 \t API [ buslocationservice ] 호출을 [ 시작 ] 하였습니다.\n",
      "2020-11-10T21:33:27.183718+09:00 \t API [ buslocationservice ] 호출을 [ 완료 ] 하였습니다.\t 소요시간:  0:00:01.301353\n"
     ]
    }
   ],
   "source": [
    "parseAPIbuslocationservice(routeIdList, filePathList)"
   ]
  },
  {
   "cell_type": "code",
   "execution_count": null,
   "metadata": {},
   "outputs": [
    {
     "name": "stdout",
     "output_type": "stream",
     "text": [
      "2020-11-10T21:35:27.425690+09:00 \t API [ buslocationservice ] 호출을 [ 시작 ] 하였습니다.\n",
      "2020-11-10T21:35:28.728839+09:00 \t API [ buslocationservice ] 호출을 [ 완료 ] 하였습니다.\t 소요시간:  0:00:01.303149\n",
      "2020-11-10T21:36:29.276859+09:00 \t API [ buslocationservice ] 호출을 [ 시작 ] 하였습니다.\n",
      "2020-11-10T21:36:30.734729+09:00 \t API [ buslocationservice ] 호출을 [ 완료 ] 하였습니다.\t 소요시간:  0:00:01.457870\n",
      "2020-11-10T21:37:31.196304+09:00 \t API [ buslocationservice ] 호출을 [ 시작 ] 하였습니다.\n",
      "2020-11-10T21:37:32.512513+09:00 \t API [ buslocationservice ] 호출을 [ 완료 ] 하였습니다.\t 소요시간:  0:00:01.316209\n",
      "2020-11-10T21:38:32.958948+09:00 \t API [ buslocationservice ] 호출을 [ 시작 ] 하였습니다.\n",
      "2020-11-10T21:38:34.280042+09:00 \t API [ buslocationservice ] 호출을 [ 완료 ] 하였습니다.\t 소요시간:  0:00:01.321094\n",
      "2020-11-10T21:39:34.753107+09:00 \t API [ buslocationservice ] 호출을 [ 시작 ] 하였습니다.\n",
      "2020-11-10T21:39:36.577929+09:00 \t API [ buslocationservice ] 호출을 [ 완료 ] 하였습니다.\t 소요시간:  0:00:01.824822\n",
      "2020-11-10T21:40:37.081147+09:00 \t API [ buslocationservice ] 호출을 [ 시작 ] 하였습니다.\n",
      "2020-11-10T21:40:38.482159+09:00 \t API [ buslocationservice ] 호출을 [ 완료 ] 하였습니다.\t 소요시간:  0:00:01.401012\n",
      "2020-11-10T21:41:39.035713+09:00 \t API [ buslocationservice ] 호출을 [ 시작 ] 하였습니다.\n",
      "2020-11-10T21:41:40.437500+09:00 \t API [ buslocationservice ] 호출을 [ 완료 ] 하였습니다.\t 소요시간:  0:00:01.401787\n",
      "2020-11-10T21:42:41.003400+09:00 \t API [ buslocationservice ] 호출을 [ 시작 ] 하였습니다.\n",
      "2020-11-10T21:42:42.337964+09:00 \t API [ buslocationservice ] 호출을 [ 완료 ] 하였습니다.\t 소요시간:  0:00:01.334564\n",
      "2020-11-10T21:43:42.828368+09:00 \t API [ buslocationservice ] 호출을 [ 시작 ] 하였습니다.\n",
      "2020-11-10T21:43:44.079844+09:00 \t API [ buslocationservice ] 호출을 [ 완료 ] 하였습니다.\t 소요시간:  0:00:01.251476\n",
      "2020-11-10T21:44:44.534952+09:00 \t API [ buslocationservice ] 호출을 [ 시작 ] 하였습니다.\n",
      "2020-11-10T21:44:45.797568+09:00 \t API [ buslocationservice ] 호출을 [ 완료 ] 하였습니다.\t 소요시간:  0:00:01.262616\n",
      "2020-11-10T21:45:46.227162+09:00 \t API [ buslocationservice ] 호출을 [ 시작 ] 하였습니다.\n",
      "2020-11-10T21:45:47.483997+09:00 \t API [ buslocationservice ] 호출을 [ 완료 ] 하였습니다.\t 소요시간:  0:00:01.256835\n",
      "2020-11-10T21:46:48.126335+09:00 \t API [ buslocationservice ] 호출을 [ 시작 ] 하였습니다.\n",
      "2020-11-10T21:46:49.518144+09:00 \t API [ buslocationservice ] 호출을 [ 완료 ] 하였습니다.\t 소요시간:  0:00:01.391809\n",
      "2020-11-10T21:47:49.961533+09:00 \t API [ buslocationservice ] 호출을 [ 시작 ] 하였습니다.\n",
      "2020-11-10T21:47:51.319504+09:00 \t API [ buslocationservice ] 호출을 [ 완료 ] 하였습니다.\t 소요시간:  0:00:01.357971\n",
      "2020-11-10T21:48:51.832446+09:00 \t API [ buslocationservice ] 호출을 [ 시작 ] 하였습니다.\n",
      "2020-11-10T21:48:53.274332+09:00 \t API [ buslocationservice ] 호출을 [ 완료 ] 하였습니다.\t 소요시간:  0:00:01.441886\n",
      "2020-11-10T21:49:53.795609+09:00 \t API [ buslocationservice ] 호출을 [ 시작 ] 하였습니다.\n",
      "2020-11-10T21:49:55.120193+09:00 \t API [ buslocationservice ] 호출을 [ 완료 ] 하였습니다.\t 소요시간:  0:00:01.324584\n",
      "2020-11-10T21:50:55.556467+09:00 \t API [ buslocationservice ] 호출을 [ 시작 ] 하였습니다.\n",
      "2020-11-10T21:50:56.855343+09:00 \t API [ buslocationservice ] 호출을 [ 완료 ] 하였습니다.\t 소요시간:  0:00:01.298876\n",
      "2020-11-10T21:51:57.381027+09:00 \t API [ buslocationservice ] 호출을 [ 시작 ] 하였습니다.\n",
      "2020-11-10T21:51:58.670842+09:00 \t API [ buslocationservice ] 호출을 [ 완료 ] 하였습니다.\t 소요시간:  0:00:01.289815\n"
     ]
    }
   ],
   "source": [
    "schedule.clear()\n",
    "schedule.every(1).minutes.do(lambda: parseAPIbuslocationservice(routeIdList, filePathList))\n",
    "\n",
    "while True:\n",
    "    schedule.run_pending()\n",
    "    time.sleep(1)"
   ]
  }
 ],
 "metadata": {
  "colab": {
   "name": "경기버스정보API.ipynb",
   "provenance": []
  },
  "kernelspec": {
   "display_name": "Python 3",
   "language": "python",
   "name": "python3"
  },
  "language_info": {
   "codemirror_mode": {
    "name": "ipython",
    "version": 3
   },
   "file_extension": ".py",
   "mimetype": "text/x-python",
   "name": "python",
   "nbconvert_exporter": "python",
   "pygments_lexer": "ipython3",
   "version": "3.7.6"
  }
 },
 "nbformat": 4,
 "nbformat_minor": 4
}

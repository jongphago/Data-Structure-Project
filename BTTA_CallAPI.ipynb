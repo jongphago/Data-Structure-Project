{
 "cells": [
  {
   "cell_type": "markdown",
   "metadata": {},
   "source": [
    "## Githun 연동하기"
   ]
  },
  {
   "cell_type": "code",
   "execution_count": 9,
   "metadata": {},
   "outputs": [
    {
     "name": "stdout",
     "output_type": "stream",
     "text": [
      "Requirement already up-to-date: jupyterlab-git in c:\\users\\jongh\\anaconda3\\lib\\site-packages (0.23.0)\n",
      "Requirement already satisfied, skipping upgrade: notebook in c:\\users\\jongh\\anaconda3\\lib\\site-packages (from jupyterlab-git) (6.0.3)\n",
      "Requirement already satisfied, skipping upgrade: nbdime~=2.0 in c:\\users\\jongh\\anaconda3\\lib\\site-packages (from jupyterlab-git) (2.1.0)\n",
      "Requirement already satisfied, skipping upgrade: packaging in c:\\users\\jongh\\anaconda3\\lib\\site-packages (from jupyterlab-git) (20.1)\n",
      "Requirement already satisfied, skipping upgrade: pexpect in c:\\users\\jongh\\anaconda3\\lib\\site-packages (from jupyterlab-git) (4.8.0)\n",
      "Requirement already satisfied, skipping upgrade: Send2Trash in c:\\users\\jongh\\anaconda3\\lib\\site-packages (from notebook->jupyterlab-git) (1.5.0)\n",
      "Requirement already satisfied, skipping upgrade: traitlets>=4.2.1 in c:\\users\\jongh\\anaconda3\\lib\\site-packages (from notebook->jupyterlab-git) (4.3.3)\n",
      "Requirement already satisfied, skipping upgrade: pyzmq>=17 in c:\\users\\jongh\\anaconda3\\lib\\site-packages (from notebook->jupyterlab-git) (18.1.1)\n",
      "Requirement already satisfied, skipping upgrade: ipython-genutils in c:\\users\\jongh\\anaconda3\\lib\\site-packages (from notebook->jupyterlab-git) (0.2.0)\n",
      "Requirement already satisfied, skipping upgrade: jupyter-core>=4.6.1 in c:\\users\\jongh\\anaconda3\\lib\\site-packages (from notebook->jupyterlab-git) (4.6.1)\n",
      "Requirement already satisfied, skipping upgrade: nbformat in c:\\users\\jongh\\anaconda3\\lib\\site-packages (from notebook->jupyterlab-git) (5.0.4)\n",
      "Requirement already satisfied, skipping upgrade: prometheus-client in c:\\users\\jongh\\anaconda3\\lib\\site-packages (from notebook->jupyterlab-git) (0.7.1)\n",
      "Requirement already satisfied, skipping upgrade: jupyter-client>=5.3.4 in c:\\users\\jongh\\anaconda3\\lib\\site-packages (from notebook->jupyterlab-git) (5.3.4)\n",
      "Requirement already satisfied, skipping upgrade: jinja2 in c:\\users\\jongh\\anaconda3\\lib\\site-packages (from notebook->jupyterlab-git) (2.11.1)\n",
      "Requirement already satisfied, skipping upgrade: nbconvert in c:\\users\\jongh\\anaconda3\\lib\\site-packages (from notebook->jupyterlab-git) (5.6.1)\n",
      "Requirement already satisfied, skipping upgrade: ipykernel in c:\\users\\jongh\\anaconda3\\lib\\site-packages (from notebook->jupyterlab-git) (5.1.4)\n",
      "Requirement already satisfied, skipping upgrade: tornado>=5.0 in c:\\users\\jongh\\anaconda3\\lib\\site-packages (from notebook->jupyterlab-git) (6.0.3)\n",
      "Requirement already satisfied, skipping upgrade: terminado>=0.8.1 in c:\\users\\jongh\\anaconda3\\lib\\site-packages (from notebook->jupyterlab-git) (0.8.3)\n",
      "Requirement already satisfied, skipping upgrade: six in c:\\users\\jongh\\anaconda3\\lib\\site-packages (from nbdime~=2.0->jupyterlab-git) (1.14.0)\n",
      "Requirement already satisfied, skipping upgrade: requests in c:\\users\\jongh\\anaconda3\\lib\\site-packages (from nbdime~=2.0->jupyterlab-git) (2.22.0)\n",
      "Requirement already satisfied, skipping upgrade: pygments in c:\\users\\jongh\\anaconda3\\lib\\site-packages (from nbdime~=2.0->jupyterlab-git) (2.5.2)\n",
      "Requirement already satisfied, skipping upgrade: GitPython!=2.1.4,!=2.1.5,!=2.1.6 in c:\\users\\jongh\\anaconda3\\lib\\site-packages (from nbdime~=2.0->jupyterlab-git) (3.1.11)\n",
      "Requirement already satisfied, skipping upgrade: colorama in c:\\users\\jongh\\anaconda3\\lib\\site-packages (from nbdime~=2.0->jupyterlab-git) (0.4.3)\n",
      "Requirement already satisfied, skipping upgrade: pyparsing>=2.0.2 in c:\\users\\jongh\\anaconda3\\lib\\site-packages (from packaging->jupyterlab-git) (2.4.6)\n",
      "Requirement already satisfied, skipping upgrade: ptyprocess>=0.5 in c:\\users\\jongh\\anaconda3\\lib\\site-packages (from pexpect->jupyterlab-git) (0.6.0)\n",
      "Requirement already satisfied, skipping upgrade: decorator in c:\\users\\jongh\\anaconda3\\lib\\site-packages (from traitlets>=4.2.1->notebook->jupyterlab-git) (4.4.1)\n",
      "Requirement already satisfied, skipping upgrade: pywin32>=1.0; sys_platform == \"win32\" in c:\\users\\jongh\\anaconda3\\lib\\site-packages (from jupyter-core>=4.6.1->notebook->jupyterlab-git) (227)\n",
      "Requirement already satisfied, skipping upgrade: jsonschema!=2.5.0,>=2.4 in c:\\users\\jongh\\anaconda3\\lib\\site-packages (from nbformat->notebook->jupyterlab-git) (3.2.0)\n",
      "Requirement already satisfied, skipping upgrade: python-dateutil>=2.1 in c:\\users\\jongh\\anaconda3\\lib\\site-packages (from jupyter-client>=5.3.4->notebook->jupyterlab-git) (2.8.1)\n",
      "Requirement already satisfied, skipping upgrade: MarkupSafe>=0.23 in c:\\users\\jongh\\anaconda3\\lib\\site-packages (from jinja2->notebook->jupyterlab-git) (1.1.1)\n",
      "Requirement already satisfied, skipping upgrade: testpath in c:\\users\\jongh\\anaconda3\\lib\\site-packages (from nbconvert->notebook->jupyterlab-git) (0.4.4)\n",
      "Requirement already satisfied, skipping upgrade: pandocfilters>=1.4.1 in c:\\users\\jongh\\anaconda3\\lib\\site-packages (from nbconvert->notebook->jupyterlab-git) (1.4.2)\n",
      "Requirement already satisfied, skipping upgrade: bleach in c:\\users\\jongh\\anaconda3\\lib\\site-packages (from nbconvert->notebook->jupyterlab-git) (3.1.0)\n",
      "Requirement already satisfied, skipping upgrade: defusedxml in c:\\users\\jongh\\anaconda3\\lib\\site-packages (from nbconvert->notebook->jupyterlab-git) (0.6.0)\n",
      "Requirement already satisfied, skipping upgrade: entrypoints>=0.2.2 in c:\\users\\jongh\\anaconda3\\lib\\site-packages (from nbconvert->notebook->jupyterlab-git) (0.3)\n",
      "Requirement already satisfied, skipping upgrade: mistune<2,>=0.8.1 in c:\\users\\jongh\\anaconda3\\lib\\site-packages (from nbconvert->notebook->jupyterlab-git) (0.8.4)\n",
      "Requirement already satisfied, skipping upgrade: ipython>=5.0.0 in c:\\users\\jongh\\anaconda3\\lib\\site-packages (from ipykernel->notebook->jupyterlab-git) (7.12.0)\n",
      "Requirement already satisfied, skipping upgrade: certifi>=2017.4.17 in c:\\users\\jongh\\anaconda3\\lib\\site-packages (from requests->nbdime~=2.0->jupyterlab-git) (2019.11.28)\n",
      "Requirement already satisfied, skipping upgrade: chardet<3.1.0,>=3.0.2 in c:\\users\\jongh\\anaconda3\\lib\\site-packages (from requests->nbdime~=2.0->jupyterlab-git) (3.0.4)\n",
      "Requirement already satisfied, skipping upgrade: idna<2.9,>=2.5 in c:\\users\\jongh\\anaconda3\\lib\\site-packages (from requests->nbdime~=2.0->jupyterlab-git) (2.8)\n",
      "Requirement already satisfied, skipping upgrade: urllib3!=1.25.0,!=1.25.1,<1.26,>=1.21.1 in c:\\users\\jongh\\anaconda3\\lib\\site-packages (from requests->nbdime~=2.0->jupyterlab-git) (1.25.8)\n",
      "Requirement already satisfied, skipping upgrade: gitdb<5,>=4.0.1 in c:\\users\\jongh\\anaconda3\\lib\\site-packages (from GitPython!=2.1.4,!=2.1.5,!=2.1.6->nbdime~=2.0->jupyterlab-git) (4.0.5)\n",
      "Requirement already satisfied, skipping upgrade: pyrsistent>=0.14.0 in c:\\users\\jongh\\anaconda3\\lib\\site-packages (from jsonschema!=2.5.0,>=2.4->nbformat->notebook->jupyterlab-git) (0.15.7)\n",
      "Requirement already satisfied, skipping upgrade: importlib-metadata; python_version < \"3.8\" in c:\\users\\jongh\\anaconda3\\lib\\site-packages (from jsonschema!=2.5.0,>=2.4->nbformat->notebook->jupyterlab-git) (1.5.0)\n",
      "Requirement already satisfied, skipping upgrade: attrs>=17.4.0 in c:\\users\\jongh\\anaconda3\\lib\\site-packages (from jsonschema!=2.5.0,>=2.4->nbformat->notebook->jupyterlab-git) (19.3.0)\n",
      "Requirement already satisfied, skipping upgrade: setuptools in c:\\users\\jongh\\anaconda3\\lib\\site-packages (from jsonschema!=2.5.0,>=2.4->nbformat->notebook->jupyterlab-git) (45.2.0.post20200210)\n",
      "Requirement already satisfied, skipping upgrade: webencodings in c:\\users\\jongh\\anaconda3\\lib\\site-packages (from bleach->nbconvert->notebook->jupyterlab-git) (0.5.1)\n",
      "Requirement already satisfied, skipping upgrade: prompt-toolkit!=3.0.0,!=3.0.1,<3.1.0,>=2.0.0 in c:\\users\\jongh\\anaconda3\\lib\\site-packages (from ipython>=5.0.0->ipykernel->notebook->jupyterlab-git) (3.0.3)\n",
      "Requirement already satisfied, skipping upgrade: pickleshare in c:\\users\\jongh\\anaconda3\\lib\\site-packages (from ipython>=5.0.0->ipykernel->notebook->jupyterlab-git) (0.7.5)\n",
      "Requirement already satisfied, skipping upgrade: jedi>=0.10 in c:\\users\\jongh\\anaconda3\\lib\\site-packages (from ipython>=5.0.0->ipykernel->notebook->jupyterlab-git) (0.14.1)\n",
      "Requirement already satisfied, skipping upgrade: backcall in c:\\users\\jongh\\anaconda3\\lib\\site-packages (from ipython>=5.0.0->ipykernel->notebook->jupyterlab-git) (0.1.0)\n",
      "Requirement already satisfied, skipping upgrade: smmap<4,>=3.0.1 in c:\\users\\jongh\\anaconda3\\lib\\site-packages (from gitdb<5,>=4.0.1->GitPython!=2.1.4,!=2.1.5,!=2.1.6->nbdime~=2.0->jupyterlab-git) (3.0.4)\n",
      "Requirement already satisfied, skipping upgrade: zipp>=0.5 in c:\\users\\jongh\\anaconda3\\lib\\site-packages (from importlib-metadata; python_version < \"3.8\"->jsonschema!=2.5.0,>=2.4->nbformat->notebook->jupyterlab-git) (2.2.0)\n",
      "Requirement already satisfied, skipping upgrade: wcwidth in c:\\users\\jongh\\anaconda3\\lib\\site-packages (from prompt-toolkit!=3.0.0,!=3.0.1,<3.1.0,>=2.0.0->ipython>=5.0.0->ipykernel->notebook->jupyterlab-git) (0.1.8)\n",
      "Requirement already satisfied, skipping upgrade: parso>=0.5.0 in c:\\users\\jongh\\anaconda3\\lib\\site-packages (from jedi>=0.10->ipython>=5.0.0->ipykernel->notebook->jupyterlab-git) (0.5.2)\n"
     ]
    }
   ],
   "source": [
    "!pip install --upgrade jupyterlab-git"
   ]
  },
  {
   "cell_type": "code",
   "execution_count": 8,
   "metadata": {},
   "outputs": [
    {
     "name": "stderr",
     "output_type": "stream",
     "text": [
      "\n",
      "Usage:   \n",
      "  pip install [options] <requirement specifier> [package-index-options] ...\n",
      "  pip install [options] -r <requirements file> [package-index-options] ...\n",
      "  pip install [options] [-e] <vcs project url> ...\n",
      "  pip install [options] [-e] <local project path> ...\n",
      "  pip install [options] <archive url/path> ...\n",
      "\n",
      "ambiguous option: --py (--pypi-url, --python-version?)\n"
     ]
    }
   ],
   "source": [
    "!pip install . e\n",
    "# jupyter serverextension enable --py jupyterlab_git"
   ]
  },
  {
   "cell_type": "code",
   "execution_count": 4,
   "metadata": {},
   "outputs": [
    {
     "name": "stdout",
     "output_type": "stream",
     "text": [
      "JupyterLab v1.2.6\n",
      "Known labextensions:\n"
     ]
    },
    {
     "name": "stderr",
     "output_type": "stream",
     "text": [
      "   app dir: C:\\Users\\jongh\\Anaconda3\\share\\jupyter\\lab\n",
      "        @jupyterlab/git v0.23.0 enabled   X\n",
      "        nbdime-jupyterlab v2.0.1 enabled   X\n",
      "\n",
      "\"@jupyterlab/git@0.23.0\" is not compatible with the current JupyterLab\n",
      "Conflicting Dependencies:\n",
      "JupyterLab              Extension        Package\n",
      ">=1.2.1 <1.3.0          >=2.0.0 <3.0.0   @jupyterlab/application\n",
      ">=1.2.1 <1.3.0          >=2.0.0 <3.0.0   @jupyterlab/apputils\n",
      ">=1.2.2 <1.3.0          >=2.0.0 <3.0.0   @jupyterlab/console\n",
      ">=3.2.0 <3.3.0          >=4.0.0 <5.0.0   @jupyterlab/coreutils\n",
      ">=1.2.1 <1.3.0          >=2.0.0 <3.0.0   @jupyterlab/filebrowser\n",
      ">=4.2.0 <4.3.0          >=5.0.0 <6.0.0   @jupyterlab/services\n",
      ">=1.2.1 <1.3.0          >=2.0.0 <3.0.0   @jupyterlab/terminal\n",
      ">=16.8.4 <16.9.0        >=16.9.0 <16.10.0react\n",
      ">=16.8.4 <16.9.0        >=16.9.0 <16.10.0react-dom\n",
      "\n",
      "\n",
      "\n",
      "\"nbdime-jupyterlab@2.0.1\" is not compatible with the current JupyterLab\n",
      "Conflicting Dependencies:\n",
      "JupyterLab             Extension      Package\n",
      ">=1.2.1 <1.3.0         >=2.0.0 <3.0.0 @jupyterlab/apputils\n",
      ">=3.2.0 <3.3.0         >=4.0.0 <5.0.0 @jupyterlab/coreutils\n",
      ">=1.2.2 <1.3.0         >=2.0.0 <3.0.0 @jupyterlab/notebook\n",
      ">=1.2.1 <1.3.0         >=2.0.0 <3.0.0 @jupyterlab/rendermime\n",
      ">=4.2.0 <4.3.0         >=5.0.0 <6.0.0 @jupyterlab/services\n",
      "\n",
      "\n"
     ]
    }
   ],
   "source": [
    "!jupyter labextension list"
   ]
  },
  {
   "cell_type": "code",
   "execution_count": null,
   "metadata": {},
   "outputs": [],
   "source": []
  },
  {
   "cell_type": "markdown",
   "metadata": {},
   "source": [
    "## 라이브러리 설치"
   ]
  },
  {
   "cell_type": "code",
   "execution_count": 2,
   "metadata": {},
   "outputs": [
    {
     "name": "stdout",
     "output_type": "stream",
     "text": [
      "Requirement already satisfied: schedule in c:\\users\\jongh\\anaconda3\\envs\\bustimetableautomation\\lib\\site-packages (0.6.0)\n"
     ]
    },
    {
     "name": "stderr",
     "output_type": "stream",
     "text": [
      "mkl-random 1.0.1 requires cython, which is not installed.\n",
      "tensorflow 1.10.0 has requirement numpy<=1.14.5,>=1.13.3, but you'll have numpy 1.15.2 which is incompatible.\n",
      "tensorflow 1.10.0 has requirement setuptools<=39.1.0, but you'll have setuptools 40.2.0 which is incompatible.\n",
      "You are using pip version 10.0.1, however version 20.3b1 is available.\n",
      "You should consider upgrading via the 'python -m pip install --upgrade pip' command.\n"
     ]
    }
   ],
   "source": [
    "# !pip install schedule"
   ]
  },
  {
   "cell_type": "markdown",
   "metadata": {
    "id": "DPX76GW5yfyJ"
   },
   "source": [
    "## 라이브러리 불러오기"
   ]
  },
  {
   "cell_type": "code",
   "execution_count": 1,
   "metadata": {
    "id": "xWrCtng4Me2-"
   },
   "outputs": [],
   "source": [
    "# API 호출\n",
    "# ## https://data.go.kr/tcs/dss/selectApiDataDetailView.do?publicDataPk=15057440\n",
    "from urllib.request import Request, urlopen\n",
    "# Request https://docs.python.org/ko/3/library/urllib.request.html#urllib.request.Request\n",
    "# urlopen https://docs.python.org/ko/3/library/urllib.request.html#urllib.request.urlopen\n",
    "from urllib.parse import urlencode, quote_plus\n",
    "# urlenocde https://docs.python.org/ko/3/library/urllib.parse.html#urllib.parse.urlencode\n",
    "# quote_plus https://docs.python.org/ko/3/library/urllib.parse.html#urllib.parse.quote_plus\n",
    "from urllib.parse import unquote\n",
    "import requests\n",
    "\n",
    "# 시간 생성\n",
    "import time\n",
    "import datetime\n",
    "from pytz import timezone, utc\n",
    "\n",
    "# 폴더 자동 생성\n",
    "import os\n",
    "\n",
    "# 코드 스케줄링\n",
    "import threading\n",
    "import schedule\n",
    "\n",
    "# XML 파싱\n",
    "import xml.etree.ElementTree as ET"
   ]
  },
  {
   "cell_type": "code",
   "execution_count": 2,
   "metadata": {},
   "outputs": [],
   "source": [
    "# 폴더 자동 생성 함수\n",
    "# https://data-make.tistory.com/170\n",
    "def createFolder(directory):\n",
    "    try:\n",
    "        if not os.path.exists(directory):\n",
    "            os.makedirs(directory)\n",
    "    except OSError:\n",
    "        print ('Error: Creating directory. ' +  directory)"
   ]
  },
  {
   "cell_type": "markdown",
   "metadata": {
    "id": "Pp1hVhMT7t3V"
   },
   "source": [
    "## KEY unquote"
   ]
  },
  {
   "cell_type": "code",
   "execution_count": 3,
   "metadata": {
    "id": "X4RvGmtjX2g0"
   },
   "outputs": [],
   "source": [
    "KEY = 'yEaR%2F3MDedRSlVJL%2F2pxnVg0yre1N5VF3RZ%2FUAt56MJ7J2mNpfqhUvy05pXV0uhHTVY7DbyCR8xmMaDdYga67Q%3D%3D' # 종현\n",
    "# apiKEY = requests.utils.unquote(KEY)\n",
    "apiKey = unquote(KEY)\n",
    "# print(apiKey)\n",
    "KEYSW = 'M%2B4%2FqUiadT8X8PhgFjaQLDu%2BIOgPMURfGsOX%2FmVxwHQVJgnVR%2FMPjDYXkuQNwUFbZXlfnX5Lls3SUCiCLIFjgQ%3D%3D'\n",
    "apiKeySW = unquote(KEYSW)"
   ]
  },
  {
   "cell_type": "markdown",
   "metadata": {
    "id": "R2vTXbRE7rAr"
   },
   "source": [
    "## URL 생성"
   ]
  },
  {
   "cell_type": "markdown",
   "metadata": {
    "id": "0yArZKci786j"
   },
   "source": [
    "### ws.bus.go.kr url을 사용하는 경우 \n",
    "1.   'ServiceKey' 대문자 S\n",
    "2.   'busRouteId' 노선ID는 busRouteId"
   ]
  },
  {
   "cell_type": "code",
   "execution_count": 4,
   "metadata": {
    "id": "F_DuFQ8TXy_v"
   },
   "outputs": [],
   "source": [
    "# getArrInfoByRouteAll\n",
    "url = 'http://ws.bus.go.kr/api/rest/arrive/getArrInfoByRouteAll'\n",
    "queryParams = '?' + urlencode({ quote_plus('ServiceKey') : apiKey, quote_plus('busRouteId') : '204000046' })"
   ]
  },
  {
   "cell_type": "code",
   "execution_count": 5,
   "metadata": {
    "id": "nMZedZcP6Ira"
   },
   "outputs": [],
   "source": [
    "# getBusPosByRtid\n",
    "# 노선ID로 차량들의 위치정보를 조회합니다\n",
    "url = 'http://ws.bus.go.kr/api/rest/buspos/getBusPosByRtid'\n",
    "queryParams = '?' + urlencode({ quote_plus('ServiceKey') : apiKey, quote_plus('busRouteId') : '204000046' })"
   ]
  },
  {
   "cell_type": "markdown",
   "metadata": {
    "id": "Qzm8ff7B8Bwq"
   },
   "source": [
    "### openapi url을 사용하는 경우 \n",
    "1.   'serviceKey' 소문자 s\n",
    "2.   'routeId' 노선ID는 routeId"
   ]
  },
  {
   "cell_type": "code",
   "execution_count": 36,
   "metadata": {
    "id": "p8PE0cXNxaBZ"
   },
   "outputs": [],
   "source": [
    "# 노선번호목록조회 busrouteservice\n",
    "# 해당 노선번호의 노선ID, 노선유형, 운행지역 등을 제공합니다.\n",
    "url = 'http://openapi.gbis.go.kr/ws/rest/busrouteservice' \n",
    "queryParams = '?' + urlencode({ quote_plus('serviceKey') : apiKey, quote_plus('keyword') : '7770' })"
   ]
  },
  {
   "cell_type": "code",
   "execution_count": 38,
   "metadata": {
    "id": "VgcBX-122uUs"
   },
   "outputs": [],
   "source": [
    "# 노선정보항목조회 busrouteservice/info\n",
    "# 해당 노선에 대한 노선번호, 기점/종점 정류소, 첫차/막차시간, 배차간격, 운행업체 등의 운행계획 정보를 제공합니다.\n",
    "url = 'http://openapi.gbis.go.kr/ws/rest/busrouteservice/info'\n",
    "queryParams = '?' + urlencode({ quote_plus('serviceKey') : apiKey, quote_plus('routeId') : '204000046' })"
   ]
  },
  {
   "cell_type": "code",
   "execution_count": 9,
   "metadata": {
    "id": "OfBhTbLh3L9G"
   },
   "outputs": [],
   "source": [
    "# 경유정류소목록조회 busrouteservice/info\n",
    "# 해당 노선이 정차하는 경유정류소 목록과 정류소명, 중앙차로여부, 회차점, 좌표값 등을 제공합니다.\n",
    "url = 'http://openapi.gbis.go.kr/ws/rest/busrouteservice/station'\n",
    "queryParams = '?' + urlencode({ quote_plus('serviceKey') : apiKey, quote_plus('routeId') : '204000046' })"
   ]
  },
  {
   "cell_type": "code",
   "execution_count": 4,
   "metadata": {
    "id": "c6FqgRafVkfi"
   },
   "outputs": [],
   "source": [
    "# 경유정류소목록조회 buslocationservice\n",
    "# 해당 노선이 정차하는 경유정류소 목록과 정류소명, 중앙차로여부, 회차점, 좌표값 등을 제공합니다.\n",
    "url = 'http://openapi.gbis.go.kr/ws/rest/buslocationservice'\n",
    "queryParams = '?' + urlencode({ quote_plus('serviceKey') : apiKey, quote_plus('routeId') : '204000046' })"
   ]
  },
  {
   "cell_type": "code",
   "execution_count": 5,
   "metadata": {
    "colab": {
     "base_uri": "https://localhost:8080/",
     "height": 55
    },
    "id": "aa-BO-tMouQL",
    "outputId": "88853ce1-774e-4746-c028-202bd3d6ef79"
   },
   "outputs": [
    {
     "data": {
      "text/plain": [
       "'http://openapi.gbis.go.kr/ws/rest/buslocationservice?serviceKey=yEaR%2F3MDedRSlVJL%2F2pxnVg0yre1N5VF3RZ%2FUAt56MJ7J2mNpfqhUvy05pXV0uhHTVY7DbyCR8xmMaDdYga67Q%3D%3D&routeId=204000046'"
      ]
     },
     "execution_count": 5,
     "metadata": {},
     "output_type": "execute_result"
    }
   ],
   "source": [
    "url+queryParams"
   ]
  },
  {
   "cell_type": "markdown",
   "metadata": {
    "id": "YlVVhU68VVEi"
   },
   "source": [
    "## @routeIdList 작성 선행"
   ]
  },
  {
   "cell_type": "code",
   "execution_count": 15,
   "metadata": {
    "id": "eF3GKMkgQ6mw"
   },
   "outputs": [],
   "source": [
    "routeIdList = \\\n",
    "[\n",
    "234000013,\n",
    "234000130,\n",
    "204000056,\n",
    "204000046,\n",
    "204000041,\n",
    "204000070,\n",
    "204000059,\n",
    "204000060,\n",
    "204000022,\n",
    "204000039,\n",
    "204000040,\n",
    "204000067,\n",
    "204000044,\n",
    "204000147,\n",
    "236000176,\n",
    "234000079,\n",
    "234000069,\n",
    "234000882,\n",
    "228000184,\n",
    "228000177,\n",
    "200000145,\n",
    "228000176,\n",
    "204000070,\n",
    "234000886,\n",
    "233000136,\n",
    "234000051,\n",
    "234000873,\n",
    "229000028,\n",
    "207000070,\n",
    "233000139,\n",
    "200000108,\n",
    "234000309,\n",
    "200000112,\n",
    "200000205,\n",
    "234000313,\n",
    "200000104,\n",
    "200000119,\n",
    "205000002,\n",
    "200000110,\n",
    "228000175,\n",
    "228000394,\n",
    "200000120,\n",
    "233000032,\n",
    "234000878,\n",
    "234000324,\n",
    "234000011,\n",
    "229000061,\n",
    "218000007,\n",
    "204000057,\n",
    "200000115,\n",
    "234000050,\n",
    "218000010,\n",
    "222000090,\n",
    "232000092,\n",
    "204000081,\n",
    "206000007,\n",
    "232000092,\n",
    "219000016,\n",
    "222000084,\n",
    "200000150,\n",
    "219000006,\n",
    "219000013,\n",
    "233000031,\n",
    "233000031,\n",
    "]"
   ]
  },
  {
   "cell_type": "markdown",
   "metadata": {},
   "source": [
    "## @현재 시간 생성 함수"
   ]
  },
  {
   "cell_type": "code",
   "execution_count": 7,
   "metadata": {},
   "outputs": [],
   "source": [
    "def getNowTime():\n",
    "    fileDateTime = utc.localize(datetime.datetime.utcnow()).astimezone(timezone('Asia/Seoul'))       # 자정이 넘어간 시간 파일 경로가 바뀌는 문제를 해결해야 합니다.\n",
    "    return fileDateTime"
   ]
  },
  {
   "cell_type": "code",
   "execution_count": 8,
   "metadata": {},
   "outputs": [
    {
     "name": "stdout",
     "output_type": "stream",
     "text": [
      "2020-11-12 14:17:55.079900+09:00\n",
      "<class 'datetime.datetime'>\n",
      "2020-11-12T14:17:55.582903+09:00\n",
      "2020-11-12\n",
      "14:17:55\n"
     ]
    }
   ],
   "source": [
    "print(getNowTime())\n",
    "print(type(getNowTime()))\n",
    "print(getNowTime().isoformat()) # string\n",
    "print(getNowTime().isoformat()[:10])\n",
    "print(getNowTime().isoformat()[11:19])"
   ]
  },
  {
   "cell_type": "markdown",
   "metadata": {},
   "source": [
    "## @filePathList 생성"
   ]
  },
  {
   "cell_type": "code",
   "execution_count": 16,
   "metadata": {},
   "outputs": [
    {
     "name": "stdout",
     "output_type": "stream",
     "text": [
      "C:/Users/jongh/OneDrive/School/석사/1-2/자료구조/프로젝트/5.DATA/Master/dataAPI/buslocationservice/234000013/234000013_20-11-12.txt\n",
      "C:/Users/jongh/OneDrive/School/석사/1-2/자료구조/프로젝트/5.DATA/Master/dataAPI/buslocationservice/234000130/234000130_20-11-12.txt\n",
      "C:/Users/jongh/OneDrive/School/석사/1-2/자료구조/프로젝트/5.DATA/Master/dataAPI/buslocationservice/204000056/204000056_20-11-12.txt\n",
      "C:/Users/jongh/OneDrive/School/석사/1-2/자료구조/프로젝트/5.DATA/Master/dataAPI/buslocationservice/204000046/204000046_20-11-12.txt\n",
      "C:/Users/jongh/OneDrive/School/석사/1-2/자료구조/프로젝트/5.DATA/Master/dataAPI/buslocationservice/204000041/204000041_20-11-12.txt\n",
      "C:/Users/jongh/OneDrive/School/석사/1-2/자료구조/프로젝트/5.DATA/Master/dataAPI/buslocationservice/204000070/204000070_20-11-12.txt\n",
      "C:/Users/jongh/OneDrive/School/석사/1-2/자료구조/프로젝트/5.DATA/Master/dataAPI/buslocationservice/204000059/204000059_20-11-12.txt\n",
      "C:/Users/jongh/OneDrive/School/석사/1-2/자료구조/프로젝트/5.DATA/Master/dataAPI/buslocationservice/204000060/204000060_20-11-12.txt\n",
      "C:/Users/jongh/OneDrive/School/석사/1-2/자료구조/프로젝트/5.DATA/Master/dataAPI/buslocationservice/204000022/204000022_20-11-12.txt\n",
      "C:/Users/jongh/OneDrive/School/석사/1-2/자료구조/프로젝트/5.DATA/Master/dataAPI/buslocationservice/204000039/204000039_20-11-12.txt\n",
      "C:/Users/jongh/OneDrive/School/석사/1-2/자료구조/프로젝트/5.DATA/Master/dataAPI/buslocationservice/204000040/204000040_20-11-12.txt\n",
      "C:/Users/jongh/OneDrive/School/석사/1-2/자료구조/프로젝트/5.DATA/Master/dataAPI/buslocationservice/204000067/204000067_20-11-12.txt\n",
      "C:/Users/jongh/OneDrive/School/석사/1-2/자료구조/프로젝트/5.DATA/Master/dataAPI/buslocationservice/204000044/204000044_20-11-12.txt\n",
      "C:/Users/jongh/OneDrive/School/석사/1-2/자료구조/프로젝트/5.DATA/Master/dataAPI/buslocationservice/204000147/204000147_20-11-12.txt\n",
      "C:/Users/jongh/OneDrive/School/석사/1-2/자료구조/프로젝트/5.DATA/Master/dataAPI/buslocationservice/236000176/236000176_20-11-12.txt\n",
      "C:/Users/jongh/OneDrive/School/석사/1-2/자료구조/프로젝트/5.DATA/Master/dataAPI/buslocationservice/234000079/234000079_20-11-12.txt\n",
      "C:/Users/jongh/OneDrive/School/석사/1-2/자료구조/프로젝트/5.DATA/Master/dataAPI/buslocationservice/234000069/234000069_20-11-12.txt\n",
      "C:/Users/jongh/OneDrive/School/석사/1-2/자료구조/프로젝트/5.DATA/Master/dataAPI/buslocationservice/234000882/234000882_20-11-12.txt\n",
      "C:/Users/jongh/OneDrive/School/석사/1-2/자료구조/프로젝트/5.DATA/Master/dataAPI/buslocationservice/228000184/228000184_20-11-12.txt\n",
      "C:/Users/jongh/OneDrive/School/석사/1-2/자료구조/프로젝트/5.DATA/Master/dataAPI/buslocationservice/228000177/228000177_20-11-12.txt\n",
      "C:/Users/jongh/OneDrive/School/석사/1-2/자료구조/프로젝트/5.DATA/Master/dataAPI/buslocationservice/200000145/200000145_20-11-12.txt\n",
      "C:/Users/jongh/OneDrive/School/석사/1-2/자료구조/프로젝트/5.DATA/Master/dataAPI/buslocationservice/228000176/228000176_20-11-12.txt\n",
      "C:/Users/jongh/OneDrive/School/석사/1-2/자료구조/프로젝트/5.DATA/Master/dataAPI/buslocationservice/204000070/204000070_20-11-12.txt\n",
      "C:/Users/jongh/OneDrive/School/석사/1-2/자료구조/프로젝트/5.DATA/Master/dataAPI/buslocationservice/234000886/234000886_20-11-12.txt\n",
      "C:/Users/jongh/OneDrive/School/석사/1-2/자료구조/프로젝트/5.DATA/Master/dataAPI/buslocationservice/233000136/233000136_20-11-12.txt\n",
      "C:/Users/jongh/OneDrive/School/석사/1-2/자료구조/프로젝트/5.DATA/Master/dataAPI/buslocationservice/234000051/234000051_20-11-12.txt\n",
      "C:/Users/jongh/OneDrive/School/석사/1-2/자료구조/프로젝트/5.DATA/Master/dataAPI/buslocationservice/234000873/234000873_20-11-12.txt\n",
      "C:/Users/jongh/OneDrive/School/석사/1-2/자료구조/프로젝트/5.DATA/Master/dataAPI/buslocationservice/229000028/229000028_20-11-12.txt\n",
      "C:/Users/jongh/OneDrive/School/석사/1-2/자료구조/프로젝트/5.DATA/Master/dataAPI/buslocationservice/207000070/207000070_20-11-12.txt\n",
      "C:/Users/jongh/OneDrive/School/석사/1-2/자료구조/프로젝트/5.DATA/Master/dataAPI/buslocationservice/233000139/233000139_20-11-12.txt\n",
      "C:/Users/jongh/OneDrive/School/석사/1-2/자료구조/프로젝트/5.DATA/Master/dataAPI/buslocationservice/200000108/200000108_20-11-12.txt\n",
      "C:/Users/jongh/OneDrive/School/석사/1-2/자료구조/프로젝트/5.DATA/Master/dataAPI/buslocationservice/234000309/234000309_20-11-12.txt\n",
      "C:/Users/jongh/OneDrive/School/석사/1-2/자료구조/프로젝트/5.DATA/Master/dataAPI/buslocationservice/200000112/200000112_20-11-12.txt\n",
      "C:/Users/jongh/OneDrive/School/석사/1-2/자료구조/프로젝트/5.DATA/Master/dataAPI/buslocationservice/200000205/200000205_20-11-12.txt\n",
      "C:/Users/jongh/OneDrive/School/석사/1-2/자료구조/프로젝트/5.DATA/Master/dataAPI/buslocationservice/234000313/234000313_20-11-12.txt\n",
      "C:/Users/jongh/OneDrive/School/석사/1-2/자료구조/프로젝트/5.DATA/Master/dataAPI/buslocationservice/200000104/200000104_20-11-12.txt\n",
      "C:/Users/jongh/OneDrive/School/석사/1-2/자료구조/프로젝트/5.DATA/Master/dataAPI/buslocationservice/200000119/200000119_20-11-12.txt\n",
      "C:/Users/jongh/OneDrive/School/석사/1-2/자료구조/프로젝트/5.DATA/Master/dataAPI/buslocationservice/205000002/205000002_20-11-12.txt\n",
      "C:/Users/jongh/OneDrive/School/석사/1-2/자료구조/프로젝트/5.DATA/Master/dataAPI/buslocationservice/200000110/200000110_20-11-12.txt\n",
      "C:/Users/jongh/OneDrive/School/석사/1-2/자료구조/프로젝트/5.DATA/Master/dataAPI/buslocationservice/228000175/228000175_20-11-12.txt\n",
      "C:/Users/jongh/OneDrive/School/석사/1-2/자료구조/프로젝트/5.DATA/Master/dataAPI/buslocationservice/228000394/228000394_20-11-12.txt\n",
      "C:/Users/jongh/OneDrive/School/석사/1-2/자료구조/프로젝트/5.DATA/Master/dataAPI/buslocationservice/200000120/200000120_20-11-12.txt\n",
      "C:/Users/jongh/OneDrive/School/석사/1-2/자료구조/프로젝트/5.DATA/Master/dataAPI/buslocationservice/233000032/233000032_20-11-12.txt\n",
      "C:/Users/jongh/OneDrive/School/석사/1-2/자료구조/프로젝트/5.DATA/Master/dataAPI/buslocationservice/234000878/234000878_20-11-12.txt\n",
      "C:/Users/jongh/OneDrive/School/석사/1-2/자료구조/프로젝트/5.DATA/Master/dataAPI/buslocationservice/234000324/234000324_20-11-12.txt\n",
      "C:/Users/jongh/OneDrive/School/석사/1-2/자료구조/프로젝트/5.DATA/Master/dataAPI/buslocationservice/234000011/234000011_20-11-12.txt\n",
      "C:/Users/jongh/OneDrive/School/석사/1-2/자료구조/프로젝트/5.DATA/Master/dataAPI/buslocationservice/229000061/229000061_20-11-12.txt\n",
      "C:/Users/jongh/OneDrive/School/석사/1-2/자료구조/프로젝트/5.DATA/Master/dataAPI/buslocationservice/218000007/218000007_20-11-12.txt\n",
      "C:/Users/jongh/OneDrive/School/석사/1-2/자료구조/프로젝트/5.DATA/Master/dataAPI/buslocationservice/204000057/204000057_20-11-12.txt\n",
      "C:/Users/jongh/OneDrive/School/석사/1-2/자료구조/프로젝트/5.DATA/Master/dataAPI/buslocationservice/200000115/200000115_20-11-12.txt\n",
      "C:/Users/jongh/OneDrive/School/석사/1-2/자료구조/프로젝트/5.DATA/Master/dataAPI/buslocationservice/234000050/234000050_20-11-12.txt\n",
      "C:/Users/jongh/OneDrive/School/석사/1-2/자료구조/프로젝트/5.DATA/Master/dataAPI/buslocationservice/218000010/218000010_20-11-12.txt\n",
      "C:/Users/jongh/OneDrive/School/석사/1-2/자료구조/프로젝트/5.DATA/Master/dataAPI/buslocationservice/222000090/222000090_20-11-12.txt\n",
      "C:/Users/jongh/OneDrive/School/석사/1-2/자료구조/프로젝트/5.DATA/Master/dataAPI/buslocationservice/232000092/232000092_20-11-12.txt\n",
      "C:/Users/jongh/OneDrive/School/석사/1-2/자료구조/프로젝트/5.DATA/Master/dataAPI/buslocationservice/204000081/204000081_20-11-12.txt\n",
      "C:/Users/jongh/OneDrive/School/석사/1-2/자료구조/프로젝트/5.DATA/Master/dataAPI/buslocationservice/206000007/206000007_20-11-12.txt\n",
      "C:/Users/jongh/OneDrive/School/석사/1-2/자료구조/프로젝트/5.DATA/Master/dataAPI/buslocationservice/232000092/232000092_20-11-12.txt\n",
      "C:/Users/jongh/OneDrive/School/석사/1-2/자료구조/프로젝트/5.DATA/Master/dataAPI/buslocationservice/219000016/219000016_20-11-12.txt\n",
      "C:/Users/jongh/OneDrive/School/석사/1-2/자료구조/프로젝트/5.DATA/Master/dataAPI/buslocationservice/222000084/222000084_20-11-12.txt\n",
      "C:/Users/jongh/OneDrive/School/석사/1-2/자료구조/프로젝트/5.DATA/Master/dataAPI/buslocationservice/200000150/200000150_20-11-12.txt\n",
      "C:/Users/jongh/OneDrive/School/석사/1-2/자료구조/프로젝트/5.DATA/Master/dataAPI/buslocationservice/219000006/219000006_20-11-12.txt\n",
      "C:/Users/jongh/OneDrive/School/석사/1-2/자료구조/프로젝트/5.DATA/Master/dataAPI/buslocationservice/219000013/219000013_20-11-12.txt\n",
      "C:/Users/jongh/OneDrive/School/석사/1-2/자료구조/프로젝트/5.DATA/Master/dataAPI/buslocationservice/233000031/233000031_20-11-12.txt\n",
      "C:/Users/jongh/OneDrive/School/석사/1-2/자료구조/프로젝트/5.DATA/Master/dataAPI/buslocationservice/233000031/233000031_20-11-12.txt\n"
     ]
    }
   ],
   "source": [
    "fileAPIName = 'buslocationservice'\n",
    "filePathList = []\n",
    "\n",
    "for routeId in routeIdList:\n",
    "    # 코드를 실행하는 장치에 따라 달라지는 경로 입니다. 수정해서 사용하세요.\n",
    "    fileDevicepath = 'C:/Users/jongh/OneDrive/School/석사/1-2/자료구조/프로젝트/5.DATA'\n",
    "    # yourDevicepath = 'C:/Users'\n",
    "\n",
    "    # 고정된 이름 및 변수에 의해 자동으로 생성 되는 이름 입니다. 변수를 확인하세요.\n",
    "    fileRootPath = '/Master/dataAPI/'\n",
    "    fileAPIName = fileAPIName\n",
    "    fileRouteId = str(routeId)                                                                                   # 파일 이름에 routeId를 포함 시킬지 확인합니다.\n",
    "    fileDateTime = getNowTime().isoformat()[:10]      # 자정이 넘어간 시간 파일 경로가 바뀌는 문제를 해결해야 합니다.\n",
    "    fileDateStr = fileDateTime[2:10]\n",
    "    fileExtension = '.txt'\n",
    "\n",
    "    #파일의 폴더 경로와 이름을 각각 출력합니다.\n",
    "    folderPath = str(fileDevicepath + fileRootPath + fileAPIName + '/' + fileRouteId)\n",
    "    # print(folderPath)\n",
    "    fileName = fileRouteId + '_' + fileDateStr + fileExtension\n",
    "    # print(fileName)\n",
    "\n",
    "    # 파일의 최종 경로를 출력합니다.\n",
    "    filePath = str(folderPath + '/' + fileName)\n",
    "    \n",
    "    # 폴더를 생성합니다.\n",
    "    createFolder(folderPath)\n",
    "    \n",
    "    # 파일 경로 리스트에 파일경로를 추가합니다.\n",
    "    filePathList.append(filePath)\n",
    "    \n",
    "    print(filePath)"
   ]
  },
  {
   "cell_type": "markdown",
   "metadata": {},
   "source": [
    "## 폴더 생성하기"
   ]
  },
  {
   "cell_type": "code",
   "execution_count": 13,
   "metadata": {},
   "outputs": [],
   "source": [
    "#createFolder(folderPath)"
   ]
  },
  {
   "cell_type": "markdown",
   "metadata": {},
   "source": [
    "## API 호출"
   ]
  },
  {
   "cell_type": "code",
   "execution_count": 12,
   "metadata": {
    "colab": {
     "base_uri": "https://localhost:8080/",
     "height": 269
    },
    "id": "vmoo1Av5TQ5h",
    "outputId": "e4aef89b-f4fe-4a0c-f0b4-e8817246e38c"
   },
   "outputs": [
    {
     "name": "stdout",
     "output_type": "stream",
     "text": [
      "2020-11-12T02:07:36.511746+09:00 \t API [ buslocationservice ] 호출을 [ 시작 ] 하였습니다.\n",
      "2020-11-12T02:07:44.050376+09:00 \t API [ buslocationservice ] 호출을 [ 완료 ] 하였습니다.\t 소요시간:  0:00:07.538630\n",
      "2020-11-12T02:07:44.050376+09:00 \t API [ buslocationservice ] 호출을 [ 시작 ] 하였습니다.\n",
      "2020-11-12T02:07:46.584021+09:00 \t API [ buslocationservice ] 호출을 [ 완료 ] 하였습니다.\t 소요시간:  0:00:02.533645\n",
      "2020-11-12T02:07:46.585004+09:00 \t API [ buslocationservice ] 호출을 [ 시작 ] 하였습니다.\n",
      "2020-11-12T02:07:47.959097+09:00 \t API [ buslocationservice ] 호출을 [ 완료 ] 하였습니다.\t 소요시간:  0:00:01.374093\n",
      "2020-11-12T02:07:47.959097+09:00 \t API [ buslocationservice ] 호출을 [ 시작 ] 하였습니다.\n",
      "2020-11-12T02:07:49.224319+09:00 \t API [ buslocationservice ] 호출을 [ 완료 ] 하였습니다.\t 소요시간:  0:00:01.265222\n",
      "2020-11-12T02:07:49.224319+09:00 \t API [ buslocationservice ] 호출을 [ 시작 ] 하였습니다.\n",
      "2020-11-12T02:07:50.553843+09:00 \t API [ buslocationservice ] 호출을 [ 완료 ] 하였습니다.\t 소요시간:  0:00:01.329524\n",
      "2020-11-12T02:07:50.553843+09:00 \t API [ buslocationservice ] 호출을 [ 시작 ] 하였습니다.\n",
      "2020-11-12T02:07:51.949702+09:00 \t API [ buslocationservice ] 호출을 [ 완료 ] 하였습니다.\t 소요시간:  0:00:01.395859\n",
      "2020-11-12T02:07:51.949702+09:00 \t API [ buslocationservice ] 호출을 [ 시작 ] 하였습니다.\n",
      "2020-11-12T02:07:53.317472+09:00 \t API [ buslocationservice ] 호출을 [ 완료 ] 하였습니다.\t 소요시간:  0:00:01.367770\n",
      "2020-11-12T02:07:53.317472+09:00 \t API [ buslocationservice ] 호출을 [ 시작 ] 하였습니다.\n",
      "2020-11-12T02:07:54.653018+09:00 \t API [ buslocationservice ] 호출을 [ 완료 ] 하였습니다.\t 소요시간:  0:00:01.335546\n",
      "2020-11-12T02:07:54.653018+09:00 \t API [ buslocationservice ] 호출을 [ 시작 ] 하였습니다.\n",
      "2020-11-12T02:07:55.971995+09:00 \t API [ buslocationservice ] 호출을 [ 완료 ] 하였습니다.\t 소요시간:  0:00:01.318977\n",
      "2020-11-12T02:07:55.971995+09:00 \t API [ buslocationservice ] 호출을 [ 시작 ] 하였습니다.\n",
      "2020-11-12T02:07:57.334617+09:00 \t API [ buslocationservice ] 호출을 [ 완료 ] 하였습니다.\t 소요시간:  0:00:01.362622\n"
     ]
    }
   ],
   "source": [
    "url = 'http://openapi.gbis.go.kr/ws/rest/buslocationservice'\n",
    "for i in range(10):\n",
    "    pastTime = getNowTime()\n",
    "    print(pastTime.isoformat(),'\\t API [ buslocationservice ] 호출을 [ 시작 ] 하였습니다.')  \n",
    "    for routeId, filePath in zip(routeIdList, filePathList):\n",
    "        textFile = open(filePath, 'a', encoding = 'utf-8', newline = '\\n')\n",
    "        # 파일 경로가 routeId에 맞게 바뀌는지 확인합니다. \n",
    "        # 파일을 덮어 쓰고 있지 않은지 확인합니다. \n",
    "        queryParams = '?' + urlencode({ quote_plus('serviceKey') : apiKey, quote_plus('routeId') : routeId })\n",
    "        request = Request(url + queryParams)\n",
    "        request.get_method = lambda: 'GET'\n",
    "        oneLineXML = urlopen(request).read().decode('utf8')\n",
    "        textFile.write(oneLineXML)\n",
    "        textFile.write('\\n')\n",
    "    currentTime = getNowTime()\n",
    "    print(currentTime.isoformat(),'\\t API [ buslocationservice ] 호출을 [ 완료 ] 하였습니다.\\t 소요시간: ', currentTime - pastTime)   \n",
    "textFile.close()"
   ]
  },
  {
   "cell_type": "markdown",
   "metadata": {},
   "source": [
    "## @Schedule 모듈 사용을 위한 API 호출 생성 함수 생성"
   ]
  },
  {
   "cell_type": "code",
   "execution_count": 10,
   "metadata": {
    "colab": {
     "base_uri": "https://localhost:8080/",
     "height": 269
    },
    "id": "vmoo1Av5TQ5h",
    "outputId": "e4aef89b-f4fe-4a0c-f0b4-e8817246e38c"
   },
   "outputs": [],
   "source": [
    "def callAPIbuslocationservice(routeIdList, filePathList):\n",
    "    pastTime = getNowTime()\n",
    "    print(pastTime.isoformat(),'\\t API [ buslocationservice ] 호출을 [ 시작 ] 하였습니다.')    \n",
    "    for routeId, filePath in zip(routeIdList, filePathList):\n",
    "        textFile = open(filePath, 'a', encoding = 'utf-8', newline = '\\n')\n",
    "        # 파일 경로가 routeId에 맞게 바뀌는지 확인합니다. \n",
    "        # 파일을 덮어 쓰고 있지 않은지 확인합니다. \n",
    "        queryParams = '?' + urlencode({ quote_plus('serviceKey') : apiKey, quote_plus('routeId') : routeId })\n",
    "        request = Request(url + queryParams)\n",
    "        request.get_method = lambda: 'GET'\n",
    "        oneLineXML = urlopen(request).read().decode('utf8')\n",
    "        textFile.write(oneLineXML)\n",
    "        textFile.write('\\n')\n",
    "    currentTime = getNowTime()\n",
    "    print(currentTime.isoformat(),'\\t API [ buslocationservice ] 호출을 [ 완료 ] 하였습니다.\\t 소요시간: ', currentTime - pastTime)    "
   ]
  },
  {
   "cell_type": "code",
   "execution_count": 11,
   "metadata": {},
   "outputs": [
    {
     "name": "stdout",
     "output_type": "stream",
     "text": [
      "2020-11-12T14:18:33.207141+09:00 \t API [ buslocationservice ] 호출을 [ 시작 ] 하였습니다.\n",
      "2020-11-12T14:18:41.203695+09:00 \t API [ buslocationservice ] 호출을 [ 완료 ] 하였습니다.\t 소요시간:  0:00:07.996554\n"
     ]
    }
   ],
   "source": [
    "# 함수 [ callAPIbuslocationservice ] 테스트\n",
    "callAPIbuslocationservice(routeIdList, filePathList)"
   ]
  },
  {
   "cell_type": "markdown",
   "metadata": {},
   "source": [
    "## Schedule 라이브러리를 사용하여 함수 호출 스케줄링"
   ]
  },
  {
   "cell_type": "markdown",
   "metadata": {},
   "source": [
    "### schedule 테스트 코드"
   ]
  },
  {
   "cell_type": "code",
   "execution_count": 41,
   "metadata": {
    "collapsed": true,
    "jupyter": {
     "outputs_hidden": true
    }
   },
   "outputs": [
    {
     "name": "stdout",
     "output_type": "stream",
     "text": [
      "Hello!\n",
      "Hello!\n"
     ]
    },
    {
     "ename": "KeyboardInterrupt",
     "evalue": "",
     "output_type": "error",
     "traceback": [
      "\u001b[1;31m---------------------------------------------------------------------------\u001b[0m",
      "\u001b[1;31mKeyboardInterrupt\u001b[0m                         Traceback (most recent call last)",
      "\u001b[1;32m<ipython-input-41-b92df47a57eb>\u001b[0m in \u001b[0;36m<module>\u001b[1;34m\u001b[0m\n\u001b[0;32m     11\u001b[0m \u001b[1;32mwhile\u001b[0m \u001b[1;32mTrue\u001b[0m\u001b[1;33m:\u001b[0m\u001b[1;33m\u001b[0m\u001b[1;33m\u001b[0m\u001b[0m\n\u001b[0;32m     12\u001b[0m     \u001b[0mschedule\u001b[0m\u001b[1;33m.\u001b[0m\u001b[0mrun_pending\u001b[0m\u001b[1;33m(\u001b[0m\u001b[1;33m)\u001b[0m\u001b[1;33m\u001b[0m\u001b[1;33m\u001b[0m\u001b[0m\n\u001b[1;32m---> 13\u001b[1;33m     \u001b[0mtime\u001b[0m\u001b[1;33m.\u001b[0m\u001b[0msleep\u001b[0m\u001b[1;33m(\u001b[0m\u001b[1;36m1\u001b[0m\u001b[1;33m)\u001b[0m\u001b[1;33m\u001b[0m\u001b[1;33m\u001b[0m\u001b[0m\n\u001b[0m",
      "\u001b[1;31mKeyboardInterrupt\u001b[0m: "
     ]
    }
   ],
   "source": [
    "#특정 함수 정의\n",
    "def printhello():\n",
    "    print(\"Hello!\")\n",
    " \n",
    "schedule.clear()\n",
    "schedule.every(1).minutes.do(printhello) #30분마다 실행\n",
    "# schedule.every().monday.at(\"00:10\").do(printhello) #월요일 00:10분에 실행\n",
    "# schedule.every().day.at(\"10:30\").do(job) #매일 10시30분에 \n",
    " \n",
    "#실제 실행하게 하는 코드\n",
    "while True:\n",
    "    schedule.run_pending()\n",
    "    time.sleep(1)"
   ]
  },
  {
   "cell_type": "markdown",
   "metadata": {},
   "source": [
    "## @schedule 적용된 함수 호출 - 함수 [ callAPIbuslocationservice ]"
   ]
  },
  {
   "cell_type": "code",
   "execution_count": 1,
   "metadata": {
    "collapsed": true,
    "jupyter": {
     "outputs_hidden": true
    }
   },
   "outputs": [
    {
     "ename": "NameError",
     "evalue": "name 'schedule' is not defined",
     "output_type": "error",
     "traceback": [
      "\u001b[1;31m---------------------------------------------------------------------------\u001b[0m",
      "\u001b[1;31mNameError\u001b[0m                                 Traceback (most recent call last)",
      "\u001b[1;32m<ipython-input-1-21a3511bd8eb>\u001b[0m in \u001b[0;36m<module>\u001b[1;34m()\u001b[0m\n\u001b[1;32m----> 1\u001b[1;33m \u001b[0mschedule\u001b[0m\u001b[1;33m.\u001b[0m\u001b[0mclear\u001b[0m\u001b[1;33m(\u001b[0m\u001b[1;33m)\u001b[0m\u001b[1;33m\u001b[0m\u001b[0m\n\u001b[0m\u001b[0;32m      2\u001b[0m \u001b[0mschedule\u001b[0m\u001b[1;33m.\u001b[0m\u001b[0mevery\u001b[0m\u001b[1;33m(\u001b[0m\u001b[1;36m1\u001b[0m\u001b[1;33m)\u001b[0m\u001b[1;33m.\u001b[0m\u001b[0mminutes\u001b[0m\u001b[1;33m.\u001b[0m\u001b[0mdo\u001b[0m\u001b[1;33m(\u001b[0m\u001b[1;32mlambda\u001b[0m\u001b[1;33m:\u001b[0m \u001b[0mcallAPIbuslocationservice\u001b[0m\u001b[1;33m(\u001b[0m\u001b[0mrouteIdList\u001b[0m\u001b[1;33m,\u001b[0m \u001b[0mfilePathList\u001b[0m\u001b[1;33m)\u001b[0m\u001b[1;33m)\u001b[0m\u001b[1;33m\u001b[0m\u001b[0m\n\u001b[0;32m      3\u001b[0m \u001b[1;33m\u001b[0m\u001b[0m\n\u001b[0;32m      4\u001b[0m \u001b[1;32mwhile\u001b[0m \u001b[1;32mTrue\u001b[0m\u001b[1;33m:\u001b[0m\u001b[1;33m\u001b[0m\u001b[0m\n\u001b[0;32m      5\u001b[0m     \u001b[0mschedule\u001b[0m\u001b[1;33m.\u001b[0m\u001b[0mrun_pending\u001b[0m\u001b[1;33m(\u001b[0m\u001b[1;33m)\u001b[0m\u001b[1;33m\u001b[0m\u001b[0m\n",
      "\u001b[1;31mNameError\u001b[0m: name 'schedule' is not defined"
     ]
    }
   ],
   "source": [
    "schedule.clear()\n",
    "schedule.every(1).minutes.do(lambda: callAPIbuslocationservice(routeIdList, filePathList))\n",
    "\n",
    "while True:\n",
    "    schedule.run_pending()\n",
    "    time.sleep(1)"
   ]
  },
  {
   "cell_type": "markdown",
   "metadata": {},
   "source": [
    "## @Schedule 모듈 사용을 위한 API 호출 생성 함수 생성"
   ]
  },
  {
   "cell_type": "code",
   "execution_count": 17,
   "metadata": {},
   "outputs": [],
   "source": [
    "def newFile(routeIdList, filePathList):\n",
    "    for routeId, filePath in zip(routeIdList, filePathList):\n",
    "        textFile = open(filePath, 'w', encoding = 'utf-8', newline = '\\n')"
   ]
  },
  {
   "cell_type": "code",
   "execution_count": 18,
   "metadata": {},
   "outputs": [],
   "source": [
    "def parseAPIbuslocationservice(routeIdList, filePathList):\n",
    "    pastTime = getNowTime()\n",
    "    print(pastTime.isoformat(),'\\t API [ buslocationservice ] 호출을 [ 시작 ] 하였습니다.')    \n",
    "    for routeId, filePath in zip(routeIdList, filePathList):\n",
    "        textFile = open(filePath, 'a', encoding = 'utf-8', newline = '\\n')\n",
    "        # 파일 경로가 routeId에 맞게 바뀌는지 확인합니다. \n",
    "        # 파일을 덮어 쓰고 있지 않은지 확인합니다. \n",
    "        queryParams = '?' + urlencode({ quote_plus('serviceKey') : apiKey, quote_plus('routeId') : routeId })\n",
    "        request = Request(url + queryParams)\n",
    "        request.get_method = lambda: 'GET'\n",
    "        oneLineXML = urlopen(request).read().decode('utf8')\n",
    "        \n",
    "        xtree = ET.fromstring(oneLineXML)\n",
    "\n",
    "        rows = [\"endBus\",\"lowPlate\",\"plateNo\",\"plateType\",\"remainSeatCnt\",\"routeId\",\"stationId\",\"stationSeq\"]\n",
    "    \n",
    "        resultCode = int(xtree[1].find(\"resultCode\").text)\n",
    "        queryTime = xtree[1].find(\"queryTime\").text\n",
    "        textFile.write(str(routeId))\n",
    "        textFile.write(' ')\n",
    "        textFile.write(str(queryTime))\n",
    "        textFile.write(\"\\n\")\n",
    "        if resultCode == 0 :\n",
    "            for node in xtree[2] :\n",
    "\n",
    "                for index in rows :\n",
    "                    n = node.find(index).text\n",
    "                    textFile.write(n)\n",
    "                    textFile.write(' ')\n",
    "                textFile.write(\"\\n\")\n",
    "\n",
    "        else :\n",
    "            print(routeId, \"There is no bus\")\n",
    "        \n",
    "    currentTime = getNowTime()\n",
    "    print(currentTime.isoformat(),'\\t API [ buslocationservice ] 호출을 [ 완료 ] 하였습니다.\\t 소요시간: ', currentTime - pastTime)    "
   ]
  },
  {
   "cell_type": "code",
   "execution_count": 31,
   "metadata": {},
   "outputs": [],
   "source": [
    "newFile(routeIdList, filePathList)"
   ]
  },
  {
   "cell_type": "code",
   "execution_count": 25,
   "metadata": {
    "collapsed": true,
    "jupyter": {
     "outputs_hidden": true
    }
   },
   "outputs": [
    {
     "name": "stdout",
     "output_type": "stream",
     "text": [
      "2020-11-11T00:24:34.342894+09:00 \t API [ buslocationservice ] 호출을 [ 시작 ] 하였습니다.\n",
      "204000059 There is no bus\n",
      "204000039 There is no bus\n",
      "204000067 There is no bus\n",
      "204000044 There is no bus\n",
      "204000147 There is no bus\n",
      "2020-11-11T00:24:35.620624+09:00 \t API [ buslocationservice ] 호출을 [ 완료 ] 하였습니다.\t 소요시간:  0:00:01.277730\n"
     ]
    }
   ],
   "source": [
    "parseAPIbuslocationservice(routeIdList, filePathList)"
   ]
  },
  {
   "cell_type": "code",
   "execution_count": null,
   "metadata": {},
   "outputs": [
    {
     "name": "stdout",
     "output_type": "stream",
     "text": [
      "2020-11-12T14:35:43.895932+09:00 \t API [ buslocationservice ] 호출을 [ 시작 ] 하였습니다.\n",
      "204000059 There is no bus\n",
      "228000394 There is no bus\n",
      "2020-11-12T14:36:19.794140+09:00 \t API [ buslocationservice ] 호출을 [ 완료 ] 하였습니다.\t 소요시간:  0:00:35.898208\n",
      "2020-11-12T14:37:15.387032+09:00 \t API [ buslocationservice ] 호출을 [ 시작 ] 하였습니다.\n",
      "204000059 There is no bus\n",
      "228000394 There is no bus\n",
      "2020-11-12T14:37:50.183877+09:00 \t API [ buslocationservice ] 호출을 [ 완료 ] 하였습니다.\t 소요시간:  0:00:34.796845\n",
      "2020-11-12T14:38:45.660269+09:00 \t API [ buslocationservice ] 호출을 [ 시작 ] 하였습니다.\n",
      "204000059 There is no bus\n",
      "228000394 There is no bus\n",
      "2020-11-12T14:39:20.859103+09:00 \t API [ buslocationservice ] 호출을 [ 완료 ] 하였습니다.\t 소요시간:  0:00:35.198834\n",
      "2020-11-12T14:40:16.348478+09:00 \t API [ buslocationservice ] 호출을 [ 시작 ] 하였습니다.\n",
      "204000059 There is no bus\n",
      "228000394 There is no bus\n",
      "2020-11-12T14:40:51.949242+09:00 \t API [ buslocationservice ] 호출을 [ 완료 ] 하였습니다.\t 소요시간:  0:00:35.600764\n",
      "2020-11-12T14:41:47.518148+09:00 \t API [ buslocationservice ] 호출을 [ 시작 ] 하였습니다.\n",
      "204000059 There is no bus\n",
      "228000394 There is no bus\n",
      "2020-11-12T14:42:22.861889+09:00 \t API [ buslocationservice ] 호출을 [ 완료 ] 하였습니다.\t 소요시간:  0:00:35.343741\n",
      "2020-11-12T14:43:18.269483+09:00 \t API [ buslocationservice ] 호출을 [ 시작 ] 하였습니다.\n",
      "204000059 There is no bus\n",
      "228000394 There is no bus\n",
      "2020-11-12T14:43:57.973889+09:00 \t API [ buslocationservice ] 호출을 [ 완료 ] 하였습니다.\t 소요시간:  0:00:39.704406\n",
      "2020-11-12T14:44:53.437775+09:00 \t API [ buslocationservice ] 호출을 [ 시작 ] 하였습니다.\n",
      "204000059 There is no bus\n",
      "228000394 There is no bus\n",
      "2020-11-12T14:45:28.204730+09:00 \t API [ buslocationservice ] 호출을 [ 완료 ] 하였습니다.\t 소요시간:  0:00:34.766955\n",
      "2020-11-12T14:46:23.706050+09:00 \t API [ buslocationservice ] 호출을 [ 시작 ] 하였습니다.\n",
      "204000059 There is no bus\n",
      "228000394 There is no bus\n",
      "2020-11-12T14:46:58.909162+09:00 \t API [ buslocationservice ] 호출을 [ 완료 ] 하였습니다.\t 소요시간:  0:00:35.203112\n",
      "2020-11-12T14:47:54.538091+09:00 \t API [ buslocationservice ] 호출을 [ 시작 ] 하였습니다.\n",
      "204000059 There is no bus\n",
      "228000394 There is no bus\n",
      "2020-11-12T14:48:29.376665+09:00 \t API [ buslocationservice ] 호출을 [ 완료 ] 하였습니다.\t 소요시간:  0:00:34.838574\n",
      "2020-11-12T14:49:25.080029+09:00 \t API [ buslocationservice ] 호출을 [ 시작 ] 하였습니다.\n",
      "204000059 There is no bus\n",
      "228000394 There is no bus\n",
      "2020-11-12T14:49:59.923774+09:00 \t API [ buslocationservice ] 호출을 [ 완료 ] 하였습니다.\t 소요시간:  0:00:34.843745\n",
      "2020-11-12T14:50:55.378223+09:00 \t API [ buslocationservice ] 호출을 [ 시작 ] 하였습니다.\n",
      "204000059 There is no bus\n"
     ]
    }
   ],
   "source": [
    "schedule.clear()\n",
    "schedule.every(55).seconds.do(lambda: parseAPIbuslocationservice(routeIdList, filePathList))\n",
    "\n",
    "while True:\n",
    "    schedule.run_pending()\n",
    "    time.sleep(1)"
   ]
  },
  {
   "cell_type": "code",
   "execution_count": null,
   "metadata": {},
   "outputs": [],
   "source": []
  }
 ],
 "metadata": {
  "colab": {
   "name": "경기버스정보API.ipynb",
   "provenance": []
  },
  "kernelspec": {
   "display_name": "Python 3",
   "language": "python",
   "name": "python3"
  },
  "language_info": {
   "codemirror_mode": {
    "name": "ipython",
    "version": 3
   },
   "file_extension": ".py",
   "mimetype": "text/x-python",
   "name": "python",
   "nbconvert_exporter": "python",
   "pygments_lexer": "ipython3",
   "version": "3.7.6"
  }
 },
 "nbformat": 4,
 "nbformat_minor": 4
}

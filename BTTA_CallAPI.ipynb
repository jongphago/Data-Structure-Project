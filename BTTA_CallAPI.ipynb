{
 "cells": [
  {
   "cell_type": "markdown",
   "metadata": {},
   "source": [
    "## Githun 연동하기"
   ]
  },
  {
   "cell_type": "code",
   "execution_count": null,
   "metadata": {},
   "outputs": [],
   "source": []
  },
  {
   "cell_type": "markdown",
   "metadata": {
    "id": "DPX76GW5yfyJ"
   },
   "source": [
    "## 라이브러리 불러오기"
   ]
  },
  {
   "cell_type": "code",
   "execution_count": 1,
   "metadata": {
    "id": "xWrCtng4Me2-"
   },
   "outputs": [],
   "source": [
    "# API 호출\n",
    "# ## https://data.go.kr/tcs/dss/selectApiDataDetailView.do?publicDataPk=15057440\n",
    "from urllib.request import Request, urlopen\n",
    "# Request https://docs.python.org/ko/3/library/urllib.request.html#urllib.request.Request\n",
    "# urlopen https://docs.python.org/ko/3/library/urllib.request.html#urllib.request.urlopen\n",
    "from urllib.parse import urlencode, quote_plus\n",
    "# urlenocde https://docs.python.org/ko/3/library/urllib.parse.html#urllib.parse.urlencode\n",
    "# quote_plus https://docs.python.org/ko/3/library/urllib.parse.html#urllib.parse.quote_plus\n",
    "from urllib.parse import unquote\n",
    "import requests\n",
    "\n",
    "# 시간 생성\n",
    "import time\n",
    "import datetime\n",
    "from pytz import timezone, utc\n",
    "\n",
    "# 폴더 자동 생성\n",
    "import os"
   ]
  },
  {
   "cell_type": "code",
   "execution_count": 2,
   "metadata": {},
   "outputs": [],
   "source": [
    "# 폴더 자동 생성 함수\n",
    "# https://data-make.tistory.com/170\n",
    "def createFolder(directory):\n",
    "    try:\n",
    "        if not os.path.exists(directory):\n",
    "            os.makedirs(directory)\n",
    "    except OSError:\n",
    "        print ('Error: Creating directory. ' +  directory)"
   ]
  },
  {
   "cell_type": "markdown",
   "metadata": {
    "id": "Pp1hVhMT7t3V"
   },
   "source": [
    "## KEY unquote"
   ]
  },
  {
   "cell_type": "code",
   "execution_count": 3,
   "metadata": {
    "id": "X4RvGmtjX2g0"
   },
   "outputs": [],
   "source": [
    "KEY = 'yEaR%2F3MDedRSlVJL%2F2pxnVg0yre1N5VF3RZ%2FUAt56MJ7J2mNpfqhUvy05pXV0uhHTVY7DbyCR8xmMaDdYga67Q%3D%3D' # 종현\n",
    "# apiKEY = requests.utils.unquote(KEY)\n",
    "apiKey = unquote(KEY)\n",
    "# print(apiKey)\n",
    "KEYSW = 'M%2B4%2FqUiadT8X8PhgFjaQLDu%2BIOgPMURfGsOX%2FmVxwHQVJgnVR%2FMPjDYXkuQNwUFbZXlfnX5Lls3SUCiCLIFjgQ%3D%3D'\n",
    "apiKeySW = unquote(KEYSW)"
   ]
  },
  {
   "cell_type": "markdown",
   "metadata": {
    "id": "R2vTXbRE7rAr"
   },
   "source": [
    "## URL 생성"
   ]
  },
  {
   "cell_type": "markdown",
   "metadata": {
    "id": "0yArZKci786j"
   },
   "source": [
    "### ws.bus.go.kr url을 사용하는 경우 \n",
    "1.   'ServiceKey' 대문자 S\n",
    "2.   'busRouteId' 노선ID는 busRouteId"
   ]
  },
  {
   "cell_type": "code",
   "execution_count": 4,
   "metadata": {
    "id": "F_DuFQ8TXy_v"
   },
   "outputs": [],
   "source": [
    "# getArrInfoByRouteAll\n",
    "url = 'http://ws.bus.go.kr/api/rest/arrive/getArrInfoByRouteAll'\n",
    "queryParams = '?' + urlencode({ quote_plus('ServiceKey') : apiKey, quote_plus('busRouteId') : '204000046' })"
   ]
  },
  {
   "cell_type": "code",
   "execution_count": 5,
   "metadata": {
    "id": "nMZedZcP6Ira"
   },
   "outputs": [],
   "source": [
    "# getBusPosByRtid\n",
    "# 노선ID로 차량들의 위치정보를 조회합니다\n",
    "url = 'http://ws.bus.go.kr/api/rest/buspos/getBusPosByRtid'\n",
    "queryParams = '?' + urlencode({ quote_plus('ServiceKey') : apiKey, quote_plus('busRouteId') : '204000046' })"
   ]
  },
  {
   "cell_type": "code",
   "execution_count": 6,
   "metadata": {
    "colab": {
     "base_uri": "https://localhost:8080/",
     "height": 55
    },
    "id": "aa-BO-tMouQL",
    "outputId": "88853ce1-774e-4746-c028-202bd3d6ef79"
   },
   "outputs": [
    {
     "data": {
      "text/plain": [
       "'http://ws.bus.go.kr/api/rest/buspos/getBusPosByRtid?ServiceKey=yEaR%2F3MDedRSlVJL%2F2pxnVg0yre1N5VF3RZ%2FUAt56MJ7J2mNpfqhUvy05pXV0uhHTVY7DbyCR8xmMaDdYga67Q%3D%3D&busRouteId=204000046'"
      ]
     },
     "execution_count": 6,
     "metadata": {},
     "output_type": "execute_result"
    }
   ],
   "source": [
    "url+queryParams"
   ]
  },
  {
   "cell_type": "markdown",
   "metadata": {
    "id": "Qzm8ff7B8Bwq"
   },
   "source": [
    "### openapi url을 사용하는 경우 \n",
    "1.   'serviceKey' 소문자 s\n",
    "2.   'routeId' 노선ID는 routeId"
   ]
  },
  {
   "cell_type": "code",
   "execution_count": 7,
   "metadata": {
    "id": "p8PE0cXNxaBZ"
   },
   "outputs": [],
   "source": [
    "# 노선번호목록조회 busrouteservice\n",
    "# 해당 노선번호의 노선ID, 노선유형, 운행지역 등을 제공합니다.\n",
    "url = 'http://openapi.gbis.go.kr/ws/rest/busrouteservice' \n",
    "queryParams = '?' + urlencode({ quote_plus('serviceKey') : apiKey, quote_plus('keyword') : '9000' })"
   ]
  },
  {
   "cell_type": "code",
   "execution_count": 8,
   "metadata": {
    "id": "VgcBX-122uUs"
   },
   "outputs": [],
   "source": [
    "# 노선정보항목조회 busrouteservice/info\n",
    "# 해당 노선에 대한 노선번호, 기점/종점 정류소, 첫차/막차시간, 배차간격, 운행업체 등의 운행계획 정보를 제공합니다.\n",
    "url = 'http://openapi.gbis.go.kr/ws/rest/busrouteservice/info'\n",
    "queryParams = '?' + urlencode({ quote_plus('serviceKey') : apiKey, quote_plus('routeId') : '204000046' })"
   ]
  },
  {
   "cell_type": "code",
   "execution_count": 9,
   "metadata": {
    "id": "OfBhTbLh3L9G"
   },
   "outputs": [],
   "source": [
    "# 경유정류소목록조회 busrouteservice/info\n",
    "# 해당 노선이 정차하는 경유정류소 목록과 정류소명, 중앙차로여부, 회차점, 좌표값 등을 제공합니다.\n",
    "url = 'http://openapi.gbis.go.kr/ws/rest/busrouteservice/station'\n",
    "queryParams = '?' + urlencode({ quote_plus('serviceKey') : apiKey, quote_plus('routeId') : '204000046' })"
   ]
  },
  {
   "cell_type": "code",
   "execution_count": 10,
   "metadata": {
    "id": "c6FqgRafVkfi"
   },
   "outputs": [],
   "source": [
    "# 경유정류소목록조회 buslocationservice\n",
    "# 해당 노선이 정차하는 경유정류소 목록과 정류소명, 중앙차로여부, 회차점, 좌표값 등을 제공합니다.\n",
    "url = 'http://openapi.gbis.go.kr/ws/rest/buslocationservice'\n",
    "queryParams = '?' + urlencode({ quote_plus('serviceKey') : apiKey, quote_plus('routeId') : '204000046' })"
   ]
  },
  {
   "cell_type": "markdown",
   "metadata": {
    "id": "YlVVhU68VVEi"
   },
   "source": [
    "## routeIdList를 이용하여 여러 노선에 대해 호출"
   ]
  },
  {
   "cell_type": "code",
   "execution_count": 11,
   "metadata": {
    "id": "eF3GKMkgQ6mw"
   },
   "outputs": [],
   "source": [
    "routeIdList = \\\n",
    "[\n",
    "234000013,\n",
    "234000130,\n",
    "204000056,\n",
    "204000046,\n",
    "204000041,\n",
    "204000070,\n",
    "204000059,\n",
    "204000060,\n",
    "204000022,\n",
    "204000039,\n",
    "204000040,\n",
    "204000067,\n",
    "204000044,\n",
    "204000147,\n",
    "]"
   ]
  },
  {
   "cell_type": "markdown",
   "metadata": {},
   "source": [
    "## filePath 생성"
   ]
  },
  {
   "cell_type": "code",
   "execution_count": 12,
   "metadata": {},
   "outputs": [
    {
     "name": "stdout",
     "output_type": "stream",
     "text": [
      "C:/Users/jongh/OneDrive/School/석사/1-2/자료구조/프로젝트/5.DATA/Master/dataAPI/busAPITestOutput/234000013/234000013_20-11-10.txt\n",
      "C:/Users/jongh/OneDrive/School/석사/1-2/자료구조/프로젝트/5.DATA/Master/dataAPI/busAPITestOutput/234000130/234000130_20-11-10.txt\n",
      "C:/Users/jongh/OneDrive/School/석사/1-2/자료구조/프로젝트/5.DATA/Master/dataAPI/busAPITestOutput/204000056/204000056_20-11-10.txt\n",
      "C:/Users/jongh/OneDrive/School/석사/1-2/자료구조/프로젝트/5.DATA/Master/dataAPI/busAPITestOutput/204000046/204000046_20-11-10.txt\n",
      "C:/Users/jongh/OneDrive/School/석사/1-2/자료구조/프로젝트/5.DATA/Master/dataAPI/busAPITestOutput/204000041/204000041_20-11-10.txt\n",
      "C:/Users/jongh/OneDrive/School/석사/1-2/자료구조/프로젝트/5.DATA/Master/dataAPI/busAPITestOutput/204000070/204000070_20-11-10.txt\n",
      "C:/Users/jongh/OneDrive/School/석사/1-2/자료구조/프로젝트/5.DATA/Master/dataAPI/busAPITestOutput/204000059/204000059_20-11-10.txt\n",
      "C:/Users/jongh/OneDrive/School/석사/1-2/자료구조/프로젝트/5.DATA/Master/dataAPI/busAPITestOutput/204000060/204000060_20-11-10.txt\n",
      "C:/Users/jongh/OneDrive/School/석사/1-2/자료구조/프로젝트/5.DATA/Master/dataAPI/busAPITestOutput/204000022/204000022_20-11-10.txt\n",
      "C:/Users/jongh/OneDrive/School/석사/1-2/자료구조/프로젝트/5.DATA/Master/dataAPI/busAPITestOutput/204000039/204000039_20-11-10.txt\n",
      "C:/Users/jongh/OneDrive/School/석사/1-2/자료구조/프로젝트/5.DATA/Master/dataAPI/busAPITestOutput/204000040/204000040_20-11-10.txt\n",
      "C:/Users/jongh/OneDrive/School/석사/1-2/자료구조/프로젝트/5.DATA/Master/dataAPI/busAPITestOutput/204000067/204000067_20-11-10.txt\n",
      "C:/Users/jongh/OneDrive/School/석사/1-2/자료구조/프로젝트/5.DATA/Master/dataAPI/busAPITestOutput/204000044/204000044_20-11-10.txt\n",
      "C:/Users/jongh/OneDrive/School/석사/1-2/자료구조/프로젝트/5.DATA/Master/dataAPI/busAPITestOutput/204000147/204000147_20-11-10.txt\n"
     ]
    }
   ],
   "source": [
    "fileAPIName = 'busAPITestOutput'\n",
    "\n",
    "for routeId in routeIdList:\n",
    "\n",
    "    # 코드를 실행하는 장치에 따라 달라지는 경로 입니다. 수정해서 사용하세요.\n",
    "    fileDevicepath = 'C:/Users/jongh/OneDrive/School/석사/1-2/자료구조/프로젝트/5.DATA'\n",
    "    # yourDevicepath = 'C:/Users'\n",
    "\n",
    "    # 고정된 이름 및 변수에 의해 자동으로 생성 되는 이름 입니다. 변수를 확인하세요.\n",
    "    fileRootPath = '/Master/dataAPI/'\n",
    "    fileAPIName = fileAPIName\n",
    "    fileRouteId = str(routeId)                                                                                   # 파일 이름에 routeId를 포함 시킬지 확인합니다.\n",
    "    fileDateTime = utc.localize(datetime.datetime.utcnow()).astimezone(timezone('Asia/Seoul')).isoformat()       # 자정이 넘어간 시간 파일 경로가 바뀌는 문제를 해결해야 합니다.\n",
    "    fileDateStr = fileDateTime[2:10]\n",
    "    fileExtension = '.txt'\n",
    "\n",
    "    #파일의 폴더 경로와 이름을 각각 출력합니다.\n",
    "    folderPath = str(fileDevicepath + fileRootPath + fileAPIName + '/' + fileRouteId)\n",
    "    # print(folderPath)\n",
    "    fileName = fileRouteId + '_' + fileDateStr + fileExtension\n",
    "    # print(fileName)\n",
    "\n",
    "    # 파일의 최종 경로를 출력합니다.\n",
    "    filePath = str(folderPath + '/' + fileName)\n",
    "    \n",
    "    # 폴더를 생성합니다.\n",
    "    createFolder(folderPath)\n",
    "    \n",
    "    print(filePath)"
   ]
  },
  {
   "cell_type": "markdown",
   "metadata": {},
   "source": [
    "## 폴더 생성하기"
   ]
  },
  {
   "cell_type": "code",
   "execution_count": 13,
   "metadata": {},
   "outputs": [],
   "source": [
    "#createFolder(folderPath)"
   ]
  },
  {
   "cell_type": "markdown",
   "metadata": {},
   "source": [
    "## API 호출"
   ]
  },
  {
   "cell_type": "code",
   "execution_count": 15,
   "metadata": {
    "colab": {
     "base_uri": "https://localhost:8080/",
     "height": 269
    },
    "id": "vmoo1Av5TQ5h",
    "outputId": "e4aef89b-f4fe-4a0c-f0b4-e8817246e38c"
   },
   "outputs": [
    {
     "name": "stdout",
     "output_type": "stream",
     "text": [
      "19:34:52 \t 1 번째 반복문을 실행하였습니다.\n",
      "19:34:52 \t 2 번째 반복문을 실행하였습니다.\n",
      "19:34:52 \t 3 번째 반복문을 실행하였습니다.\n",
      "19:34:52 \t 4 번째 반복문을 실행하였습니다.\n",
      "19:34:52 \t 5 번째 반복문을 실행하였습니다.\n",
      "19:34:52 \t 6 번째 반복문을 실행하였습니다.\n",
      "19:34:52 \t 7 번째 반복문을 실행하였습니다.\n",
      "19:34:52 \t 8 번째 반복문을 실행하였습니다.\n",
      "19:34:52 \t 9 번째 반복문을 실행하였습니다.\n",
      "19:34:52 \t 10 번째 반복문을 실행하였습니다.\n"
     ]
    }
   ],
   "source": [
    "# {routeID : filePath}\n",
    "textFile = open(filePath,                     # 파일 경로가 routeId에 맞게 바뀌는지 확인합니다. >>> 바뀌지 않음: 코드 수정 필요 합니다.\n",
    "                'w',                          # 파일을 덮어 쓰고 있지 않은지 확인합니다. >>> 덮어쓰고 있음: 코드 수정이 필요한지 확인합니다.\n",
    "                encoding = 'utf-8',\n",
    "                newline = '\\n')\n",
    "url = 'http://openapi.gbis.go.kr/ws/rest/buslocationservice'\n",
    "for i in range(10):\n",
    "    for routeId in routeIdList:\n",
    "        queryParams = '?' + urlencode({ quote_plus('serviceKey') : apiKey, quote_plus('routeId') : routeId })\n",
    "        request = Request(url + queryParams)\n",
    "        request.get_method = lambda: 'GET'\n",
    "        oneLineXML = urlopen(request).read().decode('utf8')\n",
    "        textFile.write(oneLineXML)\n",
    "        textFile.write('\\n')\n",
    "    print(fileDateTime[11:19],'\\t', i+1, '번째 반복문을 실행하였습니다.')\n",
    "textFile.close()"
   ]
  }
 ],
 "metadata": {
  "colab": {
   "name": "경기버스정보API.ipynb",
   "provenance": []
  },
  "kernelspec": {
   "display_name": "Python 3",
   "language": "python",
   "name": "python3"
  },
  "language_info": {
   "codemirror_mode": {
    "name": "ipython",
    "version": 3
   },
   "file_extension": ".py",
   "mimetype": "text/x-python",
   "name": "python",
   "nbconvert_exporter": "python",
   "pygments_lexer": "ipython3",
   "version": "3.7.6"
  }
 },
 "nbformat": 4,
 "nbformat_minor": 4
}

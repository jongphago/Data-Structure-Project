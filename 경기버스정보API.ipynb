{
 "cells": [
  {
   "cell_type": "markdown",
   "metadata": {
    "id": "xWrCtng4Me2-"
   },
   "source": [
    "# API data load"
   ]
  },
  {
   "cell_type": "code",
   "execution_count": 285,
   "metadata": {},
   "outputs": [],
   "source": [
    "from urllib.request import Request, urlopen\n",
    "from urllib.parse import urlencode, quote_plus\n",
    "from urllib.parse import unquote\n",
    "import requests\n",
    "import xml.etree.ElementTree as ET\n",
    "import pandas as pd"
   ]
  },
  {
   "cell_type": "code",
   "execution_count": 286,
   "metadata": {
    "colab": {
     "base_uri": "https://localhost:8080/"
    },
    "id": "X4RvGmtjX2g0",
    "outputId": "2774c4d6-4b05-45d8-d0ea-170338c7cbf7"
   },
   "outputs": [],
   "source": [
    "KEY = 'M%2B4%2FqUiadT8X8PhgFjaQLDu%2BIOgPMURfGsOX%2FmVxwHQVJgnVR%2FMPjDYXkuQNwUFbZXlfnX5Lls3SUCiCLIFjgQ%3D%3D'\n",
    "API_KEY = requests.utils.unquote(KEY)\n",
    "API_KEY = unquote(KEY)"
   ]
  },
  {
   "cell_type": "code",
   "execution_count": 287,
   "metadata": {
    "id": "EpvvO0J9MkqR"
   },
   "outputs": [],
   "source": [
    "# getBusPosByRtid\n",
    "# 노선ID로 차량들의 위치정보를 조회한다\n",
    "# 서울\n",
    "url_seoul_location = 'http://ws.bus.go.kr/api/rest/buspos/getBusPosByRtid'\n",
    "queryParams_seoul_location = '?' + urlencode({ quote_plus('ServiceKey') : API_KEY, quote_plus('busRouteId') : '204000046' })"
   ]
  },
  {
   "cell_type": "code",
   "execution_count": 288,
   "metadata": {},
   "outputs": [],
   "source": [
    "# 경유정류소목록조회 buslocationservice\n",
    "# 해당 노선이 정차하는 경유정류소 목록과 정류소명, 중앙차로여부, 회차점, 좌표값 등을 제공한다.\n",
    "url_gyeonggi_location = 'http://openapi.gbis.go.kr/ws/rest/buslocationservice'\n",
    "queryParams_gyeonggi_location = '?' + urlencode({ quote_plus('serviceKey') : API_KEY, quote_plus('routeId') : '204000046' })"
   ]
  },
  {
   "cell_type": "code",
   "execution_count": 289,
   "metadata": {
    "id": "F_DuFQ8TXy_v"
   },
   "outputs": [],
   "source": [
    "# 버스도착정보조회 서비스\n",
    "url_gyeonggi_arrive = 'http://openapi.gbis.go.kr/ws/rest/busarrivalservice'\n",
    "queryParams_gyeonggi_arrive = '?' + urlencode({ quote_plus('ServiceKey') : API_KEY, quote_plus('busRouteId') : '204000046' })"
   ]
  },
  {
   "cell_type": "code",
   "execution_count": 290,
   "metadata": {
    "colab": {
     "base_uri": "https://localhost:8080/"
    },
    "id": "q6aWq-k3Pvkl",
    "outputId": "642b1c5b-6a79-4e32-cf97-0ac65dccecc7"
   },
   "outputs": [
    {
     "name": "stdout",
     "output_type": "stream",
     "text": [
      "http://ws.bus.go.kr/api/rest/buspos/getBusPosByRtid?ServiceKey=M%2B4%2FqUiadT8X8PhgFjaQLDu%2BIOgPMURfGsOX%2FmVxwHQVJgnVR%2FMPjDYXkuQNwUFbZXlfnX5Lls3SUCiCLIFjgQ%3D%3D&busRouteId=204000046\n"
     ]
    }
   ],
   "source": [
    "print(url_seoul_location + queryParams_seoul_location)"
   ]
  },
  {
   "cell_type": "code",
   "execution_count": 291,
   "metadata": {},
   "outputs": [
    {
     "name": "stdout",
     "output_type": "stream",
     "text": [
      "http://openapi.gbis.go.kr/ws/rest/buslocationservice?serviceKey=M%2B4%2FqUiadT8X8PhgFjaQLDu%2BIOgPMURfGsOX%2FmVxwHQVJgnVR%2FMPjDYXkuQNwUFbZXlfnX5Lls3SUCiCLIFjgQ%3D%3D&routeId=204000046\n"
     ]
    }
   ],
   "source": [
    "print(url_gyeonggi_location + queryParams_gyeonggi_location)"
   ]
  },
  {
   "cell_type": "code",
   "execution_count": 292,
   "metadata": {},
   "outputs": [
    {
     "name": "stdout",
     "output_type": "stream",
     "text": [
      "http://openapi.gbis.go.kr/ws/rest/busarrivalservice?ServiceKey=M%2B4%2FqUiadT8X8PhgFjaQLDu%2BIOgPMURfGsOX%2FmVxwHQVJgnVR%2FMPjDYXkuQNwUFbZXlfnX5Lls3SUCiCLIFjgQ%3D%3D&busRouteId=204000046\n"
     ]
    }
   ],
   "source": [
    "print(url_gyeonggi_arrive + queryParams_gyeonggi_arrive)"
   ]
  },
  {
   "cell_type": "code",
   "execution_count": 293,
   "metadata": {
    "id": "Kl9cnX77Pu4N"
   },
   "outputs": [],
   "source": [
    "buslocation_seoul = url_seoul_location + queryParams_seoul_location\n",
    "busarrive_gyeonggi = url_gyeonggi_arrive + queryParams_gyeonggi_arrive\n",
    "buslocation_gyeonggi = url_gyeonggi_location + queryParams_gyeonggi_location\n",
    "#'http://openapi.gbis.go.kr/ws/rest/buslocationservice?serviceKey=M%2B4%2FqUiadT8X8PhgFjaQLDu%2BIOgPMURfGsOX%2FmVxwHQVJgnVR%2FMPjDYXkuQNwUFbZXlfnX5Lls3SUCiCLIFjgQ%3D%3D&routeId=233000031'\n",
    "#url_k + queryParams_k\n",
    "\n",
    "location_seoul = Request(buslocation_seoul)\n",
    "location_seoul.get_method = lambda: 'GET'\n",
    "location_seoul = urlopen(location_seoul).read().decode('utf8')\n",
    "\n",
    "location_gyeonggi = Request(buslocation_gyeonggi)\n",
    "location_gyeonggi.get_method = lambda: 'GET'\n",
    "location_gyeonggi = urlopen(location_gyeonggi).read().decode('utf8')\n",
    "\n",
    "arrive_gyeonggi = Request(busarrive_gyeonggi)\n",
    "arrive_gyeonggi.get_method = lambda: 'GET'\n",
    "arrive_gyeonggi = urlopen(arrive_gyeonggi).read().decode('utf8')"
   ]
  },
  {
   "cell_type": "code",
   "execution_count": 294,
   "metadata": {},
   "outputs": [
    {
     "name": "stdout",
     "output_type": "stream",
     "text": [
      "{'endBus': '0', 'lowPlate': '0', 'plateNo': '경기70아7474', 'plateType': '3', 'remainSeatCnt': '40', 'routeId': '204000046', 'stationId': '101000005', 'stationSeq': '27'}\n",
      "\n",
      "\n",
      "{'endBus': '0', 'lowPlate': '0', 'plateNo': '경기78아1147', 'plateType': '3', 'remainSeatCnt': '15', 'routeId': '204000046', 'stationId': '277103391', 'stationSeq': '18'}\n",
      "\n",
      "\n",
      "{'endBus': '0', 'lowPlate': '0', 'plateNo': '경기70아8601', 'plateType': '3', 'remainSeatCnt': '35', 'routeId': '204000046', 'stationId': '102000069', 'stationSeq': '20'}\n",
      "\n",
      "\n",
      "{'endBus': '0', 'lowPlate': '0', 'plateNo': '경기70아7361', 'plateType': '3', 'remainSeatCnt': '39', 'routeId': '204000046', 'stationId': '277104178', 'stationSeq': '40'}\n",
      "\n",
      "\n",
      "{'endBus': '0', 'lowPlate': '0', 'plateNo': '경기70아8789', 'plateType': '3', 'remainSeatCnt': '34', 'routeId': '204000046', 'stationId': '206000002', 'stationSeq': '11'}\n",
      "\n",
      "\n",
      "{'endBus': '0', 'lowPlate': '0', 'plateNo': '경기76사5089', 'plateType': '3', 'remainSeatCnt': '31', 'routeId': '204000046', 'stationId': '206000004', 'stationSeq': '8'}\n",
      "\n",
      "\n",
      "{'endBus': '0', 'lowPlate': '0', 'plateNo': '경기77바1198', 'plateType': '3', 'remainSeatCnt': '32', 'routeId': '204000046', 'stationId': '100000001', 'stationSeq': '24'}\n",
      "\n",
      "\n",
      "{'endBus': '0', 'lowPlate': '0', 'plateNo': '경기78아1117', 'plateType': '3', 'remainSeatCnt': '1', 'routeId': '204000046', 'stationId': '277103149', 'stationSeq': '12'}\n",
      "\n",
      "\n",
      "{'endBus': '0', 'lowPlate': '0', 'plateNo': '경기70아8880', 'plateType': '3', 'remainSeatCnt': '38', 'routeId': '204000046', 'stationId': '206000658', 'stationSeq': '3'}\n",
      "\n",
      "\n",
      "{'queryTime': '2020-11-06 07:17:08.559'}\n",
      "\n",
      "\n"
     ]
    }
   ],
   "source": [
    "xtree = ET.fromstring(location_gyeonggi)\n",
    "\n",
    "rows = []\n",
    "queryTime = xtree[1].find(\"queryTime\").text\n",
    "\n",
    "for node in xtree[2] :\n",
    "    n_endBus = node.find(\"endBus\").text\n",
    "    n_lowPlate = node.find(\"lowPlate\").text\n",
    "    n_plateNo = node.find(\"plateNo\").text\n",
    "    n_plateType = node.find(\"plateType\").text\n",
    "    n_remainSeatCnt = node.find(\"remainSeatCnt\").text\n",
    "    n_routeId = node.find(\"routeId\").text\n",
    "    n_stationId = node.find(\"stationId\").text\n",
    "    n_stationSeq = node.find(\"stationSeq\").text\n",
    "        \n",
    "    rows.append({\"endBus\":n_endBus,\n",
    "                 \"lowPlate\":n_lowPlate,\n",
    "                 \"plateNo\":n_plateNo,\n",
    "                 \"plateType\":n_plateType,\n",
    "                 \"remainSeatCnt\":n_remainSeatCnt,\n",
    "                 \"routeId\":n_routeId,\n",
    "                 \"stationId\":n_stationId,\n",
    "                 \"stationSeq\":n_stationSeq})\n",
    "rows.append({\"queryTime\":queryTime})\n",
    "\n",
    "for x in rows :\n",
    "    print(x)\n",
    "    print('\\n')"
   ]
  },
  {
   "cell_type": "code",
   "execution_count": null,
   "metadata": {},
   "outputs": [],
   "source": []
  },
  {
   "cell_type": "code",
   "execution_count": null,
   "metadata": {},
   "outputs": [],
   "source": []
  },
  {
   "cell_type": "code",
   "execution_count": null,
   "metadata": {},
   "outputs": [],
   "source": []
  }
 ],
 "metadata": {
  "colab": {
   "name": "경기버스정보API.ipynb",
   "provenance": []
  },
  "kernelspec": {
   "display_name": "Python 3",
   "language": "python",
   "name": "python3"
  },
  "language_info": {
   "codemirror_mode": {
    "name": "ipython",
    "version": 3
   },
   "file_extension": ".py",
   "mimetype": "text/x-python",
   "name": "python",
   "nbconvert_exporter": "python",
   "pygments_lexer": "ipython3",
   "version": "3.8.3"
  }
 },
 "nbformat": 4,
 "nbformat_minor": 1
}

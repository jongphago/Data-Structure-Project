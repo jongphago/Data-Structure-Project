{
 "cells": [
  {
   "cell_type": "markdown",
   "metadata": {
    "id": "zh40BpT3Mcqn"
   },
   "source": [
    "##https://data.go.kr/tcs/dss/selectApiDataDetailView.do?publicDataPk=15057440"
   ]
  },
  {
   "cell_type": "code",
   "execution_count": 90,
   "metadata": {
    "id": "xWrCtng4Me2-"
   },
   "outputs": [],
   "source": [
    "# Python 샘플 코드 #\n",
    "from urllib.request import Request, urlopen\n",
    "# Request https://docs.python.org/ko/3/library/urllib.request.html#urllib.request.Request\n",
    "# urlopen https://docs.python.org/ko/3/library/urllib.request.html#urllib.request.urlopen"
   ]
  },
  {
   "cell_type": "code",
   "execution_count": 91,
   "metadata": {
    "id": "CutJyStIMvBI"
   },
   "outputs": [],
   "source": [
    "from urllib.parse import urlencode, quote_plus\n",
    "# urlenocde https://docs.python.org/ko/3/library/urllib.parse.html#urllib.parse.urlencode\n",
    "# quote_plus https://docs.python.org/ko/3/library/urllib.parse.html#urllib.parse.quote_plus"
   ]
  },
  {
   "cell_type": "code",
   "execution_count": 92,
   "metadata": {
    "id": "Oig44Og6T2l0"
   },
   "outputs": [],
   "source": [
    "from urllib.parse import unquote"
   ]
  },
  {
   "cell_type": "code",
   "execution_count": 93,
   "metadata": {},
   "outputs": [],
   "source": [
    "from xml.etree.ElementTree import parse"
   ]
  },
  {
   "cell_type": "code",
   "execution_count": 94,
   "metadata": {
    "id": "nbFIzOA9bY7C"
   },
   "outputs": [],
   "source": [
    "import requests"
   ]
  },
  {
   "cell_type": "code",
   "execution_count": 127,
   "metadata": {
    "colab": {
     "base_uri": "https://localhost:8080/"
    },
    "id": "X4RvGmtjX2g0",
    "outputId": "2774c4d6-4b05-45d8-d0ea-170338c7cbf7"
   },
   "outputs": [
    {
     "name": "stdout",
     "output_type": "stream",
     "text": [
      "M+4/qUiadT8X8PhgFjaQLDu+IOgPMURfGsOX/mVxwHQVJgnVR/MPjDYXkuQNwUFbZXlfnX5Lls3SUCiCLIFjgQ==\n"
     ]
    }
   ],
   "source": [
    "#KEY = 'yEaR%2F3MDedRSlVJL%2F2pxnVg0yre1N5VF3RZ%2FUAt56MJ7J2mNpfqhUvy05pXV0uhHTVY7DbyCR8xmMaDdYga67Q%3D%3D'\n",
    "KEY = 'M%2B4%2FqUiadT8X8PhgFjaQLDu%2BIOgPMURfGsOX%2FmVxwHQVJgnVR%2FMPjDYXkuQNwUFbZXlfnX5Lls3SUCiCLIFjgQ%3D%3D'\n",
    "API_KEY = requests.utils.unquote(KEY)\n",
    "API_KEY = unquote(KEY)\n",
    "print(API_KEY)"
   ]
  },
  {
   "cell_type": "code",
   "execution_count": 128,
   "metadata": {
    "id": "EpvvO0J9MkqR"
   },
   "outputs": [],
   "source": [
    "# getBusPosByRtid\n",
    "# 노선ID로 차량들의 위치정보를 조회한다\n",
    "# 서울\n",
    "url = 'http://ws.bus.go.kr/api/rest/buspos/getBusPosByRtid'\n",
    "queryParams = '?' + urlencode({ quote_plus('ServiceKey') : API_KEY, quote_plus('busRouteId') : '204000046' })"
   ]
  },
  {
   "cell_type": "code",
   "execution_count": 142,
   "metadata": {},
   "outputs": [],
   "source": [
    "# 경유정류소목록조회 buslocationservice\n",
    "# 해당 노선이 정차하는 경유정류소 목록과 정류소명, 중앙차로여부, 회차점, 좌표값 등을 제공한다.\n",
    "url_k = 'http://openapi.gbis.go.kr/ws/rest/buslocationservice'\n",
    "queryParams_k = '?' + urlencode({ quote_plus('serviceKey') : API_KEY, quote_plus('routeId') : '204000046' })"
   ]
  },
  {
   "cell_type": "code",
   "execution_count": 143,
   "metadata": {
    "id": "F_DuFQ8TXy_v"
   },
   "outputs": [],
   "source": [
    "# 버스도착정보조회 서비스\n",
    "url1 = 'http://ws.bus.go.kr/api/rest/arrive/getArrInfoByRouteAll'\n",
    "queryParams1 = '?' + urlencode({ quote_plus('ServiceKey') : API_KEY, quote_plus('busRouteId') : '204000046' })"
   ]
  },
  {
   "cell_type": "code",
   "execution_count": 144,
   "metadata": {
    "colab": {
     "base_uri": "https://localhost:8080/"
    },
    "id": "q6aWq-k3Pvkl",
    "outputId": "642b1c5b-6a79-4e32-cf97-0ac65dccecc7"
   },
   "outputs": [
    {
     "name": "stdout",
     "output_type": "stream",
     "text": [
      "http://ws.bus.go.kr/api/rest/buspos/getBusPosByRtid?ServiceKey=M%2B4%2FqUiadT8X8PhgFjaQLDu%2BIOgPMURfGsOX%2FmVxwHQVJgnVR%2FMPjDYXkuQNwUFbZXlfnX5Lls3SUCiCLIFjgQ%3D%3D&busRouteId=204000046\n"
     ]
    }
   ],
   "source": [
    "print(url + queryParams)"
   ]
  },
  {
   "cell_type": "code",
   "execution_count": 145,
   "metadata": {},
   "outputs": [
    {
     "name": "stdout",
     "output_type": "stream",
     "text": [
      "http://ws.bus.go.kr/api/rest/arrive/getArrInfoByRouteAll?ServiceKey=M%2B4%2FqUiadT8X8PhgFjaQLDu%2BIOgPMURfGsOX%2FmVxwHQVJgnVR%2FMPjDYXkuQNwUFbZXlfnX5Lls3SUCiCLIFjgQ%3D%3D&busRouteId=204000046\n"
     ]
    }
   ],
   "source": [
    "print(url1 + queryParams1)"
   ]
  },
  {
   "cell_type": "code",
   "execution_count": 146,
   "metadata": {},
   "outputs": [
    {
     "name": "stdout",
     "output_type": "stream",
     "text": [
      "http://openapi.gbis.go.kr/ws/rest/buslocationservice?serviceKey=M%2B4%2FqUiadT8X8PhgFjaQLDu%2BIOgPMURfGsOX%2FmVxwHQVJgnVR%2FMPjDYXkuQNwUFbZXlfnX5Lls3SUCiCLIFjgQ%3D%3D&routeId=204000046\n"
     ]
    }
   ],
   "source": [
    "print(url_k + queryParams_k)"
   ]
  },
  {
   "cell_type": "code",
   "execution_count": 153,
   "metadata": {
    "id": "Kl9cnX77Pu4N"
   },
   "outputs": [],
   "source": [
    "buslocation = url + queryParams1\n",
    "busarrive = url1 + queryParams1\n",
    "buslocation_k = url_k + queryParams_k\n",
    "#'http://openapi.gbis.go.kr/ws/rest/buslocationservice?serviceKey=M%2B4%2FqUiadT8X8PhgFjaQLDu%2BIOgPMURfGsOX%2FmVxwHQVJgnVR%2FMPjDYXkuQNwUFbZXlfnX5Lls3SUCiCLIFjgQ%3D%3D&routeId=233000031'\n",
    "#url_k + queryParams_k\n",
    "\n",
    "request_location = Request(buslocation)\n",
    "request_location.get_method = lambda: 'GET'\n",
    "response_location= urlopen(request_location).read().decode('utf8')\n",
    "\n",
    "request_location_k = Request(buslocation_k)\n",
    "request_location_k.get_method = lambda: 'GET'\n",
    "response_location_k = urlopen(request_location_k).read().decode('utf8')\n",
    "\n",
    "request_arrive = Request(busarrive)\n",
    "request_arrive.get_method = lambda: 'GET'\n",
    "response_arrive = urlopen(request_arrive).read().decode('utf8')"
   ]
  },
  {
   "cell_type": "code",
   "execution_count": 199,
   "metadata": {
    "scrolled": true
   },
   "outputs": [],
   "source": [
    "## bus 별로 정렬\n",
    "s = response_location_k.split('<busLocationList>')\n",
    "for x in range(len(s)) :\n",
    "    bus_list = s[x]\n",
    "\n",
    "## bus 수 count\n",
    "sum = 0\n",
    "for x in range(len(s)) :\n",
    "    sum += s[x].count('<busType>')"
   ]
  },
  {
   "cell_type": "code",
   "execution_count": 195,
   "metadata": {},
   "outputs": [],
   "source": [
    "## query time\n",
    "a = s[0].split('>')\n",
    "b = a[10]\n",
    "query_time = b[:-11]"
   ]
  },
  {
   "cell_type": "code",
   "execution_count": 201,
   "metadata": {},
   "outputs": [
    {
     "name": "stdout",
     "output_type": "stream",
     "text": [
      "<endBus>0</endBus><lowPlate>0</lowPlate><plateNo>경기77바1097</plateNo><plateType>3</plateType><remainSeatCnt>28</remainSeatCnt><routeId>204000046</routeId><stationId>277103392</stationId><stationSeq>37</stationSeq></busLocationList>\n",
      "<endBus>0</endBus><lowPlate>0</lowPlate><plateNo>경기70아8629</plateNo><plateType>3</plateType><remainSeatCnt>34</remainSeatCnt><routeId>204000046</routeId><stationId>206000017</stationId><stationSeq>45</stationSeq></busLocationList>\n",
      "<endBus>0</endBus><lowPlate>0</lowPlate><plateNo>경기70아7474</plateNo><plateType>3</plateType><remainSeatCnt>39</remainSeatCnt><routeId>204000046</routeId><stationId>277103441</stationId><stationSeq>14</stationSeq></busLocationList>\n",
      "<endBus>0</endBus><lowPlate>0</lowPlate><plateNo>경기70아7361</plateNo><plateType>3</plateType><remainSeatCnt>45</remainSeatCnt><routeId>204000046</routeId><stationId>100000001</stationId><stationSeq>24</stationSeq></busLocationList>\n",
      "<endBus>0</endBus><lowPlate>0</lowPlate><plateNo>경기70아7482</plateNo><plateType>3</plateType><remainSeatCnt>37</remainSeatCnt><routeId>204000046</routeId><stationId>101000001</stationId><stationSeq>32</stationSeq></busLocationList>\n",
      "<endBus>0</endBus><lowPlate>0</lowPlate><plateNo>경기78아1178</plateNo><plateType>3</plateType><remainSeatCnt>34</remainSeatCnt><routeId>204000046</routeId><stationId>277103678</stationId><stationSeq>42</stationSeq></busLocationList>\n",
      "<endBus>0</endBus><lowPlate>0</lowPlate><plateNo>경기77바1198</plateNo><plateType>3</plateType><remainSeatCnt>45</remainSeatCnt><routeId>204000046</routeId><stationId>206000658</stationId><stationSeq>3</stationSeq></busLocationList></msgBody></response>\n"
     ]
    }
   ],
   "source": [
    "s.pop(0)\n",
    "for line in s :\n",
    "    endBus = []\n",
    "    lowPlate = []\n",
    "    plateNo = []\n",
    "    plateType = []\n",
    "    remainSeatCnt = []\n",
    "    routeId = []\n",
    "    stationId = []\n",
    "    stationSeq = []\n",
    "    \n",
    "    line.split('>')\n",
    "    print(line)"
   ]
  },
  {
   "cell_type": "code",
   "execution_count": null,
   "metadata": {},
   "outputs": [],
   "source": []
  }
 ],
 "metadata": {
  "colab": {
   "name": "경기버스정보API.ipynb",
   "provenance": []
  },
  "kernelspec": {
   "display_name": "Python 3",
   "language": "python",
   "name": "python3"
  },
  "language_info": {
   "codemirror_mode": {
    "name": "ipython",
    "version": 3
   },
   "file_extension": ".py",
   "mimetype": "text/x-python",
   "name": "python",
   "nbconvert_exporter": "python",
   "pygments_lexer": "ipython3",
   "version": "3.8.3"
  }
 },
 "nbformat": 4,
 "nbformat_minor": 1
}

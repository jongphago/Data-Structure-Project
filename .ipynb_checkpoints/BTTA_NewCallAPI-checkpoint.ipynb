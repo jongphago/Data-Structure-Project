{
 "cells": [
  {
   "cell_type": "markdown",
   "metadata": {},
   "source": [
    "## 라이브러리 설치"
   ]
  },
  {
   "cell_type": "code",
   "execution_count": 1,
   "metadata": {},
   "outputs": [],
   "source": [
    "# !pip3 install schedule\n",
    "# !pip3 install pytz\n",
    "# !pip3 install pandas"
   ]
  },
  {
   "cell_type": "markdown",
   "metadata": {
    "id": "DPX76GW5yfyJ"
   },
   "source": [
    "## 라이브러리 불러오기"
   ]
  },
  {
   "cell_type": "code",
   "execution_count": 2,
   "metadata": {
    "id": "xWrCtng4Me2-"
   },
   "outputs": [],
   "source": [
    "# API 호출\n",
    "# ## https://data.go.kr/tcs/dss/selectApiDataDetailView.do?publicDataPk=15057440\n",
    "from urllib.request import Request, urlopen\n",
    "# Request https://docs.python.org/ko/3/library/urllib.request.html#urllib.request.Request\n",
    "# urlopen https://docs.python.org/ko/3/library/urllib.request.html#urllib.request.urlopen\n",
    "from urllib.parse import urlencode, quote_plus\n",
    "# urlenocde https://docs.python.org/ko/3/library/urllib.parse.html#urllib.parse.urlencode\n",
    "# quote_plus https://docs.python.org/ko/3/library/urllib.parse.html#urllib.parse.quote_plus\n",
    "from urllib.parse import unquote\n",
    "import requests\n",
    "\n",
    "# 시간 생성\n",
    "import time\n",
    "import datetime\n",
    "from pytz import timezone, utc\n",
    "\n",
    "# 폴더 자동 생성\n",
    "import os\n",
    "\n",
    "# 코드 스케줄링\n",
    "import threading\n",
    "import schedule\n",
    "\n",
    "import pandas as pd\n",
    "\n",
    "# XML 파싱\n",
    "import xml.etree.ElementTree as ET"
   ]
  },
  {
   "cell_type": "markdown",
   "metadata": {
    "id": "Pp1hVhMT7t3V"
   },
   "source": [
    "## KEY unquote"
   ]
  },
  {
   "cell_type": "code",
   "execution_count": 3,
   "metadata": {
    "id": "X4RvGmtjX2g0"
   },
   "outputs": [],
   "source": [
    "KEY = 'yEaR%2F3MDedRSlVJL%2F2pxnVg0yre1N5VF3RZ%2FUAt56MJ7J2mNpfqhUvy05pXV0uhHTVY7DbyCR8xmMaDdYga67Q%3D%3D' # 종현\n",
    "# apiKEY = requests.utils.unquote(KEY)\n",
    "apiKey = unquote(KEY)\n",
    "# print(apiKey)\n",
    "KEYSW = 'M%2B4%2FqUiadT8X8PhgFjaQLDu%2BIOgPMURfGsOX%2FmVxwHQVJgnVR%2FMPjDYXkuQNwUFbZXlfnX5Lls3SUCiCLIFjgQ%3D%3D'\n",
    "apiKeySW = unquote(KEYSW)"
   ]
  },
  {
   "cell_type": "markdown",
   "metadata": {},
   "source": [
    "## @현재 시간 생성 함수"
   ]
  },
  {
   "cell_type": "code",
   "execution_count": 4,
   "metadata": {},
   "outputs": [],
   "source": [
    "def getNowTime():\n",
    "    fileDateTime = utc.localize(datetime.datetime.utcnow()).astimezone(timezone('Asia/Seoul'))       # 자정이 넘어간 시간 파일 경로가 바뀌는 문제를 해결해야 합니다.\n",
    "    return fileDateTime"
   ]
  },
  {
   "cell_type": "markdown",
   "metadata": {},
   "source": [
    "## routeId의 첫차시간과 막차시간을 datetime으로 저장합니다."
   ]
  },
  {
   "cell_type": "code",
   "execution_count": 5,
   "metadata": {},
   "outputs": [],
   "source": [
    "def makeInfoFile(routeId):\n",
    "    '''\n",
    "    InfoFile을 만드는 함수 입니다.\n",
    "    busrouteservice/info API를 호출하여 ...\n",
    "    '''\n",
    "    infoRootPath = 'C:/Users/jongh/OneDrive/School/석사/1-2/자료구조/프로젝트/5.DATA/BusInfo/'\n",
    "    infoFilePath = infoRootPath + str(routeId) + '.txt'\n",
    "    try:\n",
    "        infoFile = open(infoFilePath, 'w', encoding = 'utf-8', newline = '\\n')\n",
    "    except:\n",
    "        createFolder(infoRootPath)\n",
    "        infoFile = open(infoFilePath, 'w', encoding = 'utf-8', newline = '\\n')\n",
    "\n",
    "\n",
    "    # 노선정보항목조회 busrouteservice/info\n",
    "    # 해당 노선에 대한 노선번호, 기점/종점 정류소, 첫차/막차시간, 배차간격, 운행업체 등의 운행계획 정보를 제공합니다.\n",
    "    url = 'http://openapi.gbis.go.kr/ws/rest/busrouteservice/info'\n",
    "    queryParams = '?' + urlencode({ quote_plus('serviceKey') : apiKey, quote_plus('routeId') : routeId })\n",
    "    # print(url+queryParams)\n",
    "\n",
    "    request = Request(url + queryParams)\n",
    "    request.get_method = lambda: 'GET'\n",
    "    oneLineXML = urlopen(request).read().decode('utf8')\n",
    "    # print(oneLineXML)\n",
    "\n",
    "    xtree = ET.fromstring(oneLineXML)\n",
    "    resultCode = int(xtree[1].find(\"resultCode\").text)\n",
    "    msgBody = xtree[2]\n",
    "\n",
    "    busRouteInfoItem = msgBody[0]\n",
    "    i=0\n",
    "    infoFile.write(\"INFOFILE \")\n",
    "    infoFile.write(str(routeId))\n",
    "    infoFile.write('\\n')\n",
    "\n",
    "    for info in busRouteInfoItem:\n",
    "        infoFile.write(info.tag)\n",
    "        infoFile.write(' ')\n",
    "        infoFile.write(info.text)\n",
    "        infoFile.write('\\n')\n",
    "        # print(f\"{i} {info.tag} : {info.text}\")\n",
    "        i+=1\n",
    "    infoFile.close()"
   ]
  },
  {
   "cell_type": "code",
   "execution_count": 6,
   "metadata": {},
   "outputs": [],
   "source": [
    "def readInfoCSV(routeId):\n",
    "    infoRootPath = 'C:/Users/jongh/OneDrive/School/석사/1-2/자료구조/프로젝트/5.DATA/BusInfo/'\n",
    "    infoFilePath = infoRootPath + str(routeId) + '.txt'\n",
    "    df= pd.read_csv(infoFilePath, sep=' ', index_col='INFOFILE')\n",
    "    return df"
   ]
  },
  {
   "cell_type": "code",
   "execution_count": 7,
   "metadata": {},
   "outputs": [],
   "source": [
    "def getBusTime(routeId):\n",
    "    # 첫차 출발시간과 막차 정류장 도착시간을 받습니다.\n",
    "    # ISSUE1: 막차 정류장 도착시간이 실제 시간과 차이가 많이납니다.\n",
    "    # ISSUE2: 자정이 넘어가면 하루를 더해줘야 합니다. 자정이 넘어갔다는 사실을 어떻게 알게 할까요? \n",
    "    #         >>> 출발 시간보다 작으면 하루를 더해주고 출발시간보다 크면 날짜를 그대로 사용합니다.\n",
    "    try: \n",
    "        info_df = readInfoCSV(routeId)\n",
    "    except:\n",
    "        makeInfoFile(routeId)\n",
    "        info_df = readInfoCSV(routeId)\n",
    "        \n",
    "    upFirstTime = info_df.loc['downFirstTime'].values[0]\n",
    "    downLastTime = info_df.loc['downLastTime'].values[0]\n",
    "\n",
    "    startDate = getNowTime()\n",
    "    if(int(upFirstTime.replace(':','')) < int(downLastTime.replace(':',''))):\n",
    "        endDate = startDate\n",
    "    else:\n",
    "        endDate = startDate + datetime.timedelta(days=1)\n",
    "\n",
    "    startDate = startDate.isoformat()[:11] + upFirstTime + ':00.000000+09:00'\n",
    "    endDate = endDate.isoformat()[:11] + downLastTime + ':00.000000+09:00'\n",
    "\n",
    "    startDatetime = datetime.datetime.strptime(startDate, '%Y-%m-%dT%H:%M:%S.%f%z') + datetime.timedelta(days=0)\n",
    "    endDatetime = datetime.datetime.strptime(endDate, '%Y-%m-%dT%H:%M:%S.%f%z') + datetime.timedelta(days=0)\n",
    "    return (startDatetime, endDatetime)"
   ]
  },
  {
   "cell_type": "code",
   "execution_count": 8,
   "metadata": {},
   "outputs": [],
   "source": [
    "def initbusInOutTimeList(routeIdList):\n",
    "    busInOutTimeList = []\n",
    "    for routeId in routeIdList:\n",
    "        busInOutTimeList.append(getBusTime(routeId))\n",
    "    return busInOutTimeList"
   ]
  },
  {
   "cell_type": "markdown",
   "metadata": {
    "id": "YlVVhU68VVEi"
   },
   "source": [
    "## @routeIdList 작성 선행"
   ]
  },
  {
   "cell_type": "code",
   "execution_count": 9,
   "metadata": {},
   "outputs": [],
   "source": [
    "def writeRouteId(routeIdList):\n",
    "    routeIdFile = open(\"C:/Users/jongh/OneDrive/School/석사/1-2/자료구조/프로젝트/5.DATA/Master/dataAPI/buslocationservice/routeIdFile.txt\", 'w')\n",
    "    routeIdList.sort()\n",
    "    for routeId in routeIdList:\n",
    "        routeIdFile.write(str(routeId))\n",
    "        routeIdFile.write('\\n')\n",
    "    routeIdFile.close()"
   ]
  },
  {
   "cell_type": "code",
   "execution_count": 10,
   "metadata": {},
   "outputs": [],
   "source": [
    "def readRouteId():\n",
    "    routeIdFile = open(\"C:/Users/jongh/OneDrive/School/석사/1-2/자료구조/프로젝트/5.DATA/Master/dataAPI/buslocationservice/routeIdFile.txt\", 'r')\n",
    "    routeIdList = []\n",
    "    while True:\n",
    "        routeId = routeIdFile.readline().rstrip(\"\\n\")\n",
    "        if not routeId: break\n",
    "        routeIdList.append(int(routeId))\n",
    "    routeIdFile.close()\n",
    "    return routeIdList"
   ]
  },
  {
   "cell_type": "code",
   "execution_count": 11,
   "metadata": {},
   "outputs": [],
   "source": [
    "# routeIdList = readRouteId()\n",
    "routeIdList = [229000112, 227000040, 234000873, 228000388, 228000176, 204000070]"
   ]
  },
  {
   "cell_type": "markdown",
   "metadata": {},
   "source": [
    "## @filePathList 생성"
   ]
  },
  {
   "cell_type": "code",
   "execution_count": 12,
   "metadata": {},
   "outputs": [],
   "source": [
    "# 폴더 자동 생성 함수\n",
    "# https://data-make.tistory.com/170\n",
    "def createFolder(directory):\n",
    "    try:\n",
    "        if not os.path.exists(directory):\n",
    "            os.makedirs(directory)\n",
    "    except OSError:\n",
    "        print ('Error: Creating directory. ' +  directory)"
   ]
  },
  {
   "cell_type": "code",
   "execution_count": 13,
   "metadata": {},
   "outputs": [],
   "source": [
    "########################################################################\n",
    "## 코드를 실행하는 장치에 따라 달라지는 경로 입니다. 수정해서 사용하세요. ###\n",
    "########################################################################\n",
    "\n",
    "fileDevicepath = 'C:/Users/jongh/OneDrive/School/석사/1-2/자료구조/프로젝트/5.DATA'\n",
    "# fileDevicepath = 'C:/Users/Administrator/OneDrive/School/석사/1-2/자료구조/프로젝트/5.DATA'    # AWS 사용시 선택하는 경로\n",
    "\n",
    "# 기능 구분 폴더 입니다. 실제 데이터 기록시 반드시 확인하세요.\n",
    "fileAPIName = 'buslocationservice'                                                            # AWS 사용시 선택하는 폴더 이름\n",
    "# fileAPIName = 'testFolder1'\n",
    "\n",
    "# 루트 폴더 입니다.\n",
    "fileRootPath = '/Master/dataAPI/'"
   ]
  },
  {
   "cell_type": "code",
   "execution_count": 14,
   "metadata": {},
   "outputs": [],
   "source": [
    "def makeFilePathList():\n",
    "    \n",
    "    global fileDevicepath, fileRootPath, fileAPIName, busInOutTimeList\n",
    "    filePathList = []\n",
    "\n",
    "    for index, routeId in enumerate(routeIdList):\n",
    "        \n",
    "        # 고정된 이름 및 변수에 의해 자동으로 생성 되는 이름 입니다. 변수를 확인하세요.\n",
    "        fileRouteId = str(routeId)                        # 파일 이름에 routeId를 포함 시킬지 확인합니다.\n",
    "        currentTime = busInOutTimeList[index][0]\n",
    "        fileDateTime = currentTime.isoformat()[2:10]      # 자정이 넘어간 시간 파일 경로가 바뀌는 문제를 해결해야 합니다.\n",
    "        fileExtension = '.txt'\n",
    "\n",
    "        #파일의 폴더 경로와 이름을 각각 출력합니다.\n",
    "        folderPath = str(fileDevicepath + fileRootPath + fileAPIName + '/' + fileRouteId)\n",
    "        # print(folderPath)\n",
    "        fileName = fileRouteId + '_' + fileDateTime + fileExtension\n",
    "        # print(fileName)\n",
    "\n",
    "        # 파일의 최종 경로를 출력합니다.\n",
    "        filePath = str(folderPath + '/' + fileName)\n",
    "\n",
    "        # 폴더를 생성합니다.\n",
    "        createFolder(folderPath)\n",
    "\n",
    "        # 파일 경로 리스트에 파일경로를 추가합니다.\n",
    "        filePathList.append(filePath)\n",
    "        \n",
    "    return filePathList"
   ]
  },
  {
   "cell_type": "code",
   "execution_count": 15,
   "metadata": {},
   "outputs": [],
   "source": [
    "def newFile(routeIdList, filePathList, busInOutTimeList):\n",
    "    for routeId, filePath, busInOutTime in zip(routeIdList, filePathList, busInOutTimeList):\n",
    "        textFile = open(filePath, 'w', encoding = 'utf-8', newline = '\\n')\n",
    "        textFile.write(str(routeId))\n",
    "        textFile.write(' ')\n",
    "        currentTime = busInOutTime[0]\n",
    "        textFile.write(currentTime.isoformat())\n",
    "        textFile.write(\"\\n\")"
   ]
  },
  {
   "cell_type": "markdown",
   "metadata": {},
   "source": [
    "## @로그파일을 생성한다"
   ]
  },
  {
   "cell_type": "code",
   "execution_count": 16,
   "metadata": {},
   "outputs": [],
   "source": [
    "def makeLogFile():\n",
    "    global fileDevicepath, fileRootPath, fileAPIName\n",
    "    logfileRootPath = fileDevicepath + fileRootPath + fileAPIName + '/_log'\n",
    "    fileDateTime = getNowTime().isoformat()[2:10]\n",
    "    fileName = '_log.txt'\n",
    "    \n",
    "    logPath = logfileRootPath + '/' + fileDateTime + fileName \n",
    "    # print(logPath)\n",
    "    # print(logfileRootPath)\n",
    "    \n",
    "    # logPath 경로에 폴더를 생성합니다.\n",
    "    createFolder(logfileRootPath)\n",
    "    \n",
    "    return logPath\n",
    "\n",
    "logPath = makeLogFile()"
   ]
  },
  {
   "cell_type": "code",
   "execution_count": 17,
   "metadata": {},
   "outputs": [],
   "source": [
    "def newLogFile(logPath):\n",
    "    logFile = open(logPath, 'w', encoding = 'utf-8', newline = '\\n')\n",
    "    logFile.write(getNowTime().isoformat())\n",
    "    logFile.write(\"\\n\")\n",
    "    \n",
    "    # logFile = open(logPath, 'a', encoding = 'utf-8', newline = '\\n')\n",
    "    # return logFile"
   ]
  },
  {
   "cell_type": "code",
   "execution_count": 18,
   "metadata": {},
   "outputs": [],
   "source": [
    "newLogFile(logPath)"
   ]
  },
  {
   "cell_type": "markdown",
   "metadata": {},
   "source": [
    "## switchList 생성함수"
   ]
  },
  {
   "cell_type": "code",
   "execution_count": 19,
   "metadata": {},
   "outputs": [],
   "source": [
    "def switchInit():\n",
    "    \"\"\"\n",
    "    switchList에는 각 routeId에 대해 함수 [ openAPICall ] 실행 여부가 저장되어 있습니다.\n",
    "    switchList[i]는 i번째 routeId에 대한 switch를 나타냅니다.\n",
    "    switch 가 True일때 함수를 실행하고 False일때 실행하지 않습니다.\n",
    "    \"\"\"\n",
    "    switchList = [False for _ in range(len(routeIdList))]\n",
    "    return switchList"
   ]
  },
  {
   "cell_type": "code",
   "execution_count": 20,
   "metadata": {},
   "outputs": [],
   "source": [
    "def changeSwitch(index):\n",
    "    \"\"\"\n",
    "    함수 [ changeSwitch ] 은 현재 시간과 버스의 운행시간에 따라 switch 변수를 반환합니다.\n",
    "    i)  if 스위치 on : 버스가 운행중일때, switchList[i]==True\n",
    "            if 현재시간이 막차의 차고지 도착 시간을 지났고(endDatetime < now)...\n",
    "                if* 차량이 운행중이지 않다면(resultCode != 0)...\n",
    "                    >>> 스위치 off 전환 : 함수 [ openAPICall ] 호출을 멈춥니다.\n",
    "                    >>> busInOutTimeList 를 업데이트\n",
    "                else 차량이 운행중이라면 (resultCode == 0)...\n",
    "                    >>> 스위치 on 유지 : 함수 [ openAPICall을 계속 호출 합니다.]\n",
    "            else 차고지 도착시간을 지나지 않았다면(endDatetime => now)...\n",
    "                >>> 스위치 on 유지 : 함수 [ openAPICall을 계속 호출 합니다.]\n",
    "                    \n",
    "    ii) else 스위치 off : 버스가 운행중이지 않을때\n",
    "            if* 현재시간이 첫차의 차고지 출발시간(-여유시간, 0.5시간)을 지났다면...\n",
    "                >>> 스위치 on 전환 : 함수 [ openAPICall ]를 실행합니다.\n",
    "            else 출발시간을 지나지 않았다면...\n",
    "                >>> 스위치 off 유지\n",
    "    \n",
    "    \"\"\"\n",
    "    global switchList, filePathList, routeIdList, busInOutTimeList\n",
    "    \n",
    "    now = getNowTime() + datetime.timedelta(hours=2) + datetime.timedelta(days=1)\n",
    "    startDatetime = busInOutTimeList[index][0]    \n",
    "    endDatetime = busInOutTimeList[index][1]\n",
    "    \n",
    "    print(f\"now:\\t\\t{now}\\nstartDatetime:\\t{startDatetime}\\nendDatetime:\\t{endDatetime}\")\n",
    "    \n",
    "\n",
    "    if(switchList[index] == False):        \n",
    "        if(startDatetime-datetime.timedelta(hours=.5)<now):\n",
    "            print(startDatetime-datetime.timedelta(hours=.5)<now)\n",
    "            print(startDatetime-datetime.timedelta(hours=.5), now)\n",
    "            switchList[index] = True\n",
    "            \n",
    "        else:\n",
    "            pass\n",
    "\n",
    "    else:\n",
    "        '''\n",
    "        openAPICall\n",
    "        '''\n",
    "        \n",
    "        if(endDatetime < now):\n",
    "            switchList[index] = False\n",
    "            busInOutTimeList[index][0] += datetime.timedelta(days=1)\n",
    "            busInOutTimeList[index][1] += datetime.timedelta(days=1)\n",
    "            filePathList[index] = filePathList[index][:-12] + str(busInOutTimeList[index][0])[2:10] + '.txt'\n",
    "            pass\n",
    "            \n",
    "        else:\n",
    "            pass"
   ]
  },
  {
   "cell_type": "code",
   "execution_count": 21,
   "metadata": {},
   "outputs": [
    {
     "data": {
      "text/plain": [
       "[(datetime.datetime(2020, 11, 20, 6, 0, tzinfo=datetime.timezone(datetime.timedelta(seconds=32400))),\n",
       "  datetime.datetime(2020, 11, 21, 0, 30, tzinfo=datetime.timezone(datetime.timedelta(seconds=32400)))),\n",
       " (datetime.datetime(2020, 11, 20, 5, 40, tzinfo=datetime.timezone(datetime.timedelta(seconds=32400))),\n",
       "  datetime.datetime(2020, 11, 21, 0, 0, tzinfo=datetime.timezone(datetime.timedelta(seconds=32400)))),\n",
       " (datetime.datetime(2020, 11, 20, 6, 0, tzinfo=datetime.timezone(datetime.timedelta(seconds=32400))),\n",
       "  datetime.datetime(2020, 11, 20, 23, 50, tzinfo=datetime.timezone(datetime.timedelta(seconds=32400)))),\n",
       " (datetime.datetime(2020, 11, 20, 6, 30, tzinfo=datetime.timezone(datetime.timedelta(seconds=32400))),\n",
       "  datetime.datetime(2020, 11, 20, 13, 10, tzinfo=datetime.timezone(datetime.timedelta(seconds=32400)))),\n",
       " (datetime.datetime(2020, 11, 20, 6, 30, tzinfo=datetime.timezone(datetime.timedelta(seconds=32400))),\n",
       "  datetime.datetime(2020, 11, 21, 0, 0, tzinfo=datetime.timezone(datetime.timedelta(seconds=32400)))),\n",
       " (datetime.datetime(2020, 11, 20, 6, 0, tzinfo=datetime.timezone(datetime.timedelta(seconds=32400))),\n",
       "  datetime.datetime(2020, 11, 20, 23, 50, tzinfo=datetime.timezone(datetime.timedelta(seconds=32400))))]"
      ]
     },
     "execution_count": 21,
     "metadata": {},
     "output_type": "execute_result"
    }
   ],
   "source": [
    "busInOutTimeList = initbusInOutTimeList(routeIdList)\n",
    "busInOutTimeList"
   ]
  },
  {
   "cell_type": "code",
   "execution_count": 22,
   "metadata": {},
   "outputs": [
    {
     "data": {
      "text/plain": [
       "['C:/Users/jongh/OneDrive/School/석사/1-2/자료구조/프로젝트/5.DATA/Master/dataAPI/buslocationservice/229000112/229000112_20-11-20.txt',\n",
       " 'C:/Users/jongh/OneDrive/School/석사/1-2/자료구조/프로젝트/5.DATA/Master/dataAPI/buslocationservice/227000040/227000040_20-11-20.txt',\n",
       " 'C:/Users/jongh/OneDrive/School/석사/1-2/자료구조/프로젝트/5.DATA/Master/dataAPI/buslocationservice/234000873/234000873_20-11-20.txt',\n",
       " 'C:/Users/jongh/OneDrive/School/석사/1-2/자료구조/프로젝트/5.DATA/Master/dataAPI/buslocationservice/228000388/228000388_20-11-20.txt',\n",
       " 'C:/Users/jongh/OneDrive/School/석사/1-2/자료구조/프로젝트/5.DATA/Master/dataAPI/buslocationservice/228000176/228000176_20-11-20.txt',\n",
       " 'C:/Users/jongh/OneDrive/School/석사/1-2/자료구조/프로젝트/5.DATA/Master/dataAPI/buslocationservice/204000070/204000070_20-11-20.txt']"
      ]
     },
     "execution_count": 22,
     "metadata": {},
     "output_type": "execute_result"
    }
   ],
   "source": [
    "filePathList = makeFilePathList()\n",
    "filePathList"
   ]
  },
  {
   "cell_type": "code",
   "execution_count": 23,
   "metadata": {},
   "outputs": [
    {
     "data": {
      "text/plain": [
       "[False, False, False, False, False, False]"
      ]
     },
     "execution_count": 23,
     "metadata": {},
     "output_type": "execute_result"
    }
   ],
   "source": [
    "switchList = switchInit()\n",
    "switchList"
   ]
  },
  {
   "cell_type": "markdown",
   "metadata": {},
   "source": [
    "## \"openapi.gbis.go.kr\" 도메인 API 호출"
   ]
  },
  {
   "cell_type": "code",
   "execution_count": 24,
   "metadata": {},
   "outputs": [],
   "source": [
    "def openAPICall():\n",
    "    ############################################################  \n",
    "    url = 'http://openapi.gbis.go.kr/ws/rest/buslocationservice'# <<<<<<<<<<<<< 도메인 확인\n",
    "    ############################################################\n",
    "    global switchList, filePathList, routeIdList, busInOutTimeList\n",
    "    pastTime = getNowTime()\n",
    "    logFile = open(logPath, 'a', encoding = 'utf-8', newline = '\\n')\n",
    "    \n",
    "    index = 0\n",
    "    print(pastTime.isoformat(),'\\t API [ buslocationservice ] 호출을 [ 시작 ] 하였습니다.')  \n",
    "    \n",
    "    \n",
    "    for routeId, filePath in zip(routeIdList, filePathList):\n",
    "        \n",
    "        now = getNowTime()\n",
    "        startDatetime = busInOutTimeList[index][0]    \n",
    "        endDatetime = busInOutTimeList[index][1]\n",
    "\n",
    "        # print(f\"now:\\t\\t{now}\\nstartDatetime:\\t{startDatetime}\\nendDatetime:\\t{endDatetime}\")\n",
    "\n",
    "\n",
    "        if(switchList[index] == False):        \n",
    "            if(startDatetime-datetime.timedelta(hours=.5)<now):\n",
    "                # print(startDatetime-datetime.timedelta(hours=.5)<now)\n",
    "                # print(startDatetime-datetime.timedelta(hours=.5), now)\n",
    "                switchList[index] = True\n",
    "                index += 1\n",
    "                continue\n",
    "\n",
    "            else:\n",
    "                index += 1\n",
    "                continue\n",
    "\n",
    "        else:\n",
    "\n",
    "            # filePath에 있는 .txt파일을 append 모드로 엽니다.\n",
    "            textFile = open(filePath, 'a', encoding = 'utf-8', newline = '\\n')\n",
    "\n",
    "            # API를 호출하여 XML 형식으로 된 string 데이터를 변수 \"oneLineXML\" 에 저장합니다.\n",
    "            queryParams = '?' + urlencode({ quote_plus('serviceKey') : apiKey, quote_plus('routeId') : routeId })\n",
    "            request = Request(url + queryParams)\n",
    "            request.get_method = lambda: 'GET'\n",
    "            oneLineXML = urlopen(request).read().decode('utf8')\n",
    "\n",
    "            # xtree는 \"ws.bus.go.kr\" 도메인 API 호출에서 \"headerCd\"에 상관없이 3개의 태그를 갖습니다.\n",
    "            # [comMsgHeader, msgHeader, msgBody]\n",
    "            xtree = ET.fromstring(oneLineXML)\n",
    "\n",
    "            # comMsgHeader : []\n",
    "            # comMsgHeader = xtree[0]\n",
    "\n",
    "\n",
    "            # msgHeader : [queryTime, resultCode, resultMessage]\n",
    "            # Index Error : IE01\n",
    "            try:\n",
    "                msgHeader = xtree[1]\n",
    "            except IndexError:\n",
    "                # textFile Index Error IE01 출력\n",
    "                # textFile.write(getNowTime().isoformat())\n",
    "                # textFile.write(\" Index Error EC01\\n\")\n",
    "                # logFile Index Error IE01 출력\n",
    "                logFile.write(getNowTime().isoformat())\n",
    "                logFile.write(' ')\n",
    "                logFile.write(str(routeId))\n",
    "                logFile.write(\" Index Error EC01\\n\")\n",
    "                logFile.write(oneLineXML)\n",
    "                logFile.write('\\n')\n",
    "                # 프롬프트 Index Error IE01 출력\n",
    "                print(getNowTime(), routeId, end=' ')\n",
    "                print(\"Index Error EC01\")\n",
    "                index += 1\n",
    "                continue\n",
    "                \n",
    "            # API Call Failure : CF01 \n",
    "            resultCode = int(msgHeader[1].text)\n",
    "            # print(resultCode)\n",
    "            resultMessage = msgHeader[2]\n",
    "            if(resultCode != 0):\n",
    "                # textFile API Call Failure 출력\n",
    "                # textFile.write(getNowTime().isoformat())\n",
    "                # textFile.write(\" API Call Failure CF01 \")\n",
    "                # textFile.write(resultMessage.text)\n",
    "                # textFile.write(\"\\n\")\n",
    "                # logFile API Call Failure 출력\n",
    "                # logFile.write(getNowTime().isoformat())\n",
    "                # logFile.write(' ')\n",
    "                # logFile.write(str(routeId))\n",
    "                # logFile.write(\" API Call Failure CF01 \")\n",
    "                # logFile.write(resultMessage.text)\n",
    "                # logFile.write(\"\\n\")\n",
    "                # 프롬프트 API Call Failure 출력\n",
    "                # print(getNowTime(), routeId, end=' ')\n",
    "                # print(\" API Call Failure CF01\", end=' ')\n",
    "                # print(resultMessage.text)\n",
    "                if(endDatetime < now):\n",
    "                    switchList[index] = False\n",
    "                    busInOutTimeList[index][0] += datetime.timedelta(days=1)\n",
    "                    busInOutTimeList[index][1] += datetime.timedelta(days=1)\n",
    "                    filePathList[index] = filePathList[index][:-12] + str(busInOutTimeList[index][0])[2:10] + '.txt'\n",
    "                    print(f\"{index} {routeId}: busInOutTime 및 filePath 갱신\")\n",
    "                    index += 1\n",
    "                    continue\n",
    "                index += 1\n",
    "                continue\n",
    "\n",
    "            else:\n",
    "                pass\n",
    "        \n",
    "        # msgBody : dateTime + [ 8개 태그 ]\n",
    "        # Index Error 02 : IE02\n",
    "        try:\n",
    "            msgBody = xtree[2]\n",
    "        except IndexError:\n",
    "            # textFile Index Error IE02 출력\n",
    "            # textFile.write(getNowTime().isoformat())\n",
    "            # textFile.write(\" Index Error IE02\\n\")\n",
    "            # logFile Index Error 01 출력\n",
    "            logFile.write(getNowTime().isoformat())\n",
    "            logFile.write(' ')\n",
    "            logFile.write(str(routeId))\n",
    "            logFile.write(\" Index Error IE02\\n\")\n",
    "            logFile.write(oneLineXML)\n",
    "            logFile.write('\\n')\n",
    "            # 프롬프트 Index Error IE02 출력\n",
    "            print(getNowTime(), routeId, end=' ')\n",
    "            print(\"Index Error IE2\")\n",
    "            index += 1\n",
    "            continue\n",
    "        \n",
    "        #itemTagList = ['endBus', 'lowPlate', 'plateNo', 'plateType', 'remainSeatCnt', 'routeId', 'stationId', 'stationSeq']\n",
    "        for busLocationList in msgBody:\n",
    "            busLocationValueList = []\n",
    "            textFile.write(getNowTime().isoformat())\n",
    "            textFile.write(' ')\n",
    "            # itemValueList.append(getNowTime().isoformat())    # \"ws.bus.go.kr\" 도메인은 API 호출시간 ( \"dataTm\" ) 제공\n",
    "            for busLocation in busLocationList:\n",
    "                # busLocationValueList.append(busLocation.text)\n",
    "                textFile.write(busLocation.text)\n",
    "                textFile.write(' ')\n",
    "            textFile.write(\"\\n\")\n",
    "            # print(busLocationValueList)\n",
    "        textFile.close()\n",
    "        index += 1\n",
    "\n",
    "    currentTime = getNowTime()\n",
    "    print(currentTime.isoformat(),'\\t API [ buslocationservice ] 호출을 [ 완료 ] 하였습니다. 소요시간: ', currentTime - pastTime)   \n",
    "\n",
    "    \n",
    "    logFile.close()"
   ]
  },
  {
   "cell_type": "code",
   "execution_count": 25,
   "metadata": {},
   "outputs": [
    {
     "name": "stdout",
     "output_type": "stream",
     "text": [
      "2020-11-20T05:36:34.626759+09:00 \t API [ buslocationservice ] 호출을 [ 시작 ] 하였습니다.\n",
      "now:\t\t2020-11-20 05:36:34.627767+09:00\n",
      "startDatetime:\t2020-11-20 06:00:00+09:00\n",
      "endDatetime:\t2020-11-21 00:30:00+09:00\n",
      "now:\t\t2020-11-20 05:36:34.627767+09:00\n",
      "startDatetime:\t2020-11-20 05:40:00+09:00\n",
      "endDatetime:\t2020-11-21 00:00:00+09:00\n",
      "now:\t\t2020-11-20 05:36:34.627767+09:00\n",
      "startDatetime:\t2020-11-20 06:00:00+09:00\n",
      "endDatetime:\t2020-11-20 23:50:00+09:00\n",
      "now:\t\t2020-11-20 05:36:34.627767+09:00\n",
      "startDatetime:\t2020-11-20 06:30:00+09:00\n",
      "endDatetime:\t2020-11-20 13:10:00+09:00\n",
      "now:\t\t2020-11-20 05:36:34.627767+09:00\n",
      "startDatetime:\t2020-11-20 06:30:00+09:00\n",
      "endDatetime:\t2020-11-21 00:00:00+09:00\n",
      "now:\t\t2020-11-20 05:36:34.627767+09:00\n",
      "startDatetime:\t2020-11-20 06:00:00+09:00\n",
      "endDatetime:\t2020-11-20 23:50:00+09:00\n",
      "2020-11-20T05:36:34.627767+09:00 \t API [ buslocationservice ] 호출을 [ 완료 ] 하였습니다. 소요시간:  0:00:00.001008\n"
     ]
    }
   ],
   "source": [
    "openAPICall()"
   ]
  },
  {
   "cell_type": "markdown",
   "metadata": {},
   "source": [
    "## @Schedule 모듈 사용을 위한 API 호출 생성 함수 생성"
   ]
  },
  {
   "cell_type": "code",
   "execution_count": 26,
   "metadata": {},
   "outputs": [],
   "source": [
    "####################################\n",
    "newFile(routeIdList, filePathList, busInOutTimeList)##   <<<  데이터파일을 초기화 합니다. 주의해서 사용하세요!\n",
    "newLogFile(logPath)               ##   <<<  로그파일을 초기화 합니다. 주의해서 사용하세요!\n",
    "####################################"
   ]
  },
  {
   "cell_type": "markdown",
   "metadata": {},
   "source": [
    "## @최종코드"
   ]
  },
  {
   "cell_type": "code",
   "execution_count": null,
   "metadata": {},
   "outputs": [
    {
     "name": "stdout",
     "output_type": "stream",
     "text": [
      "2020-11-20 05:36:34.646762+09:00 \t프로세스를 시작합니다.\n",
      "2020-11-20T05:37:26.883247+09:00 \t API [ buslocationservice ] 호출을 [ 시작 ] 하였습니다.\n",
      "now:\t\t2020-11-20 05:37:26.883247+09:00\n",
      "startDatetime:\t2020-11-20 06:00:00+09:00\n",
      "endDatetime:\t2020-11-21 00:30:00+09:00\n",
      "now:\t\t2020-11-20 05:37:26.989973+09:00\n",
      "startDatetime:\t2020-11-20 05:40:00+09:00\n",
      "endDatetime:\t2020-11-21 00:00:00+09:00\n",
      "now:\t\t2020-11-20 05:37:27.079464+09:00\n",
      "startDatetime:\t2020-11-20 06:00:00+09:00\n",
      "endDatetime:\t2020-11-20 23:50:00+09:00\n",
      "now:\t\t2020-11-20 05:37:27.169462+09:00\n",
      "startDatetime:\t2020-11-20 06:30:00+09:00\n",
      "endDatetime:\t2020-11-20 13:10:00+09:00\n",
      "now:\t\t2020-11-20 05:37:27.169462+09:00\n",
      "startDatetime:\t2020-11-20 06:30:00+09:00\n",
      "endDatetime:\t2020-11-21 00:00:00+09:00\n",
      "now:\t\t2020-11-20 05:37:27.169462+09:00\n",
      "startDatetime:\t2020-11-20 06:00:00+09:00\n",
      "endDatetime:\t2020-11-20 23:50:00+09:00\n",
      "2020-11-20T05:37:27.209751+09:00 \t API [ buslocationservice ] 호출을 [ 완료 ] 하였습니다. 소요시간:  0:00:00.326504\n",
      "2020-11-20T05:38:19.433970+09:00 \t API [ buslocationservice ] 호출을 [ 시작 ] 하였습니다.\n",
      "now:\t\t2020-11-20 05:38:19.433970+09:00\n",
      "startDatetime:\t2020-11-20 06:00:00+09:00\n",
      "endDatetime:\t2020-11-21 00:30:00+09:00\n",
      "now:\t\t2020-11-20 05:38:19.533038+09:00\n",
      "startDatetime:\t2020-11-20 05:40:00+09:00\n",
      "endDatetime:\t2020-11-21 00:00:00+09:00\n",
      "now:\t\t2020-11-20 05:38:19.626794+09:00\n",
      "startDatetime:\t2020-11-20 06:00:00+09:00\n",
      "endDatetime:\t2020-11-20 23:50:00+09:00\n",
      "now:\t\t2020-11-20 05:38:19.733795+09:00\n",
      "startDatetime:\t2020-11-20 06:30:00+09:00\n",
      "endDatetime:\t2020-11-20 13:10:00+09:00\n",
      "now:\t\t2020-11-20 05:38:19.734796+09:00\n",
      "startDatetime:\t2020-11-20 06:30:00+09:00\n",
      "endDatetime:\t2020-11-21 00:00:00+09:00\n",
      "now:\t\t2020-11-20 05:38:19.734796+09:00\n",
      "startDatetime:\t2020-11-20 06:00:00+09:00\n",
      "endDatetime:\t2020-11-20 23:50:00+09:00\n",
      "2020-11-20T05:38:19.818911+09:00 \t API [ buslocationservice ] 호출을 [ 완료 ] 하였습니다. 소요시간:  0:00:00.384941\n",
      "2020-11-20T05:39:12.019009+09:00 \t API [ buslocationservice ] 호출을 [ 시작 ] 하였습니다.\n",
      "now:\t\t2020-11-20 05:39:12.019009+09:00\n",
      "startDatetime:\t2020-11-20 06:00:00+09:00\n",
      "endDatetime:\t2020-11-21 00:30:00+09:00\n",
      "now:\t\t2020-11-20 05:39:12.113790+09:00\n",
      "startDatetime:\t2020-11-20 05:40:00+09:00\n",
      "endDatetime:\t2020-11-21 00:00:00+09:00\n",
      "now:\t\t2020-11-20 05:39:12.207529+09:00\n",
      "startDatetime:\t2020-11-20 06:00:00+09:00\n",
      "endDatetime:\t2020-11-20 23:50:00+09:00\n",
      "now:\t\t2020-11-20 05:39:12.301296+09:00\n",
      "startDatetime:\t2020-11-20 06:30:00+09:00\n",
      "endDatetime:\t2020-11-20 13:10:00+09:00\n",
      "now:\t\t2020-11-20 05:39:12.301296+09:00\n",
      "startDatetime:\t2020-11-20 06:30:00+09:00\n",
      "endDatetime:\t2020-11-21 00:00:00+09:00\n",
      "now:\t\t2020-11-20 05:39:12.301296+09:00\n",
      "startDatetime:\t2020-11-20 06:00:00+09:00\n",
      "endDatetime:\t2020-11-20 23:50:00+09:00\n",
      "2020-11-20T05:39:12.395042+09:00 \t API [ buslocationservice ] 호출을 [ 완료 ] 하였습니다. 소요시간:  0:00:00.376033\n",
      "2020-11-20T05:40:04.545237+09:00 \t API [ buslocationservice ] 호출을 [ 시작 ] 하였습니다.\n",
      "now:\t\t2020-11-20 05:40:04.545237+09:00\n",
      "startDatetime:\t2020-11-20 06:00:00+09:00\n",
      "endDatetime:\t2020-11-21 00:30:00+09:00\n",
      "now:\t\t2020-11-20 05:40:04.644702+09:00\n",
      "startDatetime:\t2020-11-20 05:40:00+09:00\n",
      "endDatetime:\t2020-11-21 00:00:00+09:00\n",
      "now:\t\t2020-11-20 05:40:04.721453+09:00\n",
      "startDatetime:\t2020-11-20 06:00:00+09:00\n",
      "endDatetime:\t2020-11-20 23:50:00+09:00\n",
      "now:\t\t2020-11-20 05:40:04.812008+09:00\n",
      "startDatetime:\t2020-11-20 06:30:00+09:00\n",
      "endDatetime:\t2020-11-20 13:10:00+09:00\n",
      "now:\t\t2020-11-20 05:40:04.812008+09:00\n",
      "startDatetime:\t2020-11-20 06:30:00+09:00\n",
      "endDatetime:\t2020-11-21 00:00:00+09:00\n",
      "now:\t\t2020-11-20 05:40:04.812008+09:00\n",
      "startDatetime:\t2020-11-20 06:00:00+09:00\n",
      "endDatetime:\t2020-11-20 23:50:00+09:00\n",
      "2020-11-20T05:40:04.892635+09:00 \t API [ buslocationservice ] 호출을 [ 완료 ] 하였습니다. 소요시간:  0:00:00.347398\n",
      "2020-11-20T05:40:57.143177+09:00 \t API [ buslocationservice ] 호출을 [ 시작 ] 하였습니다.\n",
      "now:\t\t2020-11-20 05:40:57.144179+09:00\n",
      "startDatetime:\t2020-11-20 06:00:00+09:00\n",
      "endDatetime:\t2020-11-21 00:30:00+09:00\n",
      "now:\t\t2020-11-20 05:40:57.235022+09:00\n",
      "startDatetime:\t2020-11-20 05:40:00+09:00\n",
      "endDatetime:\t2020-11-21 00:00:00+09:00\n",
      "now:\t\t2020-11-20 05:40:57.331101+09:00\n",
      "startDatetime:\t2020-11-20 06:00:00+09:00\n",
      "endDatetime:\t2020-11-20 23:50:00+09:00\n",
      "now:\t\t2020-11-20 05:40:57.424857+09:00\n",
      "startDatetime:\t2020-11-20 06:30:00+09:00\n",
      "endDatetime:\t2020-11-20 13:10:00+09:00\n",
      "now:\t\t2020-11-20 05:40:57.424857+09:00\n",
      "startDatetime:\t2020-11-20 06:30:00+09:00\n",
      "endDatetime:\t2020-11-21 00:00:00+09:00\n",
      "now:\t\t2020-11-20 05:40:57.424857+09:00\n",
      "startDatetime:\t2020-11-20 06:00:00+09:00\n",
      "endDatetime:\t2020-11-20 23:50:00+09:00\n",
      "2020-11-20T05:40:57.518613+09:00 \t API [ buslocationservice ] 호출을 [ 완료 ] 하였습니다. 소요시간:  0:00:00.375436\n",
      "2020-11-20T05:41:49.721625+09:00 \t API [ buslocationservice ] 호출을 [ 시작 ] 하였습니다.\n",
      "now:\t\t2020-11-20 05:41:49.721625+09:00\n",
      "startDatetime:\t2020-11-20 06:00:00+09:00\n",
      "endDatetime:\t2020-11-21 00:30:00+09:00\n",
      "now:\t\t2020-11-20 05:41:49.815363+09:00\n",
      "startDatetime:\t2020-11-20 05:40:00+09:00\n",
      "endDatetime:\t2020-11-21 00:00:00+09:00\n",
      "now:\t\t2020-11-20 05:41:49.909123+09:00\n",
      "startDatetime:\t2020-11-20 06:00:00+09:00\n",
      "endDatetime:\t2020-11-20 23:50:00+09:00\n",
      "now:\t\t2020-11-20 05:41:50.018836+09:00\n",
      "startDatetime:\t2020-11-20 06:30:00+09:00\n",
      "endDatetime:\t2020-11-20 13:10:00+09:00\n",
      "now:\t\t2020-11-20 05:41:50.018836+09:00\n",
      "startDatetime:\t2020-11-20 06:30:00+09:00\n",
      "endDatetime:\t2020-11-21 00:00:00+09:00\n",
      "now:\t\t2020-11-20 05:41:50.018836+09:00\n",
      "startDatetime:\t2020-11-20 06:00:00+09:00\n",
      "endDatetime:\t2020-11-20 23:50:00+09:00\n",
      "2020-11-20T05:41:50.112592+09:00 \t API [ buslocationservice ] 호출을 [ 완료 ] 하였습니다. 소요시간:  0:00:00.390967\n",
      "2020-11-20T05:42:42.319799+09:00 \t API [ buslocationservice ] 호출을 [ 시작 ] 하였습니다.\n",
      "now:\t\t2020-11-20 05:42:42.319799+09:00\n",
      "startDatetime:\t2020-11-20 06:00:00+09:00\n",
      "endDatetime:\t2020-11-21 00:30:00+09:00\n",
      "now:\t\t2020-11-20 05:42:42.366677+09:00\n",
      "startDatetime:\t2020-11-20 05:40:00+09:00\n",
      "endDatetime:\t2020-11-21 00:00:00+09:00\n",
      "now:\t\t2020-11-20 05:42:42.460433+09:00\n",
      "startDatetime:\t2020-11-20 06:00:00+09:00\n",
      "endDatetime:\t2020-11-20 23:50:00+09:00\n",
      "now:\t\t2020-11-20 05:42:42.522924+09:00\n",
      "startDatetime:\t2020-11-20 06:30:00+09:00\n",
      "endDatetime:\t2020-11-20 13:10:00+09:00\n",
      "now:\t\t2020-11-20 05:42:42.522924+09:00\n",
      "startDatetime:\t2020-11-20 06:30:00+09:00\n",
      "endDatetime:\t2020-11-21 00:00:00+09:00\n",
      "now:\t\t2020-11-20 05:42:42.522924+09:00\n",
      "startDatetime:\t2020-11-20 06:00:00+09:00\n",
      "endDatetime:\t2020-11-20 23:50:00+09:00\n",
      "2020-11-20T05:42:42.624380+09:00 \t API [ buslocationservice ] 호출을 [ 완료 ] 하였습니다. 소요시간:  0:00:00.304581\n"
     ]
    }
   ],
   "source": [
    "schedule.clear()\n",
    "schedule.every(52).seconds.do(lambda: openAPICall())\n",
    "print(getNowTime(), \"\\t프로세스를 시작합니다.\")\n",
    "\n",
    "while True:\n",
    "    try:\n",
    "        schedule.run_pending()\n",
    "        time.sleep(1)\n",
    "    except:\n",
    "        # logFile Timeout Error TE01 출력\n",
    "        logFile = open(logPath, 'a', encoding = 'utf-8', newline = '\\n')\n",
    "        logFile.write(getNowTime().isoformat())\n",
    "        logFile.write(' ')\n",
    "        logFile.write(\" Timeout Error TE01\\n\")\n",
    "        # 프롬프트 Timeout Error TE01 출력\n",
    "        print(getNowTime(), end=' ')\n",
    "        print(\"Timeout Error TE01\")\n",
    "        logFile.close()\n",
    "        continue"
   ]
  },
  {
   "cell_type": "code",
   "execution_count": null,
   "metadata": {},
   "outputs": [],
   "source": []
  }
 ],
 "metadata": {
  "colab": {
   "name": "경기버스정보API.ipynb",
   "provenance": []
  },
  "kernelspec": {
   "display_name": "Python 3",
   "language": "python",
   "name": "python3"
  },
  "language_info": {
   "codemirror_mode": {
    "name": "ipython",
    "version": 3
   },
   "file_extension": ".py",
   "mimetype": "text/x-python",
   "name": "python",
   "nbconvert_exporter": "python",
   "pygments_lexer": "ipython3",
   "version": "3.8.3"
  }
 },
 "nbformat": 4,
 "nbformat_minor": 4
}

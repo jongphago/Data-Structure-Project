{
 "cells": [
  {
   "cell_type": "markdown",
   "metadata": {},
   "source": [
    "## Githun 연동하기"
   ]
  },
  {
   "cell_type": "code",
   "execution_count": null,
   "metadata": {},
   "outputs": [],
   "source": []
  },
  {
   "cell_type": "markdown",
   "metadata": {},
   "source": [
    "## 라이브러리 설치"
   ]
  },
  {
   "cell_type": "code",
   "execution_count": 1,
   "metadata": {},
   "outputs": [
    {
     "name": "stdout",
     "output_type": "stream",
     "text": [
      "Requirement already satisfied: schedule in c:\\users\\jongh\\anaconda3\\lib\\site-packages (0.6.0)\n"
     ]
    }
   ],
   "source": [
    "!pip install schedule"
   ]
  },
  {
   "cell_type": "markdown",
   "metadata": {
    "id": "DPX76GW5yfyJ"
   },
   "source": [
    "## 라이브러리 불러오기"
   ]
  },
  {
   "cell_type": "code",
   "execution_count": 2,
   "metadata": {
    "id": "xWrCtng4Me2-"
   },
   "outputs": [],
   "source": [
    "# API 호출\n",
    "# ## https://data.go.kr/tcs/dss/selectApiDataDetailView.do?publicDataPk=15057440\n",
    "from urllib.request import Request, urlopen\n",
    "# Request https://docs.python.org/ko/3/library/urllib.request.html#urllib.request.Request\n",
    "# urlopen https://docs.python.org/ko/3/library/urllib.request.html#urllib.request.urlopen\n",
    "from urllib.parse import urlencode, quote_plus\n",
    "# urlenocde https://docs.python.org/ko/3/library/urllib.parse.html#urllib.parse.urlencode\n",
    "# quote_plus https://docs.python.org/ko/3/library/urllib.parse.html#urllib.parse.quote_plus\n",
    "from urllib.parse import unquote\n",
    "import requests\n",
    "\n",
    "# 시간 생성\n",
    "import time\n",
    "import datetime\n",
    "from pytz import timezone, utc\n",
    "\n",
    "# 폴더 자동 생성\n",
    "import os\n",
    "\n",
    "# 코드 스케줄링\n",
    "import threading\n",
    "import schedule\n",
    "\n",
    "# XML 파싱\n",
    "import xml.etree.ElementTree as ET"
   ]
  },
  {
   "cell_type": "markdown",
   "metadata": {
    "id": "Pp1hVhMT7t3V"
   },
   "source": [
    "## KEY unquote"
   ]
  },
  {
   "cell_type": "code",
   "execution_count": 4,
   "metadata": {
    "id": "X4RvGmtjX2g0"
   },
   "outputs": [],
   "source": [
    "KEY = 'yEaR%2F3MDedRSlVJL%2F2pxnVg0yre1N5VF3RZ%2FUAt56MJ7J2mNpfqhUvy05pXV0uhHTVY7DbyCR8xmMaDdYga67Q%3D%3D' # 종현\n",
    "# apiKEY = requests.utils.unquote(KEY)\n",
    "apiKey = unquote(KEY)\n",
    "# print(apiKey)\n",
    "KEYSW = 'M%2B4%2FqUiadT8X8PhgFjaQLDu%2BIOgPMURfGsOX%2FmVxwHQVJgnVR%2FMPjDYXkuQNwUFbZXlfnX5Lls3SUCiCLIFjgQ%3D%3D'\n",
    "apiKeySW = unquote(KEYSW)"
   ]
  },
  {
   "cell_type": "markdown",
   "metadata": {
    "id": "R2vTXbRE7rAr"
   },
   "source": [
    "## URL 생성"
   ]
  },
  {
   "cell_type": "markdown",
   "metadata": {
    "id": "0yArZKci786j"
   },
   "source": [
    "### ws.bus.go.kr url을 사용하는 경우 \n",
    "1.   'ServiceKey' 대문자 S\n",
    "2.   'busRouteId' 노선ID는 busRouteId"
   ]
  },
  {
   "cell_type": "code",
   "execution_count": 4,
   "metadata": {
    "id": "F_DuFQ8TXy_v"
   },
   "outputs": [],
   "source": [
    "# getArrInfoByRouteAll\n",
    "url = 'http://ws.bus.go.kr/api/rest/arrive/getArrInfoByRouteAll'\n",
    "queryParams = '?' + urlencode({ quote_plus('ServiceKey') : apiKey, quote_plus('busRouteId') : '204000046' })"
   ]
  },
  {
   "cell_type": "code",
   "execution_count": 5,
   "metadata": {
    "id": "nMZedZcP6Ira"
   },
   "outputs": [],
   "source": [
    "# getBusPosByRtid\n",
    "# 노선ID로 차량들의 위치정보를 조회합니다\n",
    "url = 'http://ws.bus.go.kr/api/rest/buspos/getBusPosByRtid'\n",
    "queryParams = '?' + urlencode({ quote_plus('ServiceKey') : apiKey, quote_plus('busRouteId') : '204000046' })"
   ]
  },
  {
   "cell_type": "markdown",
   "metadata": {
    "id": "Qzm8ff7B8Bwq"
   },
   "source": [
    "### openapi url을 사용하는 경우 \n",
    "1.   'serviceKey' 소문자 s\n",
    "2.   'routeId' 노선ID는 routeId"
   ]
  },
  {
   "cell_type": "code",
   "execution_count": 36,
   "metadata": {
    "id": "p8PE0cXNxaBZ"
   },
   "outputs": [],
   "source": [
    "# 노선번호목록조회 busrouteservice\n",
    "# 해당 노선번호의 노선ID, 노선유형, 운행지역 등을 제공합니다.\n",
    "url = 'http://openapi.gbis.go.kr/ws/rest/busrouteservice' \n",
    "queryParams = '?' + urlencode({ quote_plus('serviceKey') : apiKey, quote_plus('keyword') : '7770' })"
   ]
  },
  {
   "cell_type": "code",
   "execution_count": 38,
   "metadata": {
    "id": "VgcBX-122uUs"
   },
   "outputs": [],
   "source": [
    "# 노선정보항목조회 busrouteservice/info\n",
    "# 해당 노선에 대한 노선번호, 기점/종점 정류소, 첫차/막차시간, 배차간격, 운행업체 등의 운행계획 정보를 제공합니다.\n",
    "url = 'http://openapi.gbis.go.kr/ws/rest/busrouteservice/info'\n",
    "queryParams = '?' + urlencode({ quote_plus('serviceKey') : apiKey, quote_plus('routeId') : '204000046' })"
   ]
  },
  {
   "cell_type": "code",
   "execution_count": 9,
   "metadata": {
    "id": "OfBhTbLh3L9G"
   },
   "outputs": [],
   "source": [
    "# 경유정류소목록조회 busrouteservice/info\n",
    "# 해당 노선이 정차하는 경유정류소 목록과 정류소명, 중앙차로여부, 회차점, 좌표값 등을 제공합니다.\n",
    "url = 'http://openapi.gbis.go.kr/ws/rest/busrouteservice/station'\n",
    "queryParams = '?' + urlencode({ quote_plus('serviceKey') : apiKey, quote_plus('routeId') : '204000046' })"
   ]
  },
  {
   "cell_type": "code",
   "execution_count": 7,
   "metadata": {
    "id": "c6FqgRafVkfi"
   },
   "outputs": [],
   "source": [
    "# 경유정류소목록조회 buslocationservice\n",
    "# 해당 노선이 정차하는 경유정류소 목록과 정류소명, 중앙차로여부, 회차점, 좌표값 등을 제공합니다.\n",
    "url = 'http://openapi.gbis.go.kr/ws/rest/buslocationservice'\n",
    "queryParams = '?' + urlencode({ quote_plus('serviceKey') : apiKey, quote_plus('routeId') : '204000046' })"
   ]
  },
  {
   "cell_type": "code",
   "execution_count": 8,
   "metadata": {
    "colab": {
     "base_uri": "https://localhost:8080/",
     "height": 55
    },
    "id": "aa-BO-tMouQL",
    "outputId": "88853ce1-774e-4746-c028-202bd3d6ef79"
   },
   "outputs": [
    {
     "data": {
      "text/plain": [
       "'http://openapi.gbis.go.kr/ws/rest/buslocationservice?serviceKey=yEaR%2F3MDedRSlVJL%2F2pxnVg0yre1N5VF3RZ%2FUAt56MJ7J2mNpfqhUvy05pXV0uhHTVY7DbyCR8xmMaDdYga67Q%3D%3D&routeId=204000046'"
      ]
     },
     "execution_count": 8,
     "metadata": {},
     "output_type": "execute_result"
    }
   ],
   "source": [
    "url+queryParams"
   ]
  },
  {
   "cell_type": "markdown",
   "metadata": {
    "id": "YlVVhU68VVEi"
   },
   "source": [
    "## @routeIdList 작성 선행"
   ]
  },
  {
   "cell_type": "code",
   "execution_count": 166,
   "metadata": {
    "id": "eF3GKMkgQ6mw"
   },
   "outputs": [],
   "source": [
    "routeIdList = \\\n",
    "[\n",
    "241006811,\n",
    "204000046,\n",
    "204000059,\n",
    "204000147,\n",
    "233000031,\n",
    "# 234000013,\n",
    "# 234000130,\n",
    "# 204000056,\n",
    "# 204000041,\n",
    "# 204000070,\n",
    "# 204000060,\n",
    "# 204000022,\n",
    "# 204000039,\n",
    "# 204000040,\n",
    "# 204000067,\n",
    "# 204000044,\n",
    "# 236000176,\n",
    "# 234000079,\n",
    "# 234000069,\n",
    "# 234000882,\n",
    "# 228000184,\n",
    "# 228000177,\n",
    "# 200000145,\n",
    "# 228000176,\n",
    "# 204000070,\n",
    "# 234000886,\n",
    "# 233000136,\n",
    "# 234000051,\n",
    "# 234000873,\n",
    "# 229000028,\n",
    "# 207000070,\n",
    "# 233000139,\n",
    "# 200000108,\n",
    "# 234000309,\n",
    "# 200000112,\n",
    "# 200000205,\n",
    "# 234000313,\n",
    "# 200000104,\n",
    "# 200000119,\n",
    "# 205000002,\n",
    "# 200000110,\n",
    "# 228000175,\n",
    "# 228000394,\n",
    "# 200000120,\n",
    "# 233000032,\n",
    "# 234000878,\n",
    "# 234000324,\n",
    "# 234000011,\n",
    "# 229000061,\n",
    "# 218000007,\n",
    "# 204000057,\n",
    "# 200000115,\n",
    "# 234000050,\n",
    "# 218000010,\n",
    "# 222000090,\n",
    "# 232000092,\n",
    "# 204000081,\n",
    "# 206000007,\n",
    "# 232000092,\n",
    "# 219000016,\n",
    "# 222000084,\n",
    "# 200000150,\n",
    "# 219000006,\n",
    "# 219000013,\n",
    "]"
   ]
  },
  {
   "cell_type": "code",
   "execution_count": 160,
   "metadata": {},
   "outputs": [
    {
     "name": "stdout",
     "output_type": "stream",
     "text": [
      "서울시 버스 노선의 총 수 :  659\n",
      "[100100124, 100100001, 100100002, 100100003, 100100549, 100100006, 100100129, 100100130, 100100007, 100100131, 100100008, 100100009, 100100010, 100100011, 100100012, 100100013, 100100014, 100100016, 100100015, 100100132, 100100133, 100100134, 100100566, 107000001, 100100137, 100100138, 100100425, 100100139, 100100142, 100100143, 100100144, 100100145, 100100146, 100100147, 100100148, 100100149, 100100150, 100100151, 100100152, 100100153, 100100154, 100100155, 100100156, 100100157, 100100158, 100100159, 100100164, 100100165, 100100166, 100100170, 100100171, 100100172, 108000002, 100100017, 100100583, 100100175, 100100177, 100100178, 100100179, 100100181, 100100183, 100100184, 100100018, 100100019, 100100020, 100100021, 100100022, 100100023, 100100024, 100100025, 100100026, 100100027, 100100029, 100100030, 100100031, 100100032, 100100033, 100100034, 100100036, 100100185, 100100037, 110000002, 100100038, 100100186, 100100188, 100100189, 100100190, 100100522, 100100039, 100100191, 100100192, 100100193, 100100598, 100100194, 100100198, 100100199, 100100201, 100100202, 100100203, 100100204, 100100205, 100100206, 100100599, 100100611, 100100407, 100100595, 100100209, 100100210, 100100211, 104000006, 100100042, 100100043, 100100044, 100100046, 100100047, 100100048, 100100049, 100100051, 100100438, 100100579, 100100052, 100100053, 100100564, 100100212, 100100213, 100100215, 100100216, 100100218, 100100219, 100100220, 100100221, 100100222, 100100478, 100100498, 100100501, 100100578, 100100613, 100100496, 100100055, 100100056, 100100223, 100100224, 100100225, 100100226, 100100228, 100100229, 124000038, 100100232, 100100609, 100100612, 107000002, 100100553, 100100057, 124000036, 100100061, 100100596, 100100062, 100100063, 100100597, 100100064, 100100068, 100100409, 100100604, 100100234, 100100237, 100100427, 100100459, 100100070, 100100500, 100100454, 100100246, 100100247, 122000001, 113000002, 100100071, 100100605, 100100073, 100100075, 100100076, 100100077, 100100248, 100100410, 100100078, 100100079, 100100080, 100100081, 100100082, 100100083, 100100574, 100100249, 100100603, 100100250, 100100251, 100100252, 100100253, 100100254, 100100255, 100100257, 100100258, 100100259, 100100260, 100100261, 100100263, 100100264, 100100265, 100100266, 100100267, 100100268, 100100269, 100100272, 100100273, 100100274, 100100275, 100100276, 100100277, 100100278, 100100279, 100100280, 100100281, 100100282, 100100283, 100100284, 100100285, 100100084, 100100286, 100100287, 100100288, 100100085, 100100411, 100100412, 100100413, 100100414, 100100415, 100100416, 100100506, 123000006, 100100417, 100100507, 123000007, 100100086, 100100584, 100100418, 100100419, 100100420, 100100421, 100100422, 100100423, 100100533, 100100538, 115000006, 100100087, 100100509, 123000008, 115000001, 100100088, 100100517, 100100089, 100100090, 100100091, 100100513, 100100373, 122000002, 124000013, 124000006, 100100289, 100100508, 123000009, 100100093, 100100094, 100100290, 100100096, 100100097, 124000009, 100100098, 100100291, 100100292, 100100293, 100100294, 100100521, 100100576, 100100099, 100100497, 115000007, 123000002, 100100102, 100100295, 100100453, 100100297, 116000002, 100100298, 100100299, 100100550, 100100300, 100100301, 100100302, 100100303, 100100304, 100100305, 100100306, 100100307, 100100308, 100100309, 100100311, 100100312, 100100313, 100100601, 100100602, 100100316, 100100318, 100100320, 115000005, 114000001, 100100322, 100100329, 100100436, 100100567, 100100573, 100100572, 100100570, 100100569, 100100568, 115000002, 100100330, 100100331, 100100332, 100100451, 100100495, 100100551, 111000008, 100100440, 100100103, 100100450, 100100449, 100100448, 100100447, 100100337, 100100338, 100100339, 100100340, 100100341, 100100342, 100100446, 100100104, 100100105, 100100107, 100100587, 100100511, 123000011, 100100110, 100100111, 100100112, 100100344, 100100499, 100100537, 123000010, 100100114, 100100565, 100100116, 100100117, 100100118, 111000014, 100100345, 100100346, 100100347, 100100437, 100100348, 100100349, 100100462, 124000008, 100100352, 100100353, 100100354, 100100357, 100100358, 100100359, 111000011, 100100360, 111000010, 100100363, 100100364, 100100552, 111000012, 106000001, 124000010, 103000001, 100100383, 108000001, 116000001, 113000001, 111000009, 100100525, 100100387, 112000001, 100100389, 100100390, 100100391, 100100392, 100100397, 100100398, 100100400, 100100402, 100100607, 100100406, 100100593, 100100610, 100100592, 100100586, 100100591, 100100585, 124000016, 124000015, 115000009, 100100589, 100100588, 115000008, 122900003, 122900006, 122900004, 122900002, 122900005, 122900007, 122900001, 122900008, 122900009, 124900002, 124900003, 124900001, 108900006, 108900002, 108900003, 108900005, 108900008, 108900007, 108900013, 108900004, 108900009, 108900001, 108900012, 115900006, 115900003, 115900004, 115900001, 115900005, 115900008, 115900002, 115900007, 120900005, 120900008, 120900003, 120900009, 120900010, 120900004, 120900006, 120900007, 120900002, 114900004, 104900005, 104900003, 104900002, 104900001, 104900004, 116900013, 116900014, 116900010, 116900011, 116900009, 116900012, 116900006, 116900015, 116900007, 116900003, 116900004, 116900002, 116900001, 116900005, 116900016, 117900008, 111900013, 117900006, 117900003, 117900002, 117900001, 117900004, 117900007, 117900005, 117900010, 110900004, 110900009, 110900005, 110900001, 110900003, 110900007, 110900006, 110900002, 110900008, 109900011, 109900010, 109900001, 108900010, 109900007, 109900008, 109900004, 109900003, 109900002, 109900006, 109900005, 105900003, 105900002, 105900006, 105900001, 119900007, 119900013, 119900020, 119900022, 119900023, 119900014, 119900018, 119900009, 119900019, 119900006, 119900011, 119900021, 120900001, 119900012, 119900010, 119900017, 119900016, 119900015, 119900008, 119900001, 119900024, 102900001, 113900005, 113900002, 113900011, 113900012, 113900010, 113900013, 113900015, 113900008, 113900004, 113900003, 113900007, 113900006, 113900014, 113900009, 113900001, 113900016, 112900010, 112900014, 112900015, 112900004, 112900011, 112900009, 112900007, 112900003, 100900012, 112900012, 112900013, 112900001, 112900006, 112900002, 112900005, 112900008, 121900009, 121900008, 121900005, 119900003, 119900002, 121900011, 121900002, 121900007, 121900003, 121900006, 121900013, 121900010, 121900012, 119900005, 119900004, 121900016, 121900015, 121900004, 121900001, 121900014, 103900003, 103900004, 103900006, 101900001, 103900007, 103900005, 103900002, 103900001, 103900008, 103900009, 103900010, 107900008, 107900003, 107900002, 107900005, 107900011, 107900012, 107900013, 107900007, 107900006, 107900014, 107900017, 107900004, 107900001, 107900010, 107900016, 107900015, 105900004, 105900005, 107900009, 114900001, 114900002, 114900003, 116900018, 116900008, 118900004, 118900005, 118900001, 118900006, 118900003, 118900002, 118900007, 116900017, 118900008, 118900009, 114900006, 114900005, 102900003, 102900002, 102900004, 101900002, 111900002, 111900003, 111900001, 111900004, 111900005, 111900007, 111900006, 111900011, 111900012, 111900009, 111900010, 100900006, 100900008, 100900010, 100900011, 100900001, 100900004, 100900005, 100900003, 100900007, 100900009, 100900002, 106900001, 106900002]\n"
     ]
    }
   ],
   "source": [
    "seoulBusRouteIdList = [100100124, 100100001, 100100002, 100100003, 100100549, 100100006, 100100129, 100100130, 100100007, 100100131, 100100008, 100100009, 100100010, 100100011, 100100012, 100100013, 100100014, 100100016, 100100015, 100100132, 100100133, 100100134, 100100566, 107000001, 100100137, 100100138, 100100425, 100100139, 100100142, 100100143, 100100144, 100100145, 100100146, 100100147, 100100148, 100100149, 100100150, 100100151, 100100152, 100100153, 100100154, 100100155, 100100156, 100100157, 100100158, 100100159, 100100164, 100100165, 100100166, 100100170, 100100171, 100100172, 108000002, 100100017, 100100583, 100100175, 100100177, 100100178, 100100179, 100100181, 100100183, 100100184, 100100018, 100100019, 100100020, 100100021, 100100022, 100100023, 100100024, 100100025, 100100026, 100100027, 100100029, 100100030, 100100031, 100100032, 100100033, 100100034, 100100036, 100100185, 100100037, 110000002, 100100038, 100100186, 100100188, 100100189, 100100190, 100100522, 100100039, 100100191, 100100192, 100100193, 100100598, 100100194, 100100198, 100100199, 100100201, 100100202, 100100203, 100100204, 100100205, 100100206, 100100599, 100100611, 100100407, 100100595, 100100209, 100100210, 100100211, 104000006, 100100042, 100100043, 100100044, 100100046, 100100047, 100100048, 100100049, 100100051, 100100438, 100100579, 100100052, 100100053, 100100564, 100100212, 100100213, 100100215, 100100216, 100100218, 100100219, 100100220, 100100221, 100100222, 100100478, 100100498, 100100501, 100100578, 100100613, 100100496, 100100055, 100100056, 100100223, 100100224, 100100225, 100100226, 100100228, 100100229, 124000038, 100100232, 100100609, 100100612, 107000002, 100100553, 100100057, 124000036, 100100061, 100100596, 100100062, 100100063, 100100597, 100100064, 100100068, 100100409, 100100604, 100100234, 100100237, 100100427, 100100459, 100100070, 100100500, 100100454, 100100246, 100100247, 122000001, 113000002, 100100071, 100100605, 100100073, 100100075, 100100076, 100100077, 100100248, 100100410, 100100078, 100100079, 100100080, 100100081, 100100082, 100100083, 100100574, 100100249, 100100603, 100100250, 100100251, 100100252, 100100253, 100100254, 100100255, 100100257, 100100258, 100100259, 100100260, 100100261, 100100263, 100100264, 100100265, 100100266, 100100267, 100100268, 100100269, 100100272, 100100273, 100100274, 100100275, 100100276, 100100277, 100100278, 100100279, 100100280, 100100281, 100100282, 100100283, 100100284, 100100285, 100100084, 100100286, 100100287, 100100288, 100100085, 100100411, 100100412, 100100413, 100100414, 100100415, 100100416, 100100506, 123000006, 100100417, 100100507, 123000007, 100100086, 100100584, 100100418, 100100419, 100100420, 100100421, 100100422, 100100423, 100100533, 100100538, 115000006, 100100087, 100100509, 123000008, 115000001, 100100088, 100100517, 100100089, 100100090, 100100091, 100100513, 100100373, 122000002, 124000013, 124000006, 100100289, 100100508, 123000009, 100100093, 100100094, 100100290, 100100096, 100100097, 124000009, 100100098, 100100291, 100100292, 100100293, 100100294, 100100521, 100100576, 100100099, 100100497, 115000007, 123000002, 100100102, 100100295, 100100453, 100100297, 116000002, 100100298, 100100299, 100100550, 100100300, 100100301, 100100302, 100100303, 100100304, 100100305, 100100306, 100100307, 100100308, 100100309, 100100311, 100100312, 100100313, 100100601, 100100602, 100100316, 100100318, 100100320, 115000005, 114000001, 100100322, 100100329, 100100436, 100100567, 100100573, 100100572, 100100570, 100100569, 100100568, 115000002, 100100330, 100100331, 100100332, 100100451, 100100495, 100100551, 111000008, 100100440, 100100103, 100100450, 100100449, 100100448, 100100447, 100100337, 100100338, 100100339, 100100340, 100100341, 100100342, 100100446, 100100104, 100100105, 100100107, 100100587, 100100511, 123000011, 100100110, 100100111, 100100112, 100100344, 100100499, 100100537, 123000010, 100100114, 100100565, 100100116, 100100117, 100100118, 111000014, 100100345, 100100346, 100100347, 100100437, 100100348, 100100349, 100100462, 124000008, 100100352, 100100353, 100100354, 100100357, 100100358, 100100359, 111000011, 100100360, 111000010, 100100363, 100100364, 100100552, 111000012, 106000001, 124000010, 103000001, 100100383, 108000001, 116000001, 113000001, 111000009, 100100525, 100100387, 112000001, 100100389, 100100390, 100100391, 100100392, 100100397, 100100398, 100100400, 100100402, 100100607, 100100406, 100100593, 100100610, 100100592, 100100586, 100100591, 100100585, 124000016, 124000015, 115000009, 100100589, 100100588, 115000008, 122900003, 122900006, 122900004, 122900002, 122900005, 122900007, 122900001, 122900008, 122900009, 124900002, 124900003, 124900001, 108900006, 108900002, 108900003, 108900005, 108900008, 108900007, 108900013, 108900004, 108900009, 108900001, 108900012, 115900006, 115900003, 115900004, 115900001, 115900005, 115900008, 115900002, 115900007, 120900005, 120900008, 120900003, 120900009, 120900010, 120900004, 120900006, 120900007, 120900002, 114900004, 104900005, 104900003, 104900002, 104900001, 104900004, 116900013, 116900014, 116900010, 116900011, 116900009, 116900012, 116900006, 116900015, 116900007, 116900003, 116900004, 116900002, 116900001, 116900005, 116900016, 117900008, 111900013, 117900006, 117900003, 117900002, 117900001, 117900004, 117900007, 117900005, 117900010, 110900004, 110900009, 110900005, 110900001, 110900003, 110900007, 110900006, 110900002, 110900008, 109900011, 109900010, 109900001, 108900010, 109900007, 109900008, 109900004, 109900003, 109900002, 109900006, 109900005, 105900003, 105900002, 105900006, 105900001, 119900007, 119900013, 119900020, 119900022, 119900023, 119900014, 119900018, 119900009, 119900019, 119900006, 119900011, 119900021, 120900001, 119900012, 119900010, 119900017, 119900016, 119900015, 119900008, 119900001, 119900024, 102900001, 113900005, 113900002, 113900011, 113900012, 113900010, 113900013, 113900015, 113900008, 113900004, 113900003, 113900007, 113900006, 113900014, 113900009, 113900001, 113900016, 112900010, 112900014, 112900015, 112900004, 112900011, 112900009, 112900007, 112900003, 100900012, 112900012, 112900013, 112900001, 112900006, 112900002, 112900005, 112900008, 121900009, 121900008, 121900005, 119900003, 119900002, 121900011, 121900002, 121900007, 121900003, 121900006, 121900013, 121900010, 121900012, 119900005, 119900004, 121900016, 121900015, 121900004, 121900001, 121900014, 103900003, 103900004, 103900006, 101900001, 103900007, 103900005, 103900002, 103900001, 103900008, 103900009, 103900010, 107900008, 107900003, 107900002, 107900005, 107900011, 107900012, 107900013, 107900007, 107900006, 107900014, 107900017, 107900004, 107900001, 107900010, 107900016, 107900015, 105900004, 105900005, 107900009, 114900001, 114900002, 114900003, 116900018, 116900008, 118900004, 118900005, 118900001, 118900006, 118900003, 118900002, 118900007, 116900017, 118900008, 118900009, 114900006, 114900005, 102900003, 102900002, 102900004, 101900002, 111900002, 111900003, 111900001, 111900004, 111900005, 111900007, 111900006, 111900011, 111900012, 111900009, 111900010, 100900006, 100900008, 100900010, 100900011, 100900001, 100900004, 100900005, 100900003, 100900007, 100900009, 100900002, 106900001, 106900002]\n",
    "print('서울시 버스 노선의 총 수 : ', len(seoulBusRouteIdList))\n",
    "print(seoulBusRouteIdList)"
   ]
  },
  {
   "cell_type": "markdown",
   "metadata": {},
   "source": [
    "## @현재 시간 생성 함수"
   ]
  },
  {
   "cell_type": "code",
   "execution_count": 19,
   "metadata": {},
   "outputs": [],
   "source": [
    "def getNowTime():\n",
    "    fileDateTime = utc.localize(datetime.datetime.utcnow()).astimezone(timezone('Asia/Seoul'))       # 자정이 넘어간 시간 파일 경로가 바뀌는 문제를 해결해야 합니다.\n",
    "    return fileDateTime"
   ]
  },
  {
   "cell_type": "code",
   "execution_count": 20,
   "metadata": {},
   "outputs": [
    {
     "name": "stdout",
     "output_type": "stream",
     "text": [
      "2020-11-13 03:19:33.850311+09:00\n",
      "<class 'datetime.datetime'>\n",
      "2020-11-13T03:19:33.850311+09:00\n",
      "2020-11-13\n",
      "03:19:33\n"
     ]
    }
   ],
   "source": [
    "print(getNowTime())\n",
    "print(type(getNowTime()))\n",
    "print(getNowTime().isoformat()) # string\n",
    "print(getNowTime().isoformat()[:10])\n",
    "print(getNowTime().isoformat()[11:19])"
   ]
  },
  {
   "cell_type": "markdown",
   "metadata": {},
   "source": [
    "## @filePathList 생성"
   ]
  },
  {
   "cell_type": "code",
   "execution_count": 3,
   "metadata": {},
   "outputs": [],
   "source": [
    "# 폴더 자동 생성 함수\n",
    "# https://data-make.tistory.com/170\n",
    "def createFolder(directory):\n",
    "    try:\n",
    "        if not os.path.exists(directory):\n",
    "            os.makedirs(directory)\n",
    "    except OSError:\n",
    "        print ('Error: Creating directory. ' +  directory)"
   ]
  },
  {
   "cell_type": "code",
   "execution_count": 201,
   "metadata": {},
   "outputs": [],
   "source": [
    "def makeFilePathList():\n",
    "    fileAPIName = 'testFolder7'\n",
    "    filePathList = []\n",
    "\n",
    "    for routeId in routeIdList:\n",
    "        # 코드를 실행하는 장치에 따라 달라지는 경로 입니다. 수정해서 사용하세요.\n",
    "        fileDevicepath = 'C:/Users/jongh/OneDrive/School/석사/1-2/자료구조/프로젝트/5.DATA'\n",
    "        # yourDevicepath = 'C:/Users'\n",
    "\n",
    "        # 고정된 이름 및 변수에 의해 자동으로 생성 되는 이름 입니다. 변수를 확인하세요.\n",
    "        fileRootPath = '/Master/dataAPI/'\n",
    "        fileAPIName = fileAPIName\n",
    "        fileRouteId = str(routeId)                                                                                   # 파일 이름에 routeId를 포함 시킬지 확인합니다.\n",
    "        fileDateTime = getNowTime().isoformat()[:10]      # 자정이 넘어간 시간 파일 경로가 바뀌는 문제를 해결해야 합니다.\n",
    "        fileDateStr = fileDateTime[2:10]\n",
    "        fileExtension = '.txt'\n",
    "\n",
    "        #파일의 폴더 경로와 이름을 각각 출력합니다.\n",
    "        folderPath = str(fileDevicepath + fileRootPath + fileAPIName + '/' + fileRouteId)\n",
    "        # print(folderPath)\n",
    "        fileName = fileRouteId + '_' + fileDateStr + fileExtension\n",
    "        # print(fileName)\n",
    "\n",
    "        # 파일의 최종 경로를 출력합니다.\n",
    "        filePath = str(folderPath + '/' + fileName)\n",
    "\n",
    "        # 폴더를 생성합니다.\n",
    "        createFolder(folderPath)\n",
    "\n",
    "        # 파일 경로 리스트에 파일경로를 추가합니다.\n",
    "        filePathList.append(filePath)\n",
    "        \n",
    "    return filePathList"
   ]
  },
  {
   "cell_type": "code",
   "execution_count": 202,
   "metadata": {},
   "outputs": [
    {
     "data": {
      "text/plain": [
       "['C:/Users/jongh/OneDrive/School/석사/1-2/자료구조/프로젝트/5.DATA/Master/dataAPI/testFolder7/241006811/241006811_20-11-13.txt',\n",
       " 'C:/Users/jongh/OneDrive/School/석사/1-2/자료구조/프로젝트/5.DATA/Master/dataAPI/testFolder7/204000046/204000046_20-11-13.txt',\n",
       " 'C:/Users/jongh/OneDrive/School/석사/1-2/자료구조/프로젝트/5.DATA/Master/dataAPI/testFolder7/204000059/204000059_20-11-13.txt',\n",
       " 'C:/Users/jongh/OneDrive/School/석사/1-2/자료구조/프로젝트/5.DATA/Master/dataAPI/testFolder7/204000147/204000147_20-11-13.txt',\n",
       " 'C:/Users/jongh/OneDrive/School/석사/1-2/자료구조/프로젝트/5.DATA/Master/dataAPI/testFolder7/233000031/233000031_20-11-13.txt']"
      ]
     },
     "execution_count": 202,
     "metadata": {},
     "output_type": "execute_result"
    }
   ],
   "source": [
    "filePathList = makeFilePathList()\n",
    "filePathList"
   ]
  },
  {
   "cell_type": "markdown",
   "metadata": {},
   "source": [
    "## \"ws.bus.go.kr\" 도메인 API 호출"
   ]
  },
  {
   "cell_type": "code",
   "execution_count": 194,
   "metadata": {
    "colab": {
     "base_uri": "https://localhost:8080/",
     "height": 269
    },
    "id": "vmoo1Av5TQ5h",
    "outputId": "e4aef89b-f4fe-4a0c-f0b4-e8817246e38c"
   },
   "outputs": [
    {
     "name": "stdout",
     "output_type": "stream",
     "text": [
      "2020-11-13T05:38:35.211673+09:00 \t API [ buslocationservice ] 호출을 [ 시작 ] 하였습니다.\n",
      "\n",
      "2020-11-13 05:38:35.223667+09:00 241006811 결과가 없습니다.\n",
      "2020-11-13 05:38:35.262676+09:00 204000147 결과가 없습니다.\n",
      "\n",
      " 2020-11-13T04:40:11.920121+09:00 \t API [ buslocationservice ] 호출을 [ 완료 ] 하였습니다.\t 소요시간:  0:00:00.068007\n"
     ]
    }
   ],
   "source": [
    "def wsAPICall(routeIdList, filePathList):\n",
    "    ###########################################################  \n",
    "    url = 'http://ws.bus.go.kr/api/rest/buspos/getBusPosByRtid'# <<<<<<<<<<<<< 도메인 확인\n",
    "    ###########################################################\n",
    "\n",
    "    pastTime = getNowTime()\n",
    "\n",
    "    print(pastTime.isoformat(),'\\t API [ buslocationservice ] 호출을 [ 시작 ] 하였습니다.\\n')  \n",
    "\n",
    "    for routeId, filePath in zip(routeIdList, filePathList):\n",
    "        # filePath에 있는 .txt파일을 append 모드로 엽니다.\n",
    "        textFile = open(filePath, 'a', encoding = 'utf-8', newline = '\\n')\n",
    "\n",
    "        # API를 호출하여 XML 형식으로 된 string 데이터를 변수 \"oneLineXML\" 에 저장합니다.\n",
    "        queryParams = '?' + urlencode({ quote_plus('serviceKey') : apiKey, quote_plus('busRouteId') : routeId })\n",
    "        request = Request(url + queryParams)\n",
    "        request.get_method = lambda: 'GET'\n",
    "        oneLineXML = urlopen(request).read().decode('utf8')\n",
    "\n",
    "        # xtree는 \"ws.bus.go.kr\" 도메인 API 호출에서 \"headerCd\"에 상관없이 3개의 태그를 갖습니다.\n",
    "        xtree = ET.fromstring(oneLineXML)\n",
    "\n",
    "        # comMsgHeader : []\n",
    "        comMsgHeader = xtree[0]     \n",
    "\n",
    "        # msgHeader : [headerCd, headerMsg, itemCount]\n",
    "        msgHeader = xtree[1]\n",
    "        headerCd = int(msgHeader[0].text)\n",
    "        if(headerCd != 0):\n",
    "            textFile.write(getNowTime().isoformat())\n",
    "            textFile.write(' ')\n",
    "            textFile.write(msgHeader[1].text)\n",
    "            textFile.write(\"\\n\")\n",
    "            print(getNowTime(), routeId, end=' ')\n",
    "            print(msgHeader[1].text)\n",
    "            continue;\n",
    "\n",
    "        # msgBody : [ 23개 태그 ]\n",
    "        msgBody = xtree[2]\n",
    "        # itemTagList = ['busType', 'congetion', 'dataTm', 'fullSectDist', 'gpsX', 'gpsY', 'isFullFlag', 'islastyn', 'isrunyn', 'lastStTm', 'lastStnId', 'nextStId', 'nextStTm', 'plainNo', 'posX', 'posY', 'rtDist', 'sectDist', 'sectOrd', 'sectionId', 'stopFlag', 'trnstnid', 'vehId']\n",
    "        for itemList in msgBody:\n",
    "            itemValueList = []\n",
    "            # itemValueList.append(getNowTime().isoformat())    # \"ws.bus.go.kr\" 도메인은 API 호출시간 ( \"dataTm\" ) 제공\n",
    "            for item in itemList:\n",
    "                itemValueList.append(item.text)\n",
    "                textFile.write(item.text)\n",
    "                textFile.write(' ')\n",
    "            textFile.write(\"\\n\")\n",
    "            # print(str(itemValueList))\n",
    "\n",
    "\n",
    "    print('\\n', currentTime.isoformat(),'\\t API [ buslocationservice ] 호출을 [ 완료 ] 하였습니다.\\t 소요시간: ', getNowTime() - pastTime)   \n",
    "\n",
    "    textFile.close()\n",
    "    \n",
    "wsAPICall(routeIdList, filePathList)"
   ]
  },
  {
   "cell_type": "markdown",
   "metadata": {},
   "source": [
    "## \"openapi.gbis.go.kr\" 도메인 API 호출"
   ]
  },
  {
   "cell_type": "code",
   "execution_count": 212,
   "metadata": {},
   "outputs": [
    {
     "name": "stdout",
     "output_type": "stream",
     "text": [
      "2020-11-13T05:54:21.923207+09:00 \t API [ buslocationservice ] 호출을 [ 시작 ] 하였습니다.\n",
      "2020-11-13 05:54:22.027230+09:00 241006811 결과가 존재하지 않습니다.\n",
      "2020-11-13T04:40:11.920121+09:00 \t API [ buslocationservice ] 호출을 [ 완료 ] 하였습니다. 소요시간:  0:00:00.500235\n"
     ]
    }
   ],
   "source": [
    "def openAPICall(routeIdList, filePathList):\n",
    "    ############################################################  \n",
    "    url = 'http://openapi.gbis.go.kr/ws/rest/buslocationservice'# <<<<<<<<<<<<< 도메인 확인\n",
    "    ############################################################\n",
    "\n",
    "    pastTime = getNowTime()\n",
    "\n",
    "    print(pastTime.isoformat(),'\\t API [ buslocationservice ] 호출을 [ 시작 ] 하였습니다.')  \n",
    "\n",
    "    for routeId, filePath in zip(routeIdList, filePathList):\n",
    "        # filePath에 있는 .txt파일을 append 모드로 엽니다.\n",
    "        textFile = open(filePath, 'a', encoding = 'utf-8', newline = '\\n')\n",
    "\n",
    "        # API를 호출하여 XML 형식으로 된 string 데이터를 변수 \"oneLineXML\" 에 저장합니다.\n",
    "        queryParams = '?' + urlencode({ quote_plus('serviceKey') : apiKey, quote_plus('routeId') : routeId })\n",
    "        request = Request(url + queryParams)\n",
    "        request.get_method = lambda: 'GET'\n",
    "        oneLineXML = urlopen(request).read().decode('utf8')\n",
    "        \n",
    "        # xtree는 \"ws.bus.go.kr\" 도메인 API 호출에서 \"headerCd\"에 상관없이 3개의 태그를 갖습니다.\n",
    "        xtree = ET.fromstring(oneLineXML)\n",
    "\n",
    "        # comMsgHeader : []\n",
    "        comMsgHeader = xtree[0]     \n",
    "\n",
    "        # msgHeader : [queryTime, resultCode, resultMessage]\n",
    "        msgHeader = xtree[1]\n",
    "        resultCode = int(msgHeader[1].text)\n",
    "        resultMessage = msgHeader[2]\n",
    "\n",
    "        if(resultCode != 0):\n",
    "            textFile.write(getNowTime().isoformat())\n",
    "            textFile.write(' ')\n",
    "            textFile.write(resultMessage.text)\n",
    "            textFile.write(\"\\n\")\n",
    "            print(getNowTime(), routeId, end=' ')\n",
    "            print(resultMessage.text)\n",
    "            continue;\n",
    "\n",
    "        # msgBody : dateTime + [ 8개 태그 ]\n",
    "        msgBody = xtree[2]\n",
    "        #itemTagList = ['endBus', 'lowPlate', 'plateNo', 'plateType', 'remainSeatCnt', 'routeId', 'stationId', 'stationSeq']\n",
    "        for busLocationList in msgBody:\n",
    "            busLocationValueList = []\n",
    "            textFile.write(getNowTime().isoformat())\n",
    "            # itemValueList.append(getNowTime().isoformat())    # \"ws.bus.go.kr\" 도메인은 API 호출시간 ( \"dataTm\" ) 제공\n",
    "            for busLocation in busLocationList:\n",
    "                # busLocationValueList.append(busLocation.text)\n",
    "                textFile.write(busLocation.text)\n",
    "                textFile.write(' ')\n",
    "            textFile.write(\"\\n\")\n",
    "            # print(busLocationValueList)\n",
    "\n",
    "\n",
    "    print(currentTime.isoformat(),'\\t API [ buslocationservice ] 호출을 [ 완료 ] 하였습니다. 소요시간: ', getNowTime() - pastTime)   \n",
    "\n",
    "    textFile.close()\n",
    "    \n",
    "openAPICall(routeIdList, filePathList)"
   ]
  },
  {
   "cell_type": "markdown",
   "metadata": {},
   "source": [
    "## @Schedule 모듈 사용을 위한 API 호출 생성 함수 생성"
   ]
  },
  {
   "cell_type": "code",
   "execution_count": 210,
   "metadata": {},
   "outputs": [],
   "source": [
    "def newFile(routeIdList, filePathList):\n",
    "    for routeId, filePath in zip(routeIdList, filePathList):\n",
    "        textFile = open(filePath, 'w', encoding = 'utf-8', newline = '\\n')\n",
    "        textFile.write(str(routeId))\n",
    "        textFile.write(' ')\n",
    "        textFile.write(getNowTime().isoformat())\n",
    "        textFile.write(\"\\n\")"
   ]
  },
  {
   "cell_type": "code",
   "execution_count": 213,
   "metadata": {},
   "outputs": [],
   "source": [
    "newFile(routeIdList, filePathList)"
   ]
  },
  {
   "cell_type": "code",
   "execution_count": 215,
   "metadata": {},
   "outputs": [
    {
     "name": "stdout",
     "output_type": "stream",
     "text": [
      "2020-11-13T05:56:22.263477+09:00 \t API [ buslocationservice ] 호출을 [ 시작 ] 하였습니다.\n",
      "2020-11-13 05:56:22.285623+09:00 241006811 결과가 존재하지 않습니다.\n",
      "2020-11-13T04:40:11.920121+09:00 \t API [ buslocationservice ] 호출을 [ 완료 ] 하였습니다. 소요시간:  0:00:00.343376\n"
     ]
    },
    {
     "ename": "KeyboardInterrupt",
     "evalue": "",
     "output_type": "error",
     "traceback": [
      "\u001b[1;31m---------------------------------------------------------------------------\u001b[0m",
      "\u001b[1;31mKeyboardInterrupt\u001b[0m                         Traceback (most recent call last)",
      "\u001b[1;32m<ipython-input-215-2e03064d6644>\u001b[0m in \u001b[0;36m<module>\u001b[1;34m\u001b[0m\n\u001b[0;32m      4\u001b[0m \u001b[1;32mwhile\u001b[0m \u001b[1;32mTrue\u001b[0m\u001b[1;33m:\u001b[0m\u001b[1;33m\u001b[0m\u001b[1;33m\u001b[0m\u001b[0m\n\u001b[0;32m      5\u001b[0m     \u001b[0mschedule\u001b[0m\u001b[1;33m.\u001b[0m\u001b[0mrun_pending\u001b[0m\u001b[1;33m(\u001b[0m\u001b[1;33m)\u001b[0m\u001b[1;33m\u001b[0m\u001b[1;33m\u001b[0m\u001b[0m\n\u001b[1;32m----> 6\u001b[1;33m     \u001b[0mtime\u001b[0m\u001b[1;33m.\u001b[0m\u001b[0msleep\u001b[0m\u001b[1;33m(\u001b[0m\u001b[1;36m1\u001b[0m\u001b[1;33m)\u001b[0m\u001b[1;33m\u001b[0m\u001b[1;33m\u001b[0m\u001b[0m\n\u001b[0m",
      "\u001b[1;31mKeyboardInterrupt\u001b[0m: "
     ]
    }
   ],
   "source": [
    "schedule.clear()\n",
    "schedule.every(5).seconds.do(lambda: openAPICall(routeIdList, filePathList))\n",
    "\n",
    "while True:\n",
    "    schedule.run_pending()\n",
    "    time.sleep(1)"
   ]
  },
  {
   "cell_type": "code",
   "execution_count": null,
   "metadata": {},
   "outputs": [],
   "source": []
  }
 ],
 "metadata": {
  "colab": {
   "name": "경기버스정보API.ipynb",
   "provenance": []
  },
  "kernelspec": {
   "display_name": "Python 3",
   "language": "python",
   "name": "python3"
  },
  "language_info": {
   "codemirror_mode": {
    "name": "ipython",
    "version": 3
   },
   "file_extension": ".py",
   "mimetype": "text/x-python",
   "name": "python",
   "nbconvert_exporter": "python",
   "pygments_lexer": "ipython3",
   "version": "3.8.3"
  }
 },
 "nbformat": 4,
 "nbformat_minor": 4
}

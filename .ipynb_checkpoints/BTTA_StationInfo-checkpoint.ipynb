{
 "cells": [
  {
   "cell_type": "markdown",
   "metadata": {},
   "source": [
    "## 라이브러리 불러오기"
   ]
  },
  {
   "cell_type": "code",
   "execution_count": 2,
   "metadata": {},
   "outputs": [],
   "source": [
    "# API 호출\n",
    "# ## https://data.go.kr/tcs/dss/selectApiDataDetailView.do?publicDataPk=15057440\n",
    "from urllib.request import Request, urlopen\n",
    "# Request https://docs.python.org/ko/3/library/urllib.request.html#urllib.request.Request\n",
    "# urlopen https://docs.python.org/ko/3/library/urllib.request.html#urllib.request.urlopen\n",
    "from urllib.parse import urlencode, quote_plus\n",
    "# urlenocde https://docs.python.org/ko/3/library/urllib.parse.html#urllib.parse.urlencode\n",
    "# quote_plus https://docs.python.org/ko/3/library/urllib.parse.html#urllib.parse.quote_plus\n",
    "from urllib.parse import unquote\n",
    "import requests\n",
    "\n",
    "# 시간 생성\n",
    "import time\n",
    "import datetime\n",
    "from pytz import timezone, utc\n",
    "\n",
    "# 폴더 자동 생성\n",
    "import os\n",
    "\n",
    "# 코드 스케줄링\n",
    "import threading\n",
    "# import schedule\n",
    "\n",
    "# XML 파싱\n",
    "import xml.etree.ElementTree as ET\n",
    "\n",
    "# 입력데이터 데이터프레임 작성\n",
    "import pandas as pd\n",
    "import numpy as np\n",
    "\n",
    "# DataFrame 화면 출력                                                # DataFrame 화면 출력 설정이 변경되어 있습니다 #\n",
    "from IPython.display import display\n",
    "pd.options.display.max_columns = None\n",
    "pd.options.display.max_rows = None # default = 60"
   ]
  },
  {
   "cell_type": "code",
   "execution_count": 3,
   "metadata": {},
   "outputs": [],
   "source": [
    "# 폴더 자동 생성 함수\n",
    "# https://data-make.tistory.com/170\n",
    "def createFolder(directory):\n",
    "    try:\n",
    "        if not os.path.exists(directory):\n",
    "            os.makedirs(directory)\n",
    "    except OSError:\n",
    "        print ('Error: Creating directory. ' +  directory)"
   ]
  },
  {
   "cell_type": "markdown",
   "metadata": {},
   "source": [
    "## 입력데이터"
   ]
  },
  {
   "cell_type": "code",
   "execution_count": 16,
   "metadata": {},
   "outputs": [],
   "source": [
    "def getOnlyDirectory(index):\n",
    "    \n",
    "    global subCategoryDict, category\n",
    "    rootDirectory = os.getcwd()\n",
    "    \n",
    "    subCategory = subCategoryDict[index]\n",
    "    directory = rootDirectory + category + subCategory\n",
    "    return directory"
   ]
  },
  {
   "cell_type": "code",
   "execution_count": 17,
   "metadata": {},
   "outputs": [],
   "source": [
    "def getRouteIdList():\n",
    "    folderPath = getOnlyDirectory('rid')\n",
    "    fileName = 'routeIdList.txt'\n",
    "    filePath = folderPath + fileName\n",
    "\n",
    "    routeIdList = []\n",
    "    if(os.path.isfile(filePath)):\n",
    "        routeIdFile = open(filePath, 'r', encoding = 'utf-8', newline = '\\n')\n",
    "        # print('파일이 존재합니다.')\n",
    "\n",
    "    else:\n",
    "        createFolder(folderPath)\n",
    "        routeIdFile = open(filePath, 'r', encoding = 'utf-8', newline = '\\n')\n",
    "\n",
    "    routeId = routeIdFile.readline()\n",
    "    while(routeId):\n",
    "        routeIdList.append(int(routeId))\n",
    "        routeId = (routeIdFile.readline())\n",
    "\n",
    "    routeIdFile.close()\n",
    "    \n",
    "    return routeIdList"
   ]
  },
  {
   "cell_type": "code",
   "execution_count": 20,
   "metadata": {},
   "outputs": [],
   "source": [
    "subCategoryDict = {'dtt' : '/daily-time-table/', \n",
    "                   'dtt-log' : '/log/daily-time-table/', \n",
    "                   'rid' : '/route-id-list/',\n",
    "                   'main-log' : '/log/main/',\n",
    "                   'info' : '/BusInfo/'\n",
    "                  }"
   ]
  },
  {
   "cell_type": "code",
   "execution_count": 23,
   "metadata": {},
   "outputs": [
    {
     "name": "stdin",
     "output_type": "stream",
     "text": [
      "테스트 버전 입니까?... True[1] OR False[0] :  1\n"
     ]
    }
   ],
   "source": [
    "isTest = int(input(\"테스트 버전 입니까?... True[1] OR False[0] : \")) \n",
    "\n",
    "##############################\n",
    "##############################\n",
    "                          ####\n",
    "if(isTest):               ####\n",
    "    category = '/TEST'    ####\n",
    "                          ####\n",
    "else:                     ####\n",
    "    category = '/DATA'    ####\n",
    "                          ####\n",
    "##############################\n",
    "##############################"
   ]
  },
  {
   "cell_type": "code",
   "execution_count": 46,
   "metadata": {},
   "outputs": [],
   "source": [
    "routeIdList = [204000046]\n",
    "# routeIdList = getRouteIdList()"
   ]
  },
  {
   "cell_type": "markdown",
   "metadata": {},
   "source": [
    "## 출력준비"
   ]
  },
  {
   "cell_type": "code",
   "execution_count": 51,
   "metadata": {},
   "outputs": [],
   "source": [
    "def getDirectory(index, routeId):\n",
    "    global subCategoryDict, category\n",
    "    rootDirectory = os.getcwd()\n",
    "    # category = '/TEST'\n",
    "    subCategory = subCategoryDict[index]\n",
    "    directory = rootDirectory + category + subCategory + str(routeId) + '/'\n",
    "    return directory"
   ]
  },
  {
   "cell_type": "code",
   "execution_count": 74,
   "metadata": {},
   "outputs": [],
   "source": [
    "def readInfo(routeId, totalStation):\n",
    "    directory = getDirectory('info', routeId)\n",
    "    # infoRootPath = 'C:/Users/jongh/OneDrive/School/석사/1-2/자료구조/프로젝트/5.DATA/BusInfo/'\n",
    "    infoFilePath = directory + str(routeId) + '.txt'\n",
    "    print(infoFilePath)\n",
    "    infoFile = open(infoFilePath, \"a\")\n",
    "    \n",
    "    infoFile.write('totalStation ')\n",
    "    infoFile.write(str(totalStation))\n",
    "    infoFile.write('\\n')\n",
    "    \n",
    "    infoFile.close"
   ]
  },
  {
   "cell_type": "markdown",
   "metadata": {},
   "source": [
    "## KEY unquote"
   ]
  },
  {
   "cell_type": "code",
   "execution_count": 4,
   "metadata": {},
   "outputs": [],
   "source": [
    "KEY = 'yEaR%2F3MDedRSlVJL%2F2pxnVg0yre1N5VF3RZ%2FUAt56MJ7J2mNpfqhUvy05pXV0uhHTVY7DbyCR8xmMaDdYga67Q%3D%3D' # 종현\n",
    "# apiKEY = requests.utils.unquote(KEY)\n",
    "apiKey = unquote(KEY)"
   ]
  },
  {
   "cell_type": "markdown",
   "metadata": {},
   "source": [
    "## URL 생성"
   ]
  },
  {
   "cell_type": "code",
   "execution_count": 9,
   "metadata": {},
   "outputs": [
    {
     "name": "stdout",
     "output_type": "stream",
     "text": [
      "http://openapi.gbis.go.kr/ws/rest/busrouteservice/station?serviceKey=yEaR%2F3MDedRSlVJL%2F2pxnVg0yre1N5VF3RZ%2FUAt56MJ7J2mNpfqhUvy05pXV0uhHTVY7DbyCR8xmMaDdYga67Q%3D%3D&routeId=204000046\n"
     ]
    }
   ],
   "source": [
    "# 노선번호목록조회 busrouteservice\n",
    "# 해당 노선번호의 노선ID, 노선유형, 운행지역 등을 제공합니다.\n",
    "url = 'http://openapi.gbis.go.kr/ws/rest/busrouteservice/station' \n",
    "queryParams = '?' + urlencode({ quote_plus('serviceKey') : apiKey, quote_plus('routeId') : '204000046' })\n",
    "print(url+queryParams)"
   ]
  },
  {
   "cell_type": "markdown",
   "metadata": {},
   "source": [
    "## API 호출"
   ]
  },
  {
   "cell_type": "code",
   "execution_count": 75,
   "metadata": {},
   "outputs": [
    {
     "name": "stdout",
     "output_type": "stream",
     "text": [
      "/home/ubuntu/Data-Structure-Project/TEST/BusInfo/204000046/204000046.txt\n"
     ]
    }
   ],
   "source": [
    "for routeId in routeIdList:\n",
    "    # 노선정보항목조회 busrouteservice/info\n",
    "    # 해당 노선에 대한 노선번호, 기점/종점 정류소, 첫차/막차시간, 배차간격, 운행업체 등의 운행계획 정보를 제공합니다.\n",
    "    url = 'http://openapi.gbis.go.kr/ws/rest/busrouteservice/station'\n",
    "    queryParams = '?' + urlencode({ quote_plus('serviceKey') : apiKey, quote_plus('routeId') : routeId })\n",
    "    \n",
    "    request = Request(url + queryParams)\n",
    "    request.get_method = lambda: 'GET'\n",
    "    busStationXML = urlopen(request).read().decode('utf8')\n",
    "    \n",
    "\n",
    "    busStationTree = ET.fromstring(busStationXML)\n",
    "    busRouteStationItem = busStationTree[2]\n",
    "    totalStation = len(busRouteStationItem)\n",
    "    readInfo(routeId, totalStation)"
   ]
  },
  {
   "cell_type": "markdown",
   "metadata": {},
   "source": [
    "## 버스노선정보 API 태그 리스트"
   ]
  },
  {
   "cell_type": "markdown",
   "metadata": {},
   "source": [
    "response\n",
    "    comMsgHeader\n",
    "    msgHeader\n",
    "    msgBody\n",
    "        busRouteInfoItem\n",
    "            0 : \"companyId\" : 운수업체아이디\n",
    "            1 : \"companyName\" : 운수업체명\n",
    "            2 : \"companyTel\" : 운수업체 전화번호\n",
    "            3 : \"districtCd\" : 관할지역 (1:서울,2:경기,3:인천)\n",
    "            4 : \"downFirstTime\" : 평일 종점 첫차시간\n",
    "            5 : \"downLastTime\" : 평일 종점 막차시간\n",
    "            6 : \"endMobileNo\" : 종점정류소번호\n",
    "            7 : \"endStationId\" : 종점정류소아이디\n",
    "            8 : \"endStationName\" : 종점정류소명\n",
    "            9 : \"peekAlloc\" : 평일 최소 배차시간\n",
    "            10: \"regionName\" : 지역명\n",
    "            11: \"routeId\" : 노선아이디\n",
    "            12: \"routeName\" : 노선번호\n",
    "            13: \"routeTypeCd\" : 노선유형\n",
    "            14: \"routeTypeName\" : 노선유형명\n",
    "            15: \"startMobileNo\" : 기점정류소번호\n",
    "            16: \"startStationId\" : 기점정류소아이디\n",
    "            17: \"startStationName\" : 기점정류소명\n",
    "            18: \"upFirstTime\" : 평일 기점 첫차시간\n",
    "            19: \"upLastTime\" : 평일 기점 막차시간\n",
    "            20: \"nPeekAlloc\" : 평일 최대 배차시간\n",
    "        busRouteInfoItem\n",
    "    msgBody"
   ]
  },
  {
   "cell_type": "code",
   "execution_count": 69,
   "metadata": {},
   "outputs": [],
   "source": [
    "# Initialize List\n",
    "companyIdList = []\n",
    "companyNameList = []\n",
    "companyTelList = []\n",
    "districtCdList = []\n",
    "downFirstTimeList = []\n",
    "downLastTimeList = []\n",
    "endMobileNoList = []\n",
    "endStationIdList = []\n",
    "endStationNameList = []\n",
    "peekAllocList = []\n",
    "regionNameList = []\n",
    "routeIdList = []\n",
    "routeNameList = []\n",
    "routeTypeCdList = []\n",
    "routeTypeNameList = []\n",
    "startMobileNoList = []\n",
    "startStationIdList = []\n",
    "startStationNameList = []\n",
    "upFirstTimeList = []\n",
    "upLastTimeList = []\n",
    "nPeekAllocList = []"
   ]
  },
  {
   "cell_type": "code",
   "execution_count": 70,
   "metadata": {},
   "outputs": [
    {
     "name": "stdout",
     "output_type": "stream",
     "text": [
      "[[], [], [], [], [], [], [], [], [], [], [], [], [], [], [], [], [], [], [], [], []]\n"
     ]
    }
   ],
   "source": [
    "listList = \\\n",
    "[companyIdList,\n",
    "companyNameList,\n",
    "companyTelList,\n",
    "districtCdList,\n",
    "downFirstTimeList,\n",
    "downLastTimeList,\n",
    "endMobileNoList,\n",
    "endStationIdList,\n",
    "endStationNameList,\n",
    "peekAllocList,\n",
    "regionNameList,\n",
    "routeIdList,\n",
    "routeNameList,\n",
    "routeTypeCdList,\n",
    "routeTypeNameList,\n",
    "startMobileNoList,\n",
    "startStationIdList,\n",
    "startStationNameList,\n",
    "upFirstTimeList,\n",
    "upLastTimeList,\n",
    "nPeekAllocList]\n",
    "print(listList)"
   ]
  },
  {
   "cell_type": "code",
   "execution_count": 65,
   "metadata": {},
   "outputs": [],
   "source": [
    "tagNameList = \\\n",
    "[\"companyId\",\n",
    "\"companyName\",\n",
    "\"companyTel\",\n",
    "\"districtCd\",\n",
    "\"downFirstTime\",\n",
    "\"downLastTime\",\n",
    "\"endMobileNo\",\n",
    "\"endStationId\",\n",
    "\"endStationName\",\n",
    "\"peekAlloc\",\n",
    "\"regionName\",\n",
    "\"routeId\",\n",
    "\"routeName\",\n",
    "\"routeTypeCd\",\n",
    "\"routeTypeName\",\n",
    "\"startMobileNo\",\n",
    "\"startStationId\",\n",
    "\"startStationName\",\n",
    "\"upFirstTime\",\n",
    "\"upLastTime\",\n",
    "\"nPeekAlloc\"]\n",
    "# print(tagList)"
   ]
  },
  {
   "cell_type": "code",
   "execution_count": 66,
   "metadata": {},
   "outputs": [
    {
     "data": {
      "text/plain": [
       "1935"
      ]
     },
     "execution_count": 66,
     "metadata": {},
     "output_type": "execute_result"
    }
   ],
   "source": [
    "len(inputDataFrame)"
   ]
  },
  {
   "cell_type": "markdown",
   "metadata": {},
   "source": [
    "## 최종 코드"
   ]
  },
  {
   "cell_type": "code",
   "execution_count": 76,
   "metadata": {},
   "outputs": [
    {
     "ename": "IndentationError",
     "evalue": "unexpected indent (<ipython-input-76-114ed862df9e>, line 2)",
     "output_type": "error",
     "traceback": [
      "\u001b[0;36m  File \u001b[0;32m\"<ipython-input-76-114ed862df9e>\"\u001b[0;36m, line \u001b[0;32m2\u001b[0m\n\u001b[0;31m    print(i, end='\\t')\u001b[0m\n\u001b[0m    ^\u001b[0m\n\u001b[0;31mIndentationError\u001b[0m\u001b[0;31m:\u001b[0m unexpected indent\n"
     ]
    }
   ],
   "source": [
    "for i in range(len(inputDataFrame)):\n",
    "    print(i, end='\\t')\n",
    "    print(inputDataFrame['노선'][i], end='\\t')\n",
    "    flagVar = 1\n",
    "    # 노선번호목록조회 busrouteservice\n",
    "    # 해당 노선번호의 노선ID, 노선유형, 운행지역 등을 제공합니다.\n",
    "    url = 'http://openapi.gbis.go.kr/ws/rest/busrouteservice' \n",
    "    queryParams = '?' + urlencode({ quote_plus('serviceKey') : apiKey, quote_plus('keyword') : routeNoList[i] })\n",
    "#     print(url+queryParams)\n",
    "\n",
    "    request = Request(url + queryParams)\n",
    "    request.get_method = lambda: 'GET'\n",
    "    oneLineXML = urlopen(request).read().decode('utf8')\n",
    "#     print(oneLineXML)\n",
    "\n",
    "    xtree = ET.fromstring(oneLineXML)\n",
    "#     print(len(xtree), end='\\t')\n",
    "    \n",
    "    # print(startStationList[i], endStationList[i])\n",
    "    resultCode = int(xtree[1].find(\"resultCode\").text)\n",
    "#     print(resultCode)\n",
    "    \n",
    "    if(resultCode):\n",
    "        for listElement, tagName in zip(listList, tagNameList):\n",
    "            listElement.append(0)\n",
    "        print('0')\n",
    "        continue\n",
    "\n",
    "    busRouteList = xtree[2]\n",
    "#     print(len(busRouteList))\n",
    "\n",
    "    for busRoute in busRouteList:\n",
    "        routeId = busRoute.find(\"routeId\").text\n",
    "\n",
    "        # 노선정보항목조회 busrouteservice/info\n",
    "        # 해당 노선에 대한 노선번호, 기점/종점 정류소, 첫차/막차시간, 배차간격, 운행업체 등의 운행계획 정보를 제공합니다.\n",
    "        url = 'http://openapi.gbis.go.kr/ws/rest/busrouteservice/info'\n",
    "        queryParams = '?' + urlencode({ quote_plus('serviceKey') : apiKey, quote_plus('routeId') : routeId })\n",
    "#         print(url+queryParams)\n",
    "\n",
    "        request = Request(url + queryParams)\n",
    "        request.get_method = lambda: 'GET'\n",
    "        busInfoXML = urlopen(request).read().decode('utf8')\n",
    "\n",
    "        busInfoTree = ET.fromstring(busInfoXML)\n",
    "#         print(len(busInfoTree))\n",
    "        \n",
    "        busRouteInfoItem = busInfoTree[2]\n",
    "\n",
    "        startStationName = busRouteInfoItem[0].find(\"startStationName\").text\n",
    "        endStationName = busRouteInfoItem[0].find(\"endStationName\").text\n",
    "\n",
    "    #     print(startStationName, endStationName)\n",
    "\n",
    "        if(startStationList[i] == startStationName or endStationList[i] == endStationName):\n",
    "#             print(routeId)\n",
    "            for listElement, tagName in zip(listList, tagNameList):\n",
    "                tagValue = busRouteInfoItem[0].find(tagName)\n",
    "                if(tagValue == None):\n",
    "                    listElement.append(None)\n",
    "                    continue\n",
    "                tagTextValue = tagValue.text\n",
    "                listElement.append(tagTextValue)\n",
    "\n",
    "            print(routeId)\n",
    "            flagVar = 0\n",
    "            break;\n",
    "            \n",
    "    if(flagVar):\n",
    "        for listElement, tagName in zip(listList, tagNameList):\n",
    "            listElement.append(-1)\n",
    "        print('-1')"
   ]
  },
  {
   "cell_type": "code",
   "execution_count": 74,
   "metadata": {},
   "outputs": [],
   "source": [
    "def printList(listList):\n",
    "    for listElement in range(len(listList)):\n",
    "        print(len(listList[listElement]))"
   ]
  },
  {
   "cell_type": "code",
   "execution_count": 77,
   "metadata": {},
   "outputs": [
    {
     "name": "stdout",
     "output_type": "stream",
     "text": [
      "1935\n",
      "1935\n",
      "1935\n",
      "1935\n",
      "1935\n",
      "1935\n",
      "1935\n",
      "1935\n",
      "1935\n",
      "1935\n",
      "1935\n",
      "1935\n",
      "1935\n",
      "1935\n",
      "1935\n",
      "1935\n",
      "1935\n",
      "1935\n",
      "1935\n",
      "1935\n",
      "1935\n"
     ]
    }
   ],
   "source": [
    "printList(listList)"
   ]
  },
  {
   "cell_type": "code",
   "execution_count": 76,
   "metadata": {},
   "outputs": [],
   "source": [
    "copyListList = listList"
   ]
  },
  {
   "cell_type": "markdown",
   "metadata": {},
   "source": [
    "### index i 를 바꿔서 개별 노선에 대해 위 알고리즘을 실행합니다."
   ]
  },
  {
   "cell_type": "code",
   "execution_count": null,
   "metadata": {},
   "outputs": [],
   "source": [
    "##########\n",
    "i = 1641\n",
    "##########\n",
    "\n",
    "flagVar = 1\n",
    "print(i, end='\\t')\n",
    "# 노선번호목록조회 busrouteservice\n",
    "# 해당 노선번호의 노선ID, 노선유형, 운행지역 등을 제공합니다.\n",
    "url = 'http://openapi.gbis.go.kr/ws/rest/busrouteservice' \n",
    "queryParams = '?' + urlencode({ quote_plus('serviceKey') : apiKey, quote_plus('keyword') : routeNoList[i] })\n",
    "print(url+queryParams)\n",
    "\n",
    "request = Request(url + queryParams)\n",
    "request.get_method = lambda: 'GET'\n",
    "oneLineXML = urlopen(request).read().decode('utf8')\n",
    "#     print(oneLineXML)\n",
    "\n",
    "xtree = ET.fromstring(oneLineXML)\n",
    "#     print(len(xtree), end='\\t')\n",
    "\n",
    "# print(startStationList[i], endStationList[i])\n",
    "resultCode = int(xtree[1].find(\"resultCode\").text)\n",
    "#     print(resultCode)\n",
    "\n",
    "if(resultCode):\n",
    "    for listElement, tagName in zip(listList, tagNameList):\n",
    "        listElement.append(0)\n",
    "    print('0')\n",
    "\n",
    "busRouteList = xtree[2]\n",
    "#     print(len(busRouteList))\n",
    "\n",
    "for busRoute in busRouteList:\n",
    "    routeId = busRoute.find(\"routeId\").text\n",
    "\n",
    "    # 노선정보항목조회 busrouteservice/info\n",
    "    # 해당 노선에 대한 노선번호, 기점/종점 정류소, 첫차/막차시간, 배차간격, 운행업체 등의 운행계획 정보를 제공합니다.\n",
    "    url = 'http://openapi.gbis.go.kr/ws/rest/busrouteservice/info'\n",
    "    queryParams = '?' + urlencode({ quote_plus('serviceKey') : apiKey, quote_plus('routeId') : routeId })\n",
    "#         print(url+queryParams)\n",
    "\n",
    "    request = Request(url + queryParams)\n",
    "    request.get_method = lambda: 'GET'\n",
    "    busInfoXML = urlopen(request).read().decode('utf8')\n",
    "\n",
    "    busInfoTree = ET.fromstring(busInfoXML)\n",
    "#         print(len(busInfoTree))\n",
    "\n",
    "    busRouteInfoItem = busInfoTree[2]\n",
    "\n",
    "    startStationName = busRouteInfoItem[0].find(\"startStationName\").text\n",
    "    endStationName = busRouteInfoItem[0].find(\"endStationName\").text\n",
    "\n",
    "#     print(startStationName, endStationName)\n",
    "\n",
    "    if(startStationList[i] == startStationName or endStationList[i] == endStationName):\n",
    "#             print(routeId)\n",
    "        for listElement, tagName in zip(listList, tagNameList):\n",
    "            tagValue = busRouteInfoItem[0].find(tagName)\n",
    "            if(tagValue == None):\n",
    "                listElement.append(None)\n",
    "                continue\n",
    "            tagTextValue = tagValue.text\n",
    "            listElement.append(tagTextValue)\n",
    "\n",
    "        print(routeId)\n",
    "        flagVar = 0\n",
    "        break;\n",
    "\n",
    "if(flagVar):\n",
    "    for listElement, tagName in zip(listList, tagNameList):\n",
    "        listElement.append(-1)\n",
    "    print('-1')"
   ]
  },
  {
   "cell_type": "markdown",
   "metadata": {},
   "source": [
    "## DataFrame에 값 추가하기"
   ]
  },
  {
   "cell_type": "code",
   "execution_count": 197,
   "metadata": {},
   "outputs": [],
   "source": [
    "for tagName, listElement in zip(tagNameList, listList):\n",
    "    inputDataFrame.loc[:, tagName] = listElement"
   ]
  },
  {
   "cell_type": "code",
   "execution_count": 88,
   "metadata": {},
   "outputs": [],
   "source": [
    "inputDataFrame.to_csv('C:/Users/jongh/OneDrive/School/석사/1-2/자료구조/프로젝트/5.DATA/BusInfo/_FINAL.csv', encoding='utf-8-sig')"
   ]
  },
  {
   "cell_type": "markdown",
   "metadata": {},
   "source": [
    "## DataFrame 형식 수정하기"
   ]
  },
  {
   "cell_type": "code",
   "execution_count": 199,
   "metadata": {},
   "outputs": [
    {
     "data": {
      "text/plain": [
       "지역                  object\n",
       "노선                  object\n",
       "시점                  object\n",
       "종점                  object\n",
       "승차                   int64\n",
       "하차                  object\n",
       "전체                   int64\n",
       "companyId           object\n",
       "companyName         object\n",
       "companyTel          object\n",
       "districtCd          object\n",
       "downFirstTime       object\n",
       "downLastTime        object\n",
       "endMobileNo         object\n",
       "endStationId        object\n",
       "endStationName      object\n",
       "peekAlloc           object\n",
       "regionName          object\n",
       "routeId             object\n",
       "routeName           object\n",
       "routeTypeCd         object\n",
       "routeTypeName       object\n",
       "startMobileNo       object\n",
       "startStationId      object\n",
       "startStationName    object\n",
       "upFirstTime         object\n",
       "upLastTime          object\n",
       "nPeekAlloc          object\n",
       "dtype: object"
      ]
     },
     "execution_count": 199,
     "metadata": {},
     "output_type": "execute_result"
    }
   ],
   "source": [
    "inputDataFrame.dtypes"
   ]
  },
  {
   "cell_type": "code",
   "execution_count": 112,
   "metadata": {},
   "outputs": [],
   "source": [
    "colList = inputDataFrame.columns\n",
    "for col in range(len(colList)):\n",
    "    inputDataFrame[colList[col]].to_string()"
   ]
  },
  {
   "cell_type": "code",
   "execution_count": 232,
   "metadata": {},
   "outputs": [
    {
     "data": {
      "text/plain": [
       "지역                   object\n",
       "노선                   object\n",
       "시점                   object\n",
       "종점                   object\n",
       "승차                    int64\n",
       "하차                   object\n",
       "전체                    int64\n",
       "companyId             int64\n",
       "companyName          object\n",
       "companyTel           object\n",
       "districtCd            int64\n",
       "downFirstTime        object\n",
       "downLastTime         object\n",
       "endMobileNo         float64\n",
       "endStationId          int64\n",
       "endStationName       object\n",
       "peekAlloc           float64\n",
       "regionName           object\n",
       "routeId               int64\n",
       "routeName            object\n",
       "routeTypeCd           int64\n",
       "routeTypeName        object\n",
       "startMobileNo       float64\n",
       "startStationId        int64\n",
       "startStationName     object\n",
       "upFirstTime          object\n",
       "upLastTime           object\n",
       "nPeekAlloc            int64\n",
       "dtype: object"
      ]
     },
     "execution_count": 232,
     "metadata": {},
     "output_type": "execute_result"
    }
   ],
   "source": [
    "inputDataFrame[\"companyId\"] = pd.to_numeric(inputDataFrame[\"companyId\"], )\n",
    "# inputDataFrame[\"companyName\"] = pd.to_numeric(inputDataFrame[\"companyName\"])\n",
    "# inputDataFrame[\"companyTel\"] = pd.to_numeric(inputDataFrame[\"companyTel\"])\n",
    "inputDataFrame[\"districtCd\"] = pd.to_numeric(inputDataFrame[\"districtCd\"])\n",
    "# inputDataFrame[\"downFirstTime\"] = pd.to_numeric(inputDataFrame[\"downFirstTime\"])\n",
    "# inputDataFrame[\"downLastTime\"] = pd.to_numeric(inputDataFrame[\"downLastTime\"])\n",
    "inputDataFrame[\"endMobileNo\"] = pd.to_numeric(inputDataFrame[\"endMobileNo\"])\n",
    "inputDataFrame[\"endStationId\"] = pd.to_numeric(inputDataFrame[\"endStationId\"])\n",
    "# inputDataFrame[\"endStationName\"] = pd.to_numeric(inputDataFrame[\"endStationName\"])\n",
    "inputDataFrame[\"peekAlloc\"] = pd.to_numeric(inputDataFrame[\"peekAlloc\"])\n",
    "# inputDataFrame[\"regionName\"] = pd.to_numeric(inputDataFrame[\"regionName\"])\n",
    "inputDataFrame[\"routeId\"] = pd.to_numeric(inputDataFrame[\"routeId\"])\n",
    "# inputDataFrame[\"routeName\"] = pd.to_numeric(inputDataFrame[\"routeName\"])\n",
    "inputDataFrame[\"routeTypeCd\"] = pd.to_numeric(inputDataFrame[\"routeTypeCd\"])\n",
    "# inputDataFrame[\"routeTypeName\"] = pd.to_numeric(inputDataFrame[\"routeTypeName\"])\n",
    "inputDataFrame[\"startMobileNo\"] = pd.to_numeric(inputDataFrame[\"startMobileNo\"])\n",
    "inputDataFrame[\"startStationId\"] = pd.to_numeric(inputDataFrame[\"startStationId\"])\n",
    "# inputDataFrame[\"startStationName\"] = pd.to_numeric(inputDataFrame[\"startStationName\"])\n",
    "# inputDataFrame[\"upFirstTime\"] = pd.to_numeric(inputDataFrame[\"upFirstTime\"])\n",
    "# inputDataFrame[\"upLastTime\"] = pd.to_numeric(inputDataFrame[\"upLastTime\"])\n",
    "inputDataFrame[\"nPeekAlloc\"] = pd.to_numeric(inputDataFrame[\"nPeekAlloc\"])\n",
    "inputDataFrame.dtypes"
   ]
  },
  {
   "cell_type": "code",
   "execution_count": 262,
   "metadata": {},
   "outputs": [],
   "source": [
    "inputDataFrame['nPeekAlloc'] = inputDataFrame['nPeekAlloc'].fillna(0)\n",
    "inputDataFrame.isnull().sum()\n",
    "inputDataFrame.to_csv('C:/Users/jongh/OneDrive/School/석사/1-2/자료구조/프로젝트/5.DATA/BusInfo/FINAL.csv', encoding='utf-8-sig')"
   ]
  },
  {
   "cell_type": "markdown",
   "metadata": {},
   "source": [
    "## 조건에 맞는 노선 선택하기"
   ]
  },
  {
   "cell_type": "code",
   "execution_count": 4,
   "metadata": {},
   "outputs": [],
   "source": [
    "import pandas as pd\n",
    "\n",
    "# DataFrame 화면 출력                       \n",
    "from IPython.display import display\n",
    "pd.options.display.max_columns = None\n",
    "pd.options.display.max_rows = None # default = 60"
   ]
  },
  {
   "cell_type": "code",
   "execution_count": 5,
   "metadata": {},
   "outputs": [],
   "source": [
    "_df = pd.read_csv('C:/Users/jongh/OneDrive/School/석사/1-2/자료구조/프로젝트/5.DATA/BusInfo/FINAL.csv')"
   ]
  },
  {
   "cell_type": "code",
   "execution_count": 7,
   "metadata": {},
   "outputs": [
    {
     "name": "stdout",
     "output_type": "stream",
     "text": [
      "159\n"
     ]
    },
    {
     "data": {
      "text/plain": [
       "array([200000193, 204000059, 204000065, 232000072, 232000081, 229000072,\n",
       "       222000088, 200000262, 234001511, 218000011, 229000083, 200000109,\n",
       "       227000039, 233000140, 232000007, 234000013, 233000270, 219000027,\n",
       "       232000098, 204000056, 234001290, 236000050, 234001138, 234000065,\n",
       "       228000393, 234000027, 232000090, 234001251, 232000073, 228000395,\n",
       "       232000005, 233000135, 233000125, 234001244, 216000026, 233000266,\n",
       "       234000042, 216000043, 216000061, 234000130, 213000019, 234001694,\n",
       "       233000258, 234000075, 234000884, 227000038, 228000184, 232000047,\n",
       "       200000149, 200000145, 213000015, 228000181, 233000131, 228000262,\n",
       "       234000310, 224000047, 234001271, 200000145, 224000050, 224000019,\n",
       "       222000074, 204000024, 236000176, 229000111, 228000263, 222000078,\n",
       "       234000882, 235000085, 234000069, 228000177, 234000079, 221000003,\n",
       "       229000112, 227000040, 234000873, 228000388, 228000176, 204000070,\n",
       "       234000051, 234000136, 222000073, 233000136, 234000873, 234001163,\n",
       "       234000886, 234000015, 228000174, 229000023, 234000873, 204000046,\n",
       "       234000148, 234000002, 229000028, 229000028, 222000076, 222000075,\n",
       "       205000002, 233000265, 233000139, 227000019, 200000175, 228000175,\n",
       "       228000182, 200000108, 207000070, 234000309, 234000313, 200000112,\n",
       "       200000205, 222000107, 234000016, 200000110, 204000041, 228000389,\n",
       "       234001204, 234001516, 200000104, 222000049, 236000149, 200000119,\n",
       "       204000082, 221000033, 228000394, 234000031, 229000061, 222000169,\n",
       "       234000050, 204000057, 234000324, 234000878, 235000092, 200000120,\n",
       "       213000024, 234000011, 200000115, 229000097, 218000007, 233000032,\n",
       "       232000103, 222000090, 218000010, 206000007, 204000081, 232000092,\n",
       "       232000092, 219000016, 219000006, 200000150, 222000084, 222000046,\n",
       "       233000031, 219000013, 233000031, 229000247, 222000137, 233000142,\n",
       "       234001609, 234001203, 233000269], dtype=int64)"
      ]
     },
     "metadata": {},
     "output_type": "display_data"
    }
   ],
   "source": [
    "seatBusroute = _df[_df['routeTypeCd'] == 11] # 직행좌석형시내버스 중에서\n",
    "print(seatBusroute.shape[0]) # 직행좌석형시내버스: 159대 중에서\n",
    "manyPeopleRoute = seatBusroute.sort_values(by=['전체'], ascending=False).copy() # 이용자가 많은 \n",
    "# manyPeopleRoute\n",
    "testDataFrame = manyPeopleRoute.iloc[:].sort_values(by=['nPeekAlloc'], ascending=False) # 상위 50대의 노선중 배차간격이 긴 버스\n",
    "display(testDataFrame['routeId'].values)"
   ]
  },
  {
   "cell_type": "code",
   "execution_count": null,
   "metadata": {},
   "outputs": [],
   "source": [
    "[200000193, 204000059, 204000065, 232000072, 232000081, 229000072,\n",
    "       222000088, 200000262, 234001511, 218000011, 229000083, 200000109,\n",
    "       227000039, 233000140, 232000007, 234000013, 233000270, 219000027,\n",
    "       232000098, 204000056, 234001290, 236000050, 234001138, 234000065,\n",
    "       228000393, 234000027, 232000090, 234001251, 232000073, 228000395,\n",
    "       232000005, 233000135, 233000125, 234001244, 216000026, 233000266,\n",
    "       234000042, 216000043, 216000061, 234000130, 213000019, 234001694,\n",
    "       233000258, 234000075, 234000884, 227000038, 228000184, 232000047,\n",
    "       200000149, 200000145, 213000015, 228000181, 233000131, 228000262,\n",
    "       234000310, 224000047, 234001271, 200000145, 224000050, 224000019,\n",
    "       222000074, 204000024, 236000176, 229000111, 228000263, 222000078,\n",
    "       234000882, 235000085, 234000069, 228000177, 234000079, 221000003,\n",
    "       229000112, 227000040, 234000873, 228000388, 228000176, 204000070,\n",
    "       234000051, 234000136, 222000073, 233000136, 234000873, 234001163,\n",
    "       234000886, 234000015, 228000174, 229000023, 234000873, 204000046,\n",
    "       234000148, 234000002, 229000028, 229000028, 222000076, 222000075,\n",
    "       205000002, 233000265, 233000139, 227000019, 200000175, 228000175,\n",
    "       228000182, 200000108, 207000070, 234000309, 234000313, 200000112,\n",
    "       200000205, 222000107, 234000016, 200000110, 204000041, 228000389,\n",
    "       234001204, 234001516, 200000104, 222000049, 236000149, 200000119,\n",
    "       204000082, 221000033, 228000394, 234000031, 229000061, 222000169,\n",
    "       234000050, 204000057, 234000324, 234000878, 235000092, 200000120,\n",
    "       213000024, 234000011, 200000115, 229000097, 218000007, 233000032,\n",
    "       232000103, 222000090, 218000010, 206000007, 204000081, 232000092,\n",
    "       232000092, 219000016, 219000006, 200000150, 222000084, 222000046,\n",
    "       233000031, 219000013, 233000031, 229000247, 222000137, 233000142,\n",
    "       234001609, 234001203, 233000269]"
   ]
  }
 ],
 "metadata": {
  "kernelspec": {
   "display_name": "Python 3",
   "language": "python",
   "name": "python3"
  },
  "language_info": {
   "codemirror_mode": {
    "name": "ipython",
    "version": 3
   },
   "file_extension": ".py",
   "mimetype": "text/x-python",
   "name": "python",
   "nbconvert_exporter": "python",
   "pygments_lexer": "ipython3",
   "version": "3.8.5"
  }
 },
 "nbformat": 4,
 "nbformat_minor": 4
}

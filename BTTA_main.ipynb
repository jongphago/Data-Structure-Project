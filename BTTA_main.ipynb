{
 "cells": [
  {
   "cell_type": "code",
   "execution_count": 1,
   "metadata": {},
   "outputs": [],
   "source": [
    "#-*- coding: utf-8 -*-"
   ]
  },
  {
   "cell_type": "markdown",
   "metadata": {},
   "source": [
    "## 라이브러리 호출"
   ]
  },
  {
   "cell_type": "code",
   "execution_count": 2,
   "metadata": {},
   "outputs": [],
   "source": [
    "# !pip3 install tqdm"
   ]
  },
  {
   "cell_type": "code",
   "execution_count": 3,
   "metadata": {},
   "outputs": [],
   "source": [
    "from urllib.request import Request, urlopen\n",
    "from urllib.parse import unquote, urlencode, quote_plus"
   ]
  },
  {
   "cell_type": "code",
   "execution_count": 4,
   "metadata": {},
   "outputs": [],
   "source": [
    "import xml.etree.ElementTree as ET\n",
    "import pandas as pd\n",
    "import numpy as np\n",
    "import matplotlib.pyplot as plt"
   ]
  },
  {
   "cell_type": "code",
   "execution_count": 5,
   "metadata": {},
   "outputs": [],
   "source": [
    "import os\n",
    "cwd = os.getcwd()\n",
    "from tqdm import tqdm"
   ]
  },
  {
   "cell_type": "code",
   "execution_count": 6,
   "metadata": {},
   "outputs": [],
   "source": [
    "os.chdir('AWS/DATA/daily-time-table/204000046/')\n",
    "path_timetable = os.getcwd()\n",
    "os.chdir(cwd)"
   ]
  },
  {
   "cell_type": "code",
   "execution_count": 7,
   "metadata": {},
   "outputs": [],
   "source": [
    "import datetime"
   ]
  },
  {
   "cell_type": "code",
   "execution_count": 8,
   "metadata": {},
   "outputs": [],
   "source": [
    "str_format = '%y-%m-%d %H:%M:%S'"
   ]
  },
  {
   "cell_type": "markdown",
   "metadata": {},
   "source": [
    "## API KEY"
   ]
  },
  {
   "cell_type": "code",
   "execution_count": 9,
   "metadata": {},
   "outputs": [],
   "source": [
    "key = 'yEaR%2F3MDedRSlVJL%2F2pxnVg0yre1N5VF3RZ%2FUAt56MJ7J2mNpfqhUvy05pXV0uhHTVY7DbyCR8xmMaDdYga67Q%3D%3D'"
   ]
  },
  {
   "cell_type": "markdown",
   "metadata": {},
   "source": [
    "## 로그"
   ]
  },
  {
   "cell_type": "code",
   "execution_count": 41,
   "metadata": {},
   "outputs": [
    {
     "name": "stdout",
     "output_type": "stream",
     "text": [
      "[시작] Wed Feb  3 13:11:27 2021"
     ]
    }
   ],
   "source": [
    "_nowTime = datetime.datetime.now(tz=datetime.timezone(datetime.timedelta(hours=9)))\n",
    "nowTime = _nowTime.strftime('%c')\n",
    "print(\"[시작] {}\".format(nowTime), end='')"
   ]
  },
  {
   "cell_type": "code",
   "execution_count": 11,
   "metadata": {},
   "outputs": [],
   "source": [
    "#TODO로그작성\n",
    "\"\"\"\n",
    "[종료] Wed Jan 28 01:23:08 2021\n",
    "* (SOLVED)stationNo가 존재 하지 않는 경유 정류소로 인하여 데이터프레임 작성시 데이터프레임이 밀리는 현상이 발생.\n",
    "    XML을 파싱하는 df_from_xml 함수를 oredereddict로 수정해보자.\n",
    "[시작] Thu Jan 29 00:16:37 2021\n",
    "[종료] Thu Jan 29 01:36:31 2021\n",
    "* (SOLVED)정류장 사이 거리를 구하는 함수를 클래스 메서드로 추가해보자.\n",
    "[시작] Fri Jan 29 16:44:18 2021\n",
    "[종료] Fri Jan 29 19:16:17 2021\n",
    "* Station Class 완성.\n",
    "* (SOLVED)Bus 클래스 메소드 작성: 버스 위치정보를 받아오는 메서드(핵심)를 작성해보자.\n",
    "[시작] Sat Jan 30 10:07:03 2021\n",
    "[시작] Mon Feb  1 19:13:21 2021\n",
    "[종료] Mon Feb  1 20:52:46 2021\n",
    "* Bus 클래스 메소드 작성: 버스 위치정보를 데이터프레임에 저장하고 파일에 작성.\n",
    "* (SOLVED)Bus 클래스 메소드는 잠시 접어두고, 이미 수집이 끝난 텍스트파일을 일일시간표로 변형하는 클래스를 작성해보자.\n",
    "[시작] Tue Feb  2 11:00:45 2021\n",
    "[종료] Tue Feb  2 14:18:10 2021\n",
    "* Daily 클래스 메소드 작성: 버스 위치 정보 데이터를 읽고 일일 시간표를 작성하는 클래스\n",
    "* NULL값을 채우는 클래스를 작성해보자.\n",
    "[시작] Wed Feb  3 10:19:32 2021\n",
    "[종료] Wed Feb  3 13:11:27 2021\n",
    "* Daily 클래스 메소드 작성: datetime을 timedelta로 변환하는 메서드\n",
    "* NULL값을 채우는 클래스를 작성해보자.\n",
    "\"\"\"\n",
    "pass"
   ]
  },
  {
   "cell_type": "markdown",
   "metadata": {},
   "source": [
    "## 기본함수"
   ]
  },
  {
   "cell_type": "markdown",
   "metadata": {},
   "source": [
    "### 현재 시간을 반환"
   ]
  },
  {
   "cell_type": "code",
   "execution_count": 12,
   "metadata": {},
   "outputs": [],
   "source": [
    "def getTime(string=True):\n",
    "    tz = datetime.timezone(datetime.timedelta(hours=9))\n",
    "    if(string):\n",
    "        str_nowTime = datetime.datetime.now(tz=tz).strftime('%y-%m-%d %H:%M:%S')\n",
    "        return str_nowTime\n",
    "    else:\n",
    "        nowTime = datetime.datetime.now(tz=tz)\n",
    "        return nowTime"
   ]
  },
  {
   "cell_type": "code",
   "execution_count": 13,
   "metadata": {},
   "outputs": [],
   "source": [
    "def getDate():\n",
    "    tz = datetime.timezone(datetime.timedelta(hours=9))\n",
    "    str_nowTime = datetime.datetime.now(tz=tz).strftime('%Y-%m-%d')\n",
    "    return str_nowTime"
   ]
  },
  {
   "cell_type": "markdown",
   "metadata": {},
   "source": [
    "### XML Parser"
   ]
  },
  {
   "cell_type": "code",
   "execution_count": 14,
   "metadata": {},
   "outputs": [],
   "source": [
    "def df_from_xml(url, queryParams):\n",
    "    request = Request(url + queryParams)\n",
    "    request.get_method = lambda: 'GET'\n",
    "    raw_xml = urlopen(request).read().decode('utf8')\n",
    "        \n",
    "    xtree = ET.fromstring(raw_xml)    \n",
    "        \n",
    "    IsColListEmpty = True\n",
    "    \n",
    "    col_list = []\n",
    "    df_list = []\n",
    "    \n",
    "    for tags in xtree:\n",
    "        if(tags.tag == 'msgBody'):\n",
    "            for busRouteList in tags:\n",
    "                bus_route = {}\n",
    "                for col in busRouteList:\n",
    "                    if(IsColListEmpty):\n",
    "                        col_list.append(col.tag)\n",
    "                    bus_route[col.tag] = col.text\n",
    "                IsColListEmpty = False\n",
    "                df_list.append(bus_route)\n",
    "\n",
    "    df = pd.DataFrame(df_list, columns=col_list)\n",
    "    return df"
   ]
  },
  {
   "cell_type": "markdown",
   "metadata": {},
   "source": [
    "### GPS상 거리를 구하는 함수"
   ]
  },
  {
   "cell_type": "code",
   "execution_count": 15,
   "metadata": {},
   "outputs": [],
   "source": [
    "# !pip3 install haversine\n",
    "from haversine import haversine\n",
    "def distance(sx, sy, lx, ly):\n",
    "    dist = haversine((sy, sx), (ly, lx)) * 1000\n",
    "    return dist # 기준거리"
   ]
  },
  {
   "cell_type": "markdown",
   "metadata": {},
   "source": [
    "# RouteId"
   ]
  },
  {
   "cell_type": "markdown",
   "metadata": {},
   "source": [
    "## 노선번호를  넣으면 노선ID 목록을 반환한다."
   ]
  },
  {
   "cell_type": "code",
   "execution_count": 16,
   "metadata": {},
   "outputs": [],
   "source": [
    "class RouteId:\n",
    "    def __init__(self, routeNo):\n",
    "        self.routeNo = str(routeNo)\n",
    "        \n",
    "        self.key = unquote(key)\n",
    "        \n",
    "    def getRouteId(self):\n",
    "        url = 'http://openapi.gbis.go.kr/ws/rest/busrouteservice'\n",
    "        queryParams = '?' + urlencode({quote_plus('serviceKey') : self.key, quote_plus('keyword') : self.routeNo })\n",
    "        \n",
    "        self.df_routeNo = df_from_xml(url, queryParams)\n",
    "        \n",
    "        return self.df_routeNo\n",
    "    \n",
    "    def routeId(self, index):\n",
    "        routeId = self.df_routeNo.iloc[index]['routeId']\n",
    "        return routeId"
   ]
  },
  {
   "cell_type": "code",
   "execution_count": 17,
   "metadata": {},
   "outputs": [
    {
     "data": {
      "text/html": [
       "<div>\n",
       "<style scoped>\n",
       "    .dataframe tbody tr th:only-of-type {\n",
       "        vertical-align: middle;\n",
       "    }\n",
       "\n",
       "    .dataframe tbody tr th {\n",
       "        vertical-align: top;\n",
       "    }\n",
       "\n",
       "    .dataframe thead th {\n",
       "        text-align: right;\n",
       "    }\n",
       "</style>\n",
       "<table border=\"1\" class=\"dataframe\">\n",
       "  <thead>\n",
       "    <tr style=\"text-align: right;\">\n",
       "      <th></th>\n",
       "      <th>districtCd</th>\n",
       "      <th>regionName</th>\n",
       "      <th>routeId</th>\n",
       "      <th>routeName</th>\n",
       "      <th>routeTypeCd</th>\n",
       "      <th>routeTypeName</th>\n",
       "    </tr>\n",
       "  </thead>\n",
       "  <tbody>\n",
       "    <tr>\n",
       "      <th>0</th>\n",
       "      <td>2</td>\n",
       "      <td>서울,성남</td>\n",
       "      <td>204000046</td>\n",
       "      <td>9003</td>\n",
       "      <td>11</td>\n",
       "      <td>직행좌석형시내버스</td>\n",
       "    </tr>\n",
       "  </tbody>\n",
       "</table>\n",
       "</div>"
      ],
      "text/plain": [
       "  districtCd regionName    routeId routeName routeTypeCd routeTypeName\n",
       "0          2      서울,성남  204000046      9003          11     직행좌석형시내버스"
      ]
     },
     "execution_count": 17,
     "metadata": {},
     "output_type": "execute_result"
    }
   ],
   "source": [
    "_routeNo = str(9003)\n",
    "route = RouteId(_routeNo)\n",
    "df_busrouteservice = route.getRouteId()\n",
    "df_busrouteservice"
   ]
  },
  {
   "cell_type": "code",
   "execution_count": 18,
   "metadata": {},
   "outputs": [],
   "source": [
    "index = 0\n",
    "routeNo = df_busrouteservice.iloc[index]['routeName']\n",
    "routeId = route.routeId(index)"
   ]
  },
  {
   "cell_type": "code",
   "execution_count": 19,
   "metadata": {},
   "outputs": [
    {
     "data": {
      "text/plain": [
       "(0, '9003', '204000046')"
      ]
     },
     "execution_count": 19,
     "metadata": {},
     "output_type": "execute_result"
    }
   ],
   "source": [
    "index, routeNo, routeId"
   ]
  },
  {
   "cell_type": "markdown",
   "metadata": {},
   "source": [
    "# Station"
   ]
  },
  {
   "cell_type": "markdown",
   "metadata": {},
   "source": [
    "## Bus Route Service"
   ]
  },
  {
   "cell_type": "code",
   "execution_count": 20,
   "metadata": {},
   "outputs": [],
   "source": [
    "class Station:\n",
    "    def __init__(self, routeId):\n",
    "        self.routeId = str(routeId)\n",
    "        self.key = unquote(key) # key: global variable\n",
    "        \n",
    "    def __del__(self):\n",
    "        pass\n",
    "        \n",
    "    def getStationDf(self):\n",
    "        url = 'http://openapi.gbis.go.kr/ws/rest/busrouteservice/station'\n",
    "        queryParams = '?' + urlencode({quote_plus('serviceKey') : self.key, quote_plus('routeId') : self.routeId })\n",
    "        \n",
    "        _df_station = df_from_xml(url, queryParams)\n",
    "        _df_station.index = _df_station.index + 1\n",
    "        \n",
    "        _df_station = _df_station.astype({\n",
    "            'x' : float,\n",
    "            'y' : float,\n",
    "            'stationSeq': np.int32,\n",
    "            'stationId': int})\n",
    "        self.df_station = _df_station\n",
    "        self.index = _df_station.index\n",
    "        \n",
    "        return self.df_station\n",
    "    \n",
    "    def getLineDf(self):\n",
    "        url = 'http://openapi.gbis.go.kr/ws/rest/busrouteservice/line'\n",
    "        queryParams = '?' + urlencode({quote_plus('serviceKey') : self.key, quote_plus('routeId') : self.routeId })\n",
    "        \n",
    "        _df_line = df_from_xml(url, queryParams)\n",
    "        _df_line.index = _df_line.index+1\n",
    "        \n",
    "        _df_line = _df_line.astype({\n",
    "            'x' : float,\n",
    "            'y' : float\n",
    "        })\n",
    "        \n",
    "        self.df_line = _df_line.drop(columns='lineSeq')\n",
    "        \n",
    "        return self.df_line\n",
    "    \n",
    "    def turnYn(self):\n",
    "        index = df_station['turnYn'] == 'Y'\n",
    "        self.turnStation = df_station[index]\n",
    "        turnIndex = df_station[index].index[0]\n",
    "        return turnIndex\n",
    "    \n",
    "#     def stationIndex(self, K=100):\n",
    "#         df_line = self.df_line\n",
    "#         df_station = self.df_station\n",
    "        \n",
    "#         stationIndexList = []\n",
    "#         lastIndex = 0\n",
    "#         K = 100\n",
    "#         for i in tqdm(df_station.index):\n",
    "\n",
    "#             distList = []\n",
    "#             indexList = []\n",
    "\n",
    "#             for j in range(lastIndex, lastIndex + K):\n",
    "#                 if(j >= len(df_line)):\n",
    "#                     break\n",
    "#                 (sx, sy) = df_station.iloc[i-1][['x', 'y']]\n",
    "#                 (lx, ly) = df_line.iloc[j][['x', 'y']]\n",
    "#                 dist = distance(sx, sy, lx, ly)\n",
    "\n",
    "#                 distList.append(dist)\n",
    "#                 indexList.append(j)\n",
    "\n",
    "#             tempIndex = np.argmin(np.array(distList))\n",
    "#             lastIndex = indexList[tempIndex]\n",
    "\n",
    "#             stationIndexList.append(lastIndex)\n",
    "            \n",
    "#         self.stationIndexList = np.array(stationIndexList, dtype=np.int32)\n",
    "#         self.df_line_station = df_line.iloc[self.stationIndexList]\n",
    "            \n",
    "#         return self.stationIndexList\n",
    "    \n",
    "    \"\"\"\n",
    "    9003번에 대한 df_line의 staiton_index 추출값.\n",
    "    추출과정이 오래걸려서 하드코딩.\n",
    "    클래스 작성이 완료되면 위 메서드를 주석해제후 해당 메서드를 삭제.\n",
    "    \"\"\"\n",
    "    def stationIndex(self, K=100):\n",
    "        \n",
    "        df_line = self.df_line\n",
    "        self.stationIndexList = np.array([  \n",
    "            0,   6,  12,  19,  27,  34,  41,  47,  53,  60,  65,  86, 107,\n",
    "           117, 128, 139, 161, 175, 200, 217, 231, 240, 267, 277, 291, 316,\n",
    "           335, 342, 347, 360, 377, 390, 417, 426, 439, 456, 481, 495, 514,\n",
    "           528, 541, 550, 572, 596, 602, 608, 613, 620, 628, 635, 643, 650,\n",
    "           658, 662, 666], dtype=np.int32)\n",
    "        self.df_line_station = df_line.iloc[self.stationIndexList]\n",
    "        return self.stationIndexList\n",
    "\n",
    "    def stationDistance(self):\n",
    "        df_line = self.df_line\n",
    "        sumDist = 0\n",
    "        distList = [0]\n",
    "        j=1\n",
    "        for i in tqdm(range(len(df_line)-1)):\n",
    "            if(i+1 == stationIndexList[j]+1):\n",
    "                distList.append(sumDist)\n",
    "                sumDist = 0\n",
    "                j += 1\n",
    "            (pre_x, pre_y) = df_line[['x', 'y']].iloc[i]\n",
    "            (next_x, next_y) = df_line[['x', 'y']].iloc[i+1]\n",
    "            partDist = distance(pre_x, pre_y, next_x, next_y)\n",
    "            sumDist += partDist\n",
    "        distList.append(sumDist)\n",
    "        \n",
    "        self.cumsumDist = np.array(distList, dtype=np.int32).cumsum()\n",
    "        self.distList = np.array(distList, dtype=np.int32)\n",
    "        \n",
    "        return self.distList\n",
    "    \n",
    "    \n",
    "    def kakaoMap(self):\n",
    "        routeId = self.routeId\n",
    "        df_station = self.df_station\n",
    "        \n",
    "        self.fname_kakaomap_station_location = \"{}_kakaomap_staion_location.txt\".format(routeId)\n",
    "        f = open(self.fname_kakaomap_station_location, 'w')\n",
    "        for index in df_station.index:\n",
    "            stationName, x, y = df_station[['stationName', 'x','y']].iloc[index-1]\n",
    "            f.write(\"\\t{\")\n",
    "            line = str(\"content: '<div>{}</div>',latlng: new kakao.maps.LatLng({}, {})\").format(stationName, y, x)\n",
    "            f.write(line)\n",
    "            f.write(\"},\\n\")\n",
    "            \n",
    "        f.close()\n",
    "        print(\"파일 쓰기 완료\")\n",
    "        \n",
    "        \n",
    "    def addColumns(self):\n",
    "        \n",
    "        if 'stationIdx' not in self.df_station.columns:\n",
    "            self.df_station['stationIdx'] = stationIndexList\n",
    "            print('[stationIdx] 컬럼을 추가하였습니다.')\n",
    "\n",
    "        if 'distance' not in self.df_station.columns:\n",
    "            self.df_station['distance'] = distList\n",
    "            print('[distance] 컬럼을 추가하였습니다.')\n",
    "\n",
    "        if 'cumsum' not in self.df_station.columns:\n",
    "            self.df_station['cumsum'] = cumsumDistList    \n",
    "            print('[cumsum] 컬럼을 추가하였습니다.')\n",
    "\n",
    "            \n",
    "    def writeStationDf(self):\n",
    "        self.fname_station = \"{}_station.csv\".format(routeId)\n",
    "        self.df_station.to_csv(self.fname_station)\n",
    "        print(\"{}_station.csv를 내보냈습니다.\".format(routeId))"
   ]
  },
  {
   "cell_type": "markdown",
   "metadata": {},
   "source": [
    "## 인스턴스 생성"
   ]
  },
  {
   "cell_type": "markdown",
   "metadata": {},
   "source": [
    "### 필수 메서드"
   ]
  },
  {
   "cell_type": "code",
   "execution_count": 21,
   "metadata": {},
   "outputs": [],
   "source": [
    "station = Station(routeId)\n",
    "\n",
    "df_station = station.getStationDf()\n",
    "df_line = station.getLineDf()"
   ]
  },
  {
   "cell_type": "code",
   "execution_count": 22,
   "metadata": {},
   "outputs": [
    {
     "name": "stderr",
     "output_type": "stream",
     "text": [
      "100%|██████████| 666/666 [00:01<00:00, 662.18it/s]"
     ]
    },
    {
     "name": "stdout",
     "output_type": "stream",
     "text": [
      "[stationIdx] 컬럼을 추가하였습니다.\n",
      "[distance] 컬럼을 추가하였습니다.\n",
      "[cumsum] 컬럼을 추가하였습니다.\n"
     ]
    },
    {
     "name": "stderr",
     "output_type": "stream",
     "text": [
      "\n"
     ]
    }
   ],
   "source": [
    "stationIndexList = station.stationIndex()\n",
    "\n",
    "# stationIndexList\n",
    "distList = station.stationDistance()\n",
    "# distList\n",
    "\n",
    "cumsumDistList = station.cumsumDist\n",
    "\n",
    "station.addColumns()"
   ]
  },
  {
   "cell_type": "markdown",
   "metadata": {},
   "source": [
    "### 추가 메서드"
   ]
  },
  {
   "cell_type": "code",
   "execution_count": 23,
   "metadata": {},
   "outputs": [
    {
     "name": "stdout",
     "output_type": "stream",
     "text": [
      "파일 쓰기 완료\n",
      "204000046_station.csv를 내보냈습니다.\n"
     ]
    }
   ],
   "source": [
    "station.kakaoMap()\n",
    "station.writeStationDf()"
   ]
  },
  {
   "cell_type": "code",
   "execution_count": 24,
   "metadata": {},
   "outputs": [],
   "source": [
    "df_station = station.getStationDf()"
   ]
  },
  {
   "cell_type": "markdown",
   "metadata": {},
   "source": [
    "# Bus"
   ]
  },
  {
   "cell_type": "code",
   "execution_count": 25,
   "metadata": {},
   "outputs": [],
   "source": [
    "class Bus:\n",
    "    def __init__(self, key, routeId):\n",
    "        self.routeId = str(routeId)\n",
    "        self.key = unquote(key)\n",
    "        self.totalBus = None\n",
    "        self.routeName = None\n",
    "        \n",
    "    def getInfoDf(self):\n",
    "        url = 'http://openapi.gbis.go.kr/ws/rest/busrouteservice/info'\n",
    "        queryParams = '?' + urlencode({quote_plus('serviceKey') : self.key, quote_plus('routeId') : self.routeId })\n",
    "        \n",
    "        _df_info = df_from_xml(url, queryParams)\n",
    "        _df_info.index = _df_info.index + 1\n",
    "        self.df_info = _df_info\n",
    "        \n",
    "        return self.df_info\n",
    "    \n",
    "    def basicInfo(self):\n",
    "        df_info = self.df_info\n",
    "        self.routeName = df_info.iloc[0]['routeName']\n",
    "        self.downFirstTime = df_info.iloc[0]['downFirstTime']\n",
    "        self.upLastTime = df_info.iloc[0]['upLastTime']\n",
    "        \n",
    "    def api_result_check(self):\n",
    "        url = 'http://openapi.gbis.go.kr/ws/rest/buslocationservice'\n",
    "        queryParams = '?' + urlencode({quote_plus('serviceKey') : self.key, quote_plus('routeId') : self.routeId })\n",
    "        \n",
    "        request = Request(url + queryParams)\n",
    "        request.get_method = lambda: 'GET'\n",
    "        raw_xml = urlopen(request).read().decode('utf8')\n",
    "\n",
    "        xtree = ET.fromstring(raw_xml)\n",
    "\n",
    "        _returnCode = xtree.find('comMsgHeader').find('returnCode').text\n",
    "        returnCode = int(_returnCode)\n",
    "\n",
    "        return returnCode, xtree    \n",
    "\n",
    "        \n",
    "    def df_location_from_xml(self, xtree):\n",
    "        _queryTime = xtree.find('msgHeader').find('queryTime').text\n",
    "        dt_queryTime = datetime.datetime.strptime(_queryTime, '%Y-%m-%d %H:%M:%S.%f')\n",
    "        quaryTime = dt_queryTime.strftime('%Y-%m-%d %H:%M:%S')\n",
    "\n",
    "        msgBody = xtree.find('msgBody')\n",
    "\n",
    "        IsColListEmpty = True\n",
    "        col_list = []\n",
    "        df_list = []\n",
    "\n",
    "        for busLocationList in msgBody:\n",
    "            bus_location = {}\n",
    "            for busLocation in busLocationList:\n",
    "                if(IsColListEmpty):\n",
    "                    col_list.append(busLocation.tag)\n",
    "                bus_location[busLocation.tag] = busLocation.text\n",
    "            IsColListEmpty = False\n",
    "            df_list.append(bus_location)\n",
    "\n",
    "        self.col_list = ['quaryTime'] + col_list\n",
    "        df_location = pd.DataFrame(df_list, columns=col_list)\n",
    "        df_location['quaryTime'] = quaryTime\n",
    "        return df_location\n",
    "    \n",
    "    def make_file(self):\n",
    "        fileName = getDate() + '.csv'\n",
    "        f = open(fileName, \"w\")\n",
    "        f.close()\n",
    "        return f\n",
    "    \n",
    "    def write_file(self, f, df_location):\n",
    "        df_str_location = df_location.to_csv(header=False, index=False, encoding='utf-8')\n",
    "        fileName = getDate() + '.csv'\n",
    "        f = open(fileName, \"a\")\n",
    "        f.write(df_str_location)\n",
    "        f.close()"
   ]
  },
  {
   "cell_type": "code",
   "execution_count": 26,
   "metadata": {},
   "outputs": [],
   "source": [
    "bus = Bus(key, routeId)"
   ]
  },
  {
   "cell_type": "code",
   "execution_count": 27,
   "metadata": {},
   "outputs": [],
   "source": [
    "df_info = bus.getInfoDf()"
   ]
  },
  {
   "cell_type": "code",
   "execution_count": 28,
   "metadata": {},
   "outputs": [],
   "source": [
    "bus.basicInfo()"
   ]
  },
  {
   "cell_type": "code",
   "execution_count": 29,
   "metadata": {},
   "outputs": [],
   "source": [
    "os.chdir(cwd)"
   ]
  },
  {
   "cell_type": "code",
   "execution_count": 30,
   "metadata": {},
   "outputs": [],
   "source": [
    "# os.remove(getDate() + '.csv')\n",
    "f = bus.make_file()"
   ]
  },
  {
   "cell_type": "code",
   "execution_count": 31,
   "metadata": {},
   "outputs": [],
   "source": [
    "resultCode, xtree = bus.api_result_check()\n",
    "df_location = bus.df_location_from_xml(xtree)\n",
    "bus.write_file(f, df_location)"
   ]
  },
  {
   "cell_type": "markdown",
   "metadata": {},
   "source": [
    "## Daily"
   ]
  },
  {
   "cell_type": "code",
   "execution_count": 32,
   "metadata": {},
   "outputs": [],
   "source": [
    "def get_full_data_index(df):\n",
    "    '''\n",
    "    함수 [get_full_data_index(df)]은 데이터프레임 안에서 결측치가 하나도 없는 행의 index를 반환합니다.\n",
    "    시간표를 배차 시간순으로 정렬하기 위해 데이터프레임의 첫번째 행을 기준으로 열(axis=1)을 정렬합니다.\n",
    "    하지만 데이터프레임의 첫번째 행을 기준으로 정렬을 하게되면 결측치로 인하여 정렬이 안되는 열이 발생합니다.\n",
    "    결측치가 없는 행을 찾기 위해 제작한 함수 입니다.\n",
    "    모든 행에 결측치가 존재하면 -1을 반환합니다.\n",
    "    '''\n",
    "    for i in df.index:\n",
    "        nullCountSum = int(df[i-1:i].isnull().sum(axis=1))\n",
    "        if nullCountSum == 0:\n",
    "            return i\n",
    "    #print(\"모든 행에 결측치가 존재합니다.\")    \n",
    "    return -1"
   ]
  },
  {
   "cell_type": "code",
   "execution_count": 33,
   "metadata": {},
   "outputs": [],
   "source": [
    "def sortedCol(df):\n",
    "    # ISSUE* 모든행에 결측치가 존재할때, if(lineIndex == -1), 예외처리가 필요합니다.\n",
    "    '''\n",
    "    예외 처리 방법\n",
    "    DatatFrame.fillna 메소드를 이용하여 결측치를 1회 채운다음\n",
    "    다시 함수 'get_full_data_index'를 호출한다.\n",
    "    단, 결측치를 처리한 데이터프레임에선 정렬 기준(columns)만 취한다.\n",
    "    + 결측치가 없는 두개의 행을 비교하여 순서가 같은지 검정한다. (기능 추가필요)\n",
    "    '''\n",
    "    df_temp = df.copy()\n",
    "    lineIndex = -1\n",
    "    fillnaCnt = 0\n",
    "    i = 0\n",
    "    while(lineIndex < 0):\n",
    "        i += 1\n",
    "        lineIndex = get_full_data_index(df_temp)    \n",
    "        df_temp.fillna(method='bfill', limit=1, inplace = True)\n",
    "\n",
    "    '''\n",
    "    결측치가 하나도 없는 행(lineIndex)를 기준으로 데이터프레임의 열(columns)를 정렬한다.\n",
    "    정렬 후 데이터 프레임의 열의 순서를 변수 'sortedDfColumns' 리스트에 저장한다.\n",
    "    정렬된 컬럼 리스트로 _oneDay_df를 정렬하고 이를 oneDay_df에 저장한다.\n",
    "    '''\n",
    "    sortedCol = df_temp.sort_values(by=lineIndex, axis=1).columns\n",
    "    print(\"함수를 {:2d}번 호출하였습니다. 정렬기준: {:2d}\".format(i, lineIndex))\n",
    "\n",
    "    return sortedCol"
   ]
  },
  {
   "cell_type": "code",
   "execution_count": 34,
   "metadata": {},
   "outputs": [],
   "source": [
    "class Daily:\n",
    "    def __init__(self, routeId, year, month, day):\n",
    "        self.date_str = \"{}-{:02d}-{:02d}\".format(year, month, day)   \n",
    "        self.fileName = self.date_str + '.txt'\n",
    "\n",
    "        station = Station(routeId)\n",
    "        station.getStationDf()\n",
    "        self.index = station.index\n",
    "        del station\n",
    "        \n",
    "    def load_df_location(self):\n",
    "        col_list = ['quaryTime', 'endBus', 'lowPlate', 'plateNo', 'plateType', \n",
    "                    'remainSeatCnt', 'routeId', 'stationId', 'stationSeq']\n",
    "        df_location = pd.read_csv(self.fileName, \n",
    "                                  skiprows=1, \n",
    "                                  delimiter=' ', \n",
    "                                  names=col_list, \n",
    "                                  index_col=False)\n",
    "        df_location = df_location.astype({'plateNo':'string'})\n",
    "        df_location['quaryTime'] = pd.to_datetime(df_location['quaryTime'])\n",
    "        self.df_location = df_location\n",
    "        self.plateNoList = df_location.groupby(['plateNo']).size().index\n",
    "        return df_location\n",
    "\n",
    "    def dropdup(self):\n",
    "        df_location = self.df_location\n",
    "        plateNoList = self.plateNoList\n",
    "        rangeIndex = self.index\n",
    "\n",
    "        df_oneday = pd.DataFrame(index=daily.index)\n",
    "\n",
    "        for plateNo in tqdm(plateNoList):\n",
    "            _df_same = df_location[df_location['plateNo']==plateNo]\n",
    "\n",
    "            df_same = _df_same.sort_values(['quaryTime']).reset_index(drop=True)\n",
    "\n",
    "            diffRate = 0.85\n",
    "\n",
    "            indexList = []\n",
    "            isUsingDiff = True\n",
    "            diff = rangeIndex.stop * diffRate if ( isUsingDiff ) else 0\n",
    "            for i in range(1,len(df_same)):\n",
    "                if(df_same.iloc[i-1]['stationSeq'] > df_same.iloc[i]['stationSeq'] + diff ):\n",
    "                    indexList.append(i)\n",
    "\n",
    "            indexList.append(len(df_same))\n",
    "\n",
    "            index = 0\n",
    "            #tupleList = []\n",
    "            for i in indexList:\n",
    "                #tupleList.append((index, i))\n",
    "                df_small = df_same.iloc[index:i].groupby(by=['stationSeq']).min()\n",
    "\n",
    "                df_oneday[str(plateNo)+'_'+str(index)] = df_small['quaryTime']\n",
    "                index=i\n",
    "            \n",
    "            self.df_oneday = df_oneday\n",
    "            \n",
    "        return df_oneday\n",
    "    \n",
    "    def sort_col(self):\n",
    "        df_oneday = self.df_oneday\n",
    "        sorted_Col = sortedCol(df_oneday)\n",
    "        df_sorted = df_oneday[sorted_Col]\n",
    "        \n",
    "        df_sorted = df_sorted.T.reset_index(drop=True)\n",
    "        df_sorted.index += 1\n",
    "        df_sorted = df_sorted.T\n",
    "            \n",
    "        self.df_sorted = df_sorted\n",
    "        \n",
    "        return df_sorted\n",
    "    \n",
    "    def total_seconds(self):\n",
    "        df_subtract = df_sorted - np.datetime64(self.date_str)\n",
    "        self.df_seconds = df_subtract.stack().dt.total_seconds().unstack()\n",
    "        return self.df_seconds"
   ]
  },
  {
   "cell_type": "code",
   "execution_count": 35,
   "metadata": {},
   "outputs": [],
   "source": [
    "os.chdir(path_timetable)\n",
    "\n",
    "routeId = 204000046\n",
    "\n",
    "year=2021\n",
    "month=1\n",
    "day=3\n",
    "date_str = \"{}-{:02d}-{:02d}\".format(year, month, day)"
   ]
  },
  {
   "cell_type": "code",
   "execution_count": 36,
   "metadata": {},
   "outputs": [
    {
     "name": "stderr",
     "output_type": "stream",
     "text": [
      "100%|██████████| 7/7 [00:02<00:00,  3.23it/s]"
     ]
    },
    {
     "name": "stdout",
     "output_type": "stream",
     "text": [
      "함수를  1번 호출하였습니다. 정렬기준: 11\n"
     ]
    },
    {
     "name": "stderr",
     "output_type": "stream",
     "text": [
      "\n"
     ]
    }
   ],
   "source": [
    "daily = Daily(routeId, year, month, day)\n",
    "df_location = daily.load_df_location()\n",
    "df_oneday = daily.dropdup()\n",
    "df_sorted = daily.sort_col()\n",
    "df_seconds = daily.total_seconds()"
   ]
  },
  {
   "cell_type": "code",
   "execution_count": 37,
   "metadata": {},
   "outputs": [],
   "source": [
    "# !pip3 install sphinx"
   ]
  },
  {
   "cell_type": "code",
   "execution_count": 40,
   "metadata": {},
   "outputs": [],
   "source": [
    "# !pip3 install sphinx_rtd_theme"
   ]
  },
  {
   "cell_type": "code",
   "execution_count": null,
   "metadata": {},
   "outputs": [],
   "source": []
  }
 ],
 "metadata": {
  "kernelspec": {
   "display_name": "Python 3",
   "language": "python",
   "name": "python3"
  },
  "language_info": {
   "codemirror_mode": {
    "name": "ipython",
    "version": 3
   },
   "file_extension": ".py",
   "mimetype": "text/x-python",
   "name": "python",
   "nbconvert_exporter": "python",
   "pygments_lexer": "ipython3",
   "version": "3.8.5"
  }
 },
 "nbformat": 4,
 "nbformat_minor": 4
}

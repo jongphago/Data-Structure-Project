{
 "cells": [
  {
   "cell_type": "markdown",
   "metadata": {},
   "source": [
    "## 라이브러리 호출"
   ]
  },
  {
   "cell_type": "code",
   "execution_count": 1,
   "metadata": {},
   "outputs": [],
   "source": [
    "from urllib.request import Request, urlopen\n",
    "from urllib.parse import unquote, urlencode, quote_plus"
   ]
  },
  {
   "cell_type": "code",
   "execution_count": 71,
   "metadata": {},
   "outputs": [],
   "source": [
    "import xml.etree.ElementTree as ET\n",
    "import pandas as pd\n",
    "import numpy as np\n",
    "import matplotlib.pyplot as plt"
   ]
  },
  {
   "cell_type": "markdown",
   "metadata": {},
   "source": [
    "## API KEY"
   ]
  },
  {
   "cell_type": "code",
   "execution_count": 36,
   "metadata": {},
   "outputs": [],
   "source": [
    "key = 'yEaR%2F3MDedRSlVJL%2F2pxnVg0yre1N5VF3RZ%2FUAt56MJ7J2mNpfqhUvy05pXV0uhHTVY7DbyCR8xmMaDdYga67Q%3D%3D'"
   ]
  },
  {
   "cell_type": "markdown",
   "metadata": {},
   "source": [
    "## 로그"
   ]
  },
  {
   "cell_type": "code",
   "execution_count": 3,
   "metadata": {},
   "outputs": [],
   "source": [
    "import time"
   ]
  },
  {
   "cell_type": "code",
   "execution_count": 114,
   "metadata": {},
   "outputs": [
    {
     "name": "stdout",
     "output_type": "stream",
     "text": [
      "[시작] Thu Jan 28 16:36:42 2021"
     ]
    }
   ],
   "source": [
    "print(\"[시작] {}\".format(time.ctime()), end='')"
   ]
  },
  {
   "cell_type": "code",
   "execution_count": 5,
   "metadata": {},
   "outputs": [],
   "source": [
    "#TODO로그작성\n",
    "\"\"\"\n",
    "[종료] Wed Jan 27 15:23:08 2021\n",
    "(SOLVED)stationNo가 존재 하지 않는 경유 정류소로 인하여 데이터프레임 작성시 데이터프레임이 밀리는 현상이 발생\n",
    "XML을 파싱하는 df_from_xml 함수를 oredereddict로 수정해보자\n",
    "\"\"\"\n",
    "\"\"\"\n",
    "[시작] Thu Jan 28 15:16:37 2021\n",
    "[종료] Thu Jan 28 16:36:31 2021\n",
    "정류장 사이 거리를 구하는 함수를 클래스 메서드로 추가해보자\n",
    "\"\"\"\n",
    "pass"
   ]
  },
  {
   "cell_type": "markdown",
   "metadata": {},
   "source": [
    "## 기본함수"
   ]
  },
  {
   "cell_type": "markdown",
   "metadata": {},
   "source": [
    "### XML Parser"
   ]
  },
  {
   "cell_type": "code",
   "execution_count": 6,
   "metadata": {},
   "outputs": [],
   "source": [
    "def df_from_xml(url, queryParams):\n",
    "    request = Request(url + queryParams)\n",
    "    request.get_method = lambda: 'GET'\n",
    "    raw_xml = urlopen(request).read().decode('utf8')\n",
    "        \n",
    "    xtree = ET.fromstring(raw_xml)    \n",
    "        \n",
    "    IsColListEmpty = True\n",
    "    \n",
    "    col_list = []\n",
    "    df_list = []\n",
    "    \n",
    "    for tags in xtree:\n",
    "        if(tags.tag == 'msgBody'):\n",
    "            for busRouteList in tags:\n",
    "                bus_route = {}\n",
    "                for col in busRouteList:\n",
    "                    if(IsColListEmpty):\n",
    "                        col_list.append(col.tag)\n",
    "                    bus_route[col.tag] = col.text\n",
    "                IsColListEmpty = False\n",
    "                df_list.append(bus_route)\n",
    "\n",
    "    df = pd.DataFrame(df_list, columns=col_list)\n",
    "    return df"
   ]
  },
  {
   "cell_type": "markdown",
   "metadata": {},
   "source": [
    "### GPS상 거리를 구하는 함수"
   ]
  },
  {
   "cell_type": "code",
   "execution_count": 98,
   "metadata": {},
   "outputs": [],
   "source": [
    "# !pip3 install haversine\n",
    "from haversine import haversine\n",
    "def distance(sx, sy, lx, ly):\n",
    "    dist = haversine((sy, sx), (ly, lx)) * 1000\n",
    "    return dist # 기준거리"
   ]
  },
  {
   "cell_type": "markdown",
   "metadata": {},
   "source": [
    "## 노선번호를  넣으면 노선ID 목록을 반환한다."
   ]
  },
  {
   "cell_type": "code",
   "execution_count": 37,
   "metadata": {},
   "outputs": [],
   "source": [
    "class BusRouteService:\n",
    "    def __init__(self, key, routeNo):\n",
    "        self.routeNo = str(routeNo)\n",
    "        \n",
    "        self.key = unquote(key)\n",
    "        \n",
    "    def getRouteId(self):\n",
    "        url = 'http://openapi.gbis.go.kr/ws/rest/busrouteservice'\n",
    "        queryParams = '?' + urlencode({quote_plus('serviceKey') : self.key, quote_plus('keyword') : self.routeNo })\n",
    "        \n",
    "        self.df = df_from_xml(url, queryParams)\n",
    "        \n",
    "        return self.df\n",
    "    \n",
    "    def routeId(self, index):\n",
    "        routeId = self.df.iloc[index]['routeId']\n",
    "        return routeId"
   ]
  },
  {
   "cell_type": "code",
   "execution_count": 38,
   "metadata": {},
   "outputs": [
    {
     "data": {
      "text/html": [
       "<div>\n",
       "<style scoped>\n",
       "    .dataframe tbody tr th:only-of-type {\n",
       "        vertical-align: middle;\n",
       "    }\n",
       "\n",
       "    .dataframe tbody tr th {\n",
       "        vertical-align: top;\n",
       "    }\n",
       "\n",
       "    .dataframe thead th {\n",
       "        text-align: right;\n",
       "    }\n",
       "</style>\n",
       "<table border=\"1\" class=\"dataframe\">\n",
       "  <thead>\n",
       "    <tr style=\"text-align: right;\">\n",
       "      <th></th>\n",
       "      <th>districtCd</th>\n",
       "      <th>regionName</th>\n",
       "      <th>routeId</th>\n",
       "      <th>routeName</th>\n",
       "      <th>routeTypeCd</th>\n",
       "      <th>routeTypeName</th>\n",
       "    </tr>\n",
       "  </thead>\n",
       "  <tbody>\n",
       "    <tr>\n",
       "      <th>0</th>\n",
       "      <td>2</td>\n",
       "      <td>서울,성남</td>\n",
       "      <td>204000046</td>\n",
       "      <td>9003</td>\n",
       "      <td>11</td>\n",
       "      <td>직행좌석형시내버스</td>\n",
       "    </tr>\n",
       "  </tbody>\n",
       "</table>\n",
       "</div>"
      ],
      "text/plain": [
       "  districtCd regionName    routeId routeName routeTypeCd routeTypeName\n",
       "0          2      서울,성남  204000046      9003          11     직행좌석형시내버스"
      ]
     },
     "execution_count": 38,
     "metadata": {},
     "output_type": "execute_result"
    }
   ],
   "source": [
    "routeNo = str(9003)\n",
    "bus = BusRouteService(key, routeNo)\n",
    "df_busrouteservice = bus.getRouteId()\n",
    "df_busrouteservice"
   ]
  },
  {
   "cell_type": "code",
   "execution_count": 39,
   "metadata": {},
   "outputs": [],
   "source": [
    "index = 0\n",
    "routeId = bus.routeId(index)"
   ]
  },
  {
   "cell_type": "markdown",
   "metadata": {},
   "source": [
    "## Bus Route Service"
   ]
  },
  {
   "cell_type": "code",
   "execution_count": 103,
   "metadata": {},
   "outputs": [],
   "source": [
    "class Station:\n",
    "    def __init__(self, key, routeId):\n",
    "        self.routeId = str(routeId)\n",
    "        self.key = unquote(key)\n",
    "        \n",
    "    def getStationDf(self):\n",
    "        url = 'http://openapi.gbis.go.kr/ws/rest/busrouteservice/station'\n",
    "        queryParams = '?' + urlencode({quote_plus('serviceKey') : self.key, quote_plus('routeId') : self.routeId })\n",
    "        \n",
    "        _df_station = df_from_xml(url, queryParams)\n",
    "        _df_station.index = _df_station.index + 1\n",
    "        \n",
    "        _df_station = _df_station.astype({\n",
    "            'x' : float,\n",
    "            'y' : float})\n",
    "        \n",
    "        self.df_station = _df_station\n",
    "        \n",
    "        return self.df_station\n",
    "    \n",
    "    def getLineDf(self):\n",
    "        url = 'http://openapi.gbis.go.kr/ws/rest/busrouteservice/line'\n",
    "        queryParams = '?' + urlencode({quote_plus('serviceKey') : self.key, quote_plus('routeId') : self.routeId })\n",
    "        \n",
    "        _df_line = df_from_xml(url, queryParams)\n",
    "        _df_line.index = _df_line.index+1\n",
    "        \n",
    "        _df_line = _df_line.astype({\n",
    "            'x' : float,\n",
    "            'y' : float\n",
    "        })\n",
    "        \n",
    "        self.df_line = _df_line.drop(columns='lineSeq')\n",
    "        \n",
    "        return self.df_line\n",
    "    \n",
    "    def turnYn(self):\n",
    "        index = df_station['turnYn'] == 'Y'\n",
    "        self.turnStation = df_station[index]\n",
    "        turnIndex = df_station[index].index[0]\n",
    "        return turnIndex"
   ]
  },
  {
   "cell_type": "code",
   "execution_count": 104,
   "metadata": {},
   "outputs": [],
   "source": [
    "station = Station(key, routeId)"
   ]
  },
  {
   "cell_type": "code",
   "execution_count": 109,
   "metadata": {},
   "outputs": [],
   "source": [
    "df_station = station.getStationDf()"
   ]
  },
  {
   "cell_type": "code",
   "execution_count": 108,
   "metadata": {},
   "outputs": [],
   "source": [
    "df_line = station.getLineDf()"
   ]
  },
  {
   "cell_type": "code",
   "execution_count": 107,
   "metadata": {},
   "outputs": [
    {
     "data": {
      "text/plain": [
       "centerYn        object\n",
       "districtCd      object\n",
       "mobileNo        object\n",
       "regionName      object\n",
       "stationId       object\n",
       "stationName     object\n",
       "x              float64\n",
       "y              float64\n",
       "stationSeq      object\n",
       "turnYn          object\n",
       "dtype: object"
      ]
     },
     "execution_count": 107,
     "metadata": {},
     "output_type": "execute_result"
    }
   ],
   "source": [
    "df_station.dtypes"
   ]
  },
  {
   "cell_type": "code",
   "execution_count": 100,
   "metadata": {},
   "outputs": [],
   "source": [
    "stationIndexList = []\n",
    "lastIndex = 0\n",
    "K = 100\n",
    "for i in df_station.index:\n",
    "\n",
    "    distList = []\n",
    "    indexList = []\n",
    "\n",
    "    for j in range(lastIndex, lastIndex + K):\n",
    "        if(j >= len(df_line)):\n",
    "            break\n",
    "        (sx, sy) = df_station.iloc[i-1][['x', 'y']]\n",
    "        (lx, ly) = df_line.iloc[j][['x', 'y']]\n",
    "        dist = distance(sx, sy, lx, ly)\n",
    "\n",
    "        distList.append(dist)\n",
    "        indexList.append(j)\n",
    "\n",
    "    tempIndex = np.argmin(np.array(distList))\n",
    "    lastIndex = indexList[tempIndex]\n",
    "\n",
    "    stationIndexList.append(lastIndex)"
   ]
  },
  {
   "cell_type": "code",
   "execution_count": 101,
   "metadata": {},
   "outputs": [
    {
     "data": {
      "text/plain": [
       "[0,\n",
       " 6,\n",
       " 12,\n",
       " 19,\n",
       " 27,\n",
       " 34,\n",
       " 41,\n",
       " 47,\n",
       " 53,\n",
       " 60,\n",
       " 65,\n",
       " 86,\n",
       " 107,\n",
       " 117,\n",
       " 128,\n",
       " 139,\n",
       " 161,\n",
       " 175,\n",
       " 200,\n",
       " 217,\n",
       " 231,\n",
       " 240,\n",
       " 267,\n",
       " 277,\n",
       " 291,\n",
       " 316,\n",
       " 335,\n",
       " 342,\n",
       " 347,\n",
       " 360,\n",
       " 377,\n",
       " 390,\n",
       " 417,\n",
       " 426,\n",
       " 439,\n",
       " 456,\n",
       " 481,\n",
       " 495,\n",
       " 514,\n",
       " 528,\n",
       " 541,\n",
       " 550,\n",
       " 572,\n",
       " 596,\n",
       " 602,\n",
       " 608,\n",
       " 613,\n",
       " 620,\n",
       " 628,\n",
       " 635,\n",
       " 643,\n",
       " 650,\n",
       " 658,\n",
       " 662,\n",
       " 666]"
      ]
     },
     "execution_count": 101,
     "metadata": {},
     "output_type": "execute_result"
    }
   ],
   "source": [
    "stationIndexList"
   ]
  },
  {
   "cell_type": "code",
   "execution_count": 102,
   "metadata": {},
   "outputs": [
    {
     "data": {
      "image/png": "[encoded data removed]",
      "text/plain": [
       "<Figure size 1440x1440 with 1 Axes>"
      ]
     },
     "metadata": {
      "needs_background": "light"
     },
     "output_type": "display_data"
    }
   ],
   "source": [
    "plt.figure(figsize=(20, 20))\n",
    "lsx = df_line.iloc[stationIndexList]['x']\n",
    "lsy = df_line.iloc[stationIndexList]['y']\n",
    "sx = df_station['x']\n",
    "sy = df_station['y']\n",
    "lx = df_line['x']\n",
    "ly = df_line['y']\n",
    "plt.plot(lx, ly, linewidth='.5')\n",
    "plt.scatter(sx, sy)\n",
    "plt.scatter(lsx, lsy, marker = '+')\n",
    "plt.legend(['route', 'real-station', 'astimate-station'])\n",
    "\n",
    "\n",
    "for i in df_station.index:\n",
    "    if(i < len(df_station)//2):\n",
    "        sig = 1\n",
    "    else:\n",
    "        sig = -2.5\n",
    "    plt.text(df_station['x'].iloc[i-1]+0.001*sig, df_station['y'].iloc[i-1]+0.001*sig, f'{i}')\n",
    "plt.show()"
   ]
  },
  {
   "cell_type": "code",
   "execution_count": null,
   "metadata": {},
   "outputs": [],
   "source": []
  }
 ],
 "metadata": {
  "kernelspec": {
   "display_name": "Python 3",
   "language": "python",
   "name": "python3"
  },
  "language_info": {
   "codemirror_mode": {
    "name": "ipython",
    "version": 3
   },
   "file_extension": ".py",
   "mimetype": "text/x-python",
   "name": "python",
   "nbconvert_exporter": "python",
   "pygments_lexer": "ipython3",
   "version": "3.8.5"
  }
 },
 "nbformat": 4,
 "nbformat_minor": 4
}

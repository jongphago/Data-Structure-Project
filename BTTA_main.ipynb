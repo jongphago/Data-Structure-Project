{
 "cells": [
  {
   "cell_type": "code",
   "execution_count": 1,
   "metadata": {},
   "outputs": [],
   "source": [
    "#-*- coding: utf-8 -*-"
   ]
  },
  {
   "cell_type": "markdown",
   "metadata": {},
   "source": [
    "## 라이브러리 호출"
   ]
  },
  {
   "cell_type": "code",
   "execution_count": 2,
   "metadata": {},
   "outputs": [],
   "source": [
    "# !pip3 install tqdm"
   ]
  },
  {
   "cell_type": "code",
   "execution_count": 3,
   "metadata": {},
   "outputs": [],
   "source": [
    "from urllib.request import Request, urlopen\n",
    "from urllib.parse import unquote, urlencode, quote_plus"
   ]
  },
  {
   "cell_type": "code",
   "execution_count": 4,
   "metadata": {},
   "outputs": [],
   "source": [
    "import xml.etree.ElementTree as ET\n",
    "import pandas as pd\n",
    "import numpy as np\n",
    "import matplotlib.pyplot as plt"
   ]
  },
  {
   "cell_type": "code",
   "execution_count": 5,
   "metadata": {},
   "outputs": [],
   "source": [
    "import os\n",
    "cwd = os.getcwd()\n",
    "from tqdm import tqdm"
   ]
  },
  {
   "cell_type": "code",
   "execution_count": 6,
   "metadata": {},
   "outputs": [],
   "source": [
    "import datetime"
   ]
  },
  {
   "cell_type": "code",
   "execution_count": 70,
   "metadata": {},
   "outputs": [],
   "source": [
    "str_format = '%y-%m-%d %H:%M:%S'"
   ]
  },
  {
   "cell_type": "markdown",
   "metadata": {},
   "source": [
    "## API KEY"
   ]
  },
  {
   "cell_type": "code",
   "execution_count": 7,
   "metadata": {},
   "outputs": [],
   "source": [
    "key = 'yEaR%2F3MDedRSlVJL%2F2pxnVg0yre1N5VF3RZ%2FUAt56MJ7J2mNpfqhUvy05pXV0uhHTVY7DbyCR8xmMaDdYga67Q%3D%3D'"
   ]
  },
  {
   "cell_type": "markdown",
   "metadata": {},
   "source": [
    "## 로그"
   ]
  },
  {
   "cell_type": "code",
   "execution_count": 123,
   "metadata": {},
   "outputs": [
    {
     "name": "stdout",
     "output_type": "stream",
     "text": [
      "[시작] Mon Feb  1 20:52:46 2021"
     ]
    }
   ],
   "source": [
    "_nowTime = datetime.datetime.now(tz=datetime.timezone(datetime.timedelta(hours=9)))\n",
    "nowTime = _nowTime.strftime('%c')\n",
    "print(\"[시작] {}\".format(nowTime), end='')"
   ]
  },
  {
   "cell_type": "code",
   "execution_count": 9,
   "metadata": {},
   "outputs": [],
   "source": [
    "#TODO로그작성\n",
    "\"\"\"\n",
    "[종료] Wed Jan 28 01:23:08 2021\n",
    "* (SOLVED)stationNo가 존재 하지 않는 경유 정류소로 인하여 데이터프레임 작성시 데이터프레임이 밀리는 현상이 발생.\n",
    "    XML을 파싱하는 df_from_xml 함수를 oredereddict로 수정해보자.\n",
    "\"\"\"\n",
    "\"\"\"\n",
    "[시작] Thu Jan 29 00:16:37 2021\n",
    "[종료] Thu Jan 29 01:36:31 2021\n",
    "* (SOLVED)정류장 사이 거리를 구하는 함수를 클래스 메서드로 추가해보자.\n",
    "\"\"\"\n",
    "\"\"\"\n",
    "[시작] Fri Jan 29 16:44:18 2021\n",
    "[종료] Fri Jan 29 19:16:17 2021\n",
    "* Station Class 완성.\n",
    "* Bus 클래스 메소드 작성: 버스 위치정보를 받아오는 메서드(핵심)를 작성해보자.\n",
    "\"\"\"\n",
    "\"\"\"\n",
    "[시작] Sat Jan 30 10:07:03 2021\n",
    "\n",
    "\n",
    "\"\"\"\n",
    "\"\"\"\n",
    "[시작] Mon Feb  1 19:13:21 2021\n",
    "[종료] Mon Feb  1 20:52:46 2021\n",
    "* Bus 클래스 메소드 작성: 버스 위치정보를 데이터프레임에 저장하고 파일에 작성.\n",
    "* Bus 클래스 메소드는 잠시 접어두고, 이미 숮비\n",
    "\"\"\"\n",
    "pass"
   ]
  },
  {
   "cell_type": "markdown",
   "metadata": {},
   "source": [
    "## 기본함수"
   ]
  },
  {
   "cell_type": "markdown",
   "metadata": {},
   "source": [
    "### 현재 시간을 반환"
   ]
  },
  {
   "cell_type": "code",
   "execution_count": 68,
   "metadata": {},
   "outputs": [],
   "source": [
    "def getTime(string=True):\n",
    "    tz = datetime.timezone(datetime.timedelta(hours=9))\n",
    "    if(string):\n",
    "        str_nowTime = datetime.datetime.now(tz=tz).strftime('%y-%m-%d %H:%M:%S')\n",
    "        return str_nowTime\n",
    "    else:\n",
    "        nowTime = datetime.datetime.now(tz=tz)\n",
    "        return nowTime"
   ]
  },
  {
   "cell_type": "code",
   "execution_count": 86,
   "metadata": {},
   "outputs": [],
   "source": [
    "def getDate():\n",
    "    tz = datetime.timezone(datetime.timedelta(hours=9))\n",
    "    str_nowTime = datetime.datetime.now(tz=tz).strftime('%Y-%m-%d')\n",
    "    return str_nowTime"
   ]
  },
  {
   "cell_type": "markdown",
   "metadata": {},
   "source": [
    "### XML Parser"
   ]
  },
  {
   "cell_type": "code",
   "execution_count": 10,
   "metadata": {},
   "outputs": [],
   "source": [
    "def df_from_xml(url, queryParams):\n",
    "    request = Request(url + queryParams)\n",
    "    request.get_method = lambda: 'GET'\n",
    "    raw_xml = urlopen(request).read().decode('utf8')\n",
    "        \n",
    "    xtree = ET.fromstring(raw_xml)    \n",
    "        \n",
    "    IsColListEmpty = True\n",
    "    \n",
    "    col_list = []\n",
    "    df_list = []\n",
    "    \n",
    "    for tags in xtree:\n",
    "        if(tags.tag == 'msgBody'):\n",
    "            for busRouteList in tags:\n",
    "                bus_route = {}\n",
    "                for col in busRouteList:\n",
    "                    if(IsColListEmpty):\n",
    "                        col_list.append(col.tag)\n",
    "                    bus_route[col.tag] = col.text\n",
    "                IsColListEmpty = False\n",
    "                df_list.append(bus_route)\n",
    "\n",
    "    df = pd.DataFrame(df_list, columns=col_list)\n",
    "    return df"
   ]
  },
  {
   "cell_type": "markdown",
   "metadata": {},
   "source": [
    "### GPS상 거리를 구하는 함수"
   ]
  },
  {
   "cell_type": "code",
   "execution_count": 11,
   "metadata": {},
   "outputs": [],
   "source": [
    "# !pip3 install haversine\n",
    "from haversine import haversine\n",
    "def distance(sx, sy, lx, ly):\n",
    "    dist = haversine((sy, sx), (ly, lx)) * 1000\n",
    "    return dist # 기준거리"
   ]
  },
  {
   "cell_type": "markdown",
   "metadata": {},
   "source": [
    "# RouteId"
   ]
  },
  {
   "cell_type": "markdown",
   "metadata": {},
   "source": [
    "## 노선번호를  넣으면 노선ID 목록을 반환한다."
   ]
  },
  {
   "cell_type": "code",
   "execution_count": 12,
   "metadata": {},
   "outputs": [],
   "source": [
    "class RouteId:\n",
    "    def __init__(self, key, routeNo):\n",
    "        self.routeNo = str(routeNo)\n",
    "        \n",
    "        self.key = unquote(key)\n",
    "        \n",
    "    def getRouteId(self):\n",
    "        url = 'http://openapi.gbis.go.kr/ws/rest/busrouteservice'\n",
    "        queryParams = '?' + urlencode({quote_plus('serviceKey') : self.key, quote_plus('keyword') : self.routeNo })\n",
    "        \n",
    "        self.df_routeNo = df_from_xml(url, queryParams)\n",
    "        \n",
    "        return self.df_routeNo\n",
    "    \n",
    "    def routeId(self, index):\n",
    "        routeId = self.df_routeNo.iloc[index]['routeId']\n",
    "        return routeId"
   ]
  },
  {
   "cell_type": "code",
   "execution_count": 13,
   "metadata": {},
   "outputs": [
    {
     "data": {
      "text/html": [
       "<div>\n",
       "<style scoped>\n",
       "    .dataframe tbody tr th:only-of-type {\n",
       "        vertical-align: middle;\n",
       "    }\n",
       "\n",
       "    .dataframe tbody tr th {\n",
       "        vertical-align: top;\n",
       "    }\n",
       "\n",
       "    .dataframe thead th {\n",
       "        text-align: right;\n",
       "    }\n",
       "</style>\n",
       "<table border=\"1\" class=\"dataframe\">\n",
       "  <thead>\n",
       "    <tr style=\"text-align: right;\">\n",
       "      <th></th>\n",
       "      <th>districtCd</th>\n",
       "      <th>regionName</th>\n",
       "      <th>routeId</th>\n",
       "      <th>routeName</th>\n",
       "      <th>routeTypeCd</th>\n",
       "      <th>routeTypeName</th>\n",
       "    </tr>\n",
       "  </thead>\n",
       "  <tbody>\n",
       "    <tr>\n",
       "      <th>0</th>\n",
       "      <td>2</td>\n",
       "      <td>서울,성남</td>\n",
       "      <td>204000046</td>\n",
       "      <td>9003</td>\n",
       "      <td>11</td>\n",
       "      <td>직행좌석형시내버스</td>\n",
       "    </tr>\n",
       "  </tbody>\n",
       "</table>\n",
       "</div>"
      ],
      "text/plain": [
       "  districtCd regionName    routeId routeName routeTypeCd routeTypeName\n",
       "0          2      서울,성남  204000046      9003          11     직행좌석형시내버스"
      ]
     },
     "execution_count": 13,
     "metadata": {},
     "output_type": "execute_result"
    }
   ],
   "source": [
    "_routeNo = str(9003)\n",
    "route = RouteId(key, _routeNo)\n",
    "df_busrouteservice = route.getRouteId()\n",
    "df_busrouteservice"
   ]
  },
  {
   "cell_type": "code",
   "execution_count": 14,
   "metadata": {},
   "outputs": [],
   "source": [
    "index = 0\n",
    "routeNo = df_busrouteservice.iloc[index]['routeName']\n",
    "routeId = route.routeId(index)"
   ]
  },
  {
   "cell_type": "code",
   "execution_count": 15,
   "metadata": {},
   "outputs": [
    {
     "data": {
      "text/plain": [
       "(0, '9003', '204000046')"
      ]
     },
     "execution_count": 15,
     "metadata": {},
     "output_type": "execute_result"
    }
   ],
   "source": [
    "index, routeNo, routeId"
   ]
  },
  {
   "cell_type": "markdown",
   "metadata": {},
   "source": [
    "# Station"
   ]
  },
  {
   "cell_type": "markdown",
   "metadata": {},
   "source": [
    "## Bus Route Service"
   ]
  },
  {
   "cell_type": "code",
   "execution_count": 16,
   "metadata": {},
   "outputs": [],
   "source": [
    "class Station:\n",
    "    def __init__(self, key, routeNo, routeId):\n",
    "        self.routeNo = str(routeNo)\n",
    "        self.routeId = str(routeId)\n",
    "        self.key = unquote(key)\n",
    "        \n",
    "    def getStationDf(self):\n",
    "        url = 'http://openapi.gbis.go.kr/ws/rest/busrouteservice/station'\n",
    "        queryParams = '?' + urlencode({quote_plus('serviceKey') : self.key, quote_plus('routeId') : self.routeId })\n",
    "        \n",
    "        _df_station = df_from_xml(url, queryParams)\n",
    "        _df_station.index = _df_station.index + 1\n",
    "        \n",
    "        _df_station = _df_station.astype({\n",
    "            'x' : float,\n",
    "            'y' : float})\n",
    "        \n",
    "        self.df_station = _df_station\n",
    "        \n",
    "        return self.df_station\n",
    "    \n",
    "    def getLineDf(self):\n",
    "        url = 'http://openapi.gbis.go.kr/ws/rest/busrouteservice/line'\n",
    "        queryParams = '?' + urlencode({quote_plus('serviceKey') : self.key, quote_plus('routeId') : self.routeId })\n",
    "        \n",
    "        _df_line = df_from_xml(url, queryParams)\n",
    "        _df_line.index = _df_line.index+1\n",
    "        \n",
    "        _df_line = _df_line.astype({\n",
    "            'x' : float,\n",
    "            'y' : float\n",
    "        })\n",
    "        \n",
    "        self.df_line = _df_line.drop(columns='lineSeq')\n",
    "        \n",
    "        return self.df_line\n",
    "    \n",
    "    def turnYn(self):\n",
    "        index = df_station['turnYn'] == 'Y'\n",
    "        self.turnStation = df_station[index]\n",
    "        turnIndex = df_station[index].index[0]\n",
    "        return turnIndex\n",
    "    \n",
    "#     def stationIndex(self, K=100):\n",
    "#         df_line = self.df_line\n",
    "#         df_station = self.df_station\n",
    "        \n",
    "#         stationIndexList = []\n",
    "#         lastIndex = 0\n",
    "#         K = 100\n",
    "#         for i in tqdm(df_station.index):\n",
    "\n",
    "#             distList = []\n",
    "#             indexList = []\n",
    "\n",
    "#             for j in range(lastIndex, lastIndex + K):\n",
    "#                 if(j >= len(df_line)):\n",
    "#                     break\n",
    "#                 (sx, sy) = df_station.iloc[i-1][['x', 'y']]\n",
    "#                 (lx, ly) = df_line.iloc[j][['x', 'y']]\n",
    "#                 dist = distance(sx, sy, lx, ly)\n",
    "\n",
    "#                 distList.append(dist)\n",
    "#                 indexList.append(j)\n",
    "\n",
    "#             tempIndex = np.argmin(np.array(distList))\n",
    "#             lastIndex = indexList[tempIndex]\n",
    "\n",
    "#             stationIndexList.append(lastIndex)\n",
    "            \n",
    "#         self.stationIndexList = np.array(stationIndexList, dtype=np.int32)\n",
    "#         self.df_line_station = df_line.iloc[self.stationIndexList]\n",
    "            \n",
    "#         return self.stationIndexList\n",
    "    \n",
    "    \"\"\"\n",
    "    9003번에 대한 df_line의 staiton_index 추출값.\n",
    "    추출과정이 오래걸려서 하드코딩.\n",
    "    클래스 작성이 완료되면 위 메서드를 주석해제후 해당 메서드를 삭제.\n",
    "    \"\"\"\n",
    "    def stationIndex(self, K=100):\n",
    "        \n",
    "        df_line = self.df_line\n",
    "        self.stationIndexList = np.array([  \n",
    "            0,   6,  12,  19,  27,  34,  41,  47,  53,  60,  65,  86, 107,\n",
    "           117, 128, 139, 161, 175, 200, 217, 231, 240, 267, 277, 291, 316,\n",
    "           335, 342, 347, 360, 377, 390, 417, 426, 439, 456, 481, 495, 514,\n",
    "           528, 541, 550, 572, 596, 602, 608, 613, 620, 628, 635, 643, 650,\n",
    "           658, 662, 666], dtype=np.int32)\n",
    "        self.df_line_station = df_line.iloc[self.stationIndexList]\n",
    "        return self.stationIndexList\n",
    "\n",
    "    def stationDistance(self):\n",
    "        df_line = self.df_line\n",
    "        sumDist = 0\n",
    "        distList = [0]\n",
    "        j=1\n",
    "        for i in tqdm(range(len(df_line)-1)):\n",
    "            if(i+1 == stationIndexList[j]+1):\n",
    "                distList.append(sumDist)\n",
    "                sumDist = 0\n",
    "                j += 1\n",
    "            (pre_x, pre_y) = df_line[['x', 'y']].iloc[i]\n",
    "            (next_x, next_y) = df_line[['x', 'y']].iloc[i+1]\n",
    "            partDist = distance(pre_x, pre_y, next_x, next_y)\n",
    "            sumDist += partDist\n",
    "        distList.append(sumDist)\n",
    "        \n",
    "        self.cumsumDist = np.array(distList, dtype=np.int32).cumsum()\n",
    "        self.distList = np.array(distList, dtype=np.int32)\n",
    "        \n",
    "        return self.distList\n",
    "    \n",
    "    \n",
    "    def kakaoMap(self):\n",
    "        routeNo = self.routeNo\n",
    "        routeId = self.routeId\n",
    "        df_station = self.df_station\n",
    "        \n",
    "        self.fname_kakaomap_station_location = \"{}_{}_kakaomap_staion_location.txt\".format(routeNo, routeId)\n",
    "        f = open(self.fname_kakaomap_station_location, 'w')\n",
    "        for index in df_station.index:\n",
    "            stationName, x, y = df_station[['stationName', 'x','y']].iloc[index-1]\n",
    "            f.write(\"\\t{\")\n",
    "            line = str(\"content: '<div>{}</div>',latlng: new kakao.maps.LatLng({}, {})\").format(stationName, y, x)\n",
    "            f.write(line)\n",
    "            f.write(\"},\\n\")\n",
    "            \n",
    "        f.close()\n",
    "        print(\"파일 쓰기 완료\")\n",
    "        \n",
    "        \n",
    "    def addColumns(self):\n",
    "        \n",
    "        if 'stationIdx' not in self.df_station.columns:\n",
    "            self.df_station['stationIdx'] = stationIndexList\n",
    "            print('[stationIdx] 컬럼을 추가하였습니다.')\n",
    "\n",
    "        if 'distance' not in self.df_station.columns:\n",
    "            self.df_station['distance'] = distList\n",
    "            print('[distance] 컬럼을 추가하였습니다.')\n",
    "\n",
    "        if 'cumsum' not in self.df_station.columns:\n",
    "            self.df_station['cumsum'] = cumsumDistList    \n",
    "            print('[cumsum] 컬럼을 추가하였습니다.')\n",
    "\n",
    "            \n",
    "    def writeStationDf(self):\n",
    "        self.fname_station = \"{}_{}_station.csv\".format(routeNo, routeId)\n",
    "        self.df_station.to_csv(self.fname_station)\n",
    "        print(\"{}_{}_station.csv를 내보냈습니다.\".format(routeNo, routeId))"
   ]
  },
  {
   "cell_type": "markdown",
   "metadata": {},
   "source": [
    "## 인스턴스 생성"
   ]
  },
  {
   "cell_type": "markdown",
   "metadata": {},
   "source": [
    "### 필수 메서드"
   ]
  },
  {
   "cell_type": "code",
   "execution_count": 17,
   "metadata": {},
   "outputs": [],
   "source": [
    "station = Station(key, routeNo, routeId)\n",
    "\n",
    "df_station = station.getStationDf()\n",
    "df_line = station.getLineDf()"
   ]
  },
  {
   "cell_type": "code",
   "execution_count": 18,
   "metadata": {},
   "outputs": [
    {
     "name": "stderr",
     "output_type": "stream",
     "text": [
      "100%|██████████| 666/666 [00:00<00:00, 667.61it/s]"
     ]
    },
    {
     "name": "stdout",
     "output_type": "stream",
     "text": [
      "[stationIdx] 컬럼을 추가하였습니다.\n",
      "[distance] 컬럼을 추가하였습니다.\n",
      "[cumsum] 컬럼을 추가하였습니다.\n"
     ]
    },
    {
     "name": "stderr",
     "output_type": "stream",
     "text": [
      "\n"
     ]
    }
   ],
   "source": [
    "stationIndexList = station.stationIndex()\n",
    "\n",
    "# stationIndexList\n",
    "distList = station.stationDistance()\n",
    "# distList\n",
    "\n",
    "cumsumDistList = station.cumsumDist\n",
    "\n",
    "station.addColumns()"
   ]
  },
  {
   "cell_type": "markdown",
   "metadata": {},
   "source": [
    "### 추가 메서드"
   ]
  },
  {
   "cell_type": "code",
   "execution_count": 19,
   "metadata": {},
   "outputs": [
    {
     "name": "stdout",
     "output_type": "stream",
     "text": [
      "파일 쓰기 완료\n",
      "9003_204000046_station.csv를 내보냈습니다.\n"
     ]
    }
   ],
   "source": [
    "station.kakaoMap()\n",
    "station.writeStationDf()"
   ]
  },
  {
   "cell_type": "markdown",
   "metadata": {},
   "source": [
    "# Bus"
   ]
  },
  {
   "cell_type": "code",
   "execution_count": 104,
   "metadata": {},
   "outputs": [],
   "source": [
    "class Bus:\n",
    "    def __init__(self, key, routeId):\n",
    "        self.routeId = str(routeId)\n",
    "        self.key = unquote(key)\n",
    "        self.totalBus = None\n",
    "        self.routeName = None\n",
    "        \n",
    "    def getInfoDf(self):\n",
    "        url = 'http://openapi.gbis.go.kr/ws/rest/busrouteservice/info'\n",
    "        queryParams = '?' + urlencode({quote_plus('serviceKey') : self.key, quote_plus('routeId') : self.routeId })\n",
    "        \n",
    "        _df_info = df_from_xml(url, queryParams)\n",
    "        _df_info.index = _df_info.index + 1\n",
    "        self.df_info = _df_info\n",
    "        \n",
    "        return self.df_info\n",
    "    \n",
    "    def basicInfo(self):\n",
    "        df_info = self.df_info\n",
    "        self.routeName = df_info.iloc[0]['routeName']\n",
    "        self.downFirstTime = df_info.iloc[0]['downFirstTime']\n",
    "        self.upLastTime = df_info.iloc[0]['upLastTime']\n",
    "        \n",
    "    def api_result_check(self):\n",
    "        url = 'http://openapi.gbis.go.kr/ws/rest/buslocationservice'\n",
    "        queryParams = '?' + urlencode({quote_plus('serviceKey') : self.key, quote_plus('routeId') : self.routeId })\n",
    "        \n",
    "        request = Request(url + queryParams)\n",
    "        request.get_method = lambda: 'GET'\n",
    "        raw_xml = urlopen(request).read().decode('utf8')\n",
    "\n",
    "        xtree = ET.fromstring(raw_xml)\n",
    "\n",
    "        _returnCode = xtree.find('comMsgHeader').find('returnCode').text\n",
    "        returnCode = int(_returnCode)\n",
    "\n",
    "        return returnCode, xtree    \n",
    "\n",
    "        \n",
    "    def df_location_from_xml(self, xtree):\n",
    "        _queryTime = xtree.find('msgHeader').find('queryTime').text\n",
    "        dt_queryTime = datetime.datetime.strptime(_queryTime, '%Y-%m-%d %H:%M:%S.%f')\n",
    "        quaryTime = dt_queryTime.strftime('%y-%m-%d %H:%M:%S')\n",
    "\n",
    "        msgBody = xtree.find('msgBody')\n",
    "\n",
    "        IsColListEmpty = True\n",
    "        col_list = []\n",
    "        df_list = []\n",
    "\n",
    "        for busLocationList in msgBody:\n",
    "            bus_location = {}\n",
    "            for busLocation in busLocationList:\n",
    "                if(IsColListEmpty):\n",
    "                    col_list.append(busLocation.tag)\n",
    "                bus_location[busLocation.tag] = busLocation.text\n",
    "            IsColListEmpty = False\n",
    "            df_list.append(bus_location)\n",
    "\n",
    "        df_location = pd.DataFrame(df_list, columns=col_list)\n",
    "        df_location['quaryTime'] = quaryTime\n",
    "        return df_location\n",
    "    \n",
    "    def make_file(self):\n",
    "        fileName = getDate() + '.csv'\n",
    "        f = open(fileName, \"w\")\n",
    "        f.close()\n",
    "        return f\n",
    "    \n",
    "    def write_file(self, f, df_location):\n",
    "        df_str_location = df_location.to_csv(header=False, index=False, encoding='utf-8')\n",
    "        fileName = getDate() + '.csv'\n",
    "        f = open(fileName, \"a\")\n",
    "        f.write(df_str_location)\n",
    "        f.close()"
   ]
  },
  {
   "cell_type": "code",
   "execution_count": 105,
   "metadata": {},
   "outputs": [],
   "source": [
    "bus = Bus(key, routeId)"
   ]
  },
  {
   "cell_type": "code",
   "execution_count": 106,
   "metadata": {},
   "outputs": [
    {
     "data": {
      "text/html": [
       "<div>\n",
       "<style scoped>\n",
       "    .dataframe tbody tr th:only-of-type {\n",
       "        vertical-align: middle;\n",
       "    }\n",
       "\n",
       "    .dataframe tbody tr th {\n",
       "        vertical-align: top;\n",
       "    }\n",
       "\n",
       "    .dataframe thead th {\n",
       "        text-align: right;\n",
       "    }\n",
       "</style>\n",
       "<table border=\"1\" class=\"dataframe\">\n",
       "  <thead>\n",
       "    <tr style=\"text-align: right;\">\n",
       "      <th></th>\n",
       "      <th>companyId</th>\n",
       "      <th>companyName</th>\n",
       "      <th>companyTel</th>\n",
       "      <th>districtCd</th>\n",
       "      <th>downFirstTime</th>\n",
       "      <th>downLastTime</th>\n",
       "      <th>endStationId</th>\n",
       "      <th>endStationName</th>\n",
       "      <th>peekAlloc</th>\n",
       "      <th>regionName</th>\n",
       "      <th>routeId</th>\n",
       "      <th>routeName</th>\n",
       "      <th>routeTypeCd</th>\n",
       "      <th>routeTypeName</th>\n",
       "      <th>startMobileNo</th>\n",
       "      <th>startStationId</th>\n",
       "      <th>startStationName</th>\n",
       "      <th>upFirstTime</th>\n",
       "      <th>upLastTime</th>\n",
       "      <th>nPeekAlloc</th>\n",
       "    </tr>\n",
       "  </thead>\n",
       "  <tbody>\n",
       "    <tr>\n",
       "      <th>1</th>\n",
       "      <td>4100400</td>\n",
       "      <td>대원버스</td>\n",
       "      <td>02-455-2114</td>\n",
       "      <td>2</td>\n",
       "      <td>05:40</td>\n",
       "      <td>00:00</td>\n",
       "      <td>101000005</td>\n",
       "      <td>서울역버스환승센터(5번승강장)(중)</td>\n",
       "      <td>15</td>\n",
       "      <td>서울,성남</td>\n",
       "      <td>204000046</td>\n",
       "      <td>9003</td>\n",
       "      <td>11</td>\n",
       "      <td>직행좌석형시내버스</td>\n",
       "      <td>7004</td>\n",
       "      <td>206000010</td>\n",
       "      <td>운중동먹거리촌</td>\n",
       "      <td>05:00</td>\n",
       "      <td>23:10</td>\n",
       "      <td>25</td>\n",
       "    </tr>\n",
       "  </tbody>\n",
       "</table>\n",
       "</div>"
      ],
      "text/plain": [
       "  companyId companyName   companyTel districtCd downFirstTime downLastTime  \\\n",
       "1   4100400        대원버스  02-455-2114          2         05:40        00:00   \n",
       "\n",
       "  endStationId       endStationName peekAlloc regionName    routeId routeName  \\\n",
       "1    101000005  서울역버스환승센터(5번승강장)(중)        15      서울,성남  204000046      9003   \n",
       "\n",
       "  routeTypeCd routeTypeName startMobileNo startStationId startStationName  \\\n",
       "1          11     직행좌석형시내버스          7004      206000010          운중동먹거리촌   \n",
       "\n",
       "  upFirstTime upLastTime nPeekAlloc  \n",
       "1       05:00      23:10         25  "
      ]
     },
     "execution_count": 106,
     "metadata": {},
     "output_type": "execute_result"
    }
   ],
   "source": [
    "df_info = bus.getInfoDf()\n",
    "df_info"
   ]
  },
  {
   "cell_type": "code",
   "execution_count": 107,
   "metadata": {},
   "outputs": [
    {
     "data": {
      "text/plain": [
       "'9003'"
      ]
     },
     "execution_count": 107,
     "metadata": {},
     "output_type": "execute_result"
    }
   ],
   "source": [
    "bus.basicInfo()\n",
    "bus.routeName"
   ]
  },
  {
   "cell_type": "code",
   "execution_count": 110,
   "metadata": {},
   "outputs": [],
   "source": [
    "# os.remove(getDate() + '.csv')\n",
    "f = bus.make_file()"
   ]
  },
  {
   "cell_type": "code",
   "execution_count": 122,
   "metadata": {},
   "outputs": [],
   "source": [
    "resultCode, xtree = bus.api_result_check()\n",
    "df_location = bus.df_location_from_xml(xtree)\n",
    "bus.write_file(f, df_location)"
   ]
  },
  {
   "cell_type": "code",
   "execution_count": null,
   "metadata": {},
   "outputs": [],
   "source": []
  }
 ],
 "metadata": {
  "kernelspec": {
   "display_name": "Python 3",
   "language": "python",
   "name": "python3"
  },
  "language_info": {
   "codemirror_mode": {
    "name": "ipython",
    "version": 3
   },
   "file_extension": ".py",
   "mimetype": "text/x-python",
   "name": "python",
   "nbconvert_exporter": "python",
   "pygments_lexer": "ipython3",
   "version": "3.8.5"
  }
 },
 "nbformat": 4,
 "nbformat_minor": 4
}

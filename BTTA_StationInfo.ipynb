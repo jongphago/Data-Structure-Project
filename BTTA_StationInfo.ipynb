{
 "cells": [
  {
   "cell_type": "markdown",
   "metadata": {},
   "source": [
    "## 라이브러리 불러오기"
   ]
  },
  {
   "cell_type": "code",
   "execution_count": 2,
   "metadata": {},
   "outputs": [],
   "source": [
    "# API 호출\n",
    "# ## https://data.go.kr/tcs/dss/selectApiDataDetailView.do?publicDataPk=15057440\n",
    "from urllib.request import Request, urlopen\n",
    "# Request https://docs.python.org/ko/3/library/urllib.request.html#urllib.request.Request\n",
    "# urlopen https://docs.python.org/ko/3/library/urllib.request.html#urllib.request.urlopen\n",
    "from urllib.parse import urlencode, quote_plus\n",
    "# urlenocde https://docs.python.org/ko/3/library/urllib.parse.html#urllib.parse.urlencode\n",
    "# quote_plus https://docs.python.org/ko/3/library/urllib.parse.html#urllib.parse.quote_plus\n",
    "from urllib.parse import unquote\n",
    "import requests\n",
    "\n",
    "# 시간 생성\n",
    "import time\n",
    "import datetime\n",
    "from pytz import timezone, utc\n",
    "\n",
    "# 폴더 자동 생성\n",
    "import os\n",
    "\n",
    "# 코드 스케줄링\n",
    "import threading\n",
    "# import schedule\n",
    "\n",
    "# XML 파싱\n",
    "import xml.etree.ElementTree as ET\n",
    "\n",
    "# 입력데이터 데이터프레임 작성\n",
    "import pandas as pd\n",
    "import numpy as np\n",
    "\n",
    "# DataFrame 화면 출력                                                # DataFrame 화면 출력 설정이 변경되어 있습니다 #\n",
    "from IPython.display import display\n",
    "pd.options.display.max_columns = None\n",
    "pd.options.display.max_rows = None # default = 60"
   ]
  },
  {
   "cell_type": "code",
   "execution_count": 3,
   "metadata": {},
   "outputs": [],
   "source": [
    "# 폴더 자동 생성 함수\n",
    "# https://data-make.tistory.com/170\n",
    "def createFolder(directory):\n",
    "    try:\n",
    "        if not os.path.exists(directory):\n",
    "            os.makedirs(directory)\n",
    "    except OSError:\n",
    "        print ('Error: Creating directory. ' +  directory)"
   ]
  },
  {
   "cell_type": "markdown",
   "metadata": {},
   "source": [
    "## 입력데이터"
   ]
  },
  {
   "cell_type": "code",
   "execution_count": 4,
   "metadata": {},
   "outputs": [],
   "source": [
    "def getOnlyDirectory(index):\n",
    "    \n",
    "    global subCategoryDict, category\n",
    "    rootDirectory = os.getcwd()\n",
    "    \n",
    "    subCategory = subCategoryDict[index]\n",
    "    directory = rootDirectory + category + subCategory\n",
    "    return directory"
   ]
  },
  {
   "cell_type": "code",
   "execution_count": 5,
   "metadata": {},
   "outputs": [],
   "source": [
    "def getRouteIdList():\n",
    "    folderPath = getOnlyDirectory('rid')\n",
    "    fileName = 'routeIdList.txt'\n",
    "    filePath = folderPath + fileName\n",
    "\n",
    "    routeIdList = []\n",
    "    if(os.path.isfile(filePath)):\n",
    "        routeIdFile = open(filePath, 'r', encoding = 'utf-8', newline = '\\n')\n",
    "        # print('파일이 존재합니다.')\n",
    "\n",
    "    else:\n",
    "        createFolder(folderPath)\n",
    "        routeIdFile = open(filePath, 'r', encoding = 'utf-8', newline = '\\n')\n",
    "\n",
    "    routeId = routeIdFile.readline()\n",
    "    while(routeId):\n",
    "        routeIdList.append(int(routeId))\n",
    "        routeId = (routeIdFile.readline())\n",
    "\n",
    "    routeIdFile.close()\n",
    "    \n",
    "    return routeIdList"
   ]
  },
  {
   "cell_type": "markdown",
   "metadata": {},
   "source": [
    "## 출력함수"
   ]
  },
  {
   "cell_type": "code",
   "execution_count": 9,
   "metadata": {},
   "outputs": [],
   "source": [
    "def getDirectory(index, routeId):\n",
    "    global subCategoryDict, category\n",
    "    rootDirectory = os.getcwd()\n",
    "    # category = '/TEST'\n",
    "    subCategory = subCategoryDict[index]\n",
    "    directory = rootDirectory + category + subCategory + str(routeId) + '/'\n",
    "    return directory"
   ]
  },
  {
   "cell_type": "code",
   "execution_count": 90,
   "metadata": {},
   "outputs": [],
   "source": [
    "def makeStaFile(routeId):\n",
    "    directory = getOnlyDirectory('station')\n",
    "    createFolder(directory)\n",
    "    stationFilePath = directory + str(routeId) + '.txt'\n",
    "    print(stationFilePath)\n",
    "    stationFile = open(stationFilePath, \"w\")\n",
    "    \n",
    "    return stationFile"
   ]
  },
  {
   "cell_type": "code",
   "execution_count": 79,
   "metadata": {},
   "outputs": [],
   "source": [
    "subCategoryDict = {'dtt' : '/daily-time-table/', \n",
    "                   'dtt-log' : '/log/daily-time-table/', \n",
    "                   'rid' : '/route-id-list/',\n",
    "                   'main-log' : '/log/main/',\n",
    "                   'info' : '/BusInfo/',\n",
    "                   'station' : '/station/',\n",
    "                  }"
   ]
  },
  {
   "cell_type": "code",
   "execution_count": 7,
   "metadata": {},
   "outputs": [
    {
     "name": "stdin",
     "output_type": "stream",
     "text": [
      "테스트 버전 입니까?... True[1] OR False[0] :  1\n"
     ]
    }
   ],
   "source": [
    "isTest = int(input(\"테스트 버전 입니까?... True[1] OR False[0] : \")) \n",
    "\n",
    "##############################\n",
    "##############################\n",
    "                          ####\n",
    "if(isTest):               ####\n",
    "    category = '/TEST'    ####\n",
    "                          ####\n",
    "else:                     ####\n",
    "    category = '/DATA'    ####\n",
    "                          ####\n",
    "##############################\n",
    "##############################"
   ]
  },
  {
   "cell_type": "code",
   "execution_count": 93,
   "metadata": {},
   "outputs": [],
   "source": [
    "routeIdList = []\n",
    "routeIdList = getRouteIdList()"
   ]
  },
  {
   "cell_type": "markdown",
   "metadata": {},
   "source": [
    "## KEY unquote"
   ]
  },
  {
   "cell_type": "code",
   "execution_count": 11,
   "metadata": {},
   "outputs": [],
   "source": [
    "KEY = 'yEaR%2F3MDedRSlVJL%2F2pxnVg0yre1N5VF3RZ%2FUAt56MJ7J2mNpfqhUvy05pXV0uhHTVY7DbyCR8xmMaDdYga67Q%3D%3D' # 종현\n",
    "# apiKEY = requests.utils.unquote(KEY)\n",
    "apiKey = unquote(KEY)"
   ]
  },
  {
   "cell_type": "markdown",
   "metadata": {},
   "source": [
    "## URL 생성"
   ]
  },
  {
   "cell_type": "code",
   "execution_count": 12,
   "metadata": {},
   "outputs": [
    {
     "name": "stdout",
     "output_type": "stream",
     "text": [
      "http://openapi.gbis.go.kr/ws/rest/busrouteservice/station?serviceKey=yEaR%2F3MDedRSlVJL%2F2pxnVg0yre1N5VF3RZ%2FUAt56MJ7J2mNpfqhUvy05pXV0uhHTVY7DbyCR8xmMaDdYga67Q%3D%3D&routeId=204000046\n"
     ]
    }
   ],
   "source": [
    "# 노선번호목록조회 busrouteservice\n",
    "# 해당 노선번호의 노선ID, 노선유형, 운행지역 등을 제공합니다.\n",
    "url = 'http://openapi.gbis.go.kr/ws/rest/busrouteservice/station' \n",
    "queryParams = '?' + urlencode({ quote_plus('serviceKey') : apiKey, quote_plus('routeId') : '204000046' })\n",
    "print(url+queryParams)"
   ]
  },
  {
   "cell_type": "markdown",
   "metadata": {},
   "source": [
    "## API 호출"
   ]
  },
  {
   "cell_type": "code",
   "execution_count": 95,
   "metadata": {},
   "outputs": [
    {
     "name": "stdout",
     "output_type": "stream",
     "text": [
      "/home/ubuntu/Data-Structure-Project/TEST/station/200000104.txt\n",
      "/home/ubuntu/Data-Structure-Project/TEST/station/200000108.txt\n",
      "/home/ubuntu/Data-Structure-Project/TEST/station/200000109.txt\n",
      "/home/ubuntu/Data-Structure-Project/TEST/station/200000119.txt\n",
      "/home/ubuntu/Data-Structure-Project/TEST/station/200000120.txt\n",
      "/home/ubuntu/Data-Structure-Project/TEST/station/200000145.txt\n",
      "/home/ubuntu/Data-Structure-Project/TEST/station/200000175.txt\n",
      "/home/ubuntu/Data-Structure-Project/TEST/station/200000193.txt\n",
      "/home/ubuntu/Data-Structure-Project/TEST/station/200000193.txt\n",
      "/home/ubuntu/Data-Structure-Project/TEST/station/200000205.txt\n",
      "/home/ubuntu/Data-Structure-Project/TEST/station/204000046.txt\n",
      "/home/ubuntu/Data-Structure-Project/TEST/station/204000056.txt\n",
      "/home/ubuntu/Data-Structure-Project/TEST/station/204000057.txt\n",
      "/home/ubuntu/Data-Structure-Project/TEST/station/204000059.txt\n",
      "/home/ubuntu/Data-Structure-Project/TEST/station/204000065.txt\n",
      "/home/ubuntu/Data-Structure-Project/TEST/station/204000081.txt\n",
      "/home/ubuntu/Data-Structure-Project/TEST/station/204000082.txt\n",
      "/home/ubuntu/Data-Structure-Project/TEST/station/205000002.txt\n",
      "/home/ubuntu/Data-Structure-Project/TEST/station/213000019.txt\n",
      "/home/ubuntu/Data-Structure-Project/TEST/station/213000024.txt\n",
      "/home/ubuntu/Data-Structure-Project/TEST/station/216000026.txt\n",
      "/home/ubuntu/Data-Structure-Project/TEST/station/218000010.txt\n",
      "/home/ubuntu/Data-Structure-Project/TEST/station/218000011.txt\n",
      "/home/ubuntu/Data-Structure-Project/TEST/station/219000006.txt\n",
      "/home/ubuntu/Data-Structure-Project/TEST/station/221000003.txt\n",
      "/home/ubuntu/Data-Structure-Project/TEST/station/221000033.txt\n",
      "/home/ubuntu/Data-Structure-Project/TEST/station/222000046.txt\n",
      "/home/ubuntu/Data-Structure-Project/TEST/station/222000075.txt\n",
      "/home/ubuntu/Data-Structure-Project/TEST/station/222000076.txt\n",
      "/home/ubuntu/Data-Structure-Project/TEST/station/222000078.txt\n",
      "/home/ubuntu/Data-Structure-Project/TEST/station/222000107.txt\n",
      "/home/ubuntu/Data-Structure-Project/TEST/station/222000137.txt\n",
      "/home/ubuntu/Data-Structure-Project/TEST/station/222000169.txt\n",
      "/home/ubuntu/Data-Structure-Project/TEST/station/227000019.txt\n",
      "/home/ubuntu/Data-Structure-Project/TEST/station/227000038.txt\n",
      "/home/ubuntu/Data-Structure-Project/TEST/station/227000039.txt\n",
      "/home/ubuntu/Data-Structure-Project/TEST/station/228000176.txt\n",
      "/home/ubuntu/Data-Structure-Project/TEST/station/228000177.txt\n",
      "/home/ubuntu/Data-Structure-Project/TEST/station/228000181.txt\n",
      "/home/ubuntu/Data-Structure-Project/TEST/station/228000263.txt\n",
      "/home/ubuntu/Data-Structure-Project/TEST/station/228000388.txt\n",
      "/home/ubuntu/Data-Structure-Project/TEST/station/228000389.txt\n",
      "/home/ubuntu/Data-Structure-Project/TEST/station/229000023.txt\n",
      "/home/ubuntu/Data-Structure-Project/TEST/station/229000028.txt\n",
      "/home/ubuntu/Data-Structure-Project/TEST/station/229000028.txt\n",
      "/home/ubuntu/Data-Structure-Project/TEST/station/229000072.txt\n",
      "/home/ubuntu/Data-Structure-Project/TEST/station/229000097.txt\n",
      "/home/ubuntu/Data-Structure-Project/TEST/station/229000111.txt\n",
      "/home/ubuntu/Data-Structure-Project/TEST/station/229000112.txt\n",
      "/home/ubuntu/Data-Structure-Project/TEST/station/232000047.txt\n",
      "/home/ubuntu/Data-Structure-Project/TEST/station/232000072.txt\n",
      "/home/ubuntu/Data-Structure-Project/TEST/station/232000072.txt\n",
      "/home/ubuntu/Data-Structure-Project/TEST/station/232000073.txt\n",
      "/home/ubuntu/Data-Structure-Project/TEST/station/232000081.txt\n",
      "/home/ubuntu/Data-Structure-Project/TEST/station/232000092.txt\n",
      "/home/ubuntu/Data-Structure-Project/TEST/station/232000098.txt\n",
      "/home/ubuntu/Data-Structure-Project/TEST/station/233000031.txt\n",
      "/home/ubuntu/Data-Structure-Project/TEST/station/233000125.txt\n",
      "/home/ubuntu/Data-Structure-Project/TEST/station/233000131.txt\n",
      "/home/ubuntu/Data-Structure-Project/TEST/station/233000135.txt\n",
      "/home/ubuntu/Data-Structure-Project/TEST/station/233000142.txt\n",
      "/home/ubuntu/Data-Structure-Project/TEST/station/233000258.txt\n",
      "/home/ubuntu/Data-Structure-Project/TEST/station/233000265.txt\n",
      "/home/ubuntu/Data-Structure-Project/TEST/station/234000002.txt\n",
      "/home/ubuntu/Data-Structure-Project/TEST/station/234000011.txt\n",
      "/home/ubuntu/Data-Structure-Project/TEST/station/234000013.txt\n",
      "/home/ubuntu/Data-Structure-Project/TEST/station/234000031.txt\n",
      "/home/ubuntu/Data-Structure-Project/TEST/station/234000042.txt\n",
      "/home/ubuntu/Data-Structure-Project/TEST/station/234000050.txt\n",
      "/home/ubuntu/Data-Structure-Project/TEST/station/234000075.txt\n",
      "/home/ubuntu/Data-Structure-Project/TEST/station/234000079.txt\n",
      "/home/ubuntu/Data-Structure-Project/TEST/station/234000130.txt\n",
      "/home/ubuntu/Data-Structure-Project/TEST/station/234000310.txt\n",
      "/home/ubuntu/Data-Structure-Project/TEST/station/234000313.txt\n",
      "/home/ubuntu/Data-Structure-Project/TEST/station/234000324.txt\n",
      "/home/ubuntu/Data-Structure-Project/TEST/station/234000878.txt\n",
      "/home/ubuntu/Data-Structure-Project/TEST/station/234000882.txt\n",
      "/home/ubuntu/Data-Structure-Project/TEST/station/234000884.txt\n",
      "/home/ubuntu/Data-Structure-Project/TEST/station/234001203.txt\n",
      "/home/ubuntu/Data-Structure-Project/TEST/station/234001204.txt\n",
      "/home/ubuntu/Data-Structure-Project/TEST/station/234001244.txt\n",
      "/home/ubuntu/Data-Structure-Project/TEST/station/234001511.txt\n",
      "/home/ubuntu/Data-Structure-Project/TEST/station/234001516.txt\n",
      "/home/ubuntu/Data-Structure-Project/TEST/station/234001609.txt\n",
      "/home/ubuntu/Data-Structure-Project/TEST/station/236000050.txt\n",
      "/home/ubuntu/Data-Structure-Project/TEST/station/236000149.txt\n",
      "/home/ubuntu/Data-Structure-Project/TEST/station/236000176.txt\n"
     ]
    }
   ],
   "source": [
    "for routeId in routeIdList:\n",
    "    \n",
    "    staFile = makeStaFile(routeId)\n",
    "    \n",
    "    # 노선정보항목조회 busrouteservice/info\n",
    "    # 해당 노선에 대한 노선번호, 기점/종점 정류소, 첫차/막차시간, 배차간격, 운행업체 등의 운행계획 정보를 제공합니다.\n",
    "    url = 'http://openapi.gbis.go.kr/ws/rest/busrouteservice/info'\n",
    "    queryParams = '?' + urlencode({ quote_plus('serviceKey') : apiKey, quote_plus('routeId') : routeId })\n",
    "    \n",
    "    request = Request(url + queryParams)\n",
    "    request.get_method = lambda: 'GET'\n",
    "    busInfoXML = urlopen(request).read().decode('utf8')\n",
    "    \n",
    "\n",
    "    busInfoTree = ET.fromstring(busInfoXML)\n",
    "    busRouteInfoItem = busInfoTree[2]\n",
    "    \n",
    "    for item in busRouteInfoItem:\n",
    "        \n",
    "        staFile.write(f\"{item.find('routeName').text} \")            \n",
    "        staFile.write(f\"{item.find('routeId').text} \")         \n",
    "\n",
    "        peekAlloc = item.find('peekAlloc').text\n",
    "\n",
    "        timeString = item.find('upFirstTime').text\n",
    "        upHour = int(timeString[:2])\n",
    "        upMin = int(timeString[-2:])\n",
    "        upTime = upHour * 60 + upMin\n",
    "\n",
    "        timeString = item.find('upLastTime').text\n",
    "        downHour = int(timeString[:2])\n",
    "        downMin = int(timeString[-2:])\n",
    "        downTime = downHour * 60 + downMin\n",
    "\n",
    "        if(upTime > downTime):\n",
    "            downTime += 24 * 60\n",
    "        try:\n",
    "            expTotal = str(int((downTime - upTime) / int(peekAlloc)) + 1)\n",
    "        except:\n",
    "            expTotal = 100\n",
    "        \n",
    "        staFile.write(f\"{expTotal} \")\n",
    "        \n",
    "    # 총 정류장수를 첫줄 제일 마지막에 출력하고\n",
    "    # 두번째 줄부터 정류장 수 만큼 정류장 이름(stationName)을 출력합니다.\n",
    "    url = 'http://openapi.gbis.go.kr/ws/rest/busrouteservice/station'\n",
    "    queryParams = '?' + urlencode({ quote_plus('serviceKey') : apiKey, quote_plus('routeId') : routeId })\n",
    "\n",
    "    request = Request(url + queryParams)\n",
    "    request.get_method = lambda: 'GET'\n",
    "    busStationXML = urlopen(request).read().decode('utf8')\n",
    "\n",
    "    busStationTree = ET.fromstring(busStationXML)\n",
    "    busRouteStationItem = busStationTree[2]\n",
    "    totalStation = len(busRouteStationItem)\n",
    "\n",
    "    staFile.write(f\"{totalStation}\\n\")\n",
    "\n",
    "    for station in busRouteStationItem:\n",
    "        \n",
    "        staFile.write(f\"{station.find('stationName').text}\\n\")\n",
    "        \n",
    "    staFile.close()"
   ]
  }
 ],
 "metadata": {
  "kernelspec": {
   "display_name": "Python 3",
   "language": "python",
   "name": "python3"
  },
  "language_info": {
   "codemirror_mode": {
    "name": "ipython",
    "version": 3
   },
   "file_extension": ".py",
   "mimetype": "text/x-python",
   "name": "python",
   "nbconvert_exporter": "python",
   "pygments_lexer": "ipython3",
   "version": "3.8.5"
  }
 },
 "nbformat": 4,
 "nbformat_minor": 4
}
